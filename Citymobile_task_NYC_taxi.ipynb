{
  "nbformat": 4,
  "nbformat_minor": 0,
  "metadata": {
    "colab": {
      "name": "Citymobile_task_NYC_taxi.ipynb",
      "provenance": [],
      "collapsed_sections": [],
      "machine_shape": "hm"
    },
    "kernelspec": {
      "display_name": "Python 3",
      "name": "python3"
    },
    "language_info": {
      "name": "python"
    }
  },
  "cells": [
    {
      "cell_type": "markdown",
      "metadata": {
        "id": "GeTZlIoyzujF"
      },
      "source": [
        "#Импорт"
      ]
    },
    {
      "cell_type": "code",
      "metadata": {
        "id": "HS-qbRkmpxAp"
      },
      "source": [
        "# pip install matplotlib==3.4.3"
      ],
      "execution_count": null,
      "outputs": []
    },
    {
      "cell_type": "code",
      "metadata": {
        "id": "PXuyIu4pwYVj"
      },
      "source": [
        "import plotly.express as px\n",
        "import os\n",
        "import pickle\n",
        "import numpy as np\n",
        "import pandas as pd\n",
        "from datetime import datetime\n",
        "import seaborn as sns\n",
        "sns.set_style('whitegrid')\n",
        "import matplotlib.pyplot as plt\n",
        "\n",
        "from scipy import stats\n",
        "from scipy.stats import shapiro\n",
        "from statsmodels.graphics.gofplots import qqplot\n",
        "\n",
        "from sklearn.preprocessing import StandardScaler\n",
        "from sklearn.linear_model import SGDRegressor, LinearRegression, RidgeCV, Ridge\n",
        "from sklearn.model_selection import TimeSeriesSplit, cross_val_score, train_test_split, GridSearchCV\n",
        "\n",
        "from scipy.sparse import csr_matrix\n",
        "import warnings\n",
        "warnings.filterwarnings('ignore')"
      ],
      "execution_count": null,
      "outputs": []
    },
    {
      "cell_type": "code",
      "metadata": {
        "id": "XevqAs9kwIFp"
      },
      "source": [
        "os.chdir('/content/drive/MyDrive/DS/NYC_data') "
      ],
      "execution_count": null,
      "outputs": []
    },
    {
      "cell_type": "code",
      "metadata": {
        "id": "-VF1DbXHw6wJ"
      },
      "source": [
        "data = pd.concat([\n",
        "                  pd.read_csv('2019-12.csv',low_memory=True), \n",
        "                  pd.read_csv('2020-01.csv',low_memory=True)\n",
        "                  ])"
      ],
      "execution_count": null,
      "outputs": []
    },
    {
      "cell_type": "markdown",
      "metadata": {
        "id": "f-NV86z0z0TQ"
      },
      "source": [
        "Описание признаков по ссылке:  \n",
        "https://www1.nyc.gov/assets/tlc/downloads/pdf/data_dictionary_trip_records_yellow.pdf\n"
      ]
    },
    {
      "cell_type": "code",
      "metadata": {
        "colab": {
          "base_uri": "https://localhost:8080/"
        },
        "id": "0v6bd7Lrybl0",
        "outputId": "18c95f8c-6276-4380-e4dd-7423abf6ca99"
      },
      "source": [
        "data.info()"
      ],
      "execution_count": null,
      "outputs": [
        {
          "output_type": "stream",
          "text": [
            "<class 'pandas.core.frame.DataFrame'>\n",
            "Int64Index: 13301325 entries, 0 to 6405007\n",
            "Data columns (total 18 columns):\n",
            " #   Column                 Dtype  \n",
            "---  ------                 -----  \n",
            " 0   VendorID               float64\n",
            " 1   tpep_pickup_datetime   object \n",
            " 2   tpep_dropoff_datetime  object \n",
            " 3   passenger_count        float64\n",
            " 4   trip_distance          float64\n",
            " 5   RatecodeID             float64\n",
            " 6   store_and_fwd_flag     object \n",
            " 7   PULocationID           int64  \n",
            " 8   DOLocationID           int64  \n",
            " 9   payment_type           float64\n",
            " 10  fare_amount            float64\n",
            " 11  extra                  float64\n",
            " 12  mta_tax                float64\n",
            " 13  tip_amount             float64\n",
            " 14  tolls_amount           float64\n",
            " 15  improvement_surcharge  float64\n",
            " 16  total_amount           float64\n",
            " 17  congestion_surcharge   float64\n",
            "dtypes: float64(13), int64(2), object(3)\n",
            "memory usage: 1.9+ GB\n"
          ],
          "name": "stdout"
        }
      ]
    },
    {
      "cell_type": "markdown",
      "metadata": {
        "id": "wCvEVcRu0Kx-"
      },
      "source": [
        "#Подготовка данных"
      ]
    },
    {
      "cell_type": "markdown",
      "metadata": {
        "id": "jlza-h3hDN4j"
      },
      "source": [
        "## Удаление пропущенных данных"
      ]
    },
    {
      "cell_type": "markdown",
      "metadata": {
        "id": "JDxJ6elD1EBu"
      },
      "source": [
        "Для начала посмотрим на наличие пропущенных данных"
      ]
    },
    {
      "cell_type": "markdown",
      "metadata": {
        "id": "E1togB-61C2e"
      },
      "source": [
        "Как видим, в датасете имеются 116459 записей с отсутствующими записями по следующим признакам:  \n",
        "\n",
        "*   VendorID - ID фирмы, оказывающей услуги               \n",
        "*   Passenger count - количество пассажиров\n",
        "*   RatecodeID\n",
        "*   Store_and_fwd_flag\n",
        "*   Payment_type - тип оплаты\n",
        "\n"
      ]
    },
    {
      "cell_type": "markdown",
      "metadata": {
        "id": "depIVOvK3kzG"
      },
      "source": [
        "Поскольку нам далее придётся строить модель зависимости стоимости поездки от разных факторов, то придётся удалить записи с недостающими данными, поскольку они могут внести неточность в модель."
      ]
    },
    {
      "cell_type": "code",
      "metadata": {
        "id": "ZWS97pBX4OUV"
      },
      "source": [
        "df = data.copy()"
      ],
      "execution_count": null,
      "outputs": []
    },
    {
      "cell_type": "code",
      "metadata": {
        "id": "iGSqwuFLZqAE"
      },
      "source": [
        "del data"
      ],
      "execution_count": null,
      "outputs": []
    },
    {
      "cell_type": "code",
      "metadata": {
        "id": "6uIznrG74ICF"
      },
      "source": [
        "df.dropna(inplace=True)"
      ],
      "execution_count": null,
      "outputs": []
    },
    {
      "cell_type": "markdown",
      "metadata": {
        "id": "-AtRl6y1DTvy"
      },
      "source": [
        "## Удаление данных с нулевыми значениями"
      ]
    },
    {
      "cell_type": "markdown",
      "metadata": {
        "id": "YyibJmQjDX5q"
      },
      "source": [
        "Посмотрим, в каких колонках есть нулевые значения"
      ]
    },
    {
      "cell_type": "code",
      "metadata": {
        "id": "vEqjp-JDMxaJ"
      },
      "source": [
        "df.eq(0).sum()"
      ],
      "execution_count": null,
      "outputs": []
    },
    {
      "cell_type": "markdown",
      "metadata": {
        "id": "ZkV5siKP4TML"
      },
      "source": [
        "Нулевые значения есть в колонках с количеством пассажиров и расстоянием поездки - их мы удалим.  \n",
        "\n",
        "Также такие значения в колонках, отражающих стоимость цены поездки (общий тариф, сборы, чаевые и т.д.).  \n",
        "\n",
        "Хотя и можно представить себе поездку с одной определённой нулевой составляющей (как например, чаевые), сложно представить поездку с нулевым базовым тарифым (**fare_amount**) и итоговой стоимостью поездки (**final_amount**). Поэтому нулевые значения с этими двумя признаками мы также удалим"
      ]
    },
    {
      "cell_type": "code",
      "metadata": {
        "id": "M0YsolsI3V6a"
      },
      "source": [
        "df = df[(df.passenger_count != 0) & (df.trip_distance != 0) & (df.total_amount != 0) & (df.fare_amount != 0)]"
      ],
      "execution_count": null,
      "outputs": []
    },
    {
      "cell_type": "markdown",
      "metadata": {
        "id": "caNY2rLpMkSp"
      },
      "source": [
        "##Удаление данных с отрицательными значениями"
      ]
    },
    {
      "cell_type": "markdown",
      "metadata": {
        "id": "Xjz_3YedQcGo"
      },
      "source": [
        "Посмотрим, если ли записи с отрицательными значениями"
      ]
    },
    {
      "cell_type": "code",
      "metadata": {
        "id": "vvH-d-nCMouz"
      },
      "source": [
        "(df.select_dtypes(np.number) < 0).sum()"
      ],
      "execution_count": null,
      "outputs": []
    },
    {
      "cell_type": "markdown",
      "metadata": {
        "id": "cUTAX7xyQ75D"
      },
      "source": [
        "Поскольку не один признак не может иметь отрицательное значение, удалим все записи с ними."
      ]
    },
    {
      "cell_type": "code",
      "metadata": {
        "id": "erx2iZlYQaax"
      },
      "source": [
        "df = df[(df.select_dtypes(np.number) >= 0).all(axis=1)]"
      ],
      "execution_count": null,
      "outputs": []
    },
    {
      "cell_type": "markdown",
      "metadata": {
        "id": "w1gv454rma8R"
      },
      "source": [
        "## Выбивающиеся даты"
      ]
    },
    {
      "cell_type": "markdown",
      "metadata": {
        "id": "XqzqT0JEnN27"
      },
      "source": [
        "Посмотрим, есть ли выбивающиеся даты."
      ]
    },
    {
      "cell_type": "code",
      "metadata": {
        "id": "sBLNAMg6meVT"
      },
      "source": [
        "df['tpep_pickup_datetime'] = pd.to_datetime(df['tpep_pickup_datetime'], format='%Y-%m-%d %H:%M:%S')\n",
        "df['tpep_dropoff_datetime'] = pd.to_datetime(df['tpep_dropoff_datetime'], format='%Y-%m-%d %H:%M:%S')\n",
        "df[['tpep_pickup_datetime', 'tpep_dropoff_datetime']].describe()"
      ],
      "execution_count": null,
      "outputs": []
    },
    {
      "cell_type": "markdown",
      "metadata": {
        "id": "9K3Q9awZnTqj"
      },
      "source": [
        "Удалим даты, которые выбиваются из интервала декабрь 2019-январь 2020"
      ]
    },
    {
      "cell_type": "code",
      "metadata": {
        "id": "tWeEF-B1nlvv"
      },
      "source": [
        "df = df[(df.tpep_pickup_datetime >= pd.Timestamp('2019-12-01')) & (df.tpep_pickup_datetime<= pd.Timestamp('2020-02-01'))\n",
        "    &  (df.tpep_dropoff_datetime >= pd.Timestamp('2019-12-01')) & (df.tpep_dropoff_datetime<= pd.Timestamp('2020-02-01'))]"
      ],
      "execution_count": null,
      "outputs": []
    },
    {
      "cell_type": "markdown",
      "metadata": {
        "id": "sbh749RmGC2p"
      },
      "source": [
        "## Признак длительности поездки"
      ]
    },
    {
      "cell_type": "markdown",
      "metadata": {
        "id": "rV3BugEm8v2D"
      },
      "source": [
        "Создадим признак длительности поездки в секундах"
      ]
    },
    {
      "cell_type": "code",
      "metadata": {
        "id": "dTPqurmd0exy"
      },
      "source": [
        "#Разница между началом и концом поездки\n",
        "df['duration_of_trip'] = df['tpep_dropoff_datetime'] - df['tpep_pickup_datetime']\n",
        "#Переводим разницу в секунды\n",
        "df['duration_of_trip'] = df.duration_of_trip / np.timedelta64(1, 's')\n",
        "df['duration_of_trip'].head()"
      ],
      "execution_count": null,
      "outputs": []
    },
    {
      "cell_type": "markdown",
      "metadata": {
        "id": "QTq70exN_chf"
      },
      "source": [
        "Посмотрим на количество записей с нулевой или отрицательной продолжительностью поездки."
      ]
    },
    {
      "cell_type": "code",
      "metadata": {
        "id": "mTHmSpRW8-0G"
      },
      "source": [
        "print(f'В датасете имеется {(df.duration_of_trip <= 0).sum()} запись с нулевой или отрицательной продолжительностью поездки.')"
      ],
      "execution_count": null,
      "outputs": []
    },
    {
      "cell_type": "markdown",
      "metadata": {
        "id": "HztOfX1K_hbq"
      },
      "source": [
        "Удаляем эти записи"
      ]
    },
    {
      "cell_type": "code",
      "metadata": {
        "id": "4LFlqtjK_DMG"
      },
      "source": [
        "df = df[(df.duration_of_trip > 0)]"
      ],
      "execution_count": null,
      "outputs": []
    },
    {
      "cell_type": "code",
      "metadata": {
        "id": "w9WJVSBsCVcH"
      },
      "source": [
        "df.shape"
      ],
      "execution_count": null,
      "outputs": []
    },
    {
      "cell_type": "markdown",
      "metadata": {
        "id": "cYamUtcCCRKd"
      },
      "source": [
        "##One-Hot-Encoding"
      ]
    },
    {
      "cell_type": "markdown",
      "metadata": {
        "id": "zPCfI_WiTjfM"
      },
      "source": [
        "Поскольку мы будем оценивать вклад признаков в цену, необходимо будет преобразовать номинальные признаки с помощью One-Hot-Encoding.  \n",
        "Но сначала переведём цифры в текстовые значения."
      ]
    },
    {
      "cell_type": "markdown",
      "metadata": {
        "id": "sJ292NSJT1pU"
      },
      "source": [
        "**Payment type**"
      ]
    },
    {
      "cell_type": "markdown",
      "metadata": {
        "id": "oY94RsY4T7Sd"
      },
      "source": [
        "A numeric code signifying how the passenger paid for the trip \n",
        "   \n",
        "1= Credit card  \n",
        "2= Cash  \n",
        "3= No charge  \n",
        "4= Dispute  \n",
        "5= Unknown  \n",
        "6= Voided trip  "
      ]
    },
    {
      "cell_type": "code",
      "metadata": {
        "id": "5-R-U0X9TUXZ"
      },
      "source": [
        "payment_type_dict = {1: 'credit_card', 2: 'cash', 3: 'no_charge', 4: 'dispute', 5: 'unknown', 6: 'voided_trip'}\n",
        "df.payment_type =df.payment_type.map(payment_type_dict)"
      ],
      "execution_count": null,
      "outputs": []
    },
    {
      "cell_type": "markdown",
      "metadata": {
        "id": "_c-nQke7YCVg"
      },
      "source": [
        "**RateCodeID**"
      ]
    },
    {
      "cell_type": "markdown",
      "metadata": {
        "id": "vayhNjD8YGeX"
      },
      "source": [
        "The final rate code in effect at the end of the trip  \n",
        "\n",
        "1= Standard rate  \n",
        "2=JFK  \n",
        "3=Newark  \n",
        "4=Nassau or Westchester  \n",
        "5=Negotiated fare  \n",
        "6=Group ride  \n",
        "99=Unknown"
      ]
    },
    {
      "cell_type": "code",
      "metadata": {
        "id": "gI4b7prlYUql"
      },
      "source": [
        "RatecodeID_dict = {1: 'standard_rate', 2: 'jfk', 3: 'newark', 4: 'nassau_or_Westchester', 5: 'negotiated_fare', 6: 'group_ride', 99:'unknown'}\n",
        "df.RatecodeID = df.RatecodeID.map(RatecodeID_dict)"
      ],
      "execution_count": null,
      "outputs": []
    },
    {
      "cell_type": "markdown",
      "metadata": {
        "id": "IUeKRSaoSWar"
      },
      "source": [
        ""
      ]
    },
    {
      "cell_type": "markdown",
      "metadata": {
        "id": "wQyPh5_rZAgu"
      },
      "source": [
        "**Store_and_fwd_flag**"
      ]
    },
    {
      "cell_type": "markdown",
      "metadata": {
        "id": "3MyrcF_mZDWD"
      },
      "source": [
        "This flag indicates whether the trip record was held in vehicle\n",
        "memory before sending to the vendor, aka “store and forward,”\n",
        "because the vehicle did not have a connection to the server.  \n",
        "\n",
        "*Y* - store and forward trip  \n",
        "*N* - not a store and forward trip"
      ]
    },
    {
      "cell_type": "code",
      "metadata": {
        "id": "Wj7gRnqqYlES"
      },
      "source": [
        "store_and_fwd_flag_dict = {'N': 'no', 'Y': 'yes'}\n",
        "df['store_and_forward_trip']= df.store_and_fwd_flag.map(store_and_fwd_flag_dict)"
      ],
      "execution_count": null,
      "outputs": []
    },
    {
      "cell_type": "markdown",
      "metadata": {
        "id": "w1AvJxNnZ9Ct"
      },
      "source": [
        "**VendorID**"
      ]
    },
    {
      "cell_type": "markdown",
      "metadata": {
        "id": "4jobhNDraDEE"
      },
      "source": [
        "A code indicating the TPEP provider that provided the record.  \n",
        "\n",
        "1= Creative Mobile Technologies, LLC  \n",
        "2= VeriFone Inc."
      ]
    },
    {
      "cell_type": "code",
      "metadata": {
        "id": "xRcMI8kjaRNi"
      },
      "source": [
        "vendor_dict = {1: 'CMT', 2: 'VeriFone'}\n",
        "df['vendor']= df.VendorID.map(vendor_dict)"
      ],
      "execution_count": null,
      "outputs": []
    },
    {
      "cell_type": "code",
      "metadata": {
        "id": "New4jv6oYYVe"
      },
      "source": [
        "del df['VendorID']"
      ],
      "execution_count": null,
      "outputs": []
    },
    {
      "cell_type": "markdown",
      "metadata": {
        "id": "k0HJYwVJat4w"
      },
      "source": [
        "Теперь начнём переводить колонки в OHE-формат"
      ]
    },
    {
      "cell_type": "code",
      "metadata": {
        "id": "5_M4FcYnbjeT"
      },
      "source": [
        "df_ohe = pd.concat([\n",
        "           df.drop(columns=['payment_type', 'RatecodeID', 'store_and_forward_trip', 'vendor', 'store_and_fwd_flag'], errors='ingore'), \n",
        "           pd.get_dummies(df.payment_type, prefix='payment_type').astype(int),\n",
        "           pd.get_dummies(df.RatecodeID, prefix='ratecode').astype(int),\n",
        "           pd.get_dummies(df['store_and_forward_trip'], prefix='store&forward').astype(int),\n",
        "           pd.get_dummies(df['vendor'], prefix='vendor').astype(int),\n",
        "           pd.get_dummies(df['store_and_fwd_flag'], prefix='store_fwd').astype(int),\n",
        "], axis=1)"
      ],
      "execution_count": null,
      "outputs": []
    },
    {
      "cell_type": "code",
      "metadata": {
        "id": "_i80Kyk5cHOj"
      },
      "source": [
        "df_ohe.head()"
      ],
      "execution_count": null,
      "outputs": []
    },
    {
      "cell_type": "markdown",
      "metadata": {
        "id": "040VcPe5ctJ5"
      },
      "source": [
        "# Задание 1. Корреляция между стоимостью поездки и другими факторами"
      ]
    },
    {
      "cell_type": "markdown",
      "metadata": {
        "id": "eeNjrnv-cykb"
      },
      "source": [
        "Как стоимость поездки скоррелирована с другими факторами? Как вы это можете объяснить?"
      ]
    },
    {
      "cell_type": "code",
      "metadata": {
        "colab": {
          "base_uri": "https://localhost:8080/"
        },
        "id": "16ybjiCtW_Cn",
        "outputId": "cd93391b-d9ce-4797-a82e-b98aded05c82"
      },
      "source": [
        "df_ohe.shape"
      ],
      "execution_count": null,
      "outputs": [
        {
          "output_type": "execute_result",
          "data": {
            "text/plain": [
              "(12773989, 27)"
            ]
          },
          "metadata": {
            "tags": []
          },
          "execution_count": 28
        }
      ]
    },
    {
      "cell_type": "code",
      "metadata": {
        "id": "-O4sypBoiEqQ"
      },
      "source": [
        "df_ohe.passenger_count = df_ohe.passenger_count.astype(int)"
      ],
      "execution_count": null,
      "outputs": []
    },
    {
      "cell_type": "code",
      "metadata": {
        "id": "N0uFdxPgc0GF"
      },
      "source": [
        "corrs = df_ohe.drop('total_amount', axis=1).corrwith(df_ohe.total_amount).round(2)"
      ],
      "execution_count": null,
      "outputs": []
    },
    {
      "cell_type": "code",
      "metadata": {
        "id": "cLgmpRw_mCQc"
      },
      "source": [
        "corrs = corrs.sort_values(ascending=False).to_frame().reset_index()\n",
        "corrs.columns = ['variable', 'corr']"
      ],
      "execution_count": null,
      "outputs": []
    },
    {
      "cell_type": "code",
      "metadata": {
        "colab": {
          "base_uri": "https://localhost:8080/",
          "height": 497
        },
        "id": "TxipB29joSZu",
        "outputId": "a0571819-c2f6-44bc-88d2-6b21fd32411f"
      },
      "source": [
        "# plt.figure(figsize=(15,8))\n",
        "# ax = sns.barplot(corrs['corr'], corrs.variable)\n",
        "# ax.bar_label(ax.containers[0])\n",
        "# plt.show()"
      ],
      "execution_count": null,
      "outputs": [
        {
          "output_type": "display_data",
          "data": {
            "image/png": "[encoded data removed]",
            "text/plain": [
              "<Figure size 1080x576 with 1 Axes>"
            ]
          },
          "metadata": {
            "tags": []
          }
        }
      ]
    },
    {
      "cell_type": "markdown",
      "metadata": {
        "id": "dtVeiJ_gX9Pt"
      },
      "source": [
        "Для объяснения полученных результатов воспользуемся информацией с тарифами на проезд, доступной по ссылке:  \n",
        "https://www1.nyc.gov/site/tlc/passengers/taxi-fare.page"
      ]
    },
    {
      "cell_type": "markdown",
      "metadata": {
        "id": "075i-6k2lu8t"
      },
      "source": [
        "## Положительная корреляция"
      ]
    },
    {
      "cell_type": "markdown",
      "metadata": {
        "id": "QnObONXQl4zj"
      },
      "source": [
        "Проанализируем каждый признак с высоким значением положительной корреляции.  \n",
        "\n",
        "*   Fare amount - основа часть стоимости поездки, вычисляемая на базисе её расстояния и продолжительности. Говорит за себя.  \n",
        "*   Tip amount - размер чаевых, которые дают клиенты. Логично предположить, что чем длиннее поездка, тем больше чаевых оставит клиент.\n",
        "*   Tolls amount - размер пошлин. Также логично, что чем дороже поездка, тем больше будет совокупная цена пошлин, заложенная в ней.\n",
        "*   Ratecode JFK/Newark - на странице с информацией о стоимости проезда сказано, что данные тарифа облагаются по более высокой ставке.\n",
        "*   Trip distance/duration of trip - из этих признаков вычисляется fare amount (судя по всему, связь между ними не совсем линейная.)"
      ]
    },
    {
      "cell_type": "code",
      "metadata": {
        "colab": {
          "base_uri": "https://localhost:8080/",
          "height": 267
        },
        "id": "2MAhfgYVn6nR",
        "outputId": "8df1824b-8f23-4f47-bfa9-46fb1deec9d3"
      },
      "source": [
        "df.groupby('RatecodeID')['total_amount'].agg(['mean', 'count'])"
      ],
      "execution_count": null,
      "outputs": [
        {
          "output_type": "execute_result",
          "data": {
            "text/html": [
              "<div>\n",
              "<style scoped>\n",
              "    .dataframe tbody tr th:only-of-type {\n",
              "        vertical-align: middle;\n",
              "    }\n",
              "\n",
              "    .dataframe tbody tr th {\n",
              "        vertical-align: top;\n",
              "    }\n",
              "\n",
              "    .dataframe thead th {\n",
              "        text-align: right;\n",
              "    }\n",
              "</style>\n",
              "<table border=\"1\" class=\"dataframe\">\n",
              "  <thead>\n",
              "    <tr style=\"text-align: right;\">\n",
              "      <th></th>\n",
              "      <th>mean</th>\n",
              "      <th>count</th>\n",
              "    </tr>\n",
              "    <tr>\n",
              "      <th>RatecodeID</th>\n",
              "      <th></th>\n",
              "      <th></th>\n",
              "    </tr>\n",
              "  </thead>\n",
              "  <tbody>\n",
              "    <tr>\n",
              "      <th>group_ride</th>\n",
              "      <td>4.010833</td>\n",
              "      <td>24</td>\n",
              "    </tr>\n",
              "    <tr>\n",
              "      <th>jfk</th>\n",
              "      <td>69.245481</td>\n",
              "      <td>319656</td>\n",
              "    </tr>\n",
              "    <tr>\n",
              "      <th>nassau_or_Westchester</th>\n",
              "      <td>89.532434</td>\n",
              "      <td>10101</td>\n",
              "    </tr>\n",
              "    <tr>\n",
              "      <th>negotiated_fare</th>\n",
              "      <td>85.290029</td>\n",
              "      <td>35048</td>\n",
              "    </tr>\n",
              "    <tr>\n",
              "      <th>newark</th>\n",
              "      <td>92.975904</td>\n",
              "      <td>29750</td>\n",
              "    </tr>\n",
              "    <tr>\n",
              "      <th>standard_rate</th>\n",
              "      <td>17.213734</td>\n",
              "      <td>12379001</td>\n",
              "    </tr>\n",
              "  </tbody>\n",
              "</table>\n",
              "</div>"
            ],
            "text/plain": [
              "                            mean     count\n",
              "RatecodeID                                \n",
              "group_ride              4.010833        24\n",
              "jfk                    69.245481    319656\n",
              "nassau_or_Westchester  89.532434     10101\n",
              "negotiated_fare        85.290029     35048\n",
              "newark                 92.975904     29750\n",
              "standard_rate          17.213734  12379001"
            ]
          },
          "metadata": {
            "tags": []
          },
          "execution_count": 33
        }
      ]
    },
    {
      "cell_type": "markdown",
      "metadata": {
        "id": "1I0zI-y5dFLC"
      },
      "source": [
        "## Отрицательная корреляция"
      ]
    },
    {
      "cell_type": "markdown",
      "metadata": {
        "id": "IVbqx_B5dKBG"
      },
      "source": [
        "Наиболее сильным отрицательным признаком оказалось наличие тарифа Standard rate. Плата за данный тариф взимает при стандартной поездке в пределах города, тогда как проезд по другим тарифам (в аэропорты Newark, JFK или за город в Насау или Вэстчестер) взимается по повышенной ставке.  \n",
        "\n",
        "Далее мы можем видеть сравнительную таблицу средних цен по каждому тарифу. Дешевле стандартного тарифа только group_ride, который слишком малочисленен, чтобы иметь высокое модуль значения в корреляции с целевой переменной."
      ]
    },
    {
      "cell_type": "code",
      "metadata": {
        "colab": {
          "base_uri": "https://localhost:8080/",
          "height": 267
        },
        "id": "MPVoIN5_dKlq",
        "outputId": "ea9def09-b9ec-4d74-99c4-5c1bece2639e"
      },
      "source": [
        "df.groupby('RatecodeID')['total_amount'].agg(['mean', 'count'])"
      ],
      "execution_count": null,
      "outputs": [
        {
          "output_type": "execute_result",
          "data": {
            "text/html": [
              "<div>\n",
              "<style scoped>\n",
              "    .dataframe tbody tr th:only-of-type {\n",
              "        vertical-align: middle;\n",
              "    }\n",
              "\n",
              "    .dataframe tbody tr th {\n",
              "        vertical-align: top;\n",
              "    }\n",
              "\n",
              "    .dataframe thead th {\n",
              "        text-align: right;\n",
              "    }\n",
              "</style>\n",
              "<table border=\"1\" class=\"dataframe\">\n",
              "  <thead>\n",
              "    <tr style=\"text-align: right;\">\n",
              "      <th></th>\n",
              "      <th>mean</th>\n",
              "      <th>count</th>\n",
              "    </tr>\n",
              "    <tr>\n",
              "      <th>RatecodeID</th>\n",
              "      <th></th>\n",
              "      <th></th>\n",
              "    </tr>\n",
              "  </thead>\n",
              "  <tbody>\n",
              "    <tr>\n",
              "      <th>group_ride</th>\n",
              "      <td>4.010833</td>\n",
              "      <td>24</td>\n",
              "    </tr>\n",
              "    <tr>\n",
              "      <th>jfk</th>\n",
              "      <td>69.245481</td>\n",
              "      <td>319656</td>\n",
              "    </tr>\n",
              "    <tr>\n",
              "      <th>nassau_or_Westchester</th>\n",
              "      <td>89.532434</td>\n",
              "      <td>10101</td>\n",
              "    </tr>\n",
              "    <tr>\n",
              "      <th>negotiated_fare</th>\n",
              "      <td>85.290029</td>\n",
              "      <td>35048</td>\n",
              "    </tr>\n",
              "    <tr>\n",
              "      <th>newark</th>\n",
              "      <td>92.975904</td>\n",
              "      <td>29750</td>\n",
              "    </tr>\n",
              "    <tr>\n",
              "      <th>standard_rate</th>\n",
              "      <td>17.213734</td>\n",
              "      <td>12379001</td>\n",
              "    </tr>\n",
              "  </tbody>\n",
              "</table>\n",
              "</div>"
            ],
            "text/plain": [
              "                            mean     count\n",
              "RatecodeID                                \n",
              "group_ride              4.010833        24\n",
              "jfk                    69.245481    319656\n",
              "nassau_or_Westchester  89.532434     10101\n",
              "negotiated_fare        85.290029     35048\n",
              "newark                 92.975904     29750\n",
              "standard_rate          17.213734  12379001"
            ]
          },
          "metadata": {
            "tags": []
          },
          "execution_count": 34
        }
      ]
    },
    {
      "cell_type": "markdown",
      "metadata": {
        "id": "G8aU-lGLiWJJ"
      },
      "source": [
        "Теперь попытаемся понять, почему mta_tax имеет весьма заметное абсолютное значение корреляции.  \n",
        "Посмотри, какие значение принимает признак"
      ]
    },
    {
      "cell_type": "code",
      "metadata": {
        "colab": {
          "base_uri": "https://localhost:8080/"
        },
        "id": "XOxEJiDfbOh0",
        "outputId": "b1fe4219-0ba3-4172-fe5b-6f27b358b8ee"
      },
      "source": [
        "df_ohe.mta_tax.value_counts()"
      ],
      "execution_count": null,
      "outputs": [
        {
          "output_type": "execute_result",
          "data": {
            "text/plain": [
              "0.50    12720031\n",
              "0.00       53757\n",
              "0.87         190\n",
              "3.30           7\n",
              "0.35           2\n",
              "0.85           1\n",
              "3.00           1\n",
              "Name: mta_tax, dtype: int64"
            ]
          },
          "metadata": {
            "tags": []
          },
          "execution_count": 35
        }
      ]
    },
    {
      "cell_type": "markdown",
      "metadata": {
        "id": "kuOZKhcJiyC9"
      },
      "source": [
        "При большинстве поездок взимается сбор в 0.5.  \n",
        "Отрицательная корреляция может получиться только в случае, если поездок с нулевым сбором оказываются дороже.  \n",
        "Посмотрим на эти поездки"
      ]
    },
    {
      "cell_type": "code",
      "metadata": {
        "id": "3cw98ZnTg29j"
      },
      "source": [
        "pd.set_option('display.float_format', lambda x: '%.3f' % x)"
      ],
      "execution_count": null,
      "outputs": []
    },
    {
      "cell_type": "code",
      "metadata": {
        "colab": {
          "base_uri": "https://localhost:8080/"
        },
        "id": "Cct1v4GjhzKI",
        "outputId": "7b37b199-b829-44b1-b890-aceb383dd19c"
      },
      "source": [
        "df[(df_ohe.mta_tax != 0)]['RatecodeID'].value_counts()"
      ],
      "execution_count": null,
      "outputs": [
        {
          "output_type": "execute_result",
          "data": {
            "text/plain": [
              "standard_rate            12377439\n",
              "jfk                        319644\n",
              "negotiated_fare             12610\n",
              "nassau_or_Westchester       10100\n",
              "group_ride                     24\n",
              "newark                          8\n",
              "Name: RatecodeID, dtype: int64"
            ]
          },
          "metadata": {
            "tags": []
          },
          "execution_count": 37
        }
      ]
    },
    {
      "cell_type": "code",
      "metadata": {
        "colab": {
          "base_uri": "https://localhost:8080/"
        },
        "id": "vB6GzRRThdKC",
        "outputId": "7cddeccb-2e86-4f30-a7b5-229b9525f0c5"
      },
      "source": [
        "df[(df_ohe.mta_tax == 0)]['RatecodeID'].value_counts()"
      ],
      "execution_count": null,
      "outputs": [
        {
          "output_type": "execute_result",
          "data": {
            "text/plain": [
              "newark                   29742\n",
              "negotiated_fare          22438\n",
              "standard_rate             1562\n",
              "jfk                         12\n",
              "nassau_or_Westchester        1\n",
              "Name: RatecodeID, dtype: int64"
            ]
          },
          "metadata": {
            "tags": []
          },
          "execution_count": 38
        }
      ]
    },
    {
      "cell_type": "markdown",
      "metadata": {
        "id": "XNRZgEksjuPI"
      },
      "source": [
        "Как можно заметить, среди поездок с нулевым сбором большую часть составляют поездки с обговариваемым тарифом (*negotiated_fee*) и поздки до Аэропорта Newark. На странице с тарифами (ссылка приведены выше) можно узнать, что MTA-сбор не взимается на данном тарифе, в отличие от тарифом с поездками в аэропорт JFK, а также за город.  \n",
        "Далее также можно видеть, что поездки в Newark и с обговариваемым тарифом также в среднем самые дорогие, чем и объясняется отрицательная корреляция.  \n",
        "Дорогие поездки с этими тарифами в большинстве своём не облагаются MTA-сбором.  "
      ]
    },
    {
      "cell_type": "code",
      "metadata": {
        "colab": {
          "base_uri": "https://localhost:8080/"
        },
        "id": "jQDkMlaTkqJS",
        "outputId": "05b43d56-0bb1-4080-b33b-20a30f502f80"
      },
      "source": [
        "df.groupby('RatecodeID')['total_amount'].mean()"
      ],
      "execution_count": null,
      "outputs": [
        {
          "output_type": "execute_result",
          "data": {
            "text/plain": [
              "RatecodeID\n",
              "group_ride               4.011\n",
              "jfk                     69.245\n",
              "nassau_or_Westchester   89.532\n",
              "negotiated_fare         85.290\n",
              "newark                  92.976\n",
              "standard_rate           17.214\n",
              "Name: total_amount, dtype: float64"
            ]
          },
          "metadata": {
            "tags": []
          },
          "execution_count": 39
        }
      ]
    },
    {
      "cell_type": "markdown",
      "metadata": {
        "id": "1QJlgLpAon9G"
      },
      "source": [
        "# Задание 2. Аномальные поездки"
      ]
    },
    {
      "cell_type": "markdown",
      "metadata": {
        "id": "1NiIJlfjoqq-"
      },
      "source": [
        "Найдите аномальные поездки. Почему именно эти поездки вы считаете аномальными?"
      ]
    },
    {
      "cell_type": "markdown",
      "metadata": {
        "id": "c-5Tl3wHxyia"
      },
      "source": [
        "## Итоговая цена поездки"
      ]
    },
    {
      "cell_type": "markdown",
      "metadata": {
        "id": "Y_3HehyAiF_D"
      },
      "source": [
        "Для начала посмотрим на распределение целевой переменной."
      ]
    },
    {
      "cell_type": "code",
      "metadata": {
        "id": "0aXmSaaBorWm",
        "colab": {
          "base_uri": "https://localhost:8080/",
          "height": 407
        },
        "outputId": "7e096bae-1e76-4552-8d33-101a8b947bf9"
      },
      "source": [
        "# plt.figure(figsize=(20,6))\n",
        "# sns.boxplot(df.total_amount)"
      ],
      "execution_count": null,
      "outputs": [
        {
          "output_type": "execute_result",
          "data": {
            "text/plain": [
              "<matplotlib.axes._subplots.AxesSubplot at 0x7fc9414c9710>"
            ]
          },
          "metadata": {
            "tags": []
          },
          "execution_count": 76
        },
        {
          "output_type": "display_data",
          "data": {
            "image/png": "[encoded data removed]",
            "text/plain": [
              "<Figure size 1440x432 with 1 Axes>"
            ]
          },
          "metadata": {
            "tags": [],
            "needs_background": "light"
          }
        }
      ]
    },
    {
      "cell_type": "markdown",
      "metadata": {
        "id": "OgctoWPcjD7A"
      },
      "source": [
        "Распределение имеет очень тяжёлый правый хвост. Для удобства посмотрим на логарифм от переменной."
      ]
    },
    {
      "cell_type": "code",
      "metadata": {
        "id": "KFeeTENdhftU",
        "colab": {
          "base_uri": "https://localhost:8080/",
          "height": 407
        },
        "outputId": "e53adc4c-f295-4dc7-83dc-9ec873e6336f"
      },
      "source": [
        "# plt.figure(figsize=(20,6))\n",
        "# sns.boxplot(np.log2(df.total_amount))"
      ],
      "execution_count": null,
      "outputs": [
        {
          "output_type": "execute_result",
          "data": {
            "text/plain": [
              "<matplotlib.axes._subplots.AxesSubplot at 0x7fc936c01a90>"
            ]
          },
          "metadata": {
            "tags": []
          },
          "execution_count": 77
        },
        {
          "output_type": "display_data",
          "data": {
            "image/png": "[encoded data removed]",
            "text/plain": [
              "<Figure size 1440x432 with 1 Axes>"
            ]
          },
          "metadata": {
            "tags": [],
            "needs_background": "light"
          }
        }
      ]
    },
    {
      "cell_type": "markdown",
      "metadata": {
        "id": "JXZhPAJ4jNkS"
      },
      "source": [
        "Логарифм целевой метрики имеет огромное количество выбросов как в меньшую, так и в большую стороны.  \n",
        "Посмотрим на то, чем они могут быть обусловлены."
      ]
    },
    {
      "cell_type": "code",
      "metadata": {
        "colab": {
          "base_uri": "https://localhost:8080/"
        },
        "id": "0tqsurGAgz6M",
        "outputId": "07c9159e-8202-4570-a822-daf932061516"
      },
      "source": [
        "plus_outliers =  df[(stats.zscore(np.log2(df.total_amount)) > 3)]\n",
        "minus_outliers  =  df[(stats.zscore(np.log2(df.total_amount)) < -3)]\n",
        "print(minus_outliers.shape, plus_outliers.shape)"
      ],
      "execution_count": null,
      "outputs": [
        {
          "output_type": "stream",
          "text": [
            "(3840, 20) (108896, 20)\n"
          ],
          "name": "stdout"
        }
      ]
    },
    {
      "cell_type": "markdown",
      "metadata": {
        "id": "L6lokyJevUJ3"
      },
      "source": [
        "### Вклад тарифов"
      ]
    },
    {
      "cell_type": "markdown",
      "metadata": {
        "id": "crr05JoInTSv"
      },
      "source": [
        "Моя первоначальная гипотеза заключается в том, что высокая цена поездки во многом зависит от выбранного тарифа.  \n"
      ]
    },
    {
      "cell_type": "code",
      "metadata": {
        "colab": {
          "base_uri": "https://localhost:8080/"
        },
        "id": "KTXgw01kLvP4",
        "outputId": "17145a6a-4be0-4891-e7d4-56ccc3caccc2"
      },
      "source": [
        "plus_outliers.RatecodeID.value_counts(normalize=True)"
      ],
      "execution_count": null,
      "outputs": [
        {
          "output_type": "execute_result",
          "data": {
            "text/plain": [
              "jfk                      0.408564\n",
              "newark                   0.233535\n",
              "negotiated_fare          0.159868\n",
              "standard_rate            0.149335\n",
              "nassau_or_Westchester    0.048698\n",
              "Name: RatecodeID, dtype: float64"
            ]
          },
          "metadata": {
            "tags": []
          },
          "execution_count": 83
        }
      ]
    },
    {
      "cell_type": "markdown",
      "metadata": {
        "id": "jllfF49tpCN2"
      },
      "source": [
        "Как видим, огромная доля выбросов состоит из поездок до аэропортов, за город и поездок с договорным тарифом."
      ]
    },
    {
      "cell_type": "markdown",
      "metadata": {
        "id": "XO50H6h5o8pO"
      },
      "source": [
        "Для каждого тарифа рассчитаем, какая доля поездок по каждому тарифу относится к выбросам."
      ]
    },
    {
      "cell_type": "code",
      "metadata": {
        "colab": {
          "base_uri": "https://localhost:8080/"
        },
        "id": "Q8eRiAlhmO2R",
        "outputId": "74fd9542-0386-4f77-912c-6c8e0792c94c"
      },
      "source": [
        "plus_outliers.RatecodeID.value_counts() / df.RatecodeID.value_counts()"
      ],
      "execution_count": null,
      "outputs": [
        {
          "output_type": "execute_result",
          "data": {
            "text/plain": [
              "group_ride                    NaN\n",
              "jfk                      0.139214\n",
              "nassau_or_Westchester    0.525153\n",
              "negotiated_fare          0.496917\n",
              "newark                   0.854910\n",
              "standard_rate            0.001314\n",
              "unknown                       NaN\n",
              "Name: RatecodeID, dtype: float64"
            ]
          },
          "metadata": {
            "tags": []
          },
          "execution_count": 84
        }
      ]
    },
    {
      "cell_type": "markdown",
      "metadata": {
        "id": "wG6abY4anjvE"
      },
      "source": [
        "Среди 4 отмеченных категорий доля выбросов по цене поездки составляет от почти 14% до 85,5%."
      ]
    },
    {
      "cell_type": "markdown",
      "metadata": {
        "id": "MwKH4cwcsf3u"
      },
      "source": [
        "То же самое сделаем и с выбросами в меньшую сторону."
      ]
    },
    {
      "cell_type": "code",
      "metadata": {
        "colab": {
          "base_uri": "https://localhost:8080/"
        },
        "id": "cLHKJCbqlPww",
        "outputId": "d3ffb4c4-8541-4e63-8c5a-7cedc6ab39c7"
      },
      "source": [
        "minus_outliers.RatecodeID.value_counts(normalize=True)"
      ],
      "execution_count": null,
      "outputs": [
        {
          "output_type": "execute_result",
          "data": {
            "text/plain": [
              "standard_rate            0.859635\n",
              "negotiated_fare          0.132031\n",
              "group_ride               0.004167\n",
              "nassau_or_Westchester    0.002083\n",
              "jfk                      0.001042\n",
              "unknown                  0.000781\n",
              "newark                   0.000260\n",
              "Name: RatecodeID, dtype: float64"
            ]
          },
          "metadata": {
            "tags": []
          },
          "execution_count": 85
        }
      ]
    },
    {
      "cell_type": "markdown",
      "metadata": {
        "id": "keybKV0qtyat"
      },
      "source": [
        "Большинство таких выбросов составляют поездки со стандартным тарифом, заметная доля у поездок с договорным тарифом."
      ]
    },
    {
      "cell_type": "markdown",
      "metadata": {
        "id": "MLIXj7AquE8N"
      },
      "source": [
        "Для каждого тарифа рассчитаем, какая доля поездок по каждому тарифу относится к выбросам."
      ]
    },
    {
      "cell_type": "code",
      "metadata": {
        "colab": {
          "base_uri": "https://localhost:8080/"
        },
        "id": "4ofUzPMXmoqg",
        "outputId": "ba6b0baa-615e-4e2e-cbe4-51d3e352432b"
      },
      "source": [
        "minus_outliers.RatecodeID.value_counts() / df.RatecodeID.value_counts()"
      ],
      "execution_count": null,
      "outputs": [
        {
          "output_type": "execute_result",
          "data": {
            "text/plain": [
              "group_ride               0.666667\n",
              "jfk                      0.000013\n",
              "nassau_or_Westchester    0.000792\n",
              "negotiated_fare          0.014472\n",
              "newark                   0.000034\n",
              "standard_rate            0.000267\n",
              "unknown                  0.007335\n",
              "Name: RatecodeID, dtype: float64"
            ]
          },
          "metadata": {
            "tags": []
          },
          "execution_count": 86
        }
      ]
    },
    {
      "cell_type": "markdown",
      "metadata": {
        "id": "PrQ5T4YruLie"
      },
      "source": [
        "К таким выбросам относится большая часть поездок с тарифом group_ride и поездок с договорным тарифом."
      ]
    },
    {
      "cell_type": "markdown",
      "metadata": {
        "id": "F4dsNM1Zx7Vl"
      },
      "source": [
        "### Анализ экстремальных выбросов"
      ]
    },
    {
      "cell_type": "markdown",
      "metadata": {
        "id": "Ykedv-3rySxM"
      },
      "source": [
        "Внимательнее проанализируем 7 наиболее дорогих поездок ценой выше 1000 долларов."
      ]
    },
    {
      "cell_type": "code",
      "metadata": {
        "id": "c_f9QntbS0Qk"
      },
      "source": [
        "#Сбрасываем индекс для более лёгкой сортировки\n",
        "df.reset_index(drop=True, inplace=True)\n",
        "df_ohe.reset_index(drop=True, inplace=True)"
      ],
      "execution_count": null,
      "outputs": []
    },
    {
      "cell_type": "code",
      "metadata": {
        "id": "i7nKRgVpSnw1",
        "colab": {
          "base_uri": "https://localhost:8080/",
          "height": 287
        },
        "outputId": "9ebc7723-cb05-4313-ce8d-0e0e74632c6f"
      },
      "source": [
        "inds_max = np.argpartition(-df.total_amount.values, 7)[:7]\n",
        "df.loc[inds_max].sort_values(by='total_amount', ascending=False)"
      ],
      "execution_count": null,
      "outputs": [
        {
          "output_type": "execute_result",
          "data": {
            "text/html": [
              "<div>\n",
              "<style scoped>\n",
              "    .dataframe tbody tr th:only-of-type {\n",
              "        vertical-align: middle;\n",
              "    }\n",
              "\n",
              "    .dataframe tbody tr th {\n",
              "        vertical-align: top;\n",
              "    }\n",
              "\n",
              "    .dataframe thead th {\n",
              "        text-align: right;\n",
              "    }\n",
              "</style>\n",
              "<table border=\"1\" class=\"dataframe\">\n",
              "  <thead>\n",
              "    <tr style=\"text-align: right;\">\n",
              "      <th></th>\n",
              "      <th>tpep_pickup_datetime</th>\n",
              "      <th>tpep_dropoff_datetime</th>\n",
              "      <th>passenger_count</th>\n",
              "      <th>trip_distance</th>\n",
              "      <th>RatecodeID</th>\n",
              "      <th>store_and_fwd_flag</th>\n",
              "      <th>PULocationID</th>\n",
              "      <th>DOLocationID</th>\n",
              "      <th>payment_type</th>\n",
              "      <th>fare_amount</th>\n",
              "      <th>extra</th>\n",
              "      <th>mta_tax</th>\n",
              "      <th>tip_amount</th>\n",
              "      <th>tolls_amount</th>\n",
              "      <th>improvement_surcharge</th>\n",
              "      <th>total_amount</th>\n",
              "      <th>congestion_surcharge</th>\n",
              "      <th>duration_of_trip</th>\n",
              "      <th>store_and_forward_trip</th>\n",
              "      <th>vendor</th>\n",
              "    </tr>\n",
              "  </thead>\n",
              "  <tbody>\n",
              "    <tr>\n",
              "      <th>497680</th>\n",
              "      <td>2019-12-03 15:00:58</td>\n",
              "      <td>2019-12-03 15:18:04</td>\n",
              "      <td>1.0</td>\n",
              "      <td>0.20</td>\n",
              "      <td>standard_rate</td>\n",
              "      <td>N</td>\n",
              "      <td>238</td>\n",
              "      <td>141</td>\n",
              "      <td>cash</td>\n",
              "      <td>6012.5</td>\n",
              "      <td>2.5</td>\n",
              "      <td>0.5</td>\n",
              "      <td>0.0</td>\n",
              "      <td>0.0</td>\n",
              "      <td>0.3</td>\n",
              "      <td>6015.8</td>\n",
              "      <td>2.5</td>\n",
              "      <td>1026.0</td>\n",
              "      <td>no</td>\n",
              "      <td>CMT</td>\n",
              "    </tr>\n",
              "    <tr>\n",
              "      <th>10555618</th>\n",
              "      <td>2020-01-21 15:38:33</td>\n",
              "      <td>2020-01-27 13:43:40</td>\n",
              "      <td>1.0</td>\n",
              "      <td>1.57</td>\n",
              "      <td>standard_rate</td>\n",
              "      <td>N</td>\n",
              "      <td>186</td>\n",
              "      <td>152</td>\n",
              "      <td>cash</td>\n",
              "      <td>4265.0</td>\n",
              "      <td>0.0</td>\n",
              "      <td>0.5</td>\n",
              "      <td>0.0</td>\n",
              "      <td>0.0</td>\n",
              "      <td>0.3</td>\n",
              "      <td>4268.3</td>\n",
              "      <td>2.5</td>\n",
              "      <td>511507.0</td>\n",
              "      <td>no</td>\n",
              "      <td>VeriFone</td>\n",
              "    </tr>\n",
              "    <tr>\n",
              "      <th>2686107</th>\n",
              "      <td>2019-12-12 14:53:37</td>\n",
              "      <td>2019-12-16 09:45:42</td>\n",
              "      <td>1.0</td>\n",
              "      <td>1.07</td>\n",
              "      <td>standard_rate</td>\n",
              "      <td>N</td>\n",
              "      <td>193</td>\n",
              "      <td>193</td>\n",
              "      <td>cash</td>\n",
              "      <td>2442.5</td>\n",
              "      <td>0.8</td>\n",
              "      <td>0.5</td>\n",
              "      <td>0.0</td>\n",
              "      <td>0.0</td>\n",
              "      <td>0.0</td>\n",
              "      <td>2443.8</td>\n",
              "      <td>0.0</td>\n",
              "      <td>327125.0</td>\n",
              "      <td>no</td>\n",
              "      <td>VeriFone</td>\n",
              "    </tr>\n",
              "    <tr>\n",
              "      <th>11533853</th>\n",
              "      <td>2020-01-26 00:51:39</td>\n",
              "      <td>2020-01-28 07:18:59</td>\n",
              "      <td>1.0</td>\n",
              "      <td>58.85</td>\n",
              "      <td>standard_rate</td>\n",
              "      <td>N</td>\n",
              "      <td>132</td>\n",
              "      <td>7</td>\n",
              "      <td>cash</td>\n",
              "      <td>1718.5</td>\n",
              "      <td>0.5</td>\n",
              "      <td>0.5</td>\n",
              "      <td>0.0</td>\n",
              "      <td>0.0</td>\n",
              "      <td>0.3</td>\n",
              "      <td>1722.3</td>\n",
              "      <td>2.5</td>\n",
              "      <td>196040.0</td>\n",
              "      <td>no</td>\n",
              "      <td>VeriFone</td>\n",
              "    </tr>\n",
              "    <tr>\n",
              "      <th>4141680</th>\n",
              "      <td>2019-12-18 12:48:52</td>\n",
              "      <td>2019-12-20 13:34:47</td>\n",
              "      <td>2.0</td>\n",
              "      <td>1.62</td>\n",
              "      <td>standard_rate</td>\n",
              "      <td>N</td>\n",
              "      <td>193</td>\n",
              "      <td>193</td>\n",
              "      <td>cash</td>\n",
              "      <td>1472.0</td>\n",
              "      <td>0.0</td>\n",
              "      <td>0.5</td>\n",
              "      <td>0.0</td>\n",
              "      <td>0.0</td>\n",
              "      <td>0.3</td>\n",
              "      <td>1472.8</td>\n",
              "      <td>0.0</td>\n",
              "      <td>175555.0</td>\n",
              "      <td>no</td>\n",
              "      <td>VeriFone</td>\n",
              "    </tr>\n",
              "    <tr>\n",
              "      <th>7089300</th>\n",
              "      <td>2020-01-03 19:29:51</td>\n",
              "      <td>2020-01-05 12:28:15</td>\n",
              "      <td>1.0</td>\n",
              "      <td>8.27</td>\n",
              "      <td>standard_rate</td>\n",
              "      <td>N</td>\n",
              "      <td>186</td>\n",
              "      <td>152</td>\n",
              "      <td>cash</td>\n",
              "      <td>1238.0</td>\n",
              "      <td>1.0</td>\n",
              "      <td>0.5</td>\n",
              "      <td>0.0</td>\n",
              "      <td>0.0</td>\n",
              "      <td>0.3</td>\n",
              "      <td>1242.3</td>\n",
              "      <td>2.5</td>\n",
              "      <td>147504.0</td>\n",
              "      <td>no</td>\n",
              "      <td>VeriFone</td>\n",
              "    </tr>\n",
              "    <tr>\n",
              "      <th>10767027</th>\n",
              "      <td>2020-01-22 16:41:24</td>\n",
              "      <td>2020-01-22 16:49:28</td>\n",
              "      <td>1.0</td>\n",
              "      <td>0.55</td>\n",
              "      <td>standard_rate</td>\n",
              "      <td>N</td>\n",
              "      <td>231</td>\n",
              "      <td>209</td>\n",
              "      <td>credit_card</td>\n",
              "      <td>6.5</td>\n",
              "      <td>1.0</td>\n",
              "      <td>0.5</td>\n",
              "      <td>1100.0</td>\n",
              "      <td>0.0</td>\n",
              "      <td>0.3</td>\n",
              "      <td>1110.8</td>\n",
              "      <td>2.5</td>\n",
              "      <td>484.0</td>\n",
              "      <td>no</td>\n",
              "      <td>VeriFone</td>\n",
              "    </tr>\n",
              "  </tbody>\n",
              "</table>\n",
              "</div>"
            ],
            "text/plain": [
              "         tpep_pickup_datetime  ...    vendor\n",
              "497680    2019-12-03 15:00:58  ...       CMT\n",
              "10555618  2020-01-21 15:38:33  ...  VeriFone\n",
              "2686107   2019-12-12 14:53:37  ...  VeriFone\n",
              "11533853  2020-01-26 00:51:39  ...  VeriFone\n",
              "4141680   2019-12-18 12:48:52  ...  VeriFone\n",
              "7089300   2020-01-03 19:29:51  ...  VeriFone\n",
              "10767027  2020-01-22 16:41:24  ...  VeriFone\n",
              "\n",
              "[7 rows x 20 columns]"
            ]
          },
          "metadata": {
            "tags": []
          },
          "execution_count": 90
        }
      ]
    },
    {
      "cell_type": "markdown",
      "metadata": {
        "id": "2Oigis617Ejh"
      },
      "source": [
        "Самая дорогая поездка (**497847**) имеет необъяснимо высокий fare_amount (доля тарифа в цене) при малой длительности и расстоянии и нулевых чаевых. Скорее всего, тут имеют место чаевые, которые дали наличными деньгами (в tip_amount учитываются толькое чаевые в тразакциях через кредитную карту).\n",
        "\n",
        "  \n"
      ]
    },
    {
      "cell_type": "markdown",
      "metadata": {
        "id": "VVrXCBljzQqd"
      },
      "source": [
        "7 по дороговизне поездка (**10767384**), в свою очередь, выделяется высокими чаевыми в 1100 долларов (при общей стоимости поездки в 1100.8$).  \n",
        "\n",
        "5 из 7 самых дорогих оставшихся поездок имеют аномально высокую длительность: от 2 до 6 дней, при этом 4 из 5 этих поездок имеют малое расстояние (за исключением поездки **11534219**, во время которой было пройдено 58 миль).  \n",
        "\n",
        "Далее более подробно исследуем связь длительности поездки и расстояния, а также цены."
      ]
    },
    {
      "cell_type": "markdown",
      "metadata": {
        "id": "20QwzirQ-UGT"
      },
      "source": [
        "## Длительность поездки и расстояние"
      ]
    },
    {
      "cell_type": "markdown",
      "metadata": {
        "id": "cmCakxQfFjp7"
      },
      "source": [
        "Взглянем на распределение поездок по расстоянию"
      ]
    },
    {
      "cell_type": "code",
      "metadata": {
        "id": "5mrMbRyfFKUc",
        "colab": {
          "base_uri": "https://localhost:8080/",
          "height": 353
        },
        "outputId": "54888967-a35e-4e5d-b3ac-05e3fd3c20b5"
      },
      "source": [
        "# plt.figure(figsize=(12,5))\n",
        "# sns.boxplot(df.trip_distance)"
      ],
      "execution_count": null,
      "outputs": [
        {
          "output_type": "execute_result",
          "data": {
            "text/plain": [
              "<matplotlib.axes._subplots.AxesSubplot at 0x7fc93bcb9f50>"
            ]
          },
          "metadata": {
            "tags": []
          },
          "execution_count": 64
        },
        {
          "output_type": "display_data",
          "data": {
            "image/png": "[encoded data removed]",
            "text/plain": [
              "<Figure size 864x360 with 1 Axes>"
            ]
          },
          "metadata": {
            "tags": [],
            "needs_background": "light"
          }
        }
      ]
    },
    {
      "cell_type": "markdown",
      "metadata": {
        "id": "huJeuP0S_7rL"
      },
      "source": [
        "Анализу мешает поездка с аномально высоким расстоянием. Посмотрим на неё."
      ]
    },
    {
      "cell_type": "code",
      "metadata": {
        "colab": {
          "base_uri": "https://localhost:8080/",
          "height": 100
        },
        "id": "F_vtprM8qwIt",
        "outputId": "f2e4db2b-973b-480e-dfee-07466899663d"
      },
      "source": [
        "df.loc[np.argpartition(-df.trip_distance.values, 1)[:1]]"
      ],
      "execution_count": null,
      "outputs": [
        {
          "output_type": "execute_result",
          "data": {
            "text/html": [
              "<div>\n",
              "<style scoped>\n",
              "    .dataframe tbody tr th:only-of-type {\n",
              "        vertical-align: middle;\n",
              "    }\n",
              "\n",
              "    .dataframe tbody tr th {\n",
              "        vertical-align: top;\n",
              "    }\n",
              "\n",
              "    .dataframe thead th {\n",
              "        text-align: right;\n",
              "    }\n",
              "</style>\n",
              "<table border=\"1\" class=\"dataframe\">\n",
              "  <thead>\n",
              "    <tr style=\"text-align: right;\">\n",
              "      <th></th>\n",
              "      <th>tpep_pickup_datetime</th>\n",
              "      <th>tpep_dropoff_datetime</th>\n",
              "      <th>passenger_count</th>\n",
              "      <th>trip_distance</th>\n",
              "      <th>RatecodeID</th>\n",
              "      <th>store_and_fwd_flag</th>\n",
              "      <th>PULocationID</th>\n",
              "      <th>DOLocationID</th>\n",
              "      <th>payment_type</th>\n",
              "      <th>fare_amount</th>\n",
              "      <th>extra</th>\n",
              "      <th>mta_tax</th>\n",
              "      <th>tip_amount</th>\n",
              "      <th>tolls_amount</th>\n",
              "      <th>improvement_surcharge</th>\n",
              "      <th>total_amount</th>\n",
              "      <th>congestion_surcharge</th>\n",
              "      <th>duration_of_trip</th>\n",
              "      <th>store_and_forward_trip</th>\n",
              "      <th>vendor</th>\n",
              "    </tr>\n",
              "  </thead>\n",
              "  <tbody>\n",
              "    <tr>\n",
              "      <th>682715</th>\n",
              "      <td>2019-12-04 10:20:13</td>\n",
              "      <td>2019-12-04 10:24:43</td>\n",
              "      <td>1.0</td>\n",
              "      <td>19130.18</td>\n",
              "      <td>negotiated_fare</td>\n",
              "      <td>N</td>\n",
              "      <td>224</td>\n",
              "      <td>224</td>\n",
              "      <td>cash</td>\n",
              "      <td>11.0</td>\n",
              "      <td>0.0</td>\n",
              "      <td>0.0</td>\n",
              "      <td>0.0</td>\n",
              "      <td>0.0</td>\n",
              "      <td>0.0</td>\n",
              "      <td>11.0</td>\n",
              "      <td>0.0</td>\n",
              "      <td>270.0</td>\n",
              "      <td>no</td>\n",
              "      <td>VeriFone</td>\n",
              "    </tr>\n",
              "  </tbody>\n",
              "</table>\n",
              "</div>"
            ],
            "text/plain": [
              "       tpep_pickup_datetime  ...    vendor\n",
              "682715  2019-12-04 10:20:13  ...  VeriFone\n",
              "\n",
              "[1 rows x 20 columns]"
            ]
          },
          "metadata": {
            "tags": []
          },
          "execution_count": 97
        }
      ]
    },
    {
      "cell_type": "markdown",
      "metadata": {
        "id": "2GTDQxhtB3f_"
      },
      "source": [
        "За 4 минуты вряд ли можно проехать 19 тысяч миль. Скорее всего имеет место ошибка в данных, поэтому выбросим эту точку из датасета."
      ]
    },
    {
      "cell_type": "code",
      "metadata": {
        "id": "JX9DkNhtUdTW"
      },
      "source": [
        "df.drop(index=682715, inplace=True)\n",
        "df_ohe.drop(index=682715, inplace=True)"
      ],
      "execution_count": null,
      "outputs": []
    },
    {
      "cell_type": "code",
      "metadata": {
        "id": "wh1hQoyHFwIn",
        "colab": {
          "base_uri": "https://localhost:8080/",
          "height": 353
        },
        "outputId": "502da9c1-302a-4f2b-e010-8fadf7d89238"
      },
      "source": [
        "# plt.figure(figsize=(12,5))\n",
        "# sns.boxplot(df.duration_of_trip)"
      ],
      "execution_count": null,
      "outputs": [
        {
          "output_type": "execute_result",
          "data": {
            "text/plain": [
              "<matplotlib.axes._subplots.AxesSubplot at 0x7fc93f9ac1d0>"
            ]
          },
          "metadata": {
            "tags": []
          },
          "execution_count": 99
        },
        {
          "output_type": "display_data",
          "data": {
            "image/png": "[encoded data removed]",
            "text/plain": [
              "<Figure size 864x360 with 1 Axes>"
            ]
          },
          "metadata": {
            "tags": [],
            "needs_background": "light"
          }
        }
      ]
    },
    {
      "cell_type": "markdown",
      "metadata": {
        "id": "QdNfUbv3GAFY"
      },
      "source": [
        "Можно видеть очень много выбросов-поездок длительностью дольше дня.\n",
        "Хотя с учётом трафика мегаполиса можно предположить о том, что отдельные поездки могут длиться многие часов, сложно поверить в поездки длительность более 6 часов. Поэтому для удобства мы исключим эти точки."
      ]
    },
    {
      "cell_type": "code",
      "metadata": {
        "id": "aZAy6JgOGVLF"
      },
      "source": [
        "df = df[(df.duration_of_trip < 60 * 60 * 6) & (df.trip_distance < 400)]\n",
        "df_ohe = df_ohe[(df_ohe.duration_of_trip < 60 * 60 * 6) & (df_ohe.trip_distance < 400)]"
      ],
      "execution_count": null,
      "outputs": []
    },
    {
      "cell_type": "code",
      "metadata": {
        "id": "w0swbr5hBNsy",
        "colab": {
          "base_uri": "https://localhost:8080/",
          "height": 407
        },
        "outputId": "4ba5bcb0-bb25-4a74-d29d-4cc2d822b96c"
      },
      "source": [
        "# plt.figure(figsize=(8,6))\n",
        "# sns.scatterplot(x=df.duration_of_trip, y=df.trip_distance)"
      ],
      "execution_count": null,
      "outputs": [
        {
          "output_type": "execute_result",
          "data": {
            "text/plain": [
              "<matplotlib.axes._subplots.AxesSubplot at 0x7fc936bc82d0>"
            ]
          },
          "metadata": {
            "tags": []
          },
          "execution_count": 101
        },
        {
          "output_type": "display_data",
          "data": {
            "image/png": "[encoded data removed]",
            "text/plain": [
              "<Figure size 576x432 with 1 Axes>"
            ]
          },
          "metadata": {
            "tags": [],
            "needs_background": "light"
          }
        }
      ]
    },
    {
      "cell_type": "markdown",
      "metadata": {
        "id": "lCauUqQ0Kfow"
      },
      "source": [
        "На скаттерплоте можно увидеть линию точек (с одним явным выбросом) с очень маленькой длительностью и достаточно большим расстоянием (от 30 миль и больше). Посмотрим на точке с расстоянием 30 и более миль и длительностью меньше часа."
      ]
    },
    {
      "cell_type": "code",
      "metadata": {
        "id": "ij6H8kB0LEEG",
        "colab": {
          "base_uri": "https://localhost:8080/",
          "height": 407
        },
        "outputId": "f9e0c22f-1023-469b-d1d1-3375e8752d06"
      },
      "source": [
        "# plt.figure(figsize=(8,6))\n",
        "dff = df[(df.trip_distance >= 30) & (df.duration_of_trip < 3600)]\n",
        "# sns.scatterplot(x=dff.duration_of_trip, y=dff.trip_distance)"
      ],
      "execution_count": null,
      "outputs": [
        {
          "output_type": "execute_result",
          "data": {
            "text/plain": [
              "<matplotlib.axes._subplots.AxesSubplot at 0x7fc936a8a950>"
            ]
          },
          "metadata": {
            "tags": []
          },
          "execution_count": 102
        },
        {
          "output_type": "display_data",
          "data": {
            "image/png": "[encoded data removed]",
            "text/plain": [
              "<Figure size 576x432 with 1 Axes>"
            ]
          },
          "metadata": {
            "tags": [],
            "needs_background": "light"
          }
        }
      ]
    },
    {
      "cell_type": "markdown",
      "metadata": {
        "id": "CMcgLaznMA3U"
      },
      "source": [
        "Как видим, сильно выделяется область точек с длительностью менее 1000 секунд. Заключим, что это явные выбросы, и удалим их из датасета.  "
      ]
    },
    {
      "cell_type": "code",
      "metadata": {
        "id": "hUx6-d1UMVSV"
      },
      "source": [
        "inds_to_del = dff[dff.duration_of_trip < 1000].index.tolist()\n",
        "df.drop(index=inds_to_del, inplace=True, errors='ignore')\n",
        "df_ohe.drop(index=inds_to_del, inplace=True, errors='ignore')"
      ],
      "execution_count": null,
      "outputs": []
    },
    {
      "cell_type": "markdown",
      "metadata": {
        "id": "gNBx0xRMW0Ds"
      },
      "source": [
        "# Задание 3. Распределение стоимости поездок"
      ]
    },
    {
      "cell_type": "markdown",
      "metadata": {
        "id": "8D1AEqj4W4J-"
      },
      "source": [
        "Постройте распределение по стоимости поездок. Проверьте гипотезу о том, что оно имеет нормальное распределение. Как вы можете это объяснить?"
      ]
    },
    {
      "cell_type": "markdown",
      "metadata": {
        "id": "c2PLxPwB13qK"
      },
      "source": [
        "Посмотрим на распределение целевой переменной."
      ]
    },
    {
      "cell_type": "code",
      "metadata": {
        "id": "bgVzo2Iuycsj",
        "colab": {
          "base_uri": "https://localhost:8080/"
        },
        "outputId": "d0621499-0a56-4c40-bb85-06f51f6a9af9"
      },
      "source": [
        "df.total_amount.describe()"
      ],
      "execution_count": null,
      "outputs": [
        {
          "output_type": "execute_result",
          "data": {
            "text/plain": [
              "count    1.274049e+07\n",
              "mean     1.892425e+01\n",
              "std      1.433493e+01\n",
              "min      3.100000e-01\n",
              "25%      1.130000e+01\n",
              "50%      1.475000e+01\n",
              "75%      2.030000e+01\n",
              "max      6.015800e+03\n",
              "Name: total_amount, dtype: float64"
            ]
          },
          "metadata": {
            "tags": []
          },
          "execution_count": 104
        }
      ]
    },
    {
      "cell_type": "code",
      "metadata": {
        "id": "5TZm7B22W3lK",
        "colab": {
          "base_uri": "https://localhost:8080/",
          "height": 353
        },
        "outputId": "85609d14-089a-4b8d-913e-102dd853de4d"
      },
      "source": [
        "# plt.figure(figsize=(15,5))\n",
        "# sns.boxplot(df.total_amount)"
      ],
      "execution_count": null,
      "outputs": [
        {
          "output_type": "execute_result",
          "data": {
            "text/plain": [
              "<matplotlib.axes._subplots.AxesSubplot at 0x7fc941516990>"
            ]
          },
          "metadata": {
            "tags": []
          },
          "execution_count": 105
        },
        {
          "output_type": "display_data",
          "data": {
            "image/png": "[encoded data removed]",
            "text/plain": [
              "<Figure size 1080x360 with 1 Axes>"
            ]
          },
          "metadata": {
            "tags": [],
            "needs_background": "light"
          }
        }
      ]
    },
    {
      "cell_type": "code",
      "metadata": {
        "id": "KU-W5cOn2Ig8",
        "colab": {
          "base_uri": "https://localhost:8080/",
          "height": 389
        },
        "outputId": "93fe722d-6156-4b69-8090-f0efa16b88c8"
      },
      "source": [
        "# fig, ax = plt.subplots(ncols=2, nrows= 1, figsize=(20,6))\n",
        "# sns.distplot(df.total_amount, ax=ax[0])\n",
        "# qqplot(df.total_amount, line='s', ax=ax[1], ) \n",
        "# plt.show()"
      ],
      "execution_count": null,
      "outputs": [
        {
          "output_type": "display_data",
          "data": {
            "image/png": "[encoded data removed]",
            "text/plain": [
              "<Figure size 1440x432 with 2 Axes>"
            ]
          },
          "metadata": {
            "tags": [],
            "needs_background": "light"
          }
        }
      ]
    },
    {
      "cell_type": "markdown",
      "metadata": {
        "id": "hnQh92gl17Xs"
      },
      "source": [
        "Как видим, у распределения переменной огромный правый хвост."
      ]
    },
    {
      "cell_type": "code",
      "metadata": {
        "id": "jwJQ5TOd2BoN",
        "colab": {
          "base_uri": "https://localhost:8080/"
        },
        "outputId": "b5b5d053-097e-41f0-d154-f2afa109f68a"
      },
      "source": [
        "from scipy.stats import shapiro\n",
        "stat, p = shapiro(df.total_amount)\n",
        "print('Statistics=%.3f, p=%.3f' % (stat, p))\n",
        "# interpret\n",
        "alpha = 0.05\n",
        "if p > alpha:\n",
        "\tprint('Sample looks Gaussian (fail to reject H0)')\n",
        "else:\n",
        "\tprint('Sample does not look Gaussian (reject H0)')"
      ],
      "execution_count": null,
      "outputs": [
        {
          "output_type": "stream",
          "text": [
            "Statistics=0.660, p=0.000\n",
            "Sample does not look Gaussian (reject H0)\n"
          ],
          "name": "stdout"
        }
      ]
    },
    {
      "cell_type": "markdown",
      "metadata": {
        "id": "mnuZUaCL7JwH"
      },
      "source": [
        "Гипотезу о нормальном распределении стоимости поездок можно уверенно отвергнуть.  \n",
        "\n",
        "Это можно объяснить тем, что отдельные категории поездок (см. Задача 2) стоят значительно больше остальных, а также тем, что в отдельных случаях пассажиры дают огромные чаевые, что и выражается в тяжёлом правом хвосте распределения."
      ]
    },
    {
      "cell_type": "markdown",
      "metadata": {
        "id": "qSCpSlB17jqM"
      },
      "source": [
        "# Задача 4. Предсказательная модель"
      ]
    },
    {
      "cell_type": "code",
      "metadata": {
        "colab": {
          "base_uri": "https://localhost:8080/"
        },
        "id": "RgLm81wQaEwm",
        "outputId": "772dc74d-60df-441c-b5cd-15a28df384a8"
      },
      "source": [
        "df.shape, df_ohe.shape"
      ],
      "execution_count": null,
      "outputs": [
        {
          "output_type": "execute_result",
          "data": {
            "text/plain": [
              "((12740487, 20), (12740487, 33))"
            ]
          },
          "metadata": {
            "tags": []
          },
          "execution_count": 108
        }
      ]
    },
    {
      "cell_type": "markdown",
      "metadata": {
        "id": "YFi95ruQcTh3"
      },
      "source": [
        "Удалим дату конца поездок (начало понадобится потом для агрегации), а также ID-теги зон, в которых таксиметр был включен/выключен (*PULocationID*, *PULocationID*)."
      ]
    },
    {
      "cell_type": "code",
      "metadata": {
        "id": "FmiLZZhYBeGF"
      },
      "source": [
        "df.drop(columns=[ 'tpep_dropoff_datetime', 'PULocationID', 'DOLocationID'], inplace=True, errors='ignore')\n",
        "df_ohe.drop(columns=[ 'tpep_dropoff_datetime', 'PULocationID', 'DOLocationID'], inplace=True, errors='ignore')"
      ],
      "execution_count": null,
      "outputs": []
    },
    {
      "cell_type": "markdown",
      "metadata": {
        "id": "lEnpJ_Ov7uSk"
      },
      "source": [
        "Из данных постройте модель, которая описывает тариф (т.е. стоимость поездки от других факторов).  \n",
        "\n",
        "Сохраним 2 варианта данных - для градиентного бустинга и линейных моделей (с OHE-признаками). "
      ]
    },
    {
      "cell_type": "code",
      "metadata": {
        "id": "eXZHzskpbBan"
      },
      "source": [
        "with open('df_for_boost.pickle', 'wb') as f:\n",
        "     pickle.dump(df, f)"
      ],
      "execution_count": null,
      "outputs": []
    },
    {
      "cell_type": "code",
      "metadata": {
        "id": "VFXBExZJc5fh"
      },
      "source": [
        "with open('df_for_reg.pickle', 'wb') as f:\n",
        "     pickle.dump(df_ohe, f)"
      ],
      "execution_count": null,
      "outputs": []
    },
    {
      "cell_type": "code",
      "metadata": {
        "id": "JF3pTjxReCDL"
      },
      "source": [
        "with open('df_for_reg.pickle', 'rb') as f:\n",
        "     df_ohe = pickle.load(f)"
      ],
      "execution_count": null,
      "outputs": []
    },
    {
      "cell_type": "code",
      "metadata": {
        "colab": {
          "base_uri": "https://localhost:8080/",
          "height": 224
        },
        "id": "_BYFLnG5bJtD",
        "outputId": "f6c35dfb-0b4c-42d4-b6fd-b3d9847498f6"
      },
      "source": [
        "df_ohe.head()"
      ],
      "execution_count": null,
      "outputs": [
        {
          "output_type": "execute_result",
          "data": {
            "text/html": [
              "<div>\n",
              "<style scoped>\n",
              "    .dataframe tbody tr th:only-of-type {\n",
              "        vertical-align: middle;\n",
              "    }\n",
              "\n",
              "    .dataframe tbody tr th {\n",
              "        vertical-align: top;\n",
              "    }\n",
              "\n",
              "    .dataframe thead th {\n",
              "        text-align: right;\n",
              "    }\n",
              "</style>\n",
              "<table border=\"1\" class=\"dataframe\">\n",
              "  <thead>\n",
              "    <tr style=\"text-align: right;\">\n",
              "      <th></th>\n",
              "      <th>tpep_pickup_datetime</th>\n",
              "      <th>passenger_count</th>\n",
              "      <th>trip_distance</th>\n",
              "      <th>fare_amount</th>\n",
              "      <th>extra</th>\n",
              "      <th>mta_tax</th>\n",
              "      <th>tip_amount</th>\n",
              "      <th>tolls_amount</th>\n",
              "      <th>improvement_surcharge</th>\n",
              "      <th>total_amount</th>\n",
              "      <th>congestion_surcharge</th>\n",
              "      <th>duration_of_trip</th>\n",
              "      <th>payment_type_cash</th>\n",
              "      <th>payment_type_credit_card</th>\n",
              "      <th>payment_type_dispute</th>\n",
              "      <th>payment_type_no_charge</th>\n",
              "      <th>payment_type_unknown</th>\n",
              "      <th>ratecode_group_ride</th>\n",
              "      <th>ratecode_jfk</th>\n",
              "      <th>ratecode_nassau_or_Westchester</th>\n",
              "      <th>ratecode_negotiated_fare</th>\n",
              "      <th>ratecode_newark</th>\n",
              "      <th>ratecode_standard_rate</th>\n",
              "      <th>ratecode_unknown</th>\n",
              "      <th>store&amp;forward_no</th>\n",
              "      <th>store&amp;forward_yes</th>\n",
              "      <th>vendor_CMT</th>\n",
              "      <th>vendor_VeriFone</th>\n",
              "      <th>store_fwd_N</th>\n",
              "      <th>store_fwd_Y</th>\n",
              "    </tr>\n",
              "  </thead>\n",
              "  <tbody>\n",
              "    <tr>\n",
              "      <th>0</th>\n",
              "      <td>2019-12-01 00:26:58</td>\n",
              "      <td>1.0</td>\n",
              "      <td>4.2</td>\n",
              "      <td>14.5</td>\n",
              "      <td>3.0</td>\n",
              "      <td>0.5</td>\n",
              "      <td>0.00</td>\n",
              "      <td>0.0</td>\n",
              "      <td>0.3</td>\n",
              "      <td>18.30</td>\n",
              "      <td>2.5</td>\n",
              "      <td>887.0</td>\n",
              "      <td>1</td>\n",
              "      <td>0</td>\n",
              "      <td>0</td>\n",
              "      <td>0</td>\n",
              "      <td>0</td>\n",
              "      <td>0</td>\n",
              "      <td>0</td>\n",
              "      <td>0</td>\n",
              "      <td>0</td>\n",
              "      <td>0</td>\n",
              "      <td>1</td>\n",
              "      <td>0</td>\n",
              "      <td>1</td>\n",
              "      <td>0</td>\n",
              "      <td>1</td>\n",
              "      <td>0</td>\n",
              "      <td>1</td>\n",
              "      <td>0</td>\n",
              "    </tr>\n",
              "    <tr>\n",
              "      <th>1</th>\n",
              "      <td>2019-12-01 00:12:03</td>\n",
              "      <td>2.0</td>\n",
              "      <td>9.4</td>\n",
              "      <td>28.5</td>\n",
              "      <td>0.5</td>\n",
              "      <td>0.5</td>\n",
              "      <td>10.00</td>\n",
              "      <td>0.0</td>\n",
              "      <td>0.3</td>\n",
              "      <td>39.80</td>\n",
              "      <td>0.0</td>\n",
              "      <td>1276.0</td>\n",
              "      <td>0</td>\n",
              "      <td>1</td>\n",
              "      <td>0</td>\n",
              "      <td>0</td>\n",
              "      <td>0</td>\n",
              "      <td>0</td>\n",
              "      <td>0</td>\n",
              "      <td>0</td>\n",
              "      <td>0</td>\n",
              "      <td>0</td>\n",
              "      <td>1</td>\n",
              "      <td>0</td>\n",
              "      <td>1</td>\n",
              "      <td>0</td>\n",
              "      <td>1</td>\n",
              "      <td>0</td>\n",
              "      <td>1</td>\n",
              "      <td>0</td>\n",
              "    </tr>\n",
              "    <tr>\n",
              "      <th>2</th>\n",
              "      <td>2019-12-01 00:05:27</td>\n",
              "      <td>2.0</td>\n",
              "      <td>1.6</td>\n",
              "      <td>9.0</td>\n",
              "      <td>3.0</td>\n",
              "      <td>0.5</td>\n",
              "      <td>0.00</td>\n",
              "      <td>0.0</td>\n",
              "      <td>0.3</td>\n",
              "      <td>12.80</td>\n",
              "      <td>2.5</td>\n",
              "      <td>665.0</td>\n",
              "      <td>1</td>\n",
              "      <td>0</td>\n",
              "      <td>0</td>\n",
              "      <td>0</td>\n",
              "      <td>0</td>\n",
              "      <td>0</td>\n",
              "      <td>0</td>\n",
              "      <td>0</td>\n",
              "      <td>0</td>\n",
              "      <td>0</td>\n",
              "      <td>1</td>\n",
              "      <td>0</td>\n",
              "      <td>1</td>\n",
              "      <td>0</td>\n",
              "      <td>1</td>\n",
              "      <td>0</td>\n",
              "      <td>1</td>\n",
              "      <td>0</td>\n",
              "    </tr>\n",
              "    <tr>\n",
              "      <th>3</th>\n",
              "      <td>2019-12-01 00:58:51</td>\n",
              "      <td>2.0</td>\n",
              "      <td>1.0</td>\n",
              "      <td>6.5</td>\n",
              "      <td>3.0</td>\n",
              "      <td>0.5</td>\n",
              "      <td>0.00</td>\n",
              "      <td>0.0</td>\n",
              "      <td>0.3</td>\n",
              "      <td>10.30</td>\n",
              "      <td>2.5</td>\n",
              "      <td>586.0</td>\n",
              "      <td>1</td>\n",
              "      <td>0</td>\n",
              "      <td>0</td>\n",
              "      <td>0</td>\n",
              "      <td>0</td>\n",
              "      <td>0</td>\n",
              "      <td>0</td>\n",
              "      <td>0</td>\n",
              "      <td>0</td>\n",
              "      <td>0</td>\n",
              "      <td>1</td>\n",
              "      <td>0</td>\n",
              "      <td>1</td>\n",
              "      <td>0</td>\n",
              "      <td>1</td>\n",
              "      <td>0</td>\n",
              "      <td>1</td>\n",
              "      <td>0</td>\n",
              "    </tr>\n",
              "    <tr>\n",
              "      <th>4</th>\n",
              "      <td>2019-12-01 00:19:48</td>\n",
              "      <td>1.0</td>\n",
              "      <td>0.9</td>\n",
              "      <td>5.5</td>\n",
              "      <td>3.0</td>\n",
              "      <td>0.5</td>\n",
              "      <td>1.85</td>\n",
              "      <td>0.0</td>\n",
              "      <td>0.3</td>\n",
              "      <td>11.15</td>\n",
              "      <td>2.5</td>\n",
              "      <td>270.0</td>\n",
              "      <td>0</td>\n",
              "      <td>1</td>\n",
              "      <td>0</td>\n",
              "      <td>0</td>\n",
              "      <td>0</td>\n",
              "      <td>0</td>\n",
              "      <td>0</td>\n",
              "      <td>0</td>\n",
              "      <td>0</td>\n",
              "      <td>0</td>\n",
              "      <td>1</td>\n",
              "      <td>0</td>\n",
              "      <td>1</td>\n",
              "      <td>0</td>\n",
              "      <td>1</td>\n",
              "      <td>0</td>\n",
              "      <td>1</td>\n",
              "      <td>0</td>\n",
              "    </tr>\n",
              "  </tbody>\n",
              "</table>\n",
              "</div>"
            ],
            "text/plain": [
              "  tpep_pickup_datetime  passenger_count  ...  store_fwd_N  store_fwd_Y\n",
              "0  2019-12-01 00:26:58              1.0  ...            1            0\n",
              "1  2019-12-01 00:12:03              2.0  ...            1            0\n",
              "2  2019-12-01 00:05:27              2.0  ...            1            0\n",
              "3  2019-12-01 00:58:51              2.0  ...            1            0\n",
              "4  2019-12-01 00:19:48              1.0  ...            1            0\n",
              "\n",
              "[5 rows x 30 columns]"
            ]
          },
          "metadata": {
            "tags": []
          },
          "execution_count": 7
        }
      ]
    },
    {
      "cell_type": "markdown",
      "metadata": {
        "id": "nYlhQlYN_esh"
      },
      "source": [
        "Для построения модели мы избавимся от признаков-составляющих цены, поскольку они либо обусловлены другими признаками (mta_tax почти всегда зависит от тарифа, либо позникают после поездки (fare_amount расчитывается на основе расстояния, а tip_amount просто случаен и платится клиентом по желанию)."
      ]
    },
    {
      "cell_type": "code",
      "metadata": {
        "id": "FRNqTG-MbU44"
      },
      "source": [
        "time = df_ohe.tpep_pickup_datetime"
      ],
      "execution_count": null,
      "outputs": []
    },
    {
      "cell_type": "code",
      "metadata": {
        "id": "yJPHpcod_dQF"
      },
      "source": [
        "y = df_ohe.total_amount\n",
        "X = df_ohe.drop(['tpep_pickup_datetime',\n",
        "         'fare_amount', 'extra', 'mta_tax', 'tip_amount', 'tolls_amount', 'improvement_surcharge', 'total_amount', 'congestion_surcharge', \n",
        "         ], axis=1)\n",
        "del df_ohe"
      ],
      "execution_count": null,
      "outputs": []
    },
    {
      "cell_type": "markdown",
      "metadata": {
        "id": "o9mNg37s-7OK"
      },
      "source": [
        "Проведём нормализацию числовых признаков (passenger_count, trip_distance, duration_of_trip)"
      ]
    },
    {
      "cell_type": "code",
      "metadata": {
        "id": "dKqSIy5GA0YE"
      },
      "source": [
        "scaler = StandardScaler()\n",
        "scaled_data =  scaler.fit_transform(X.iloc[:, :3])"
      ],
      "execution_count": null,
      "outputs": []
    },
    {
      "cell_type": "markdown",
      "metadata": {
        "id": "o1omIuEL_OQp"
      },
      "source": [
        "Переведём данные в формат разряженной таблицы для меньшего расхода памяти"
      ]
    },
    {
      "cell_type": "code",
      "metadata": {
        "id": "PH9Hau99Sl1q"
      },
      "source": [
        "X_csr = csr_matrix(np.c_[scaled_data, np.array(X.iloc[:, 3:])])\n",
        "del X"
      ],
      "execution_count": null,
      "outputs": []
    },
    {
      "cell_type": "markdown",
      "metadata": {
        "id": "fAwRgkWa_VaI"
      },
      "source": [
        "Будем проводить кросс-валидацию с помощью TimeSeriesSplit, разбивающего данные по временному принципу."
      ]
    },
    {
      "cell_type": "code",
      "metadata": {
        "id": "jFrv6iBsFvQZ"
      },
      "source": [
        "ts_split = TimeSeriesSplit(n_splits=5)"
      ],
      "execution_count": null,
      "outputs": []
    },
    {
      "cell_type": "markdown",
      "metadata": {
        "id": "ZaQ8s3IlVt_C"
      },
      "source": [
        "## SGDRegressor"
      ]
    },
    {
      "cell_type": "markdown",
      "metadata": {
        "id": "SfoXFjaQ_j-j"
      },
      "source": [
        "С начала оценим линейную модель"
      ]
    },
    {
      "cell_type": "code",
      "metadata": {
        "colab": {
          "base_uri": "https://localhost:8080/"
        },
        "id": "4IkTFq4ZeQle",
        "outputId": "12b23b71-1f57-47bd-97c2-ea9676a9d3b0"
      },
      "source": [
        "sgdreg = SGDRegressor(penalty='elasticnet')\n",
        "params= {'l1_ratio': [0, 0.25, 0.5, 0.75, 1]}\n",
        "grid = GridSearchCV(sgdreg, params, cv=ts_split, n_jobs=-1, verbose=10, scoring='neg_root_mean_squared_error')\n",
        "grid.fit(X_csr, y)"
      ],
      "execution_count": null,
      "outputs": [
        {
          "output_type": "stream",
          "text": [
            "Fitting 5 folds for each of 5 candidates, totalling 25 fits\n"
          ],
          "name": "stdout"
        },
        {
          "output_type": "stream",
          "text": [
            "[Parallel(n_jobs=-1)]: Using backend LokyBackend with 4 concurrent workers.\n",
            "[Parallel(n_jobs=-1)]: Done   5 tasks      | elapsed:  2.7min\n",
            "[Parallel(n_jobs=-1)]: Done  10 tasks      | elapsed:  5.1min\n",
            "[Parallel(n_jobs=-1)]: Done  17 tasks      | elapsed:  8.8min\n",
            "[Parallel(n_jobs=-1)]: Done  21 out of  25 | elapsed: 11.1min remaining:  2.1min\n",
            "[Parallel(n_jobs=-1)]: Done  25 out of  25 | elapsed: 13.8min finished\n"
          ],
          "name": "stderr"
        },
        {
          "output_type": "execute_result",
          "data": {
            "text/plain": [
              "GridSearchCV(cv=TimeSeriesSplit(max_train_size=None, n_splits=5),\n",
              "             error_score=nan,\n",
              "             estimator=SGDRegressor(alpha=0.0001, average=False,\n",
              "                                    early_stopping=False, epsilon=0.1,\n",
              "                                    eta0=0.01, fit_intercept=True,\n",
              "                                    l1_ratio=0.15, learning_rate='invscaling',\n",
              "                                    loss='squared_loss', max_iter=1000,\n",
              "                                    n_iter_no_change=5, penalty='elasticnet',\n",
              "                                    power_t=0.25, random_state=None,\n",
              "                                    shuffle=True, tol=0.001,\n",
              "                                    validation_fraction=0.1, verbose=0,\n",
              "                                    warm_start=False),\n",
              "             iid='deprecated', n_jobs=-1,\n",
              "             param_grid={'l1_ratio': [0, 0.25, 0.5, 0.75, 1]},\n",
              "             pre_dispatch='2*n_jobs', refit=True, return_train_score=False,\n",
              "             scoring='neg_root_mean_squared_error', verbose=10)"
            ]
          },
          "metadata": {
            "tags": []
          },
          "execution_count": 16
        }
      ]
    },
    {
      "cell_type": "code",
      "metadata": {
        "id": "hWYN1g5ZhHKD",
        "colab": {
          "base_uri": "https://localhost:8080/"
        },
        "outputId": "71b8af54-e93d-407e-b62e-66ffeab898a9"
      },
      "source": [
        "print(grid.best_score_)\n",
        "print(grid.best_params_)\n",
        "best_sgd = grid.best_estimator_"
      ],
      "execution_count": null,
      "outputs": [
        {
          "output_type": "stream",
          "text": [
            "-4.173949461145655\n",
            "{'l1_ratio': 0.5}\n"
          ],
          "name": "stdout"
        }
      ]
    },
    {
      "cell_type": "code",
      "metadata": {
        "id": "N6fbX5PPCXcD",
        "colab": {
          "base_uri": "https://localhost:8080/"
        },
        "outputId": "9dfabd59-f489-4c84-c827-778faa2cecfa"
      },
      "source": [
        "from sklearn.metrics import mean_squared_error\n",
        "pred = best_sgd.predict(X_csr)\n",
        "mean_squared_error(y, pred, squared=False)"
      ],
      "execution_count": null,
      "outputs": [
        {
          "output_type": "execute_result",
          "data": {
            "text/plain": [
              "4.54114961225091"
            ]
          },
          "metadata": {
            "tags": []
          },
          "execution_count": 19
        }
      ]
    },
    {
      "cell_type": "markdown",
      "metadata": {
        "id": "IvSBYXrX_qFi"
      },
      "source": [
        "## Catboost"
      ]
    },
    {
      "cell_type": "markdown",
      "metadata": {
        "id": "soztgMuP_wLe"
      },
      "source": [
        "Теперь перейдём к градиентному бустингу"
      ]
    },
    {
      "cell_type": "markdown",
      "metadata": {
        "id": "GCnwfU6TBWnd"
      },
      "source": [
        "Преобразуем данные для бустинга."
      ]
    },
    {
      "cell_type": "code",
      "metadata": {
        "id": "1itHK3oEBMIi"
      },
      "source": [
        "time = df.tpep_pickup_datetime\n",
        "y = df.total_amount\n",
        "X = df.drop(['tpep_pickup_datetime',\n",
        "         'fare_amount', 'extra', 'mta_tax', 'tip_amount', 'tolls_amount', 'improvement_surcharge', 'total_amount', 'congestion_surcharge', \n",
        "         ], axis=1)"
      ],
      "execution_count": null,
      "outputs": []
    },
    {
      "cell_type": "code",
      "metadata": {
        "id": "ncdHENO1dr2F"
      },
      "source": [
        "#Зададаим категориальные признаки\n",
        "cat_features=df.select_dtypes(include='object').columns.tolist()"
      ],
      "execution_count": null,
      "outputs": []
    },
    {
      "cell_type": "code",
      "metadata": {
        "id": "6rtcsRKpBphT"
      },
      "source": [
        "pip install catboost"
      ],
      "execution_count": null,
      "outputs": []
    },
    {
      "cell_type": "code",
      "metadata": {
        "id": "S9FJd5i0BuZ1"
      },
      "source": [
        "from catboost import CatBoostRegressor"
      ],
      "execution_count": null,
      "outputs": []
    },
    {
      "cell_type": "code",
      "metadata": {
        "id": "1p31mmLsYTS2"
      },
      "source": [
        "catboost = CatBoostRegressor(task_type='GPU', iterations=300, random_seed=42, early_stopping_rounds=50, eval_metric='RMSE', verbose=False, \n",
        "                             cat_features=df.select_dtypes(include='object').columns.tolist())"
      ],
      "execution_count": null,
      "outputs": []
    },
    {
      "cell_type": "code",
      "metadata": {
        "id": "LoDAl-DAe6kK"
      },
      "source": [
        "params_cb = {'learning_rate': [0.1, 0.3],\n",
        "        'depth': [3, 6, 10],\n",
        "        'l2_leaf_reg': [3, 7]}"
      ],
      "execution_count": null,
      "outputs": []
    },
    {
      "cell_type": "code",
      "metadata": {
        "id": "2HMKY0Z6nplH"
      },
      "source": [
        "grid_cb = GridSearchCV(catboost, param_grid=params_cb, scoring='neg_root_mean_squared_error', n_jobs=None, cv=ts_split, verbose=10)"
      ],
      "execution_count": null,
      "outputs": []
    },
    {
      "cell_type": "code",
      "metadata": {
        "colab": {
          "base_uri": "https://localhost:8080/"
        },
        "id": "OO_xa3iEnphR",
        "outputId": "ab19d8d7-4dcc-4603-deb6-42e053a9f2df"
      },
      "source": [
        "grid_cb.fit(X,y)"
      ],
      "execution_count": null,
      "outputs": [
        {
          "output_type": "stream",
          "text": [
            "Fitting 5 folds for each of 1 candidates, totalling 5 fits\n",
            "[CV] depth=10, l2_leaf_reg=7, learning_rate=0.3 ......................\n"
          ],
          "name": "stdout"
        },
        {
          "output_type": "stream",
          "text": [
            "[Parallel(n_jobs=1)]: Using backend SequentialBackend with 1 concurrent workers.\n"
          ],
          "name": "stderr"
        },
        {
          "output_type": "stream",
          "text": [
            "[CV]  depth=10, l2_leaf_reg=7, learning_rate=0.3, score=-3.328, total=  34.4s\n",
            "[CV] depth=10, l2_leaf_reg=7, learning_rate=0.3 ......................\n"
          ],
          "name": "stdout"
        },
        {
          "output_type": "stream",
          "text": [
            "[Parallel(n_jobs=1)]: Done   1 out of   1 | elapsed:   34.5s remaining:    0.0s\n"
          ],
          "name": "stderr"
        },
        {
          "output_type": "stream",
          "text": [
            "[CV]  depth=10, l2_leaf_reg=7, learning_rate=0.3, score=-3.219, total=  56.4s\n",
            "[CV] depth=10, l2_leaf_reg=7, learning_rate=0.3 ......................\n"
          ],
          "name": "stdout"
        },
        {
          "output_type": "stream",
          "text": [
            "[Parallel(n_jobs=1)]: Done   2 out of   2 | elapsed:  1.5min remaining:    0.0s\n"
          ],
          "name": "stderr"
        },
        {
          "output_type": "stream",
          "text": [
            "[CV]  depth=10, l2_leaf_reg=7, learning_rate=0.3, score=-3.381, total= 1.3min\n",
            "[CV] depth=10, l2_leaf_reg=7, learning_rate=0.3 ......................\n"
          ],
          "name": "stdout"
        },
        {
          "output_type": "stream",
          "text": [
            "[Parallel(n_jobs=1)]: Done   3 out of   3 | elapsed:  2.8min remaining:    0.0s\n"
          ],
          "name": "stderr"
        },
        {
          "output_type": "stream",
          "text": [
            "[CV]  depth=10, l2_leaf_reg=7, learning_rate=0.3, score=-3.058, total= 1.7min\n",
            "[CV] depth=10, l2_leaf_reg=7, learning_rate=0.3 ......................\n"
          ],
          "name": "stdout"
        },
        {
          "output_type": "stream",
          "text": [
            "[Parallel(n_jobs=1)]: Done   4 out of   4 | elapsed:  4.5min remaining:    0.0s\n"
          ],
          "name": "stderr"
        },
        {
          "output_type": "stream",
          "text": [
            "[CV]  depth=10, l2_leaf_reg=7, learning_rate=0.3, score=-3.172, total= 2.0min\n"
          ],
          "name": "stdout"
        },
        {
          "output_type": "stream",
          "text": [
            "[Parallel(n_jobs=1)]: Done   5 out of   5 | elapsed:  6.6min remaining:    0.0s\n",
            "[Parallel(n_jobs=1)]: Done   5 out of   5 | elapsed:  6.6min finished\n"
          ],
          "name": "stderr"
        },
        {
          "output_type": "execute_result",
          "data": {
            "text/plain": [
              "GridSearchCV(cv=TimeSeriesSplit(max_train_size=None, n_splits=5),\n",
              "             error_score=nan,\n",
              "             estimator=<catboost.core.CatBoostRegressor object at 0x7f50623cc3d0>,\n",
              "             iid='deprecated', n_jobs=None,\n",
              "             param_grid={'depth': [10], 'l2_leaf_reg': [7],\n",
              "                         'learning_rate': [0.3]},\n",
              "             pre_dispatch='2*n_jobs', refit=True, return_train_score=False,\n",
              "             scoring='neg_root_mean_squared_error', verbose=10)"
            ]
          },
          "metadata": {
            "tags": []
          },
          "execution_count": 60
        }
      ]
    },
    {
      "cell_type": "code",
      "metadata": {
        "colab": {
          "base_uri": "https://localhost:8080/"
        },
        "id": "9F7RPR_vnpbR",
        "outputId": "c6d259bd-2e94-42c2-f2dc-4f7f4d03e8c8"
      },
      "source": [
        "print(grid_cb.best_score_)\n",
        "print(grid_cb.best_params_)\n",
        "best_cb = grid_cb.best_estimator_"
      ],
      "execution_count": null,
      "outputs": [
        {
          "output_type": "stream",
          "text": [
            "-3.2315215343821784\n",
            "{'depth': 10, 'l2_leaf_reg': 7, 'learning_rate': 0.3}\n"
          ],
          "name": "stdout"
        }
      ]
    },
    {
      "cell_type": "code",
      "metadata": {
        "colab": {
          "base_uri": "https://localhost:8080/"
        },
        "id": "sKdb0Dk8_lAw",
        "outputId": "f7651ff3-920e-47a3-d3fa-d2364155ebf6"
      },
      "source": [
        "pred = best_cb.predict(X)\n",
        "mean_squared_error(y, pred, squared=False)"
      ],
      "execution_count": null,
      "outputs": [
        {
          "output_type": "execute_result",
          "data": {
            "text/plain": [
              "3.5772995727383896"
            ]
          },
          "metadata": {
            "tags": []
          },
          "execution_count": 62
        }
      ]
    },
    {
      "cell_type": "markdown",
      "metadata": {
        "id": "SRZHdkJ3B1MR"
      },
      "source": [
        "Как видим, ошибка на модели бустинга заметно меньше. Для дальнейшего анализа будем использовать именно её."
      ]
    },
    {
      "cell_type": "markdown",
      "metadata": {
        "id": "j43IgDn1Btyu"
      },
      "source": [
        "Посмотрим на наиболее значимые признаки"
      ]
    },
    {
      "cell_type": "code",
      "metadata": {
        "colab": {
          "base_uri": "https://localhost:8080/",
          "height": 444
        },
        "id": "ECWpDQDZBwXd",
        "outputId": "076e0bbc-7385-4bd9-ec23-e3184a6018e5"
      },
      "source": [
        "feat_imp = pd.Series(best_cb.feature_importances_, index=list(X)).sort_values(ascending=False)\n",
        "plt.figure(figsize=(8,7))\n",
        "bar = sns.barplot(feat_imp, feat_imp.index)\n",
        "plt.yticks(size=12)\n",
        "plt.title('Feature importance for Catboost Classifier')\n",
        "for p in bar.patches:\n",
        "    width = p.get_width()    # get bar length\n",
        "    bar.text(width,  # set the text at bar\n",
        "            p.get_y() + p.get_height() / 2, # get Y coordinate + X coordinate / 2\n",
        "            '{:1.2f}'.format(width), # set variable to display, 2 decimals\n",
        "            ha = 'left',   # horizontal alignment\n",
        "            va = 'center', # vertical alignment\n",
        "            fontsize=14)  "
      ],
      "execution_count": null,
      "outputs": [
        {
          "output_type": "display_data",
          "data": {
            "image/png": "[encoded data removed]",
            "text/plain": [
              "<Figure size 576x504 with 1 Axes>"
            ]
          },
          "metadata": {
            "tags": [],
            "needs_background": "light"
          }
        }
      ]
    },
    {
      "cell_type": "markdown",
      "metadata": {
        "id": "b7rjck9fCo_A"
      },
      "source": [
        "Как видим, признаки длительности и расстояния поездки, а также тарифа оказывают наибольшее и близкое по величине влияние.  \n",
        "Тип оплаты также имеет определённый вклад, тогда как значимость остальных признаков близка к нулю."
      ]
    },
    {
      "cell_type": "markdown",
      "metadata": {
        "id": "cH6Gb6UtDGdK"
      },
      "source": [
        "# Задание 5. Анализ на наличие скидок"
      ]
    },
    {
      "cell_type": "markdown",
      "metadata": {
        "id": "Zl_LT4GlDN6o"
      },
      "source": [
        "Используя модель из пункта выше ответьте на вопрос: были ли в какие-то дни (или временные промежутки) скидки или акции? И если то были, то как вы можете это объяснить."
      ]
    },
    {
      "cell_type": "code",
      "metadata": {
        "id": "VOYMmDHif-RL"
      },
      "source": [
        "price_by_date =  pd.DataFrame({'time': time, 'true': y, 'pred': pred})"
      ],
      "execution_count": null,
      "outputs": []
    },
    {
      "cell_type": "markdown",
      "metadata": {
        "id": "0hMUfmKYBsi_"
      },
      "source": [
        ""
      ]
    },
    {
      "cell_type": "markdown",
      "metadata": {
        "id": "DxRCOaxqlb3s"
      },
      "source": [
        "Посмотрим, есть ли выбивающиеся даты."
      ]
    },
    {
      "cell_type": "code",
      "metadata": {
        "colab": {
          "base_uri": "https://localhost:8080/"
        },
        "id": "v7BIyhOulgNk",
        "outputId": "6dade09f-ea9e-4c5f-be17-c89a24d22aeb"
      },
      "source": [
        "price_by_date.time.describe()"
      ],
      "execution_count": null,
      "outputs": [
        {
          "output_type": "execute_result",
          "data": {
            "text/plain": [
              "count                12740487\n",
              "unique                4266893\n",
              "top       2020-01-28 18:18:25\n",
              "freq                       16\n",
              "first     2019-12-01 00:00:00\n",
              "last      2020-01-31 23:58:25\n",
              "Name: time, dtype: object"
            ]
          },
          "metadata": {
            "tags": []
          },
          "execution_count": 64
        }
      ]
    },
    {
      "cell_type": "markdown",
      "metadata": {
        "id": "xwig7GYjl1iJ"
      },
      "source": [
        "Удалим даты, которые выбиваются из интервала декабрь 2019-январь 2020"
      ]
    },
    {
      "cell_type": "code",
      "metadata": {
        "id": "VKG4VOLVkPoQ"
      },
      "source": [
        "price_by_date = price_by_date[(price_by_date.time >= pd.Timestamp('2019-12-01')) & (price_by_date.time <= pd.Timestamp('2020-02-01'))]"
      ],
      "execution_count": null,
      "outputs": []
    },
    {
      "cell_type": "code",
      "metadata": {
        "colab": {
          "base_uri": "https://localhost:8080/",
          "height": 204
        },
        "id": "43_hVFk-f9z3",
        "outputId": "12da0c79-280d-4bfd-d15a-f9b1d70bb8c4"
      },
      "source": [
        "price_by_day = price_by_date.set_index('time').groupby(pd.Grouper(freq='D'))[['true', 'pred']]\\\n",
        ".mean().reset_index()\n",
        "price_by_day.head()"
      ],
      "execution_count": null,
      "outputs": [
        {
          "output_type": "execute_result",
          "data": {
            "text/html": [
              "<div>\n",
              "<style scoped>\n",
              "    .dataframe tbody tr th:only-of-type {\n",
              "        vertical-align: middle;\n",
              "    }\n",
              "\n",
              "    .dataframe tbody tr th {\n",
              "        vertical-align: top;\n",
              "    }\n",
              "\n",
              "    .dataframe thead th {\n",
              "        text-align: right;\n",
              "    }\n",
              "</style>\n",
              "<table border=\"1\" class=\"dataframe\">\n",
              "  <thead>\n",
              "    <tr style=\"text-align: right;\">\n",
              "      <th></th>\n",
              "      <th>time</th>\n",
              "      <th>true</th>\n",
              "      <th>pred</th>\n",
              "    </tr>\n",
              "  </thead>\n",
              "  <tbody>\n",
              "    <tr>\n",
              "      <th>0</th>\n",
              "      <td>2019-12-01</td>\n",
              "      <td>19.605730</td>\n",
              "      <td>19.876108</td>\n",
              "    </tr>\n",
              "    <tr>\n",
              "      <th>1</th>\n",
              "      <td>2019-12-02</td>\n",
              "      <td>19.803519</td>\n",
              "      <td>19.771916</td>\n",
              "    </tr>\n",
              "    <tr>\n",
              "      <th>2</th>\n",
              "      <td>2019-12-03</td>\n",
              "      <td>19.897357</td>\n",
              "      <td>19.798687</td>\n",
              "    </tr>\n",
              "    <tr>\n",
              "      <th>3</th>\n",
              "      <td>2019-12-04</td>\n",
              "      <td>20.228028</td>\n",
              "      <td>20.125093</td>\n",
              "    </tr>\n",
              "    <tr>\n",
              "      <th>4</th>\n",
              "      <td>2019-12-05</td>\n",
              "      <td>20.413328</td>\n",
              "      <td>20.284814</td>\n",
              "    </tr>\n",
              "  </tbody>\n",
              "</table>\n",
              "</div>"
            ],
            "text/plain": [
              "        time       true       pred\n",
              "0 2019-12-01  19.605730  19.876108\n",
              "1 2019-12-02  19.803519  19.771916\n",
              "2 2019-12-03  19.897357  19.798687\n",
              "3 2019-12-04  20.228028  20.125093\n",
              "4 2019-12-05  20.413328  20.284814"
            ]
          },
          "metadata": {
            "tags": []
          },
          "execution_count": 79
        }
      ]
    },
    {
      "cell_type": "code",
      "metadata": {
        "id": "G0sHC1vX-VlF"
      },
      "source": [
        ""
      ],
      "execution_count": null,
      "outputs": []
    },
    {
      "cell_type": "code",
      "metadata": {
        "id": "h7eTGSWQxwt2"
      },
      "source": [
        "import plotly.express as px\n",
        "import plotly.graph_objects as go"
      ],
      "execution_count": null,
      "outputs": []
    },
    {
      "cell_type": "code",
      "metadata": {
        "colab": {
          "base_uri": "https://localhost:8080/",
          "height": 542
        },
        "id": "BZf_CCGV0MUr",
        "outputId": "08079b88-248c-47ba-c862-004254a38e00"
      },
      "source": [
        "fig = go.Figure()\n",
        "go.Scatter()\n",
        "# Create and style traces\n",
        "fig.add_trace(go.Scatter(x=price_by_day[\"time\"], y=price_by_day[\"true\"], name='true',\n",
        "                         line=dict(color='firebrick', width=3)))\n",
        "fig.add_trace(go.Scatter(x=price_by_day[\"time\"], y=price_by_day[\"pred\"], name='pred',\n",
        "                         line=dict(color='royalblue', width=3)))\n",
        "# Edit the layout\n",
        "fig.update_layout(title='Daily prices of taxi rides in NYC',\n",
        "                   xaxis_title='Day',\n",
        "                   yaxis_title='Ride price, $')\n",
        "\n",
        "fig.show()"
      ],
      "execution_count": null,
      "outputs": [
        {
          "output_type": "display_data",
          "data": {
            "text/html": [
              "<html>\n",
              "<head><meta charset=\"utf-8\" /></head>\n",
              "<body>\n",
              "    <div>\n",
              "            <script src=\"https://cdnjs.cloudflare.com/ajax/libs/mathjax/2.7.5/MathJax.js?config=TeX-AMS-MML_SVG\"></script><script type=\"text/javascript\">if (window.MathJax) {MathJax.Hub.Config({SVG: {font: \"STIX-Web\"}});}</script>\n",
              "                <script type=\"text/javascript\">window.PlotlyConfig = {MathJaxConfig: 'local'};</script>\n",
              "        <script src=\"https://cdn.plot.ly/plotly-latest.min.js\"></script>    \n",
              "            <div id=\"f6ab479f-88e2-419e-bd87-31a00bc13773\" class=\"plotly-graph-div\" style=\"height:525px; width:100%;\"></div>\n",
              "            <script type=\"text/javascript\">\n",
              "                \n",
              "                    window.PLOTLYENV=window.PLOTLYENV || {};\n",
              "                    \n",
              "                if (document.getElementById(\"f6ab479f-88e2-419e-bd87-31a00bc13773\")) {\n",
              "                    Plotly.newPlot(\n",
              "                        'f6ab479f-88e2-419e-bd87-31a00bc13773',\n",
              "                        [{\"line\": {\"color\": \"firebrick\", \"width\": 3}, \"name\": \"true\", \"type\": \"scatter\", \"x\": [\"2019-12-01T00:00:00\", \"2019-12-02T00:00:00\", \"2019-12-03T00:00:00\", \"2019-12-04T00:00:00\", \"2019-12-05T00:00:00\", \"2019-12-06T00:00:00\", \"2019-12-07T00:00:00\", \"2019-12-08T00:00:00\", \"2019-12-09T00:00:00\", \"2019-12-10T00:00:00\", \"2019-12-11T00:00:00\", \"2019-12-12T00:00:00\", \"2019-12-13T00:00:00\", \"2019-12-14T00:00:00\", \"2019-12-15T00:00:00\", \"2019-12-16T00:00:00\", \"2019-12-17T00:00:00\", \"2019-12-18T00:00:00\", \"2019-12-19T00:00:00\", \"2019-12-20T00:00:00\", \"2019-12-21T00:00:00\", \"2019-12-22T00:00:00\", \"2019-12-23T00:00:00\", \"2019-12-24T00:00:00\", \"2019-12-25T00:00:00\", \"2019-12-26T00:00:00\", \"2019-12-27T00:00:00\", \"2019-12-28T00:00:00\", \"2019-12-29T00:00:00\", \"2019-12-30T00:00:00\", \"2019-12-31T00:00:00\", \"2020-01-01T00:00:00\", \"2020-01-02T00:00:00\", \"2020-01-03T00:00:00\", \"2020-01-04T00:00:00\", \"2020-01-05T00:00:00\", \"2020-01-06T00:00:00\", \"2020-01-07T00:00:00\", \"2020-01-08T00:00:00\", \"2020-01-09T00:00:00\", \"2020-01-10T00:00:00\", \"2020-01-11T00:00:00\", \"2020-01-12T00:00:00\", \"2020-01-13T00:00:00\", \"2020-01-14T00:00:00\", \"2020-01-15T00:00:00\", \"2020-01-16T00:00:00\", \"2020-01-17T00:00:00\", \"2020-01-18T00:00:00\", \"2020-01-19T00:00:00\", \"2020-01-20T00:00:00\", \"2020-01-21T00:00:00\", \"2020-01-22T00:00:00\", \"2020-01-23T00:00:00\", \"2020-01-24T00:00:00\", \"2020-01-25T00:00:00\", \"2020-01-26T00:00:00\", \"2020-01-27T00:00:00\", \"2020-01-28T00:00:00\", \"2020-01-29T00:00:00\", \"2020-01-30T00:00:00\", \"2020-01-31T00:00:00\"], \"y\": [19.60572967308413, 19.80351906316715, 19.897357425923047, 20.228027971409244, 20.413327638799146, 19.842906554295173, 18.46309554728573, 19.562394986844627, 20.515417520148837, 20.24340192927711, 19.68579578289016, 20.845019847386844, 20.419110840072047, 18.64383830027793, 19.283942258865167, 19.26088326903114, 18.908424973861536, 19.385690642614225, 19.440981254446662, 19.256900521051605, 17.99896182238383, 18.81363087308852, 18.890399427875604, 16.93369363588171, 18.67374581975727, 19.280125761563703, 19.307202954696418, 19.153047258845024, 19.366223656004095, 18.77788993460274, 17.871109855766676, 19.511950067454602, 19.169699287908365, 18.236129871589192, 17.74418589727276, 18.76710864310649, 18.627141609252753, 17.986715081022595, 17.93868116749647, 18.37796691883553, 18.6220045086359, 17.82213948157833, 18.636292745338046, 18.93213585976964, 18.520406440806656, 18.647177061340095, 18.604206217287004, 18.532898719256554, 17.163889911946764, 17.847583534893072, 18.829637573858577, 18.55587991128035, 18.367439330871807, 18.717125698984287, 18.563432116519515, 17.00239068718948, 18.491914484036037, 18.670118215281818, 18.11638724880403, 18.425872204503325, 18.786894913854574, 18.760265825573338]}, {\"line\": {\"color\": \"royalblue\", \"width\": 3}, \"name\": \"pred\", \"type\": \"scatter\", \"x\": [\"2019-12-01T00:00:00\", \"2019-12-02T00:00:00\", \"2019-12-03T00:00:00\", \"2019-12-04T00:00:00\", \"2019-12-05T00:00:00\", \"2019-12-06T00:00:00\", \"2019-12-07T00:00:00\", \"2019-12-08T00:00:00\", \"2019-12-09T00:00:00\", \"2019-12-10T00:00:00\", \"2019-12-11T00:00:00\", \"2019-12-12T00:00:00\", \"2019-12-13T00:00:00\", \"2019-12-14T00:00:00\", \"2019-12-15T00:00:00\", \"2019-12-16T00:00:00\", \"2019-12-17T00:00:00\", \"2019-12-18T00:00:00\", \"2019-12-19T00:00:00\", \"2019-12-20T00:00:00\", \"2019-12-21T00:00:00\", \"2019-12-22T00:00:00\", \"2019-12-23T00:00:00\", \"2019-12-24T00:00:00\", \"2019-12-25T00:00:00\", \"2019-12-26T00:00:00\", \"2019-12-27T00:00:00\", \"2019-12-28T00:00:00\", \"2019-12-29T00:00:00\", \"2019-12-30T00:00:00\", \"2019-12-31T00:00:00\", \"2020-01-01T00:00:00\", \"2020-01-02T00:00:00\", \"2020-01-03T00:00:00\", \"2020-01-04T00:00:00\", \"2020-01-05T00:00:00\", \"2020-01-06T00:00:00\", \"2020-01-07T00:00:00\", \"2020-01-08T00:00:00\", \"2020-01-09T00:00:00\", \"2020-01-10T00:00:00\", \"2020-01-11T00:00:00\", \"2020-01-12T00:00:00\", \"2020-01-13T00:00:00\", \"2020-01-14T00:00:00\", \"2020-01-15T00:00:00\", \"2020-01-16T00:00:00\", \"2020-01-17T00:00:00\", \"2020-01-18T00:00:00\", \"2020-01-19T00:00:00\", \"2020-01-20T00:00:00\", \"2020-01-21T00:00:00\", \"2020-01-22T00:00:00\", \"2020-01-23T00:00:00\", \"2020-01-24T00:00:00\", \"2020-01-25T00:00:00\", \"2020-01-26T00:00:00\", \"2020-01-27T00:00:00\", \"2020-01-28T00:00:00\", \"2020-01-29T00:00:00\", \"2020-01-30T00:00:00\", \"2020-01-31T00:00:00\"], \"y\": [19.87610781226763, 19.771915721460353, 19.798686866265108, 20.12509252685679, 20.284814227491797, 19.7445674604039, 18.646681924295926, 19.70008640861841, 20.439724940036157, 20.1003221623636, 19.548027841488445, 20.69634956732919, 20.365709914901704, 18.897688810534966, 19.469294962902204, 19.195074687927757, 18.89169445221918, 19.33643799903573, 19.388789537884215, 19.23152576383702, 18.202453537335213, 18.975937072123656, 18.83178708270374, 16.886259073863343, 18.671852298648737, 19.139529919032533, 19.214463820516624, 19.315028327408942, 19.60144852909464, 18.798961782678727, 17.788736057235703, 19.503208559251945, 19.10398293674459, 18.20458787693901, 17.943685104669182, 18.97336971247593, 18.58445276326011, 17.930099092415322, 17.872797991237817, 18.301062431635472, 18.562793743769397, 18.02302173762809, 18.815102898286547, 18.843474364185838, 18.423701097333204, 18.551826807061843, 18.538729362090194, 18.479077365817155, 17.426325460322804, 18.026554076084654, 18.987861383896966, 18.474648906866527, 18.269240659024604, 18.6168930281604, 18.50972487889612, 17.2342799684891, 18.723798954020904, 18.593558304113323, 17.996461045943217, 18.33135860033209, 18.69358528505532, 18.714312505277547]}],\n",
              "                        {\"template\": {\"data\": {\"bar\": [{\"error_x\": {\"color\": \"#2a3f5f\"}, \"error_y\": {\"color\": \"#2a3f5f\"}, \"marker\": {\"line\": {\"color\": \"#E5ECF6\", \"width\": 0.5}}, \"type\": \"bar\"}], \"barpolar\": [{\"marker\": {\"line\": {\"color\": \"#E5ECF6\", \"width\": 0.5}}, \"type\": \"barpolar\"}], \"carpet\": [{\"aaxis\": {\"endlinecolor\": \"#2a3f5f\", \"gridcolor\": \"white\", \"linecolor\": \"white\", \"minorgridcolor\": \"white\", \"startlinecolor\": \"#2a3f5f\"}, \"baxis\": {\"endlinecolor\": \"#2a3f5f\", \"gridcolor\": \"white\", \"linecolor\": \"white\", \"minorgridcolor\": \"white\", \"startlinecolor\": \"#2a3f5f\"}, \"type\": \"carpet\"}], \"choropleth\": [{\"colorbar\": {\"outlinewidth\": 0, \"ticks\": \"\"}, \"type\": \"choropleth\"}], \"contour\": [{\"colorbar\": {\"outlinewidth\": 0, \"ticks\": \"\"}, \"colorscale\": [[0.0, \"#0d0887\"], [0.1111111111111111, \"#46039f\"], [0.2222222222222222, \"#7201a8\"], [0.3333333333333333, \"#9c179e\"], [0.4444444444444444, \"#bd3786\"], [0.5555555555555556, \"#d8576b\"], [0.6666666666666666, \"#ed7953\"], [0.7777777777777778, \"#fb9f3a\"], [0.8888888888888888, \"#fdca26\"], [1.0, \"#f0f921\"]], \"type\": \"contour\"}], \"contourcarpet\": [{\"colorbar\": {\"outlinewidth\": 0, \"ticks\": \"\"}, \"type\": \"contourcarpet\"}], \"heatmap\": [{\"colorbar\": {\"outlinewidth\": 0, \"ticks\": \"\"}, \"colorscale\": [[0.0, \"#0d0887\"], [0.1111111111111111, \"#46039f\"], [0.2222222222222222, \"#7201a8\"], [0.3333333333333333, \"#9c179e\"], [0.4444444444444444, \"#bd3786\"], [0.5555555555555556, \"#d8576b\"], [0.6666666666666666, \"#ed7953\"], [0.7777777777777778, \"#fb9f3a\"], [0.8888888888888888, \"#fdca26\"], [1.0, \"#f0f921\"]], \"type\": \"heatmap\"}], \"heatmapgl\": [{\"colorbar\": {\"outlinewidth\": 0, \"ticks\": \"\"}, \"colorscale\": [[0.0, \"#0d0887\"], [0.1111111111111111, \"#46039f\"], [0.2222222222222222, \"#7201a8\"], [0.3333333333333333, \"#9c179e\"], [0.4444444444444444, \"#bd3786\"], [0.5555555555555556, \"#d8576b\"], [0.6666666666666666, \"#ed7953\"], [0.7777777777777778, \"#fb9f3a\"], [0.8888888888888888, \"#fdca26\"], [1.0, \"#f0f921\"]], \"type\": \"heatmapgl\"}], \"histogram\": [{\"marker\": {\"colorbar\": {\"outlinewidth\": 0, \"ticks\": \"\"}}, \"type\": \"histogram\"}], \"histogram2d\": [{\"colorbar\": {\"outlinewidth\": 0, \"ticks\": \"\"}, \"colorscale\": [[0.0, \"#0d0887\"], [0.1111111111111111, \"#46039f\"], [0.2222222222222222, \"#7201a8\"], [0.3333333333333333, \"#9c179e\"], [0.4444444444444444, \"#bd3786\"], [0.5555555555555556, \"#d8576b\"], [0.6666666666666666, \"#ed7953\"], [0.7777777777777778, \"#fb9f3a\"], [0.8888888888888888, \"#fdca26\"], [1.0, \"#f0f921\"]], \"type\": \"histogram2d\"}], \"histogram2dcontour\": [{\"colorbar\": {\"outlinewidth\": 0, \"ticks\": \"\"}, \"colorscale\": [[0.0, \"#0d0887\"], [0.1111111111111111, \"#46039f\"], [0.2222222222222222, \"#7201a8\"], [0.3333333333333333, \"#9c179e\"], [0.4444444444444444, \"#bd3786\"], [0.5555555555555556, \"#d8576b\"], [0.6666666666666666, \"#ed7953\"], [0.7777777777777778, \"#fb9f3a\"], [0.8888888888888888, \"#fdca26\"], [1.0, \"#f0f921\"]], \"type\": \"histogram2dcontour\"}], \"mesh3d\": [{\"colorbar\": {\"outlinewidth\": 0, \"ticks\": \"\"}, \"type\": \"mesh3d\"}], \"parcoords\": [{\"line\": {\"colorbar\": {\"outlinewidth\": 0, \"ticks\": \"\"}}, \"type\": \"parcoords\"}], \"pie\": [{\"automargin\": true, \"type\": \"pie\"}], \"scatter\": [{\"marker\": {\"colorbar\": {\"outlinewidth\": 0, \"ticks\": \"\"}}, \"type\": \"scatter\"}], \"scatter3d\": [{\"line\": {\"colorbar\": {\"outlinewidth\": 0, \"ticks\": \"\"}}, \"marker\": {\"colorbar\": {\"outlinewidth\": 0, \"ticks\": \"\"}}, \"type\": \"scatter3d\"}], \"scattercarpet\": [{\"marker\": {\"colorbar\": {\"outlinewidth\": 0, \"ticks\": \"\"}}, \"type\": \"scattercarpet\"}], \"scattergeo\": [{\"marker\": {\"colorbar\": {\"outlinewidth\": 0, \"ticks\": \"\"}}, \"type\": \"scattergeo\"}], \"scattergl\": [{\"marker\": {\"colorbar\": {\"outlinewidth\": 0, \"ticks\": \"\"}}, \"type\": \"scattergl\"}], \"scattermapbox\": [{\"marker\": {\"colorbar\": {\"outlinewidth\": 0, \"ticks\": \"\"}}, \"type\": \"scattermapbox\"}], \"scatterpolar\": [{\"marker\": {\"colorbar\": {\"outlinewidth\": 0, \"ticks\": \"\"}}, \"type\": \"scatterpolar\"}], \"scatterpolargl\": [{\"marker\": {\"colorbar\": {\"outlinewidth\": 0, \"ticks\": \"\"}}, \"type\": \"scatterpolargl\"}], \"scatterternary\": [{\"marker\": {\"colorbar\": {\"outlinewidth\": 0, \"ticks\": \"\"}}, \"type\": \"scatterternary\"}], \"surface\": [{\"colorbar\": {\"outlinewidth\": 0, \"ticks\": \"\"}, \"colorscale\": [[0.0, \"#0d0887\"], [0.1111111111111111, \"#46039f\"], [0.2222222222222222, \"#7201a8\"], [0.3333333333333333, \"#9c179e\"], [0.4444444444444444, \"#bd3786\"], [0.5555555555555556, \"#d8576b\"], [0.6666666666666666, \"#ed7953\"], [0.7777777777777778, \"#fb9f3a\"], [0.8888888888888888, \"#fdca26\"], [1.0, \"#f0f921\"]], \"type\": \"surface\"}], \"table\": [{\"cells\": {\"fill\": {\"color\": \"#EBF0F8\"}, \"line\": {\"color\": \"white\"}}, \"header\": {\"fill\": {\"color\": \"#C8D4E3\"}, \"line\": {\"color\": \"white\"}}, \"type\": \"table\"}]}, \"layout\": {\"annotationdefaults\": {\"arrowcolor\": \"#2a3f5f\", \"arrowhead\": 0, \"arrowwidth\": 1}, \"coloraxis\": {\"colorbar\": {\"outlinewidth\": 0, \"ticks\": \"\"}}, \"colorscale\": {\"diverging\": [[0, \"#8e0152\"], [0.1, \"#c51b7d\"], [0.2, \"#de77ae\"], [0.3, \"#f1b6da\"], [0.4, \"#fde0ef\"], [0.5, \"#f7f7f7\"], [0.6, \"#e6f5d0\"], [0.7, \"#b8e186\"], [0.8, \"#7fbc41\"], [0.9, \"#4d9221\"], [1, \"#276419\"]], \"sequential\": [[0.0, \"#0d0887\"], [0.1111111111111111, \"#46039f\"], [0.2222222222222222, \"#7201a8\"], [0.3333333333333333, \"#9c179e\"], [0.4444444444444444, \"#bd3786\"], [0.5555555555555556, \"#d8576b\"], [0.6666666666666666, \"#ed7953\"], [0.7777777777777778, \"#fb9f3a\"], [0.8888888888888888, \"#fdca26\"], [1.0, \"#f0f921\"]], \"sequentialminus\": [[0.0, \"#0d0887\"], [0.1111111111111111, \"#46039f\"], [0.2222222222222222, \"#7201a8\"], [0.3333333333333333, \"#9c179e\"], [0.4444444444444444, \"#bd3786\"], [0.5555555555555556, \"#d8576b\"], [0.6666666666666666, \"#ed7953\"], [0.7777777777777778, \"#fb9f3a\"], [0.8888888888888888, \"#fdca26\"], [1.0, \"#f0f921\"]]}, \"colorway\": [\"#636efa\", \"#EF553B\", \"#00cc96\", \"#ab63fa\", \"#FFA15A\", \"#19d3f3\", \"#FF6692\", \"#B6E880\", \"#FF97FF\", \"#FECB52\"], \"font\": {\"color\": \"#2a3f5f\"}, \"geo\": {\"bgcolor\": \"white\", \"lakecolor\": \"white\", \"landcolor\": \"#E5ECF6\", \"showlakes\": true, \"showland\": true, \"subunitcolor\": \"white\"}, \"hoverlabel\": {\"align\": \"left\"}, \"hovermode\": \"closest\", \"mapbox\": {\"style\": \"light\"}, \"paper_bgcolor\": \"white\", \"plot_bgcolor\": \"#E5ECF6\", \"polar\": {\"angularaxis\": {\"gridcolor\": \"white\", \"linecolor\": \"white\", \"ticks\": \"\"}, \"bgcolor\": \"#E5ECF6\", \"radialaxis\": {\"gridcolor\": \"white\", \"linecolor\": \"white\", \"ticks\": \"\"}}, \"scene\": {\"xaxis\": {\"backgroundcolor\": \"#E5ECF6\", \"gridcolor\": \"white\", \"gridwidth\": 2, \"linecolor\": \"white\", \"showbackground\": true, \"ticks\": \"\", \"zerolinecolor\": \"white\"}, \"yaxis\": {\"backgroundcolor\": \"#E5ECF6\", \"gridcolor\": \"white\", \"gridwidth\": 2, \"linecolor\": \"white\", \"showbackground\": true, \"ticks\": \"\", \"zerolinecolor\": \"white\"}, \"zaxis\": {\"backgroundcolor\": \"#E5ECF6\", \"gridcolor\": \"white\", \"gridwidth\": 2, \"linecolor\": \"white\", \"showbackground\": true, \"ticks\": \"\", \"zerolinecolor\": \"white\"}}, \"shapedefaults\": {\"line\": {\"color\": \"#2a3f5f\"}}, \"ternary\": {\"aaxis\": {\"gridcolor\": \"white\", \"linecolor\": \"white\", \"ticks\": \"\"}, \"baxis\": {\"gridcolor\": \"white\", \"linecolor\": \"white\", \"ticks\": \"\"}, \"bgcolor\": \"#E5ECF6\", \"caxis\": {\"gridcolor\": \"white\", \"linecolor\": \"white\", \"ticks\": \"\"}}, \"title\": {\"x\": 0.05}, \"xaxis\": {\"automargin\": true, \"gridcolor\": \"white\", \"linecolor\": \"white\", \"ticks\": \"\", \"title\": {\"standoff\": 15}, \"zerolinecolor\": \"white\", \"zerolinewidth\": 2}, \"yaxis\": {\"automargin\": true, \"gridcolor\": \"white\", \"linecolor\": \"white\", \"ticks\": \"\", \"title\": {\"standoff\": 15}, \"zerolinecolor\": \"white\", \"zerolinewidth\": 2}}}, \"title\": {\"text\": \"Daily prices of taxi rides in NYC\"}, \"xaxis\": {\"title\": {\"text\": \"Day\"}}, \"yaxis\": {\"title\": {\"text\": \"Ride price, $\"}}},\n",
              "                        {\"responsive\": true}\n",
              "                    ).then(function(){\n",
              "                            \n",
              "var gd = document.getElementById('f6ab479f-88e2-419e-bd87-31a00bc13773');\n",
              "var x = new MutationObserver(function (mutations, observer) {{\n",
              "        var display = window.getComputedStyle(gd).display;\n",
              "        if (!display || display === 'none') {{\n",
              "            console.log([gd, 'removed!']);\n",
              "            Plotly.purge(gd);\n",
              "            observer.disconnect();\n",
              "        }}\n",
              "}});\n",
              "\n",
              "// Listen for the removal of the full notebook cells\n",
              "var notebookContainer = gd.closest('#notebook-container');\n",
              "if (notebookContainer) {{\n",
              "    x.observe(notebookContainer, {childList: true});\n",
              "}}\n",
              "\n",
              "// Listen for the clearing of the current output cell\n",
              "var outputEl = gd.closest('.output');\n",
              "if (outputEl) {{\n",
              "    x.observe(outputEl, {childList: true});\n",
              "}}\n",
              "\n",
              "                        })\n",
              "                };\n",
              "                \n",
              "            </script>\n",
              "        </div>\n",
              "</body>\n",
              "</html>"
            ]
          },
          "metadata": {
            "tags": []
          }
        }
      ]
    },
    {
      "cell_type": "markdown",
      "metadata": {
        "id": "h9Zx3ywf6IO9"
      },
      "source": [
        "Как видим, разница между предсказанными и истинными значениями минимальна."
      ]
    },
    {
      "cell_type": "markdown",
      "metadata": {
        "id": "jzF6AbEj6RpX"
      },
      "source": [
        "Проведём декомпозицию"
      ]
    },
    {
      "cell_type": "code",
      "metadata": {
        "colab": {
          "base_uri": "https://localhost:8080/",
          "height": 441
        },
        "id": "DKHyfcjh3umr",
        "outputId": "ad351fbe-39a2-40d2-dd46-559ad55c86b6"
      },
      "source": [
        "import pylab\n",
        "import statsmodels.api as sm\n",
        "seas = sm.tsa.seasonal_decompose(price_by_day[\"true\"].values, freq=7)\n",
        "pylab.rcParams['figure.figsize'] = (11, 6)\n",
        "seas.plot()\n",
        "plt.show()"
      ],
      "execution_count": null,
      "outputs": [
        {
          "output_type": "display_data",
          "data": {
            "image/png": "[encoded data removed]",
            "text/plain": [
              "<Figure size 792x432 with 4 Axes>"
            ]
          },
          "metadata": {
            "tags": [],
            "needs_background": "light"
          }
        }
      ]
    },
    {
      "cell_type": "markdown",
      "metadata": {
        "id": "X6kmozaR4THk"
      },
      "source": [
        "Посмотрим подробнее на сезонность"
      ]
    },
    {
      "cell_type": "code",
      "metadata": {
        "colab": {
          "base_uri": "https://localhost:8080/",
          "height": 436
        },
        "id": "wdCy4brb4V5g",
        "outputId": "05ba0afa-f45e-4dae-95eb-49f1094b45c8"
      },
      "source": [
        "import matplotlib.dates as mdates\n",
        "plt.figure(figsize=(20,6))\n",
        "ax =sns.lineplot(x=price_by_day.time, y = seas.seasonal)\n",
        "# plt.xaxis.set_major_locator(mdates.MinuteLocator(interval=15))\n",
        "plt.xticks(rotation=90)\n",
        "ax.xaxis.set_major_locator(mdates.DayLocator(interval=2))\n",
        "plt.show()"
      ],
      "execution_count": null,
      "outputs": [
        {
          "output_type": "display_data",
          "data": {
            "image/png": "[encoded data removed]",
            "text/plain": [
              "<Figure size 1440x432 with 1 Axes>"
            ]
          },
          "metadata": {
            "tags": [],
            "needs_background": "light"
          }
        }
      ]
    },
    {
      "cell_type": "code",
      "metadata": {
        "colab": {
          "base_uri": "https://localhost:8080/",
          "height": 117
        },
        "id": "NaCaHpzE8MpH",
        "outputId": "1354b424-37bd-438a-914b-d86414189b28"
      },
      "source": [
        "pd.DataFrame({'date':  price_by_day[\"time\"].dt.date,\n",
        "    'day_name':price_by_day[\"time\"].dt.day_name()}).set_index('date').T"
      ],
      "execution_count": null,
      "outputs": [
        {
          "output_type": "execute_result",
          "data": {
            "text/html": [
              "<div>\n",
              "<style scoped>\n",
              "    .dataframe tbody tr th:only-of-type {\n",
              "        vertical-align: middle;\n",
              "    }\n",
              "\n",
              "    .dataframe tbody tr th {\n",
              "        vertical-align: top;\n",
              "    }\n",
              "\n",
              "    .dataframe thead th {\n",
              "        text-align: right;\n",
              "    }\n",
              "</style>\n",
              "<table border=\"1\" class=\"dataframe\">\n",
              "  <thead>\n",
              "    <tr style=\"text-align: right;\">\n",
              "      <th>date</th>\n",
              "      <th>2019-12-01</th>\n",
              "      <th>2019-12-02</th>\n",
              "      <th>2019-12-03</th>\n",
              "      <th>2019-12-04</th>\n",
              "      <th>2019-12-05</th>\n",
              "      <th>2019-12-06</th>\n",
              "      <th>2019-12-07</th>\n",
              "      <th>2019-12-08</th>\n",
              "      <th>2019-12-09</th>\n",
              "      <th>2019-12-10</th>\n",
              "      <th>2019-12-11</th>\n",
              "      <th>2019-12-12</th>\n",
              "      <th>2019-12-13</th>\n",
              "      <th>2019-12-14</th>\n",
              "      <th>2019-12-15</th>\n",
              "      <th>2019-12-16</th>\n",
              "      <th>2019-12-17</th>\n",
              "      <th>2019-12-18</th>\n",
              "      <th>2019-12-19</th>\n",
              "      <th>2019-12-20</th>\n",
              "      <th>2019-12-21</th>\n",
              "      <th>2019-12-22</th>\n",
              "      <th>2019-12-23</th>\n",
              "      <th>2019-12-24</th>\n",
              "      <th>2019-12-25</th>\n",
              "      <th>2019-12-26</th>\n",
              "      <th>2019-12-27</th>\n",
              "      <th>2019-12-28</th>\n",
              "      <th>2019-12-29</th>\n",
              "      <th>2019-12-30</th>\n",
              "      <th>2019-12-31</th>\n",
              "      <th>2020-01-01</th>\n",
              "      <th>2020-01-02</th>\n",
              "      <th>2020-01-03</th>\n",
              "      <th>2020-01-04</th>\n",
              "      <th>2020-01-05</th>\n",
              "      <th>2020-01-06</th>\n",
              "      <th>2020-01-07</th>\n",
              "      <th>2020-01-08</th>\n",
              "      <th>2020-01-09</th>\n",
              "      <th>2020-01-10</th>\n",
              "      <th>2020-01-11</th>\n",
              "      <th>2020-01-12</th>\n",
              "      <th>2020-01-13</th>\n",
              "      <th>2020-01-14</th>\n",
              "      <th>2020-01-15</th>\n",
              "      <th>2020-01-16</th>\n",
              "      <th>2020-01-17</th>\n",
              "      <th>2020-01-18</th>\n",
              "      <th>2020-01-19</th>\n",
              "      <th>2020-01-20</th>\n",
              "      <th>2020-01-21</th>\n",
              "      <th>2020-01-22</th>\n",
              "      <th>2020-01-23</th>\n",
              "      <th>2020-01-24</th>\n",
              "      <th>2020-01-25</th>\n",
              "      <th>2020-01-26</th>\n",
              "      <th>2020-01-27</th>\n",
              "      <th>2020-01-28</th>\n",
              "      <th>2020-01-29</th>\n",
              "      <th>2020-01-30</th>\n",
              "      <th>2020-01-31</th>\n",
              "    </tr>\n",
              "  </thead>\n",
              "  <tbody>\n",
              "    <tr>\n",
              "      <th>day_name</th>\n",
              "      <td>Sunday</td>\n",
              "      <td>Monday</td>\n",
              "      <td>Tuesday</td>\n",
              "      <td>Wednesday</td>\n",
              "      <td>Thursday</td>\n",
              "      <td>Friday</td>\n",
              "      <td>Saturday</td>\n",
              "      <td>Sunday</td>\n",
              "      <td>Monday</td>\n",
              "      <td>Tuesday</td>\n",
              "      <td>Wednesday</td>\n",
              "      <td>Thursday</td>\n",
              "      <td>Friday</td>\n",
              "      <td>Saturday</td>\n",
              "      <td>Sunday</td>\n",
              "      <td>Monday</td>\n",
              "      <td>Tuesday</td>\n",
              "      <td>Wednesday</td>\n",
              "      <td>Thursday</td>\n",
              "      <td>Friday</td>\n",
              "      <td>Saturday</td>\n",
              "      <td>Sunday</td>\n",
              "      <td>Monday</td>\n",
              "      <td>Tuesday</td>\n",
              "      <td>Wednesday</td>\n",
              "      <td>Thursday</td>\n",
              "      <td>Friday</td>\n",
              "      <td>Saturday</td>\n",
              "      <td>Sunday</td>\n",
              "      <td>Monday</td>\n",
              "      <td>Tuesday</td>\n",
              "      <td>Wednesday</td>\n",
              "      <td>Thursday</td>\n",
              "      <td>Friday</td>\n",
              "      <td>Saturday</td>\n",
              "      <td>Sunday</td>\n",
              "      <td>Monday</td>\n",
              "      <td>Tuesday</td>\n",
              "      <td>Wednesday</td>\n",
              "      <td>Thursday</td>\n",
              "      <td>Friday</td>\n",
              "      <td>Saturday</td>\n",
              "      <td>Sunday</td>\n",
              "      <td>Monday</td>\n",
              "      <td>Tuesday</td>\n",
              "      <td>Wednesday</td>\n",
              "      <td>Thursday</td>\n",
              "      <td>Friday</td>\n",
              "      <td>Saturday</td>\n",
              "      <td>Sunday</td>\n",
              "      <td>Monday</td>\n",
              "      <td>Tuesday</td>\n",
              "      <td>Wednesday</td>\n",
              "      <td>Thursday</td>\n",
              "      <td>Friday</td>\n",
              "      <td>Saturday</td>\n",
              "      <td>Sunday</td>\n",
              "      <td>Monday</td>\n",
              "      <td>Tuesday</td>\n",
              "      <td>Wednesday</td>\n",
              "      <td>Thursday</td>\n",
              "      <td>Friday</td>\n",
              "    </tr>\n",
              "  </tbody>\n",
              "</table>\n",
              "</div>"
            ],
            "text/plain": [
              "date     2019-12-01 2019-12-02 2019-12-03  ... 2020-01-29 2020-01-30 2020-01-31\n",
              "day_name     Sunday     Monday    Tuesday  ...  Wednesday   Thursday     Friday\n",
              "\n",
              "[1 rows x 62 columns]"
            ]
          },
          "metadata": {
            "tags": []
          },
          "execution_count": 151
        }
      ]
    },
    {
      "cell_type": "markdown",
      "metadata": {
        "id": "ApVjL7bu77th"
      },
      "source": [
        "Судя по графику сезонности, наименьшая цена наблюдается по вторникам и субботам.  \n",
        "Можно предположить, что именно в эти дни каждую неделю проводятся скидки."
      ]
    },
    {
      "cell_type": "markdown",
      "metadata": {
        "id": "6mxZJKdA9z5A"
      },
      "source": [
        "Более подробно посмотрим на данные"
      ]
    },
    {
      "cell_type": "code",
      "metadata": {
        "id": "bG30rwx0E1cR"
      },
      "source": [
        "price_by_day['week_name'] = price_by_day[\"time\"].dt.day_name()"
      ],
      "execution_count": null,
      "outputs": []
    },
    {
      "cell_type": "code",
      "metadata": {
        "id": "fKVBBikKFHk0"
      },
      "source": [
        "price_by_day"
      ],
      "execution_count": null,
      "outputs": []
    },
    {
      "cell_type": "code",
      "metadata": {
        "colab": {
          "base_uri": "https://localhost:8080/",
          "height": 542
        },
        "id": "_RM-GkH2FoMA",
        "outputId": "a6cec2cf-6074-4582-c6c5-03fba5666de9"
      },
      "source": [
        "px.line(price_by_day, x='time', y='true', title='Daily prices of taxi rides in NYC', hover_data=['week_name'], lin)"
      ],
      "execution_count": null,
      "outputs": [
        {
          "output_type": "display_data",
          "data": {
            "text/html": [
              "<html>\n",
              "<head><meta charset=\"utf-8\" /></head>\n",
              "<body>\n",
              "    <div>\n",
              "            <script src=\"https://cdnjs.cloudflare.com/ajax/libs/mathjax/2.7.5/MathJax.js?config=TeX-AMS-MML_SVG\"></script><script type=\"text/javascript\">if (window.MathJax) {MathJax.Hub.Config({SVG: {font: \"STIX-Web\"}});}</script>\n",
              "                <script type=\"text/javascript\">window.PlotlyConfig = {MathJaxConfig: 'local'};</script>\n",
              "        <script src=\"https://cdn.plot.ly/plotly-latest.min.js\"></script>    \n",
              "            <div id=\"ba4c9d53-7227-447d-8794-45c1a8114f1c\" class=\"plotly-graph-div\" style=\"height:525px; width:100%;\"></div>\n",
              "            <script type=\"text/javascript\">\n",
              "                \n",
              "                    window.PLOTLYENV=window.PLOTLYENV || {};\n",
              "                    \n",
              "                if (document.getElementById(\"ba4c9d53-7227-447d-8794-45c1a8114f1c\")) {\n",
              "                    Plotly.newPlot(\n",
              "                        'ba4c9d53-7227-447d-8794-45c1a8114f1c',\n",
              "                        [{\"customdata\": [[\"Sunday\"], [\"Monday\"], [\"Tuesday\"], [\"Wednesday\"], [\"Thursday\"], [\"Friday\"], [\"Saturday\"], [\"Sunday\"], [\"Monday\"], [\"Tuesday\"], [\"Wednesday\"], [\"Thursday\"], [\"Friday\"], [\"Saturday\"], [\"Sunday\"], [\"Monday\"], [\"Tuesday\"], [\"Wednesday\"], [\"Thursday\"], [\"Friday\"], [\"Saturday\"], [\"Sunday\"], [\"Monday\"], [\"Tuesday\"], [\"Wednesday\"], [\"Thursday\"], [\"Friday\"], [\"Saturday\"], [\"Sunday\"], [\"Monday\"], [\"Tuesday\"], [\"Wednesday\"], [\"Thursday\"], [\"Friday\"], [\"Saturday\"], [\"Sunday\"], [\"Monday\"], [\"Tuesday\"], [\"Wednesday\"], [\"Thursday\"], [\"Friday\"], [\"Saturday\"], [\"Sunday\"], [\"Monday\"], [\"Tuesday\"], [\"Wednesday\"], [\"Thursday\"], [\"Friday\"], [\"Saturday\"], [\"Sunday\"], [\"Monday\"], [\"Tuesday\"], [\"Wednesday\"], [\"Thursday\"], [\"Friday\"], [\"Saturday\"], [\"Sunday\"], [\"Monday\"], [\"Tuesday\"], [\"Wednesday\"], [\"Thursday\"], [\"Friday\"]], \"hoverlabel\": {\"namelength\": 0}, \"hovertemplate\": \"time=%{x}<br>true=%{y}<br>week_name=%{customdata[0]}\", \"legendgroup\": \"\", \"line\": {\"color\": \"#636efa\", \"dash\": \"solid\"}, \"mode\": \"lines\", \"name\": \"\", \"showlegend\": false, \"type\": \"scatter\", \"x\": [\"2019-12-01T00:00:00\", \"2019-12-02T00:00:00\", \"2019-12-03T00:00:00\", \"2019-12-04T00:00:00\", \"2019-12-05T00:00:00\", \"2019-12-06T00:00:00\", \"2019-12-07T00:00:00\", \"2019-12-08T00:00:00\", \"2019-12-09T00:00:00\", \"2019-12-10T00:00:00\", \"2019-12-11T00:00:00\", \"2019-12-12T00:00:00\", \"2019-12-13T00:00:00\", \"2019-12-14T00:00:00\", \"2019-12-15T00:00:00\", \"2019-12-16T00:00:00\", \"2019-12-17T00:00:00\", \"2019-12-18T00:00:00\", \"2019-12-19T00:00:00\", \"2019-12-20T00:00:00\", \"2019-12-21T00:00:00\", \"2019-12-22T00:00:00\", \"2019-12-23T00:00:00\", \"2019-12-24T00:00:00\", \"2019-12-25T00:00:00\", \"2019-12-26T00:00:00\", \"2019-12-27T00:00:00\", \"2019-12-28T00:00:00\", \"2019-12-29T00:00:00\", \"2019-12-30T00:00:00\", \"2019-12-31T00:00:00\", \"2020-01-01T00:00:00\", \"2020-01-02T00:00:00\", \"2020-01-03T00:00:00\", \"2020-01-04T00:00:00\", \"2020-01-05T00:00:00\", \"2020-01-06T00:00:00\", \"2020-01-07T00:00:00\", \"2020-01-08T00:00:00\", \"2020-01-09T00:00:00\", \"2020-01-10T00:00:00\", \"2020-01-11T00:00:00\", \"2020-01-12T00:00:00\", \"2020-01-13T00:00:00\", \"2020-01-14T00:00:00\", \"2020-01-15T00:00:00\", \"2020-01-16T00:00:00\", \"2020-01-17T00:00:00\", \"2020-01-18T00:00:00\", \"2020-01-19T00:00:00\", \"2020-01-20T00:00:00\", \"2020-01-21T00:00:00\", \"2020-01-22T00:00:00\", \"2020-01-23T00:00:00\", \"2020-01-24T00:00:00\", \"2020-01-25T00:00:00\", \"2020-01-26T00:00:00\", \"2020-01-27T00:00:00\", \"2020-01-28T00:00:00\", \"2020-01-29T00:00:00\", \"2020-01-30T00:00:00\", \"2020-01-31T00:00:00\"], \"xaxis\": \"x\", \"y\": [19.60572967308413, 19.80351906316715, 19.897357425923047, 20.228027971409244, 20.413327638799146, 19.842906554295173, 18.46309554728573, 19.562394986844627, 20.515417520148837, 20.24340192927711, 19.68579578289016, 20.845019847386844, 20.419110840072047, 18.64383830027793, 19.283942258865167, 19.26088326903114, 18.908424973861536, 19.385690642614225, 19.440981254446662, 19.256900521051605, 17.99896182238383, 18.81363087308852, 18.890399427875604, 16.93369363588171, 18.67374581975727, 19.280125761563703, 19.307202954696418, 19.153047258845024, 19.366223656004095, 18.77788993460274, 17.871109855766676, 19.511950067454602, 19.169699287908365, 18.236129871589192, 17.74418589727276, 18.76710864310649, 18.627141609252753, 17.986715081022595, 17.93868116749647, 18.37796691883553, 18.6220045086359, 17.82213948157833, 18.636292745338046, 18.93213585976964, 18.520406440806656, 18.647177061340095, 18.604206217287004, 18.532898719256554, 17.163889911946764, 17.847583534893072, 18.829637573858577, 18.55587991128035, 18.367439330871807, 18.717125698984287, 18.563432116519515, 17.00239068718948, 18.491914484036037, 18.670118215281818, 18.11638724880403, 18.425872204503325, 18.786894913854574, 18.760265825573338], \"yaxis\": \"y\"}],\n",
              "                        {\"legend\": {\"tracegroupgap\": 0}, \"template\": {\"data\": {\"bar\": [{\"error_x\": {\"color\": \"#2a3f5f\"}, \"error_y\": {\"color\": \"#2a3f5f\"}, \"marker\": {\"line\": {\"color\": \"#E5ECF6\", \"width\": 0.5}}, \"type\": \"bar\"}], \"barpolar\": [{\"marker\": {\"line\": {\"color\": \"#E5ECF6\", \"width\": 0.5}}, \"type\": \"barpolar\"}], \"carpet\": [{\"aaxis\": {\"endlinecolor\": \"#2a3f5f\", \"gridcolor\": \"white\", \"linecolor\": \"white\", \"minorgridcolor\": \"white\", \"startlinecolor\": \"#2a3f5f\"}, \"baxis\": {\"endlinecolor\": \"#2a3f5f\", \"gridcolor\": \"white\", \"linecolor\": \"white\", \"minorgridcolor\": \"white\", \"startlinecolor\": \"#2a3f5f\"}, \"type\": \"carpet\"}], \"choropleth\": [{\"colorbar\": {\"outlinewidth\": 0, \"ticks\": \"\"}, \"type\": \"choropleth\"}], \"contour\": [{\"colorbar\": {\"outlinewidth\": 0, \"ticks\": \"\"}, \"colorscale\": [[0.0, \"#0d0887\"], [0.1111111111111111, \"#46039f\"], [0.2222222222222222, \"#7201a8\"], [0.3333333333333333, \"#9c179e\"], [0.4444444444444444, \"#bd3786\"], [0.5555555555555556, \"#d8576b\"], [0.6666666666666666, \"#ed7953\"], [0.7777777777777778, \"#fb9f3a\"], [0.8888888888888888, \"#fdca26\"], [1.0, \"#f0f921\"]], \"type\": \"contour\"}], \"contourcarpet\": [{\"colorbar\": {\"outlinewidth\": 0, \"ticks\": \"\"}, \"type\": \"contourcarpet\"}], \"heatmap\": [{\"colorbar\": {\"outlinewidth\": 0, \"ticks\": \"\"}, \"colorscale\": [[0.0, \"#0d0887\"], [0.1111111111111111, \"#46039f\"], [0.2222222222222222, \"#7201a8\"], [0.3333333333333333, \"#9c179e\"], [0.4444444444444444, \"#bd3786\"], [0.5555555555555556, \"#d8576b\"], [0.6666666666666666, \"#ed7953\"], [0.7777777777777778, \"#fb9f3a\"], [0.8888888888888888, \"#fdca26\"], [1.0, \"#f0f921\"]], \"type\": \"heatmap\"}], \"heatmapgl\": [{\"colorbar\": {\"outlinewidth\": 0, \"ticks\": \"\"}, \"colorscale\": [[0.0, \"#0d0887\"], [0.1111111111111111, \"#46039f\"], [0.2222222222222222, \"#7201a8\"], [0.3333333333333333, \"#9c179e\"], [0.4444444444444444, \"#bd3786\"], [0.5555555555555556, \"#d8576b\"], [0.6666666666666666, \"#ed7953\"], [0.7777777777777778, \"#fb9f3a\"], [0.8888888888888888, \"#fdca26\"], [1.0, \"#f0f921\"]], \"type\": \"heatmapgl\"}], \"histogram\": [{\"marker\": {\"colorbar\": {\"outlinewidth\": 0, \"ticks\": \"\"}}, \"type\": \"histogram\"}], \"histogram2d\": [{\"colorbar\": {\"outlinewidth\": 0, \"ticks\": \"\"}, \"colorscale\": [[0.0, \"#0d0887\"], [0.1111111111111111, \"#46039f\"], [0.2222222222222222, \"#7201a8\"], [0.3333333333333333, \"#9c179e\"], [0.4444444444444444, \"#bd3786\"], [0.5555555555555556, \"#d8576b\"], [0.6666666666666666, \"#ed7953\"], [0.7777777777777778, \"#fb9f3a\"], [0.8888888888888888, \"#fdca26\"], [1.0, \"#f0f921\"]], \"type\": \"histogram2d\"}], \"histogram2dcontour\": [{\"colorbar\": {\"outlinewidth\": 0, \"ticks\": \"\"}, \"colorscale\": [[0.0, \"#0d0887\"], [0.1111111111111111, \"#46039f\"], [0.2222222222222222, \"#7201a8\"], [0.3333333333333333, \"#9c179e\"], [0.4444444444444444, \"#bd3786\"], [0.5555555555555556, \"#d8576b\"], [0.6666666666666666, \"#ed7953\"], [0.7777777777777778, \"#fb9f3a\"], [0.8888888888888888, \"#fdca26\"], [1.0, \"#f0f921\"]], \"type\": \"histogram2dcontour\"}], \"mesh3d\": [{\"colorbar\": {\"outlinewidth\": 0, \"ticks\": \"\"}, \"type\": \"mesh3d\"}], \"parcoords\": [{\"line\": {\"colorbar\": {\"outlinewidth\": 0, \"ticks\": \"\"}}, \"type\": \"parcoords\"}], \"pie\": [{\"automargin\": true, \"type\": \"pie\"}], \"scatter\": [{\"marker\": {\"colorbar\": {\"outlinewidth\": 0, \"ticks\": \"\"}}, \"type\": \"scatter\"}], \"scatter3d\": [{\"line\": {\"colorbar\": {\"outlinewidth\": 0, \"ticks\": \"\"}}, \"marker\": {\"colorbar\": {\"outlinewidth\": 0, \"ticks\": \"\"}}, \"type\": \"scatter3d\"}], \"scattercarpet\": [{\"marker\": {\"colorbar\": {\"outlinewidth\": 0, \"ticks\": \"\"}}, \"type\": \"scattercarpet\"}], \"scattergeo\": [{\"marker\": {\"colorbar\": {\"outlinewidth\": 0, \"ticks\": \"\"}}, \"type\": \"scattergeo\"}], \"scattergl\": [{\"marker\": {\"colorbar\": {\"outlinewidth\": 0, \"ticks\": \"\"}}, \"type\": \"scattergl\"}], \"scattermapbox\": [{\"marker\": {\"colorbar\": {\"outlinewidth\": 0, \"ticks\": \"\"}}, \"type\": \"scattermapbox\"}], \"scatterpolar\": [{\"marker\": {\"colorbar\": {\"outlinewidth\": 0, \"ticks\": \"\"}}, \"type\": \"scatterpolar\"}], \"scatterpolargl\": [{\"marker\": {\"colorbar\": {\"outlinewidth\": 0, \"ticks\": \"\"}}, \"type\": \"scatterpolargl\"}], \"scatterternary\": [{\"marker\": {\"colorbar\": {\"outlinewidth\": 0, \"ticks\": \"\"}}, \"type\": \"scatterternary\"}], \"surface\": [{\"colorbar\": {\"outlinewidth\": 0, \"ticks\": \"\"}, \"colorscale\": [[0.0, \"#0d0887\"], [0.1111111111111111, \"#46039f\"], [0.2222222222222222, \"#7201a8\"], [0.3333333333333333, \"#9c179e\"], [0.4444444444444444, \"#bd3786\"], [0.5555555555555556, \"#d8576b\"], [0.6666666666666666, \"#ed7953\"], [0.7777777777777778, \"#fb9f3a\"], [0.8888888888888888, \"#fdca26\"], [1.0, \"#f0f921\"]], \"type\": \"surface\"}], \"table\": [{\"cells\": {\"fill\": {\"color\": \"#EBF0F8\"}, \"line\": {\"color\": \"white\"}}, \"header\": {\"fill\": {\"color\": \"#C8D4E3\"}, \"line\": {\"color\": \"white\"}}, \"type\": \"table\"}]}, \"layout\": {\"annotationdefaults\": {\"arrowcolor\": \"#2a3f5f\", \"arrowhead\": 0, \"arrowwidth\": 1}, \"coloraxis\": {\"colorbar\": {\"outlinewidth\": 0, \"ticks\": \"\"}}, \"colorscale\": {\"diverging\": [[0, \"#8e0152\"], [0.1, \"#c51b7d\"], [0.2, \"#de77ae\"], [0.3, \"#f1b6da\"], [0.4, \"#fde0ef\"], [0.5, \"#f7f7f7\"], [0.6, \"#e6f5d0\"], [0.7, \"#b8e186\"], [0.8, \"#7fbc41\"], [0.9, \"#4d9221\"], [1, \"#276419\"]], \"sequential\": [[0.0, \"#0d0887\"], [0.1111111111111111, \"#46039f\"], [0.2222222222222222, \"#7201a8\"], [0.3333333333333333, \"#9c179e\"], [0.4444444444444444, \"#bd3786\"], [0.5555555555555556, \"#d8576b\"], [0.6666666666666666, \"#ed7953\"], [0.7777777777777778, \"#fb9f3a\"], [0.8888888888888888, \"#fdca26\"], [1.0, \"#f0f921\"]], \"sequentialminus\": [[0.0, \"#0d0887\"], [0.1111111111111111, \"#46039f\"], [0.2222222222222222, \"#7201a8\"], [0.3333333333333333, \"#9c179e\"], [0.4444444444444444, \"#bd3786\"], [0.5555555555555556, \"#d8576b\"], [0.6666666666666666, \"#ed7953\"], [0.7777777777777778, \"#fb9f3a\"], [0.8888888888888888, \"#fdca26\"], [1.0, \"#f0f921\"]]}, \"colorway\": [\"#636efa\", \"#EF553B\", \"#00cc96\", \"#ab63fa\", \"#FFA15A\", \"#19d3f3\", \"#FF6692\", \"#B6E880\", \"#FF97FF\", \"#FECB52\"], \"font\": {\"color\": \"#2a3f5f\"}, \"geo\": {\"bgcolor\": \"white\", \"lakecolor\": \"white\", \"landcolor\": \"#E5ECF6\", \"showlakes\": true, \"showland\": true, \"subunitcolor\": \"white\"}, \"hoverlabel\": {\"align\": \"left\"}, \"hovermode\": \"closest\", \"mapbox\": {\"style\": \"light\"}, \"paper_bgcolor\": \"white\", \"plot_bgcolor\": \"#E5ECF6\", \"polar\": {\"angularaxis\": {\"gridcolor\": \"white\", \"linecolor\": \"white\", \"ticks\": \"\"}, \"bgcolor\": \"#E5ECF6\", \"radialaxis\": {\"gridcolor\": \"white\", \"linecolor\": \"white\", \"ticks\": \"\"}}, \"scene\": {\"xaxis\": {\"backgroundcolor\": \"#E5ECF6\", \"gridcolor\": \"white\", \"gridwidth\": 2, \"linecolor\": \"white\", \"showbackground\": true, \"ticks\": \"\", \"zerolinecolor\": \"white\"}, \"yaxis\": {\"backgroundcolor\": \"#E5ECF6\", \"gridcolor\": \"white\", \"gridwidth\": 2, \"linecolor\": \"white\", \"showbackground\": true, \"ticks\": \"\", \"zerolinecolor\": \"white\"}, \"zaxis\": {\"backgroundcolor\": \"#E5ECF6\", \"gridcolor\": \"white\", \"gridwidth\": 2, \"linecolor\": \"white\", \"showbackground\": true, \"ticks\": \"\", \"zerolinecolor\": \"white\"}}, \"shapedefaults\": {\"line\": {\"color\": \"#2a3f5f\"}}, \"ternary\": {\"aaxis\": {\"gridcolor\": \"white\", \"linecolor\": \"white\", \"ticks\": \"\"}, \"baxis\": {\"gridcolor\": \"white\", \"linecolor\": \"white\", \"ticks\": \"\"}, \"bgcolor\": \"#E5ECF6\", \"caxis\": {\"gridcolor\": \"white\", \"linecolor\": \"white\", \"ticks\": \"\"}}, \"title\": {\"x\": 0.05}, \"xaxis\": {\"automargin\": true, \"gridcolor\": \"white\", \"linecolor\": \"white\", \"ticks\": \"\", \"title\": {\"standoff\": 15}, \"zerolinecolor\": \"white\", \"zerolinewidth\": 2}, \"yaxis\": {\"automargin\": true, \"gridcolor\": \"white\", \"linecolor\": \"white\", \"ticks\": \"\", \"title\": {\"standoff\": 15}, \"zerolinecolor\": \"white\", \"zerolinewidth\": 2}}}, \"title\": {\"text\": \"Daily prices of taxi rides in NYC\"}, \"xaxis\": {\"anchor\": \"y\", \"domain\": [0.0, 1.0], \"title\": {\"text\": \"time\"}}, \"yaxis\": {\"anchor\": \"x\", \"domain\": [0.0, 1.0], \"title\": {\"text\": \"true\"}}},\n",
              "                        {\"responsive\": true}\n",
              "                    ).then(function(){\n",
              "                            \n",
              "var gd = document.getElementById('ba4c9d53-7227-447d-8794-45c1a8114f1c');\n",
              "var x = new MutationObserver(function (mutations, observer) {{\n",
              "        var display = window.getComputedStyle(gd).display;\n",
              "        if (!display || display === 'none') {{\n",
              "            console.log([gd, 'removed!']);\n",
              "            Plotly.purge(gd);\n",
              "            observer.disconnect();\n",
              "        }}\n",
              "}});\n",
              "\n",
              "// Listen for the removal of the full notebook cells\n",
              "var notebookContainer = gd.closest('#notebook-container');\n",
              "if (notebookContainer) {{\n",
              "    x.observe(notebookContainer, {childList: true});\n",
              "}}\n",
              "\n",
              "// Listen for the clearing of the current output cell\n",
              "var outputEl = gd.closest('.output');\n",
              "if (outputEl) {{\n",
              "    x.observe(outputEl, {childList: true});\n",
              "}}\n",
              "\n",
              "                        })\n",
              "                };\n",
              "                \n",
              "            </script>\n",
              "        </div>\n",
              "</body>\n",
              "</html>"
            ]
          },
          "metadata": {
            "tags": []
          }
        }
      ]
    },
    {
      "cell_type": "markdown",
      "metadata": {
        "id": "dasMNBaODhsV"
      },
      "source": [
        "Как видим, наибольшие спады средней цены фиксируются действительно по субботам, тогда как спады по вторникам гораздо меньшей почти на всём протяжении временного периода.  \n",
        "Единственным исключением можно назвать неделю 23 декабря - 30 декабря, где в субботу не наблюдается никакого спада, однако спад наблюдается во вторник 24 декабря.  \n",
        "Это можно объяснить особенной щедрой акцией, устроенной в предверии Рождества и перенесённой с субботы.  \n",
        "Также падение наблюдается 31 декабря во вторник, которое можно объяснить, как скидкой в честь нового года, так и низким спросом из-за выходного дня. "
      ]
    }
  ]
}