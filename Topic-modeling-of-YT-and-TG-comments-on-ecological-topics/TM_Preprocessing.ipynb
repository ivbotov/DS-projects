{
  "nbformat": 4,
  "nbformat_minor": 0,
  "metadata": {
    "colab": {
      "provenance": [],
      "collapsed_sections": [
        "hos4rerzGvMA"
      ]
    },
    "kernelspec": {
      "name": "python3",
      "display_name": "Python 3"
    },
    "language_info": {
      "name": "python"
    },
    "gpuClass": "standard"
  },
  "cells": [
    {
      "cell_type": "code",
      "execution_count": null,
      "metadata": {
        "id": "jwQnN6OtdDPl",
        "colab": {
          "base_uri": "https://localhost:8080/"
        },
        "outputId": "0fb260c3-89dd-4510-835c-5ffe085610f7"
      },
      "outputs": [
        {
          "output_type": "stream",
          "name": "stdout",
          "text": [
            "  Preparing metadata (setup.py) ... \u001b[?25l\u001b[?25hdone\n",
            "  Building wheel for stop_words (setup.py) ... \u001b[?25l\u001b[?25hdone\n",
            "\u001b[2K     \u001b[90m━━━━━━━━━━━━━━━━━━━━━━━━━━━━━━━━━━━━━━━\u001b[0m \u001b[32m175.4/175.4 kB\u001b[0m \u001b[31m2.6 MB/s\u001b[0m eta \u001b[36m0:00:00\u001b[0m\n",
            "\u001b[?25h  Preparing metadata (setup.py) ... \u001b[?25l\u001b[?25hdone\n",
            "\u001b[2K     \u001b[90m━━━━━━━━━━━━━━━━━━━━━━━━━━━━━━━━━━━━━━━━\u001b[0m \u001b[32m53.1/53.1 kB\u001b[0m \u001b[31m1.6 MB/s\u001b[0m eta \u001b[36m0:00:00\u001b[0m\n",
            "\u001b[?25h  Building wheel for emoji (setup.py) ... \u001b[?25l\u001b[?25hdone\n",
            "2023-05-25 20:35:54.924137: I tensorflow/core/platform/cpu_feature_guard.cc:182] This TensorFlow binary is optimized to use available CPU instructions in performance-critical operations.\n",
            "To enable the following instructions: AVX2 FMA, in other operations, rebuild TensorFlow with the appropriate compiler flags.\n",
            "2023-05-25 20:35:56.384831: W tensorflow/compiler/tf2tensorrt/utils/py_utils.cc:38] TF-TRT Warning: Could not find TensorRT\n",
            "\u001b[2K     \u001b[90m━━━━━━━━━━━━━━━━━━━━━━━━━━━━━━━━━━━━━━━\u001b[0m \u001b[32m513.4/513.4 MB\u001b[0m \u001b[31m2.6 MB/s\u001b[0m eta \u001b[36m0:00:00\u001b[0m\n",
            "\u001b[2K     \u001b[90m━━━━━━━━━━━━━━━━━━━━━━━━━━━━━━━━━━━━━━━━\u001b[0m \u001b[32m55.4/55.4 kB\u001b[0m \u001b[31m2.1 MB/s\u001b[0m eta \u001b[36m0:00:00\u001b[0m\n",
            "\u001b[?25h  Preparing metadata (setup.py) ... \u001b[?25l\u001b[?25hdone\n",
            "\u001b[2K     \u001b[90m━━━━━━━━━━━━━━━━━━━━━━━━━━━━━━━━━━━━━━━━\u001b[0m \u001b[32m8.4/8.4 MB\u001b[0m \u001b[31m50.1 MB/s\u001b[0m eta \u001b[36m0:00:00\u001b[0m\n",
            "\u001b[?25h  Building wheel for docopt (setup.py) ... \u001b[?25l\u001b[?25hdone\n",
            "\u001b[38;5;2m✔ Download and installation successful\u001b[0m\n",
            "You can now load the package via spacy.load('ru_core_news_lg')\n",
            "\u001b[2K     \u001b[90m━━━━━━━━━━━━━━━━━━━━━━━━━━━━━━━━━━━━━━━━\u001b[0m \u001b[32m55.5/55.5 kB\u001b[0m \u001b[31m1.8 MB/s\u001b[0m eta \u001b[36m0:00:00\u001b[0m\n",
            "\u001b[2K     \u001b[90m━━━━━━━━━━━━━━━━━━━━━━━━━━━━━━━━━━━━━━━━\u001b[0m \u001b[32m8.2/8.2 MB\u001b[0m \u001b[31m33.5 MB/s\u001b[0m eta \u001b[36m0:00:00\u001b[0m\n",
            "\u001b[?25h"
          ]
        }
      ],
      "source": [
        "!pip install --upgrade stop_words  --quiet\n",
        "!pip install clean-text --quiet\n",
        "!python -m spacy download ru_core_news_lg --quiet\n",
        "!pip install pymorphy2 --quiet"
      ]
    },
    {
      "cell_type": "code",
      "source": [
        "import stop_words as sw\n",
        "import pandas as pd\n",
        "import numpy as np\n",
        "import pickle\n",
        "import re\n",
        "import matplotlib.pyplot as plt\n",
        "import seaborn as sns\n",
        "import warnings\n",
        "warnings.filterwarnings('ignore')\n",
        "pd.set_option('display.max_columns', 50)\n",
        "import pickle\n",
        "from cleantext import clean\n",
        "import gensim\n",
        "import gensim.corpora as corpora\n",
        "from nltk.tokenize import sent_tokenize, word_tokenize\n",
        "import nltk\n",
        "nltk.download('punkt')\n",
        "import spacy"
      ],
      "metadata": {
        "id": "kmB3J_1QdIi8",
        "colab": {
          "base_uri": "https://localhost:8080/"
        },
        "outputId": "56e94ac6-09ab-4c1f-fefe-ddf331bb5ebd"
      },
      "execution_count": null,
      "outputs": [
        {
          "output_type": "stream",
          "name": "stderr",
          "text": [
            "WARNING:root:Since the GPL-licensed package `unidecode` is not installed, using Python's `unicodedata` package which yields worse results.\n",
            "[nltk_data] Downloading package punkt to /root/nltk_data...\n",
            "[nltk_data]   Unzipping tokenizers/punkt.zip.\n"
          ]
        }
      ]
    },
    {
      "cell_type": "code",
      "source": [
        "import os\n",
        "from os import listdir\n",
        "import re\n",
        "from os.path import isfile, join"
      ],
      "metadata": {
        "id": "OZtBMTEEqGFb"
      },
      "execution_count": null,
      "outputs": []
    },
    {
      "cell_type": "code",
      "source": [
        "# предобработка\n",
        "# Garbage cleaning\n",
        "def clean_text(input):\n",
        "\n",
        "  return clean(input,\n",
        "      no_emoji=True,\n",
        "      fix_unicode=True,               # fix various unicode errors\n",
        "      to_ascii=False,                  # transliterate to closest ASCII representation\n",
        "      lower=True,                     # lowercase text\n",
        "      no_line_breaks=True,           # fully strip line breaks as opposed to only normalizing them\n",
        "      no_urls=True,                  # replace all URLs with a special token\n",
        "      no_emails=True,                # replace all email addresses with a special token\n",
        "      no_phone_numbers=True,         # replace all phone numbers with a special token\n",
        "      no_numbers=True,               # replace all numbers with a special token\n",
        "      no_digits=True,                # replace all digits with a special token\n",
        "      no_currency_symbols=True,      # replace all currency symbols with a special token\n",
        "      no_punct=True,                 # remove punctuations\n",
        "      replace_with_punct=\"\",          # instead of removing punctuations you may replace them\n",
        "      replace_with_url=\"\",\n",
        "      replace_with_email=\"\",\n",
        "      replace_with_phone_number=\"\",\n",
        "      replace_with_number=\"\",\n",
        "      replace_with_digit=\"\",\n",
        "      replace_with_currency_symbol=\"\",\n",
        "      lang=\"en\"                       # set to 'de' for German special handling\n",
        "  )\n",
        "\n",
        "def tokenize(cleaned_text):\n",
        "  return cleaned_text.apply(word_tokenize)\n",
        "\n",
        "# лемматизация\n",
        "def lemmatization(texts, allowed_postags=['NOUN', 'ADJ', 'VERB', 'ADV']):\n",
        "  texts_out = []\n",
        "  nlp = spacy.load('ru_core_news_lg', disable=['parser', 'ner'])\n",
        "  for sent in texts:\n",
        "      doc = nlp(\" \".join(sent)) \n",
        "      texts_out.append([token.lemma_ for token in doc if token.pos_ in allowed_postags])\n",
        "  return texts_out\n",
        "\n",
        "# удаление стоп слов\n",
        "def remove_stopwords(sentence):\n",
        "  stop_words = sw.get_stop_words('russian')\n",
        "  return [word for word in sentence if word not in stop_words]"
      ],
      "metadata": {
        "id": "bOtH-GU1xKPT"
      },
      "execution_count": null,
      "outputs": []
    },
    {
      "cell_type": "code",
      "source": [
        "def preprocess(df):\n",
        "  cleaned_text = df.raw_text.apply(clean_text)\n",
        "  tokenized_texts = tokenize(cleaned_text)\n",
        "  lemmatized_texts_spacy = lemmatization(tokenized_texts.values)\n",
        "  lemmatized_texts_spacy = pd.Series(lemmatized_texts_spacy, index=tokenized_texts.index)\n",
        "  texts_wo_sw = lemmatized_texts_spacy.apply(remove_stopwords)\n",
        "  comments=pd.Series(texts_wo_sw,index=tokenized_texts.index)\n",
        "  df = df.assign(text = comments, length=comments.apply(len))\n",
        "  return df"
      ],
      "metadata": {
        "id": "j9iiSPuV2cwp"
      },
      "execution_count": null,
      "outputs": []
    },
    {
      "cell_type": "code",
      "source": [
        "# cleaned_text = tg_df.text.apply(clean_text)\n",
        "# tokenized_texts = tokenize(cleaned_text)\n",
        "# tokenized_texts_spacy = lemmatization(tokenized_texts.values)\n",
        "# tokenized_texts_spacy = pd.Series(tokenized_texts_spacy, index=tokenized_texts.index)\n",
        "# texts_wo_sw = tokenized_texts_spacy.apply(remove_stopwords)\n",
        "# tg_comments = pd.Series(texts_wo_sw,index=tokenized_texts.index)"
      ],
      "metadata": {
        "id": "BXZoMBkK3sBv"
      },
      "execution_count": null,
      "outputs": []
    },
    {
      "cell_type": "markdown",
      "source": [
        "pymorphy2"
      ],
      "metadata": {
        "id": "30YElZJetM1i"
      }
    },
    {
      "cell_type": "code",
      "source": [
        "# import pymorphy2\n",
        "# morph = pymorphy2.MorphAnalyzer()\n",
        "# def lemmatize(doc):\n",
        "#     tokens = []\n",
        "#     for token in doc:\n",
        "#         token = token.strip()\n",
        "#         token = morph.normal_forms(token)[0]\n",
        "#         tokens.append(token)\n",
        "#     if len(tokens) > 2:\n",
        "#         return \n",
        "# tokenized_texts.head(1).apply(lemmatize)[0]"
      ],
      "metadata": {
        "id": "FCrkyrWUrFcD"
      },
      "execution_count": null,
      "outputs": []
    },
    {
      "cell_type": "markdown",
      "source": [
        "# TG"
      ],
      "metadata": {
        "id": "kPxrgOLR_pB7"
      }
    },
    {
      "cell_type": "code",
      "source": [
        "cwd = os.getcwd()\n",
        "onlyfiles = [os.path.join(cwd, f) for f in os.listdir(cwd) if \n",
        "os.path.isfile(os.path.join(cwd, f))]\n",
        "onlyfiles"
      ],
      "metadata": {
        "colab": {
          "base_uri": "https://localhost:8080/"
        },
        "id": "q8nltwz-qLsW",
        "outputId": "d233eb97-00f9-4dd4-b2cf-6f3635165721"
      },
      "execution_count": null,
      "outputs": [
        {
          "output_type": "execute_result",
          "data": {
            "text/plain": [
              "['/content/zwsmos.csv',\n",
              " '/content/osoznannoyepotrebleniye.csv',\n",
              " '/content/my_green_bag_messages.csv',\n",
              " '/content/tg_ecochatik_messages.csv',\n",
              " '/content/tg_sobirator_messages.csv']"
            ]
          },
          "metadata": {},
          "execution_count": 6
        }
      ]
    },
    {
      "cell_type": "code",
      "source": [
        "full_df_tg = pd.DataFrame()\n",
        "for file in onlyfiles:\n",
        "  source = re.search(r'\\/([\\w.]+)\\.csv$', file).group(1)\n",
        "  df = pd.read_csv(file, index_col=0).assign(source=source).reset_index(drop=True)\n",
        "  df = df.rename(columns={'0':'raw_text'})\n",
        "  df = df.iloc[df.raw_text.drop_duplicates().index]\n",
        "  df.text = df.raw_text.astype(str)\n",
        "  full_df_tg = pd.concat([full_df_tg, df])\n",
        "  print(source,df.shape)"
      ],
      "metadata": {
        "colab": {
          "base_uri": "https://localhost:8080/"
        },
        "id": "sqNEkQsmqiMj",
        "outputId": "e77403d3-33a2-446b-9569-9c747ff665d8"
      },
      "execution_count": null,
      "outputs": [
        {
          "output_type": "stream",
          "name": "stdout",
          "text": [
            "zwsmos (388, 2)\n",
            "osoznannoyepotrebleniye (857, 2)\n",
            "my_green_bag_messages (411, 2)\n",
            "tg_ecochatik_messages (10777, 2)\n",
            "tg_sobirator_messages (490, 2)\n"
          ]
        }
      ]
    },
    {
      "cell_type": "code",
      "source": [
        "# tg_df = pd.concat([\n",
        "#     pd.read_csv('/content/tg_ecochatik_messages.csv', index_col=0).assign(source='tg_ecochatic'),\n",
        "#     pd.read_csv('/content/tg_sobirator_messages.csv', index_col=0).assign(source='tg_sobirator')\n",
        "# ])\n",
        "# tg_df = tg_df.rename(columns={'0':'raw_text'})\n",
        "# tg_df.text = tg_df.raw_text.astype(str)\n",
        "# tg_df.shape"
      ],
      "metadata": {
        "colab": {
          "base_uri": "https://localhost:8080/"
        },
        "id": "aGaohoVKgSbl",
        "outputId": "a0d7d49c-35c1-43fd-8230-86948801a4c3"
      },
      "execution_count": null,
      "outputs": [
        {
          "output_type": "execute_result",
          "data": {
            "text/plain": [
              "(12420, 2)"
            ]
          },
          "metadata": {},
          "execution_count": 102
        }
      ]
    },
    {
      "cell_type": "code",
      "source": [],
      "metadata": {
        "id": "ePgH6VajqvAQ"
      },
      "execution_count": null,
      "outputs": []
    },
    {
      "cell_type": "code",
      "source": [
        "full_df_tg = preprocess(full_df_tg)\n",
        "# tg_df = tg_df.assign(text = tg_comments, length=tg_comments.apply(len))"
      ],
      "metadata": {
        "id": "pcvGQpiAsTYH"
      },
      "execution_count": null,
      "outputs": []
    },
    {
      "cell_type": "code",
      "source": [],
      "metadata": {
        "id": "yOtPFjdRpW2L"
      },
      "execution_count": null,
      "outputs": []
    },
    {
      "cell_type": "code",
      "source": [
        "full_df_tg.head()"
      ],
      "metadata": {
        "colab": {
          "base_uri": "https://localhost:8080/",
          "height": 284
        },
        "id": "8Y8d4eEZqw_5",
        "outputId": "6b5506cd-ce66-4847-ae7f-bec5f9f89d43"
      },
      "execution_count": null,
      "outputs": [
        {
          "output_type": "execute_result",
          "data": {
            "text/plain": [
              "                                            raw_text  source  \\\n",
              "0  Всем привет! \\n\\nУ нас новости. Мы приняли реш...  zwsmos   \n",
              "1  Мы хотим напомнить об основных правилах хранен...  zwsmos   \n",
              "2                                                NaN  zwsmos   \n",
              "3                                                NaN  zwsmos   \n",
              "4                                                NaN  zwsmos   \n",
              "\n",
              "                                                text  length  \n",
              "0  [привет, новость, принять, решение, закрыть, с...      45  \n",
              "1  [напомнить, основный, правило, хранение, проду...      85  \n",
              "2                                                 []       0  \n",
              "3                                                 []       0  \n",
              "4                                                 []       0  "
            ],
            "text/html": [
              "\n",
              "  <div id=\"df-54d839ef-da85-4580-a691-604e53acba22\">\n",
              "    <div class=\"colab-df-container\">\n",
              "      <div>\n",
              "<style scoped>\n",
              "    .dataframe tbody tr th:only-of-type {\n",
              "        vertical-align: middle;\n",
              "    }\n",
              "\n",
              "    .dataframe tbody tr th {\n",
              "        vertical-align: top;\n",
              "    }\n",
              "\n",
              "    .dataframe thead th {\n",
              "        text-align: right;\n",
              "    }\n",
              "</style>\n",
              "<table border=\"1\" class=\"dataframe\">\n",
              "  <thead>\n",
              "    <tr style=\"text-align: right;\">\n",
              "      <th></th>\n",
              "      <th>raw_text</th>\n",
              "      <th>source</th>\n",
              "      <th>text</th>\n",
              "      <th>length</th>\n",
              "    </tr>\n",
              "  </thead>\n",
              "  <tbody>\n",
              "    <tr>\n",
              "      <th>0</th>\n",
              "      <td>Всем привет! \\n\\nУ нас новости. Мы приняли реш...</td>\n",
              "      <td>zwsmos</td>\n",
              "      <td>[привет, новость, принять, решение, закрыть, с...</td>\n",
              "      <td>45</td>\n",
              "    </tr>\n",
              "    <tr>\n",
              "      <th>1</th>\n",
              "      <td>Мы хотим напомнить об основных правилах хранен...</td>\n",
              "      <td>zwsmos</td>\n",
              "      <td>[напомнить, основный, правило, хранение, проду...</td>\n",
              "      <td>85</td>\n",
              "    </tr>\n",
              "    <tr>\n",
              "      <th>2</th>\n",
              "      <td>NaN</td>\n",
              "      <td>zwsmos</td>\n",
              "      <td>[]</td>\n",
              "      <td>0</td>\n",
              "    </tr>\n",
              "    <tr>\n",
              "      <th>3</th>\n",
              "      <td>NaN</td>\n",
              "      <td>zwsmos</td>\n",
              "      <td>[]</td>\n",
              "      <td>0</td>\n",
              "    </tr>\n",
              "    <tr>\n",
              "      <th>4</th>\n",
              "      <td>NaN</td>\n",
              "      <td>zwsmos</td>\n",
              "      <td>[]</td>\n",
              "      <td>0</td>\n",
              "    </tr>\n",
              "  </tbody>\n",
              "</table>\n",
              "</div>\n",
              "      <button class=\"colab-df-convert\" onclick=\"convertToInteractive('df-54d839ef-da85-4580-a691-604e53acba22')\"\n",
              "              title=\"Convert this dataframe to an interactive table.\"\n",
              "              style=\"display:none;\">\n",
              "        \n",
              "  <svg xmlns=\"http://www.w3.org/2000/svg\" height=\"24px\"viewBox=\"0 0 24 24\"\n",
              "       width=\"24px\">\n",
              "    <path d=\"M0 0h24v24H0V0z\" fill=\"none\"/>\n",
              "    <path d=\"M18.56 5.44l.94 2.06.94-2.06 2.06-.94-2.06-.94-.94-2.06-.94 2.06-2.06.94zm-11 1L8.5 8.5l.94-2.06 2.06-.94-2.06-.94L8.5 2.5l-.94 2.06-2.06.94zm10 10l.94 2.06.94-2.06 2.06-.94-2.06-.94-.94-2.06-.94 2.06-2.06.94z\"/><path d=\"M17.41 7.96l-1.37-1.37c-.4-.4-.92-.59-1.43-.59-.52 0-1.04.2-1.43.59L10.3 9.45l-7.72 7.72c-.78.78-.78 2.05 0 2.83L4 21.41c.39.39.9.59 1.41.59.51 0 1.02-.2 1.41-.59l7.78-7.78 2.81-2.81c.8-.78.8-2.07 0-2.86zM5.41 20L4 18.59l7.72-7.72 1.47 1.35L5.41 20z\"/>\n",
              "  </svg>\n",
              "      </button>\n",
              "      \n",
              "  <style>\n",
              "    .colab-df-container {\n",
              "      display:flex;\n",
              "      flex-wrap:wrap;\n",
              "      gap: 12px;\n",
              "    }\n",
              "\n",
              "    .colab-df-convert {\n",
              "      background-color: #E8F0FE;\n",
              "      border: none;\n",
              "      border-radius: 50%;\n",
              "      cursor: pointer;\n",
              "      display: none;\n",
              "      fill: #1967D2;\n",
              "      height: 32px;\n",
              "      padding: 0 0 0 0;\n",
              "      width: 32px;\n",
              "    }\n",
              "\n",
              "    .colab-df-convert:hover {\n",
              "      background-color: #E2EBFA;\n",
              "      box-shadow: 0px 1px 2px rgba(60, 64, 67, 0.3), 0px 1px 3px 1px rgba(60, 64, 67, 0.15);\n",
              "      fill: #174EA6;\n",
              "    }\n",
              "\n",
              "    [theme=dark] .colab-df-convert {\n",
              "      background-color: #3B4455;\n",
              "      fill: #D2E3FC;\n",
              "    }\n",
              "\n",
              "    [theme=dark] .colab-df-convert:hover {\n",
              "      background-color: #434B5C;\n",
              "      box-shadow: 0px 1px 3px 1px rgba(0, 0, 0, 0.15);\n",
              "      filter: drop-shadow(0px 1px 2px rgba(0, 0, 0, 0.3));\n",
              "      fill: #FFFFFF;\n",
              "    }\n",
              "  </style>\n",
              "\n",
              "      <script>\n",
              "        const buttonEl =\n",
              "          document.querySelector('#df-54d839ef-da85-4580-a691-604e53acba22 button.colab-df-convert');\n",
              "        buttonEl.style.display =\n",
              "          google.colab.kernel.accessAllowed ? 'block' : 'none';\n",
              "\n",
              "        async function convertToInteractive(key) {\n",
              "          const element = document.querySelector('#df-54d839ef-da85-4580-a691-604e53acba22');\n",
              "          const dataTable =\n",
              "            await google.colab.kernel.invokeFunction('convertToInteractive',\n",
              "                                                     [key], {});\n",
              "          if (!dataTable) return;\n",
              "\n",
              "          const docLinkHtml = 'Like what you see? Visit the ' +\n",
              "            '<a target=\"_blank\" href=https://colab.research.google.com/notebooks/data_table.ipynb>data table notebook</a>'\n",
              "            + ' to learn more about interactive tables.';\n",
              "          element.innerHTML = '';\n",
              "          dataTable['output_type'] = 'display_data';\n",
              "          await google.colab.output.renderOutput(dataTable, element);\n",
              "          const docLink = document.createElement('div');\n",
              "          docLink.innerHTML = docLinkHtml;\n",
              "          element.appendChild(docLink);\n",
              "        }\n",
              "      </script>\n",
              "    </div>\n",
              "  </div>\n",
              "  "
            ]
          },
          "metadata": {},
          "execution_count": 9
        }
      ]
    },
    {
      "cell_type": "code",
      "source": [
        "full_df_tg.shape"
      ],
      "metadata": {
        "colab": {
          "base_uri": "https://localhost:8080/"
        },
        "id": "yweDz8-6_f-V",
        "outputId": "04f97fb1-79f7-45c8-ec8c-74d47bba43cf"
      },
      "execution_count": null,
      "outputs": [
        {
          "output_type": "execute_result",
          "data": {
            "text/plain": [
              "(12923, 4)"
            ]
          },
          "metadata": {},
          "execution_count": 9
        }
      ]
    },
    {
      "cell_type": "code",
      "source": [
        "full_df_tg.to_csv('full_df_tg.csv')"
      ],
      "metadata": {
        "id": "cM4FneVE_RqK"
      },
      "execution_count": null,
      "outputs": []
    },
    {
      "cell_type": "markdown",
      "source": [
        "# VK"
      ],
      "metadata": {
        "id": "69TMDIhQ_k5F"
      }
    },
    {
      "cell_type": "code",
      "source": [
        "# df = pd.concat([\n",
        "#     pd.read_csv('/content/vk_ed_zbs_messages.csv', index_col=0).assign(source='vk_ed_zbs'),\n",
        "#     pd.read_csv('/content/vk_rsbor_messages.csv', index_col=0).assign(source='vk_rsbor')\n",
        "# ])\n",
        "# df = df.rename(columns={'0':'raw_text'})\n",
        "# df.text = df.raw_text.astype(str)\n",
        "# vk_df = df.copy()\n",
        "# vk_df.shape"
      ],
      "metadata": {
        "id": "QHjUap3czWSe",
        "colab": {
          "base_uri": "https://localhost:8080/"
        },
        "outputId": "fd8de02b-dffa-4a28-e0a2-bebd1350911b"
      },
      "execution_count": null,
      "outputs": [
        {
          "output_type": "execute_result",
          "data": {
            "text/plain": [
              "(7960, 2)"
            ]
          },
          "metadata": {},
          "execution_count": 97
        }
      ]
    },
    {
      "cell_type": "code",
      "source": [
        "import os\n",
        "from os import listdir\n",
        "import re\n",
        "from os.path import isfile, join\n",
        "\n",
        "cwd = os.getcwd()\n",
        "onlyfiles = [os.path.join(cwd, f) for f in os.listdir(cwd) if \n",
        "os.path.isfile(os.path.join(cwd, f))]"
      ],
      "metadata": {
        "id": "bomvcbUVntzm"
      },
      "execution_count": null,
      "outputs": []
    },
    {
      "cell_type": "code",
      "source": [
        "onlyfiles"
      ],
      "metadata": {
        "id": "Niz08NHkhXRr",
        "colab": {
          "base_uri": "https://localhost:8080/"
        },
        "outputId": "0e3c1755-b23b-4851-bda7-bd8c904d51ad"
      },
      "execution_count": null,
      "outputs": [
        {
          "output_type": "execute_result",
          "data": {
            "text/plain": [
              "['/content/vsemvermi_messages.csv',\n",
              " '/content/pererabotkinskaya_messages.csv',\n",
              " '/content/zerowasterus_messages.csv',\n",
              " '/content/zero_waste_style_messages.csv',\n",
              " '/content/eco_sfera_messages.csv',\n",
              " '/content/sobirator_messages.csv',\n",
              " '/content/zerowasteshop.moscow_messages.csv',\n",
              " '/content/vk_ed_zbs_messages.csv',\n",
              " '/content/fruktowcaeco_messages.csv',\n",
              " '/content/zero_waste_shop_messages.csv',\n",
              " '/content/vk_rsbor_messages.csv',\n",
              " '/content/greencospb_messages.csv',\n",
              " '/content/zerowaste_ru_messages.csv']"
            ]
          },
          "metadata": {},
          "execution_count": 12
        }
      ]
    },
    {
      "cell_type": "code",
      "source": [
        "full_df = pd.DataFrame()\n",
        "for file in onlyfiles:\n",
        "  source = re.search(r'\\/([\\w.]+)\\.csv$', file).group(1)\n",
        "  df = pd.read_csv(file, index_col=0).assign(source=source).reset_index(drop=True)\n",
        "  df = df.rename(columns={'0':'raw_text'})\n",
        "  df = df.iloc[df.raw_text.drop_duplicates().index]\n",
        "  df.text = df.raw_text.astype(str)\n",
        "  full_df = pd.concat([full_df, df])\n",
        "  print(source,df.shape)\n"
      ],
      "metadata": {
        "colab": {
          "base_uri": "https://localhost:8080/"
        },
        "id": "QUgyVIcWgEdv",
        "outputId": "0a5050e9-87c0-4661-d0ff-c3825428602f"
      },
      "execution_count": null,
      "outputs": [
        {
          "output_type": "stream",
          "name": "stdout",
          "text": [
            "vsemvermi_messages (1559, 2)\n",
            "pererabotkinskaya_messages (890, 2)\n",
            "zerowasterus_messages (5357, 2)\n",
            "zero_waste_style_messages (505, 2)\n",
            "eco_sfera_messages (2975, 2)\n",
            "sobirator_messages (2965, 2)\n",
            "zerowasteshop.moscow_messages (738, 2)\n",
            "vk_ed_zbs_messages (2366, 2)\n",
            "fruktowcaeco_messages (252, 2)\n",
            "zero_waste_shop_messages (2674, 2)\n",
            "vk_rsbor_messages (4846, 2)\n",
            "greencospb_messages (6333, 2)\n",
            "zerowaste_ru_messages (15997, 2)\n"
          ]
        }
      ]
    },
    {
      "cell_type": "code",
      "source": [
        "full_df = preprocess(full_df)\n",
        "full_df.to_csv('full_df_vk.csv')"
      ],
      "metadata": {
        "id": "CoG23w6SiBCn"
      },
      "execution_count": null,
      "outputs": []
    },
    {
      "cell_type": "code",
      "source": [],
      "metadata": {
        "id": "-vdtSClBiGHj"
      },
      "execution_count": null,
      "outputs": []
    },
    {
      "cell_type": "code",
      "source": [
        "# vk_df = preprocess(vk_df)\n",
        "# vk_df.to_csv('vk_df.csv')"
      ],
      "metadata": {
        "id": "f02OSfLrzdUG"
      },
      "execution_count": null,
      "outputs": []
    },
    {
      "cell_type": "code",
      "source": [],
      "metadata": {
        "id": "PvRHt7PHzdMe"
      },
      "execution_count": null,
      "outputs": []
    },
    {
      "cell_type": "markdown",
      "source": [
        "# Youtube"
      ],
      "metadata": {
        "id": "hos4rerzGvMA"
      }
    },
    {
      "cell_type": "code",
      "source": [
        "yt = pd.read_excel('/content/yt_comments_full.xlsx',index_col=0).reset_index(drop=True)\n",
        "yt = yt.rename(columns={'textDisplay':'raw_text'})\n",
        "yt = yt.iloc[yt.raw_text.drop_duplicates().index]\n",
        "yt_df = yt[['raw_text', 'videoId']]\n",
        "# yt.head()\n",
        "yt.shape"
      ],
      "metadata": {
        "id": "wA3_H-UdHQta",
        "colab": {
          "base_uri": "https://localhost:8080/"
        },
        "outputId": "142b5301-d0a6-4b02-cb83-deb79a0e18e2"
      },
      "execution_count": null,
      "outputs": [
        {
          "output_type": "execute_result",
          "data": {
            "text/plain": [
              "(278781, 10)"
            ]
          },
          "metadata": {},
          "execution_count": 15
        }
      ]
    },
    {
      "cell_type": "code",
      "source": [
        "yt_df = preprocess(yt_df)"
      ],
      "metadata": {
        "id": "xMduc0LPIaO4"
      },
      "execution_count": null,
      "outputs": []
    },
    {
      "cell_type": "code",
      "source": [
        "yt_df.head()"
      ],
      "metadata": {
        "colab": {
          "base_uri": "https://localhost:8080/",
          "height": 206
        },
        "id": "PxLFpcgKIHqh",
        "outputId": "948fd110-e912-46d7-9c4b-038a46673fd5"
      },
      "execution_count": null,
      "outputs": [
        {
          "output_type": "execute_result",
          "data": {
            "text/plain": [
              "                                            raw_text      videoId  \\\n",
              "0                        Всем добра! Автору успехов)  Q6xX28WaNRc   \n",
              "1               Респект, идёшь в нужном направлении!  Q6xX28WaNRc   \n",
              "2  Что значит &quot;поел, попил, поспал..&quot;? ...  Q6xX28WaNRc   \n",
              "3                                         Спасибо. 🙏  Q6xX28WaNRc   \n",
              "4  Моё уважение! Всё по уму! Я в деле! Ни травлюс...  Q6xX28WaNRc   \n",
              "\n",
              "                                                text  length  \n",
              "0                              [добро, автор, успех]       3  \n",
              "1              [респект, идёшь, нужный, направление]       4  \n",
              "2  [значить, поесть, попить, поспасть, поесть, по...      14  \n",
              "3                                                 []       0  \n",
              "4  [уважение, ум, дело, травиться, яд, активно, с...      23  "
            ],
            "text/html": [
              "\n",
              "  <div id=\"df-cffd1e97-d52c-425c-bc2b-bace4923f645\">\n",
              "    <div class=\"colab-df-container\">\n",
              "      <div>\n",
              "<style scoped>\n",
              "    .dataframe tbody tr th:only-of-type {\n",
              "        vertical-align: middle;\n",
              "    }\n",
              "\n",
              "    .dataframe tbody tr th {\n",
              "        vertical-align: top;\n",
              "    }\n",
              "\n",
              "    .dataframe thead th {\n",
              "        text-align: right;\n",
              "    }\n",
              "</style>\n",
              "<table border=\"1\" class=\"dataframe\">\n",
              "  <thead>\n",
              "    <tr style=\"text-align: right;\">\n",
              "      <th></th>\n",
              "      <th>raw_text</th>\n",
              "      <th>videoId</th>\n",
              "      <th>text</th>\n",
              "      <th>length</th>\n",
              "    </tr>\n",
              "  </thead>\n",
              "  <tbody>\n",
              "    <tr>\n",
              "      <th>0</th>\n",
              "      <td>Всем добра! Автору успехов)</td>\n",
              "      <td>Q6xX28WaNRc</td>\n",
              "      <td>[добро, автор, успех]</td>\n",
              "      <td>3</td>\n",
              "    </tr>\n",
              "    <tr>\n",
              "      <th>1</th>\n",
              "      <td>Респект, идёшь в нужном направлении!</td>\n",
              "      <td>Q6xX28WaNRc</td>\n",
              "      <td>[респект, идёшь, нужный, направление]</td>\n",
              "      <td>4</td>\n",
              "    </tr>\n",
              "    <tr>\n",
              "      <th>2</th>\n",
              "      <td>Что значит &amp;quot;поел, попил, поспал..&amp;quot;? ...</td>\n",
              "      <td>Q6xX28WaNRc</td>\n",
              "      <td>[значить, поесть, попить, поспасть, поесть, по...</td>\n",
              "      <td>14</td>\n",
              "    </tr>\n",
              "    <tr>\n",
              "      <th>3</th>\n",
              "      <td>Спасибо. 🙏</td>\n",
              "      <td>Q6xX28WaNRc</td>\n",
              "      <td>[]</td>\n",
              "      <td>0</td>\n",
              "    </tr>\n",
              "    <tr>\n",
              "      <th>4</th>\n",
              "      <td>Моё уважение! Всё по уму! Я в деле! Ни травлюс...</td>\n",
              "      <td>Q6xX28WaNRc</td>\n",
              "      <td>[уважение, ум, дело, травиться, яд, активно, с...</td>\n",
              "      <td>23</td>\n",
              "    </tr>\n",
              "  </tbody>\n",
              "</table>\n",
              "</div>\n",
              "      <button class=\"colab-df-convert\" onclick=\"convertToInteractive('df-cffd1e97-d52c-425c-bc2b-bace4923f645')\"\n",
              "              title=\"Convert this dataframe to an interactive table.\"\n",
              "              style=\"display:none;\">\n",
              "        \n",
              "  <svg xmlns=\"http://www.w3.org/2000/svg\" height=\"24px\"viewBox=\"0 0 24 24\"\n",
              "       width=\"24px\">\n",
              "    <path d=\"M0 0h24v24H0V0z\" fill=\"none\"/>\n",
              "    <path d=\"M18.56 5.44l.94 2.06.94-2.06 2.06-.94-2.06-.94-.94-2.06-.94 2.06-2.06.94zm-11 1L8.5 8.5l.94-2.06 2.06-.94-2.06-.94L8.5 2.5l-.94 2.06-2.06.94zm10 10l.94 2.06.94-2.06 2.06-.94-2.06-.94-.94-2.06-.94 2.06-2.06.94z\"/><path d=\"M17.41 7.96l-1.37-1.37c-.4-.4-.92-.59-1.43-.59-.52 0-1.04.2-1.43.59L10.3 9.45l-7.72 7.72c-.78.78-.78 2.05 0 2.83L4 21.41c.39.39.9.59 1.41.59.51 0 1.02-.2 1.41-.59l7.78-7.78 2.81-2.81c.8-.78.8-2.07 0-2.86zM5.41 20L4 18.59l7.72-7.72 1.47 1.35L5.41 20z\"/>\n",
              "  </svg>\n",
              "      </button>\n",
              "      \n",
              "  <style>\n",
              "    .colab-df-container {\n",
              "      display:flex;\n",
              "      flex-wrap:wrap;\n",
              "      gap: 12px;\n",
              "    }\n",
              "\n",
              "    .colab-df-convert {\n",
              "      background-color: #E8F0FE;\n",
              "      border: none;\n",
              "      border-radius: 50%;\n",
              "      cursor: pointer;\n",
              "      display: none;\n",
              "      fill: #1967D2;\n",
              "      height: 32px;\n",
              "      padding: 0 0 0 0;\n",
              "      width: 32px;\n",
              "    }\n",
              "\n",
              "    .colab-df-convert:hover {\n",
              "      background-color: #E2EBFA;\n",
              "      box-shadow: 0px 1px 2px rgba(60, 64, 67, 0.3), 0px 1px 3px 1px rgba(60, 64, 67, 0.15);\n",
              "      fill: #174EA6;\n",
              "    }\n",
              "\n",
              "    [theme=dark] .colab-df-convert {\n",
              "      background-color: #3B4455;\n",
              "      fill: #D2E3FC;\n",
              "    }\n",
              "\n",
              "    [theme=dark] .colab-df-convert:hover {\n",
              "      background-color: #434B5C;\n",
              "      box-shadow: 0px 1px 3px 1px rgba(0, 0, 0, 0.15);\n",
              "      filter: drop-shadow(0px 1px 2px rgba(0, 0, 0, 0.3));\n",
              "      fill: #FFFFFF;\n",
              "    }\n",
              "  </style>\n",
              "\n",
              "      <script>\n",
              "        const buttonEl =\n",
              "          document.querySelector('#df-cffd1e97-d52c-425c-bc2b-bace4923f645 button.colab-df-convert');\n",
              "        buttonEl.style.display =\n",
              "          google.colab.kernel.accessAllowed ? 'block' : 'none';\n",
              "\n",
              "        async function convertToInteractive(key) {\n",
              "          const element = document.querySelector('#df-cffd1e97-d52c-425c-bc2b-bace4923f645');\n",
              "          const dataTable =\n",
              "            await google.colab.kernel.invokeFunction('convertToInteractive',\n",
              "                                                     [key], {});\n",
              "          if (!dataTable) return;\n",
              "\n",
              "          const docLinkHtml = 'Like what you see? Visit the ' +\n",
              "            '<a target=\"_blank\" href=https://colab.research.google.com/notebooks/data_table.ipynb>data table notebook</a>'\n",
              "            + ' to learn more about interactive tables.';\n",
              "          element.innerHTML = '';\n",
              "          dataTable['output_type'] = 'display_data';\n",
              "          await google.colab.output.renderOutput(dataTable, element);\n",
              "          const docLink = document.createElement('div');\n",
              "          docLink.innerHTML = docLinkHtml;\n",
              "          element.appendChild(docLink);\n",
              "        }\n",
              "      </script>\n",
              "    </div>\n",
              "  </div>\n",
              "  "
            ]
          },
          "metadata": {},
          "execution_count": 17
        }
      ]
    },
    {
      "cell_type": "code",
      "source": [
        "yt_df.shape"
      ],
      "metadata": {
        "id": "kmuwnrvN9Q0k",
        "colab": {
          "base_uri": "https://localhost:8080/"
        },
        "outputId": "ab0bc387-8221-4be9-9b32-d7351eea7c68"
      },
      "execution_count": null,
      "outputs": [
        {
          "output_type": "execute_result",
          "data": {
            "text/plain": [
              "(278781, 4)"
            ]
          },
          "metadata": {},
          "execution_count": 18
        }
      ]
    },
    {
      "cell_type": "code",
      "source": [
        "yt_df.to_csv('full_yt_df2.csv')"
      ],
      "metadata": {
        "id": "WFzyHFBpIfP9"
      },
      "execution_count": null,
      "outputs": []
    },
    {
      "cell_type": "code",
      "source": [
        "yt_df.head()"
      ],
      "metadata": {
        "colab": {
          "base_uri": "https://localhost:8080/",
          "height": 206
        },
        "id": "olHKooaUKF6-",
        "outputId": "b189e992-5d8e-4397-92d6-4a23386ee6b0"
      },
      "execution_count": null,
      "outputs": [
        {
          "output_type": "execute_result",
          "data": {
            "text/plain": [
              "                                            raw_text      videoId  \\\n",
              "0              Пичкать маленького ребенка фтором🤦‍♂️  ThtuIQRnTN4   \n",
              "1                         Какие люди тупые бывают...  ThtuIQRnTN4   \n",
              "2  Первый раз вижу, что человек оправдывается за ...  ThtuIQRnTN4   \n",
              "3  А где это сдают все на переработку? У нас даже...  ThtuIQRnTN4   \n",
              "4  Мне не понравилось в этом видео, что Вы сидите...  ThtuIQRnTN4   \n",
              "\n",
              "                                                text  length  \n",
              "0                      [пичкать, маленький, ребёнок]       3  \n",
              "1                                    [тупой, бывать]       2  \n",
              "2  [видеть, оправдываться, удовлетворение, базовы...       5  \n",
              "3  [сдавать, переработка, макулатура, частный, ли...      10  \n",
              "4          [понравиться, видео, сидеть, экран, поза]       5  "
            ],
            "text/html": [
              "\n",
              "  <div id=\"df-84f6bbde-c81b-44b5-8388-90400711e8b3\">\n",
              "    <div class=\"colab-df-container\">\n",
              "      <div>\n",
              "<style scoped>\n",
              "    .dataframe tbody tr th:only-of-type {\n",
              "        vertical-align: middle;\n",
              "    }\n",
              "\n",
              "    .dataframe tbody tr th {\n",
              "        vertical-align: top;\n",
              "    }\n",
              "\n",
              "    .dataframe thead th {\n",
              "        text-align: right;\n",
              "    }\n",
              "</style>\n",
              "<table border=\"1\" class=\"dataframe\">\n",
              "  <thead>\n",
              "    <tr style=\"text-align: right;\">\n",
              "      <th></th>\n",
              "      <th>raw_text</th>\n",
              "      <th>videoId</th>\n",
              "      <th>text</th>\n",
              "      <th>length</th>\n",
              "    </tr>\n",
              "  </thead>\n",
              "  <tbody>\n",
              "    <tr>\n",
              "      <th>0</th>\n",
              "      <td>Пичкать маленького ребенка фтором🤦‍♂️</td>\n",
              "      <td>ThtuIQRnTN4</td>\n",
              "      <td>[пичкать, маленький, ребёнок]</td>\n",
              "      <td>3</td>\n",
              "    </tr>\n",
              "    <tr>\n",
              "      <th>1</th>\n",
              "      <td>Какие люди тупые бывают...</td>\n",
              "      <td>ThtuIQRnTN4</td>\n",
              "      <td>[тупой, бывать]</td>\n",
              "      <td>2</td>\n",
              "    </tr>\n",
              "    <tr>\n",
              "      <th>2</th>\n",
              "      <td>Первый раз вижу, что человек оправдывается за ...</td>\n",
              "      <td>ThtuIQRnTN4</td>\n",
              "      <td>[видеть, оправдываться, удовлетворение, базовы...</td>\n",
              "      <td>5</td>\n",
              "    </tr>\n",
              "    <tr>\n",
              "      <th>3</th>\n",
              "      <td>А где это сдают все на переработку? У нас даже...</td>\n",
              "      <td>ThtuIQRnTN4</td>\n",
              "      <td>[сдавать, переработка, макулатура, частный, ли...</td>\n",
              "      <td>10</td>\n",
              "    </tr>\n",
              "    <tr>\n",
              "      <th>4</th>\n",
              "      <td>Мне не понравилось в этом видео, что Вы сидите...</td>\n",
              "      <td>ThtuIQRnTN4</td>\n",
              "      <td>[понравиться, видео, сидеть, экран, поза]</td>\n",
              "      <td>5</td>\n",
              "    </tr>\n",
              "  </tbody>\n",
              "</table>\n",
              "</div>\n",
              "      <button class=\"colab-df-convert\" onclick=\"convertToInteractive('df-84f6bbde-c81b-44b5-8388-90400711e8b3')\"\n",
              "              title=\"Convert this dataframe to an interactive table.\"\n",
              "              style=\"display:none;\">\n",
              "        \n",
              "  <svg xmlns=\"http://www.w3.org/2000/svg\" height=\"24px\"viewBox=\"0 0 24 24\"\n",
              "       width=\"24px\">\n",
              "    <path d=\"M0 0h24v24H0V0z\" fill=\"none\"/>\n",
              "    <path d=\"M18.56 5.44l.94 2.06.94-2.06 2.06-.94-2.06-.94-.94-2.06-.94 2.06-2.06.94zm-11 1L8.5 8.5l.94-2.06 2.06-.94-2.06-.94L8.5 2.5l-.94 2.06-2.06.94zm10 10l.94 2.06.94-2.06 2.06-.94-2.06-.94-.94-2.06-.94 2.06-2.06.94z\"/><path d=\"M17.41 7.96l-1.37-1.37c-.4-.4-.92-.59-1.43-.59-.52 0-1.04.2-1.43.59L10.3 9.45l-7.72 7.72c-.78.78-.78 2.05 0 2.83L4 21.41c.39.39.9.59 1.41.59.51 0 1.02-.2 1.41-.59l7.78-7.78 2.81-2.81c.8-.78.8-2.07 0-2.86zM5.41 20L4 18.59l7.72-7.72 1.47 1.35L5.41 20z\"/>\n",
              "  </svg>\n",
              "      </button>\n",
              "      \n",
              "  <style>\n",
              "    .colab-df-container {\n",
              "      display:flex;\n",
              "      flex-wrap:wrap;\n",
              "      gap: 12px;\n",
              "    }\n",
              "\n",
              "    .colab-df-convert {\n",
              "      background-color: #E8F0FE;\n",
              "      border: none;\n",
              "      border-radius: 50%;\n",
              "      cursor: pointer;\n",
              "      display: none;\n",
              "      fill: #1967D2;\n",
              "      height: 32px;\n",
              "      padding: 0 0 0 0;\n",
              "      width: 32px;\n",
              "    }\n",
              "\n",
              "    .colab-df-convert:hover {\n",
              "      background-color: #E2EBFA;\n",
              "      box-shadow: 0px 1px 2px rgba(60, 64, 67, 0.3), 0px 1px 3px 1px rgba(60, 64, 67, 0.15);\n",
              "      fill: #174EA6;\n",
              "    }\n",
              "\n",
              "    [theme=dark] .colab-df-convert {\n",
              "      background-color: #3B4455;\n",
              "      fill: #D2E3FC;\n",
              "    }\n",
              "\n",
              "    [theme=dark] .colab-df-convert:hover {\n",
              "      background-color: #434B5C;\n",
              "      box-shadow: 0px 1px 3px 1px rgba(0, 0, 0, 0.15);\n",
              "      filter: drop-shadow(0px 1px 2px rgba(0, 0, 0, 0.3));\n",
              "      fill: #FFFFFF;\n",
              "    }\n",
              "  </style>\n",
              "\n",
              "      <script>\n",
              "        const buttonEl =\n",
              "          document.querySelector('#df-84f6bbde-c81b-44b5-8388-90400711e8b3 button.colab-df-convert');\n",
              "        buttonEl.style.display =\n",
              "          google.colab.kernel.accessAllowed ? 'block' : 'none';\n",
              "\n",
              "        async function convertToInteractive(key) {\n",
              "          const element = document.querySelector('#df-84f6bbde-c81b-44b5-8388-90400711e8b3');\n",
              "          const dataTable =\n",
              "            await google.colab.kernel.invokeFunction('convertToInteractive',\n",
              "                                                     [key], {});\n",
              "          if (!dataTable) return;\n",
              "\n",
              "          const docLinkHtml = 'Like what you see? Visit the ' +\n",
              "            '<a target=\"_blank\" href=https://colab.research.google.com/notebooks/data_table.ipynb>data table notebook</a>'\n",
              "            + ' to learn more about interactive tables.';\n",
              "          element.innerHTML = '';\n",
              "          dataTable['output_type'] = 'display_data';\n",
              "          await google.colab.output.renderOutput(dataTable, element);\n",
              "          const docLink = document.createElement('div');\n",
              "          docLink.innerHTML = docLinkHtml;\n",
              "          element.appendChild(docLink);\n",
              "        }\n",
              "      </script>\n",
              "    </div>\n",
              "  </div>\n",
              "  "
            ]
          },
          "metadata": {},
          "execution_count": 117
        }
      ]
    }
  ]
}