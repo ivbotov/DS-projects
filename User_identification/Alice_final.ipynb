{
  "nbformat": 4,
  "nbformat_minor": 0,
  "metadata": {
    "colab": {
      "name": "Alice_sandbox.ipynb",
      "provenance": [],
      "collapsed_sections": [
        "yM-VQDUXP35d",
        "hvXdH6f_vEaP"
      ]
    },
    "kernelspec": {
      "name": "python3",
      "display_name": "Python 3"
    },
    "language_info": {
      "name": "python"
    },
    "accelerator": "GPU"
  },
  "cells": [
    {
      "cell_type": "markdown",
      "metadata": {
        "id": "SDYGTlB-iulD"
      },
      "source": [
        "#Import"
      ]
    },
    {
      "cell_type": "code",
      "metadata": {
        "id": "wuHdjcHbsJeI"
      },
      "source": [
        "import pandas as pd\n",
        "import numpy as np\n",
        "import os\n",
        "\n",
        "import seaborn as sns\n",
        "from matplotlib import pyplot as plt\n",
        "sns.set_style(\"whitegrid\")\n",
        "\n",
        "import pickle\n",
        "from sklearn.base import BaseEstimator, TransformerMixin\n",
        "from sklearn.pipeline import Pipeline\n",
        "from sklearn.pipeline import FeatureUnion\n",
        "from sklearn.feature_extraction.text import CountVectorizer, TfidfVectorizer\n",
        "from sklearn.preprocessing import StandardScaler\n",
        "from sklearn.model_selection import TimeSeriesSplit, cross_val_score, StratifiedKFold\n",
        "from sklearn.linear_model import LogisticRegression\n",
        "from scipy.sparse import csr_matrix, hstack\n",
        "from sklearn.preprocessing import OneHotEncoder"
      ],
      "execution_count": 3,
      "outputs": []
    },
    {
      "cell_type": "code",
      "metadata": {
        "colab": {
          "resources": {
            "http://localhost:8080/nbextensions/google.colab/files.js": {
              "data": "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",
              "ok": true,
              "headers": [
                [
                  "content-type",
                  "application/javascript"
                ]
              ],
              "status": 200,
              "status_text": ""
            }
          },
          "base_uri": "https://localhost:8080/",
          "height": 90
        },
        "id": "EAmThVLtV-8C",
        "outputId": "7f10d74f-485f-4946-8ba3-42ed6567b19f"
      },
      "source": [
        "from google.colab import files\n",
        "files.upload()\n",
        "!ls -lha kaggle.json\n",
        "!pip install -q kaggle\n",
        "!mkdir -p ~/.kaggle\n",
        "!cp kaggle.json ~/.kaggle/\n",
        "!chmod 600 ~/.kaggle/kaggle.json "
      ],
      "execution_count": 2,
      "outputs": [
        {
          "output_type": "display_data",
          "data": {
            "text/html": [
              "\n",
              "     <input type=\"file\" id=\"files-35c6d931-0801-49dd-95ca-c21446d7879b\" name=\"files[]\" multiple disabled\n",
              "        style=\"border:none\" />\n",
              "     <output id=\"result-35c6d931-0801-49dd-95ca-c21446d7879b\">\n",
              "      Upload widget is only available when the cell has been executed in the\n",
              "      current browser session. Please rerun this cell to enable.\n",
              "      </output>\n",
              "      <script src=\"/nbextensions/google.colab/files.js\"></script> "
            ],
            "text/plain": [
              "<IPython.core.display.HTML object>"
            ]
          },
          "metadata": {
            "tags": []
          }
        },
        {
          "output_type": "stream",
          "text": [
            "Saving kaggle.json to kaggle.json\n",
            "-rw-r--r-- 1 root root 65 Aug 11 23:25 kaggle.json\n"
          ],
          "name": "stdout"
        }
      ]
    },
    {
      "cell_type": "code",
      "metadata": {
        "id": "GYQhC-NasRFD"
      },
      "source": [
        "os.chdir('/content/drive/MyDrive/DS/identification/catch-me-if-you-can-intruder-detection-through-webpage-session-tracking2')"
      ],
      "execution_count": 6,
      "outputs": []
    },
    {
      "cell_type": "code",
      "metadata": {
        "id": "Jb3Rb2p4sK_5"
      },
      "source": [
        "def load_alice_data():\n",
        "    return pd.read_csv('train_sessions.csv', index_col='session_id', parse_dates=['time1']), \\\n",
        "            pd.read_csv('test_sessions.csv', index_col='session_id', parse_dates=['time1'])\n",
        "\n",
        "df_train, df_test = load_alice_data()\n",
        "df_train = df_train.sort_values(by=\"time1\")\n",
        "\n",
        "for i in range(2, 11):\n",
        "    df_train['time{}'.format(i)] = pd.to_datetime(df_train['time{}'.format(i)])\n",
        "for i in range(2, 11):\n",
        "    df_test['time{}'.format(i)] = pd.to_datetime(df_test['time{}'.format(i)])"
      ],
      "execution_count": 7,
      "outputs": []
    },
    {
      "cell_type": "code",
      "metadata": {
        "id": "VxyCE1vj7BSk",
        "colab": {
          "base_uri": "https://localhost:8080/",
          "height": 422
        },
        "outputId": "992999f6-2988-4840-9df3-281244385da7"
      },
      "source": [
        "df_train.head()"
      ],
      "execution_count": null,
      "outputs": [
        {
          "output_type": "execute_result",
          "data": {
            "text/html": [
              "<div>\n",
              "<style scoped>\n",
              "    .dataframe tbody tr th:only-of-type {\n",
              "        vertical-align: middle;\n",
              "    }\n",
              "\n",
              "    .dataframe tbody tr th {\n",
              "        vertical-align: top;\n",
              "    }\n",
              "\n",
              "    .dataframe thead th {\n",
              "        text-align: right;\n",
              "    }\n",
              "</style>\n",
              "<table border=\"1\" class=\"dataframe\">\n",
              "  <thead>\n",
              "    <tr style=\"text-align: right;\">\n",
              "      <th></th>\n",
              "      <th>site1</th>\n",
              "      <th>time1</th>\n",
              "      <th>site2</th>\n",
              "      <th>time2</th>\n",
              "      <th>site3</th>\n",
              "      <th>time3</th>\n",
              "      <th>site4</th>\n",
              "      <th>time4</th>\n",
              "      <th>site5</th>\n",
              "      <th>time5</th>\n",
              "      <th>site6</th>\n",
              "      <th>time6</th>\n",
              "      <th>site7</th>\n",
              "      <th>time7</th>\n",
              "      <th>site8</th>\n",
              "      <th>time8</th>\n",
              "      <th>site9</th>\n",
              "      <th>time9</th>\n",
              "      <th>site10</th>\n",
              "      <th>time10</th>\n",
              "      <th>target</th>\n",
              "    </tr>\n",
              "    <tr>\n",
              "      <th>session_id</th>\n",
              "      <th></th>\n",
              "      <th></th>\n",
              "      <th></th>\n",
              "      <th></th>\n",
              "      <th></th>\n",
              "      <th></th>\n",
              "      <th></th>\n",
              "      <th></th>\n",
              "      <th></th>\n",
              "      <th></th>\n",
              "      <th></th>\n",
              "      <th></th>\n",
              "      <th></th>\n",
              "      <th></th>\n",
              "      <th></th>\n",
              "      <th></th>\n",
              "      <th></th>\n",
              "      <th></th>\n",
              "      <th></th>\n",
              "      <th></th>\n",
              "      <th></th>\n",
              "    </tr>\n",
              "  </thead>\n",
              "  <tbody>\n",
              "    <tr>\n",
              "      <th>21669</th>\n",
              "      <td>56</td>\n",
              "      <td>2013-01-12 08:05:57</td>\n",
              "      <td>55.0</td>\n",
              "      <td>2013-01-12 08:05:57</td>\n",
              "      <td>NaN</td>\n",
              "      <td>NaT</td>\n",
              "      <td>NaN</td>\n",
              "      <td>NaT</td>\n",
              "      <td>NaN</td>\n",
              "      <td>NaT</td>\n",
              "      <td>NaN</td>\n",
              "      <td>NaT</td>\n",
              "      <td>NaN</td>\n",
              "      <td>NaT</td>\n",
              "      <td>NaN</td>\n",
              "      <td>NaT</td>\n",
              "      <td>NaN</td>\n",
              "      <td>NaT</td>\n",
              "      <td>NaN</td>\n",
              "      <td>NaT</td>\n",
              "      <td>0</td>\n",
              "    </tr>\n",
              "    <tr>\n",
              "      <th>54843</th>\n",
              "      <td>56</td>\n",
              "      <td>2013-01-12 08:37:23</td>\n",
              "      <td>55.0</td>\n",
              "      <td>2013-01-12 08:37:23</td>\n",
              "      <td>56.0</td>\n",
              "      <td>2013-01-12 09:07:07</td>\n",
              "      <td>55.0</td>\n",
              "      <td>2013-01-12 09:07:09</td>\n",
              "      <td>NaN</td>\n",
              "      <td>NaT</td>\n",
              "      <td>NaN</td>\n",
              "      <td>NaT</td>\n",
              "      <td>NaN</td>\n",
              "      <td>NaT</td>\n",
              "      <td>NaN</td>\n",
              "      <td>NaT</td>\n",
              "      <td>NaN</td>\n",
              "      <td>NaT</td>\n",
              "      <td>NaN</td>\n",
              "      <td>NaT</td>\n",
              "      <td>0</td>\n",
              "    </tr>\n",
              "    <tr>\n",
              "      <th>77292</th>\n",
              "      <td>946</td>\n",
              "      <td>2013-01-12 08:50:13</td>\n",
              "      <td>946.0</td>\n",
              "      <td>2013-01-12 08:50:14</td>\n",
              "      <td>951.0</td>\n",
              "      <td>2013-01-12 08:50:15</td>\n",
              "      <td>946.0</td>\n",
              "      <td>2013-01-12 08:50:15</td>\n",
              "      <td>946.0</td>\n",
              "      <td>2013-01-12 08:50:16</td>\n",
              "      <td>945.0</td>\n",
              "      <td>2013-01-12 08:50:16</td>\n",
              "      <td>948.0</td>\n",
              "      <td>2013-01-12 08:50:16</td>\n",
              "      <td>784.0</td>\n",
              "      <td>2013-01-12 08:50:16</td>\n",
              "      <td>949.0</td>\n",
              "      <td>2013-01-12 08:50:17</td>\n",
              "      <td>946.0</td>\n",
              "      <td>2013-01-12 08:50:17</td>\n",
              "      <td>0</td>\n",
              "    </tr>\n",
              "    <tr>\n",
              "      <th>114021</th>\n",
              "      <td>945</td>\n",
              "      <td>2013-01-12 08:50:17</td>\n",
              "      <td>948.0</td>\n",
              "      <td>2013-01-12 08:50:17</td>\n",
              "      <td>949.0</td>\n",
              "      <td>2013-01-12 08:50:18</td>\n",
              "      <td>948.0</td>\n",
              "      <td>2013-01-12 08:50:18</td>\n",
              "      <td>945.0</td>\n",
              "      <td>2013-01-12 08:50:18</td>\n",
              "      <td>946.0</td>\n",
              "      <td>2013-01-12 08:50:18</td>\n",
              "      <td>947.0</td>\n",
              "      <td>2013-01-12 08:50:19</td>\n",
              "      <td>945.0</td>\n",
              "      <td>2013-01-12 08:50:19</td>\n",
              "      <td>946.0</td>\n",
              "      <td>2013-01-12 08:50:19</td>\n",
              "      <td>946.0</td>\n",
              "      <td>2013-01-12 08:50:20</td>\n",
              "      <td>0</td>\n",
              "    </tr>\n",
              "    <tr>\n",
              "      <th>146670</th>\n",
              "      <td>947</td>\n",
              "      <td>2013-01-12 08:50:20</td>\n",
              "      <td>950.0</td>\n",
              "      <td>2013-01-12 08:50:20</td>\n",
              "      <td>948.0</td>\n",
              "      <td>2013-01-12 08:50:20</td>\n",
              "      <td>947.0</td>\n",
              "      <td>2013-01-12 08:50:21</td>\n",
              "      <td>950.0</td>\n",
              "      <td>2013-01-12 08:50:21</td>\n",
              "      <td>952.0</td>\n",
              "      <td>2013-01-12 08:50:21</td>\n",
              "      <td>946.0</td>\n",
              "      <td>2013-01-12 08:50:21</td>\n",
              "      <td>951.0</td>\n",
              "      <td>2013-01-12 08:50:22</td>\n",
              "      <td>946.0</td>\n",
              "      <td>2013-01-12 08:50:22</td>\n",
              "      <td>947.0</td>\n",
              "      <td>2013-01-12 08:50:22</td>\n",
              "      <td>0</td>\n",
              "    </tr>\n",
              "  </tbody>\n",
              "</table>\n",
              "</div>"
            ],
            "text/plain": [
              "            site1               time1  ...              time10 target\n",
              "session_id                             ...                           \n",
              "21669          56 2013-01-12 08:05:57  ...                 NaT      0\n",
              "54843          56 2013-01-12 08:37:23  ...                 NaT      0\n",
              "77292         946 2013-01-12 08:50:13  ... 2013-01-12 08:50:17      0\n",
              "114021        945 2013-01-12 08:50:17  ... 2013-01-12 08:50:20      0\n",
              "146670        947 2013-01-12 08:50:20  ... 2013-01-12 08:50:22      0\n",
              "\n",
              "[5 rows x 21 columns]"
            ]
          },
          "metadata": {
            "tags": []
          },
          "execution_count": 5
        }
      ]
    },
    {
      "cell_type": "markdown",
      "metadata": {
        "id": "6nStyaTFPOJd"
      },
      "source": [
        "# EDA"
      ]
    },
    {
      "cell_type": "markdown",
      "metadata": {
        "id": "yM-VQDUXP35d"
      },
      "source": [
        "## Топ-сайты"
      ]
    },
    {
      "cell_type": "markdown",
      "metadata": {
        "id": "1fq8N6IfjNWH"
      },
      "source": [
        "Посмотрим на самые посещаемые сайты Алисой"
      ]
    },
    {
      "cell_type": "code",
      "metadata": {
        "id": "TgYkv3xg0vyD"
      },
      "source": [
        "#Функция для определения самых популярных сайтов, куда заходила Алиса\n",
        "def top_sites(data, top=10):\n",
        "  sites = np.array(df_train[list(filter(lambda x: 'site' in x, df_train.columns))])\n",
        "  sites_alice = np.array(data[list(filter(lambda x: 'site' in x, data.columns))])[data.target == 1].ravel()\n",
        "  sites_alice = sites_alice[~np.isnan(sites_alice)].astype(int)\n",
        "\n",
        "  unique = np.unique(sites_alice, return_counts=True)[0]\n",
        "  freq = np.unique(sites_alice, return_counts=True)[1]\n",
        "  mask_a = np.argpartition(-freq, top)[:top]\n",
        "  top_alice = unique[mask_a]\n",
        "\n",
        "  df_alice = sites[data.target == 1]\n",
        "  is_top_alice = np.zeros(df_alice.shape[0])\n",
        "\n",
        "  for row in range(df_alice.shape[0]):\n",
        "    is_top_alice[row] = np.any(np.isin(df_alice[row], top_alice))\n",
        "\n",
        "  return is_top_alice"
      ],
      "execution_count": null,
      "outputs": []
    },
    {
      "cell_type": "code",
      "metadata": {
        "id": "zgmnQDkeZHPd"
      },
      "source": [
        "sites = np.array(df_train[list(filter(lambda x: 'site' in x, df_train.columns))])\n",
        "\n",
        "sites_rest = np.array(df_train[list(filter(lambda x: 'site' in x, df_train.columns))])[df_train.target == 0].ravel()\n",
        "sites_alice = np.array(df_train[list(filter(lambda x: 'site' in x, df_train.columns))])[df_train.target == 1].ravel()\n",
        "\n",
        "sites_alice = sites_alice[~np.isnan(sites_alice)].astype(int)\n",
        "sites_rest = sites_rest[~np.isnan(sites_rest)].astype(int)\n",
        "\n",
        "unique = np.unique(sites_alice, return_counts=True)[0]\n",
        "freq = np.unique(sites_alice, return_counts=True)[1]\n",
        "mask_a = np.argpartition(-freq, 30)[:30]\n",
        "top_alice = unique[mask_a]"
      ],
      "execution_count": null,
      "outputs": []
    },
    {
      "cell_type": "code",
      "metadata": {
        "colab": {
          "base_uri": "https://localhost:8080/"
        },
        "id": "ZI1u2YWcv8KK",
        "outputId": "937e8301-b804-41c1-9def-0e0beecf40f9"
      },
      "source": [
        "#id-номера сайтов\n",
        "top_alice"
      ],
      "execution_count": null,
      "outputs": [
        {
          "output_type": "execute_result",
          "data": {
            "text/plain": [
              "array([   21,    75,    76,    77,    80,    81,    29,    22,   879,\n",
              "          82,    23,  3000,   733,    37,    35,    33,   881,    30,\n",
              "        2078,  7832,   941,   704,    52,    78,   617,   942,   270,\n",
              "        1057,   335, 12619])"
            ]
          },
          "metadata": {
            "tags": []
          },
          "execution_count": 48
        }
      ]
    },
    {
      "cell_type": "code",
      "metadata": {
        "colab": {
          "base_uri": "https://localhost:8080/"
        },
        "id": "Lhp9QiPWnSKA",
        "outputId": "f3afa068-0cf2-410b-bf2a-7210d8251ada"
      },
      "source": [
        "df_rest = sites[df_train.target == 0]\n",
        "is_top_alice = np.zeros(df_rest.shape[0])\n",
        "for row in range(df_rest.shape[0]):\n",
        "  is_top_alice[row] = np.any(np.isin(df_rest[row], top_alice))\n",
        "np.unique(is_top_alice, return_counts=True)"
      ],
      "execution_count": null,
      "outputs": [
        {
          "output_type": "execute_result",
          "data": {
            "text/plain": [
              "(array([0., 1.]), array([127546, 123718]))"
            ]
          },
          "metadata": {
            "tags": []
          },
          "execution_count": 15
        }
      ]
    },
    {
      "cell_type": "code",
      "metadata": {
        "colab": {
          "base_uri": "https://localhost:8080/"
        },
        "id": "W7aHop7olQGg",
        "outputId": "84e5116d-0d1f-4bbb-b4f7-37201f585509"
      },
      "source": [
        "df_alice = sites[df_train.target == 1]\n",
        "is_top_alice = np.zeros(df_alice.shape[0])\n",
        "for row in range(df_alice.shape[0]):\n",
        "  is_top_alice[row] = np.any(np.isin(df_alice[row], top_alice))\n",
        "np.unique(is_top_alice, return_counts=True)"
      ],
      "execution_count": null,
      "outputs": [
        {
          "output_type": "execute_result",
          "data": {
            "text/plain": [
              "(array([0., 1.]), array([1159, 1138]))"
            ]
          },
          "metadata": {
            "tags": []
          },
          "execution_count": 153
        }
      ]
    },
    {
      "cell_type": "code",
      "metadata": {
        "colab": {
          "base_uri": "https://localhost:8080/"
        },
        "id": "CIbAkCWTx88n",
        "outputId": "a70f6b4c-17b7-429b-f83e-c71ed556d473"
      },
      "source": [
        "is_top_alice = np.zeros(sites.shape[0])\n",
        "for row in range(sites.shape[0]):\n",
        "  is_top_alice[row] = np.any(np.isin(sites[row], top_alice))\n",
        "np.unique(is_top_alice, return_counts=True)"
      ],
      "execution_count": null,
      "outputs": [
        {
          "output_type": "execute_result",
          "data": {
            "text/plain": [
              "(array([0., 1.]), array([128134, 125427]))"
            ]
          },
          "metadata": {
            "tags": []
          },
          "execution_count": 248
        }
      ]
    },
    {
      "cell_type": "markdown",
      "metadata": {
        "id": "VoEDcqOKjdtw"
      },
      "source": [
        "теперь с помощью словаря узнаем, что это за сайты"
      ]
    },
    {
      "cell_type": "code",
      "metadata": {
        "id": "B5Cfp2y3xDzN"
      },
      "source": [
        "path_pkl = '/content/drive/MyDrive/DS/identification/catch-me-if-you-can-intruder-detection-through-webpage-session-tracking2/site_dic.pkl'"
      ],
      "execution_count": null,
      "outputs": []
    },
    {
      "cell_type": "code",
      "metadata": {
        "id": "4sENueNUwXgo"
      },
      "source": [
        "with open(path_pkl, 'rb') as f:\n",
        "  sites_dict = pickle.load(f)"
      ],
      "execution_count": null,
      "outputs": []
    },
    {
      "cell_type": "code",
      "metadata": {
        "id": "uhWV8G8Hz5UL"
      },
      "source": [
        "values = np.array(list(sites_dict.values()))\n",
        "items = list(sites_dict.items())\n",
        "alice_popular = []\n",
        "for i in range(top_alice.shape[0]):\n",
        "  index = int(np.argwhere(values == top_alice[i]))\n",
        "  site = items[index][0]\n",
        "  alice_popular.append(site)"
      ],
      "execution_count": null,
      "outputs": []
    },
    {
      "cell_type": "code",
      "metadata": {
        "id": "3BarcnSB1MYe"
      },
      "source": [
        "df_alice = sites[df_train.target == 1]\n",
        "site_counter = np.zeros(top_alice.shape[0])\n",
        "for i in range(top_alice.shape[0]):\n",
        "  is_site = np.zeros(df_alice.shape[0])\n",
        "  for row in range(df_alice.shape[0]):\n",
        "    is_site[row] = np.any(np.isin(df_alice[row], top_alice[i]))\n",
        "  site_counter[i] = np.sum(is_site)"
      ],
      "execution_count": null,
      "outputs": []
    },
    {
      "cell_type": "code",
      "metadata": {
        "id": "_45cTFSQ2Szq"
      },
      "source": [
        "df_rest = sites[df_train.target == 0]\n",
        "site_counter_rest = np.zeros(top_alice.shape[0])\n",
        "for i in range(top_alice.shape[0]):\n",
        "  is_site = np.zeros(df_rest.shape[0])\n",
        "  for row in range(df_rest.shape[0]):\n",
        "    is_site[row] = np.any(np.isin(df_rest[row], top_alice[i]))\n",
        "  site_counter_rest[i] = np.sum(is_site)"
      ],
      "execution_count": null,
      "outputs": []
    },
    {
      "cell_type": "code",
      "metadata": {
        "id": "WaP-vNnK4roN"
      },
      "source": [
        "shares_of_pop = pd.DataFrame({'alice': site_counter / df_alice.shape[0],\n",
        "              'rest': site_counter_rest / df_rest.shape[0]})\n",
        "shares_of_pop['diff'] = shares_of_pop['alice'] - shares_of_pop['rest']\n",
        "shares_of_pop['abs_diff'] = shares_of_pop['diff'].abs()\n",
        "shares_of_pop['site'] = alice_popular"
      ],
      "execution_count": null,
      "outputs": []
    },
    {
      "cell_type": "code",
      "metadata": {
        "colab": {
          "base_uri": "https://localhost:8080/",
          "height": 976
        },
        "id": "p37nkrsT80UW",
        "outputId": "c1f4ad14-4450-4dd5-8255-99e56aeda8ac"
      },
      "source": [
        "#разница в частоте встречаемости сайтов у Алисы и всех остальных\n",
        "shares_of_pop"
      ],
      "execution_count": null,
      "outputs": [
        {
          "output_type": "execute_result",
          "data": {
            "text/html": [
              "<div>\n",
              "<style scoped>\n",
              "    .dataframe tbody tr th:only-of-type {\n",
              "        vertical-align: middle;\n",
              "    }\n",
              "\n",
              "    .dataframe tbody tr th {\n",
              "        vertical-align: top;\n",
              "    }\n",
              "\n",
              "    .dataframe thead th {\n",
              "        text-align: right;\n",
              "    }\n",
              "</style>\n",
              "<table border=\"1\" class=\"dataframe\">\n",
              "  <thead>\n",
              "    <tr style=\"text-align: right;\">\n",
              "      <th></th>\n",
              "      <th>alice</th>\n",
              "      <th>rest</th>\n",
              "      <th>diff</th>\n",
              "      <th>abs_diff</th>\n",
              "      <th>site</th>\n",
              "    </tr>\n",
              "  </thead>\n",
              "  <tbody>\n",
              "    <tr>\n",
              "      <th>0</th>\n",
              "      <td>0.158468</td>\n",
              "      <td>0.255807</td>\n",
              "      <td>-0.097339</td>\n",
              "      <td>0.097339</td>\n",
              "      <td>www.google.fr</td>\n",
              "    </tr>\n",
              "    <tr>\n",
              "      <th>1</th>\n",
              "      <td>0.131040</td>\n",
              "      <td>0.024946</td>\n",
              "      <td>0.106095</td>\n",
              "      <td>0.106095</td>\n",
              "      <td>s.ytimg.com</td>\n",
              "    </tr>\n",
              "    <tr>\n",
              "      <th>2</th>\n",
              "      <td>0.307357</td>\n",
              "      <td>0.046322</td>\n",
              "      <td>0.261036</td>\n",
              "      <td>0.261036</td>\n",
              "      <td>www.youtube.com</td>\n",
              "    </tr>\n",
              "    <tr>\n",
              "      <th>3</th>\n",
              "      <td>0.290379</td>\n",
              "      <td>0.037188</td>\n",
              "      <td>0.253191</td>\n",
              "      <td>0.253191</td>\n",
              "      <td>i1.ytimg.com</td>\n",
              "    </tr>\n",
              "    <tr>\n",
              "      <th>4</th>\n",
              "      <td>0.281672</td>\n",
              "      <td>0.041693</td>\n",
              "      <td>0.239979</td>\n",
              "      <td>0.239979</td>\n",
              "      <td>s.youtube.com</td>\n",
              "    </tr>\n",
              "    <tr>\n",
              "      <th>5</th>\n",
              "      <td>0.103613</td>\n",
              "      <td>0.009424</td>\n",
              "      <td>0.094189</td>\n",
              "      <td>0.094189</td>\n",
              "      <td>r4---sn-gxo5uxg-jqbe.googlevideo.com</td>\n",
              "    </tr>\n",
              "    <tr>\n",
              "      <th>6</th>\n",
              "      <td>0.249020</td>\n",
              "      <td>0.154280</td>\n",
              "      <td>0.094741</td>\n",
              "      <td>0.094741</td>\n",
              "      <td>www.facebook.com</td>\n",
              "    </tr>\n",
              "    <tr>\n",
              "      <th>7</th>\n",
              "      <td>0.180670</td>\n",
              "      <td>0.171159</td>\n",
              "      <td>0.009512</td>\n",
              "      <td>0.009512</td>\n",
              "      <td>apis.google.com</td>\n",
              "    </tr>\n",
              "    <tr>\n",
              "      <th>8</th>\n",
              "      <td>0.089682</td>\n",
              "      <td>0.010133</td>\n",
              "      <td>0.079549</td>\n",
              "      <td>0.079549</td>\n",
              "      <td>r1---sn-gxo5uxg-jqbe.googlevideo.com</td>\n",
              "    </tr>\n",
              "    <tr>\n",
              "      <th>9</th>\n",
              "      <td>0.084023</td>\n",
              "      <td>0.009874</td>\n",
              "      <td>0.074149</td>\n",
              "      <td>0.074149</td>\n",
              "      <td>r2---sn-gxo5uxg-jqbe.googlevideo.com</td>\n",
              "    </tr>\n",
              "    <tr>\n",
              "      <th>10</th>\n",
              "      <td>0.148890</td>\n",
              "      <td>0.236058</td>\n",
              "      <td>-0.087169</td>\n",
              "      <td>0.087169</td>\n",
              "      <td>www.google.com</td>\n",
              "    </tr>\n",
              "    <tr>\n",
              "      <th>11</th>\n",
              "      <td>0.062255</td>\n",
              "      <td>0.002388</td>\n",
              "      <td>0.059867</td>\n",
              "      <td>0.059867</td>\n",
              "      <td>vk.com</td>\n",
              "    </tr>\n",
              "    <tr>\n",
              "      <th>12</th>\n",
              "      <td>0.016543</td>\n",
              "      <td>0.010296</td>\n",
              "      <td>0.006247</td>\n",
              "      <td>0.006247</td>\n",
              "      <td>translate.google.fr</td>\n",
              "    </tr>\n",
              "    <tr>\n",
              "      <th>13</th>\n",
              "      <td>0.090553</td>\n",
              "      <td>0.070046</td>\n",
              "      <td>0.020507</td>\n",
              "      <td>0.020507</td>\n",
              "      <td>twitter.com</td>\n",
              "    </tr>\n",
              "    <tr>\n",
              "      <th>14</th>\n",
              "      <td>0.148019</td>\n",
              "      <td>0.078109</td>\n",
              "      <td>0.069910</td>\n",
              "      <td>0.069910</td>\n",
              "      <td>s-static.ak.facebook.com</td>\n",
              "    </tr>\n",
              "    <tr>\n",
              "      <th>15</th>\n",
              "      <td>0.117980</td>\n",
              "      <td>0.071686</td>\n",
              "      <td>0.046294</td>\n",
              "      <td>0.046294</td>\n",
              "      <td>static.ak.facebook.com</td>\n",
              "    </tr>\n",
              "    <tr>\n",
              "      <th>16</th>\n",
              "      <td>0.067915</td>\n",
              "      <td>0.007753</td>\n",
              "      <td>0.060162</td>\n",
              "      <td>0.060162</td>\n",
              "      <td>r3---sn-gxo5uxg-jqbe.googlevideo.com</td>\n",
              "    </tr>\n",
              "    <tr>\n",
              "      <th>17</th>\n",
              "      <td>0.089247</td>\n",
              "      <td>0.077122</td>\n",
              "      <td>0.012125</td>\n",
              "      <td>0.012125</td>\n",
              "      <td>platform.twitter.com</td>\n",
              "    </tr>\n",
              "    <tr>\n",
              "      <th>18</th>\n",
              "      <td>0.033087</td>\n",
              "      <td>0.001258</td>\n",
              "      <td>0.031829</td>\n",
              "      <td>0.031829</td>\n",
              "      <td>www.melty.fr</td>\n",
              "    </tr>\n",
              "    <tr>\n",
              "      <th>19</th>\n",
              "      <td>0.028733</td>\n",
              "      <td>0.000529</td>\n",
              "      <td>0.028204</td>\n",
              "      <td>0.028204</td>\n",
              "      <td>www.info-jeunes.net</td>\n",
              "    </tr>\n",
              "    <tr>\n",
              "      <th>20</th>\n",
              "      <td>0.038746</td>\n",
              "      <td>0.023314</td>\n",
              "      <td>0.015432</td>\n",
              "      <td>0.015432</td>\n",
              "      <td>mts0.google.com</td>\n",
              "    </tr>\n",
              "    <tr>\n",
              "      <th>21</th>\n",
              "      <td>0.061820</td>\n",
              "      <td>0.005484</td>\n",
              "      <td>0.056335</td>\n",
              "      <td>0.056335</td>\n",
              "      <td>www.audienceinsights.net</td>\n",
              "    </tr>\n",
              "    <tr>\n",
              "      <th>22</th>\n",
              "      <td>0.075751</td>\n",
              "      <td>0.077998</td>\n",
              "      <td>-0.002247</td>\n",
              "      <td>0.002247</td>\n",
              "      <td>clients1.google.com</td>\n",
              "    </tr>\n",
              "    <tr>\n",
              "      <th>23</th>\n",
              "      <td>0.073574</td>\n",
              "      <td>0.008047</td>\n",
              "      <td>0.065527</td>\n",
              "      <td>0.065527</td>\n",
              "      <td>yt3.ggpht.com</td>\n",
              "    </tr>\n",
              "    <tr>\n",
              "      <th>24</th>\n",
              "      <td>0.063126</td>\n",
              "      <td>0.014913</td>\n",
              "      <td>0.048213</td>\n",
              "      <td>0.048213</td>\n",
              "      <td>gg.google.com</td>\n",
              "    </tr>\n",
              "    <tr>\n",
              "      <th>25</th>\n",
              "      <td>0.033957</td>\n",
              "      <td>0.021487</td>\n",
              "      <td>0.012470</td>\n",
              "      <td>0.012470</td>\n",
              "      <td>mts1.google.com</td>\n",
              "    </tr>\n",
              "    <tr>\n",
              "      <th>26</th>\n",
              "      <td>0.041794</td>\n",
              "      <td>0.022112</td>\n",
              "      <td>0.019681</td>\n",
              "      <td>0.019681</td>\n",
              "      <td>api.bing.com</td>\n",
              "    </tr>\n",
              "    <tr>\n",
              "      <th>27</th>\n",
              "      <td>0.059208</td>\n",
              "      <td>0.007017</td>\n",
              "      <td>0.052191</td>\n",
              "      <td>0.052191</td>\n",
              "      <td>plus.googleapis.com</td>\n",
              "    </tr>\n",
              "    <tr>\n",
              "      <th>28</th>\n",
              "      <td>0.033522</td>\n",
              "      <td>0.007864</td>\n",
              "      <td>0.025658</td>\n",
              "      <td>0.025658</td>\n",
              "      <td>www.dailymotion.com</td>\n",
              "    </tr>\n",
              "    <tr>\n",
              "      <th>29</th>\n",
              "      <td>0.037875</td>\n",
              "      <td>0.000175</td>\n",
              "      <td>0.037700</td>\n",
              "      <td>0.037700</td>\n",
              "      <td>youwatch.org</td>\n",
              "    </tr>\n",
              "  </tbody>\n",
              "</table>\n",
              "</div>"
            ],
            "text/plain": [
              "       alice      rest  ...  abs_diff                                  site\n",
              "0   0.158468  0.255807  ...  0.097339                         www.google.fr\n",
              "1   0.131040  0.024946  ...  0.106095                           s.ytimg.com\n",
              "2   0.307357  0.046322  ...  0.261036                       www.youtube.com\n",
              "3   0.290379  0.037188  ...  0.253191                          i1.ytimg.com\n",
              "4   0.281672  0.041693  ...  0.239979                         s.youtube.com\n",
              "5   0.103613  0.009424  ...  0.094189  r4---sn-gxo5uxg-jqbe.googlevideo.com\n",
              "6   0.249020  0.154280  ...  0.094741                      www.facebook.com\n",
              "7   0.180670  0.171159  ...  0.009512                       apis.google.com\n",
              "8   0.089682  0.010133  ...  0.079549  r1---sn-gxo5uxg-jqbe.googlevideo.com\n",
              "9   0.084023  0.009874  ...  0.074149  r2---sn-gxo5uxg-jqbe.googlevideo.com\n",
              "10  0.148890  0.236058  ...  0.087169                        www.google.com\n",
              "11  0.062255  0.002388  ...  0.059867                                vk.com\n",
              "12  0.016543  0.010296  ...  0.006247                   translate.google.fr\n",
              "13  0.090553  0.070046  ...  0.020507                           twitter.com\n",
              "14  0.148019  0.078109  ...  0.069910              s-static.ak.facebook.com\n",
              "15  0.117980  0.071686  ...  0.046294                static.ak.facebook.com\n",
              "16  0.067915  0.007753  ...  0.060162  r3---sn-gxo5uxg-jqbe.googlevideo.com\n",
              "17  0.089247  0.077122  ...  0.012125                  platform.twitter.com\n",
              "18  0.033087  0.001258  ...  0.031829                          www.melty.fr\n",
              "19  0.028733  0.000529  ...  0.028204                   www.info-jeunes.net\n",
              "20  0.038746  0.023314  ...  0.015432                       mts0.google.com\n",
              "21  0.061820  0.005484  ...  0.056335              www.audienceinsights.net\n",
              "22  0.075751  0.077998  ...  0.002247                   clients1.google.com\n",
              "23  0.073574  0.008047  ...  0.065527                         yt3.ggpht.com\n",
              "24  0.063126  0.014913  ...  0.048213                         gg.google.com\n",
              "25  0.033957  0.021487  ...  0.012470                       mts1.google.com\n",
              "26  0.041794  0.022112  ...  0.019681                          api.bing.com\n",
              "27  0.059208  0.007017  ...  0.052191                   plus.googleapis.com\n",
              "28  0.033522  0.007864  ...  0.025658                   www.dailymotion.com\n",
              "29  0.037875  0.000175  ...  0.037700                          youwatch.org\n",
              "\n",
              "[30 rows x 5 columns]"
            ]
          },
          "metadata": {
            "tags": []
          },
          "execution_count": 84
        }
      ]
    },
    {
      "cell_type": "code",
      "metadata": {
        "colab": {
          "base_uri": "https://localhost:8080/",
          "height": 515
        },
        "id": "x5C0zMPW787r",
        "outputId": "90804922-4f74-4c3d-a1f9-98c4c710bdf0"
      },
      "source": [
        "plt.figure(figsize=(10,8))\n",
        "sns.barplot(x=shares_of_pop['abs_diff'], y=shares_of_pop['site'])"
      ],
      "execution_count": null,
      "outputs": [
        {
          "output_type": "execute_result",
          "data": {
            "text/plain": [
              "<matplotlib.axes._subplots.AxesSubplot at 0x7f1beccb69d0>"
            ]
          },
          "metadata": {
            "tags": []
          },
          "execution_count": 83
        },
        {
          "output_type": "display_data",
          "data": {
            "image/png": "[encoded data removed]",
            "text/plain": [
              "<Figure size 720x576 with 1 Axes>"
            ]
          },
          "metadata": {
            "tags": []
          }
        }
      ]
    },
    {
      "cell_type": "markdown",
      "metadata": {
        "id": "70kcUfxMjyx0"
      },
      "source": [
        "Похоже, что Алиса любит посещать видеохостинги. Посмотрим на её посещаемость подобных сайтов более подробно."
      ]
    },
    {
      "cell_type": "code",
      "metadata": {
        "id": "DZUHjjhk9UkY"
      },
      "source": [
        "youtube = list(filter(lambda x: 'youtube' in x[0], items))\n",
        "youtube"
      ],
      "execution_count": null,
      "outputs": []
    },
    {
      "cell_type": "code",
      "metadata": {
        "id": "1Jjh6xY3-X6N"
      },
      "source": [
        "def sites_difference(sites, string):\n",
        "  target_sites = list(filter(lambda x: string in x[0], items))\n",
        "  sites_indexes = np.array([i[1] for i in target_sites])\n",
        "  sites_names = [i[0] for i in target_sites]\n",
        "\n",
        "\n",
        "  df_alice = sites[df_train.target == 1]\n",
        "  site_counter = np.zeros(sites_indexes.shape[0])\n",
        "  for i in range(sites_indexes.shape[0]):\n",
        "    is_site = np.zeros(df_alice.shape[0])\n",
        "    for row in range(df_alice.shape[0]):\n",
        "      is_site[row] = np.any(np.isin(df_alice[row], sites_indexes[i]))\n",
        "    site_counter[i] = np.sum(is_site)\n",
        "  \n",
        "  \n",
        "  df_rest = sites[df_train.target == 0]\n",
        "  site_counter_rest = np.zeros(sites_indexes.shape[0])\n",
        "  for i in range(sites_indexes.shape[0]):\n",
        "    is_site = np.zeros(df_rest.shape[0])\n",
        "    for row in range(df_rest.shape[0]):\n",
        "      is_site[row] = np.any(np.isin(df_rest[row], sites_indexes[i]))\n",
        "    site_counter_rest[i] = np.sum(is_site)\n",
        "\n",
        "  shares_of_pop = pd.DataFrame({'alice': site_counter / df_alice.shape[0],\n",
        "            'rest': site_counter_rest / df_rest.shape[0]})\n",
        "  shares_of_pop['diff'] = shares_of_pop['alice'] - shares_of_pop['rest']\n",
        "  shares_of_pop['abs_diff'] = shares_of_pop['diff'].abs()\n",
        "  shares_of_pop['site'] = sites_names\n",
        "\n",
        "  plt.figure(figsize=(10,8))\n",
        "  sns.barplot(x=shares_of_pop['abs_diff'], y=shares_of_pop['site'])\n",
        "\n",
        "  return shares_of_pop"
      ],
      "execution_count": null,
      "outputs": []
    },
    {
      "cell_type": "code",
      "metadata": {
        "colab": {
          "base_uri": "https://localhost:8080/",
          "height": 515
        },
        "id": "KSMSttT-BMV9",
        "outputId": "2e13c6fa-80ee-4b64-cfcf-7d2ac3f7790d"
      },
      "source": [
        "ytimg = sites_difference(sites, 'youtube')"
      ],
      "execution_count": null,
      "outputs": [
        {
          "output_type": "execute_result",
          "data": {
            "text/plain": [
              "<matplotlib.axes._subplots.AxesSubplot at 0x7f1beccc6610>"
            ]
          },
          "metadata": {
            "tags": []
          },
          "execution_count": 112
        },
        {
          "output_type": "display_data",
          "data": {
            "image/png": "[encoded data removed]",
            "text/plain": [
              "<Figure size 720x576 with 1 Axes>"
            ]
          },
          "metadata": {
            "tags": []
          }
        }
      ]
    },
    {
      "cell_type": "code",
      "metadata": {
        "colab": {
          "base_uri": "https://localhost:8080/",
          "height": 498
        },
        "id": "pXipSJpbDCek",
        "outputId": "6f818e86-3b73-4d85-e4a4-46874cd72a0b"
      },
      "source": [
        "ytimg = sites_difference(sites, 'ytimg')"
      ],
      "execution_count": null,
      "outputs": [
        {
          "output_type": "display_data",
          "data": {
            "image/png": "[encoded data removed]",
            "text/plain": [
              "<Figure size 720x576 with 1 Axes>"
            ]
          },
          "metadata": {
            "tags": []
          }
        }
      ]
    },
    {
      "cell_type": "markdown",
      "metadata": {
        "id": "hvXdH6f_vEaP"
      },
      "source": [
        "## Уникальные сайты"
      ]
    },
    {
      "cell_type": "markdown",
      "metadata": {
        "id": "cUzBUMnglBSn"
      },
      "source": [
        "Количество уникальных сайтов в сессии"
      ]
    },
    {
      "cell_type": "code",
      "metadata": {
        "id": "fICNClgdvU8v"
      },
      "source": [
        "unique = nunique(np.array(df_train[['site%s' % i for i in range(1,11)]].fillna(0)), axis=1)"
      ],
      "execution_count": null,
      "outputs": []
    },
    {
      "cell_type": "code",
      "metadata": {
        "id": "9U15NfsXvHZ2"
      },
      "source": [
        "un = pd.DataFrame({\n",
        "    'unique': unique,\n",
        "    'target': df_train.target.values\n",
        "})"
      ],
      "execution_count": null,
      "outputs": []
    },
    {
      "cell_type": "code",
      "metadata": {
        "colab": {
          "base_uri": "https://localhost:8080/",
          "height": 400
        },
        "id": "cLFW5BW2vitL",
        "outputId": "4bdd2869-fdb2-4e06-f205-2fa0deb04d86"
      },
      "source": [
        "sns.catplot(x='unique', col='target', data=un, kind='count', sharey=False)"
      ],
      "execution_count": null,
      "outputs": [
        {
          "output_type": "execute_result",
          "data": {
            "text/plain": [
              "<seaborn.axisgrid.FacetGrid at 0x7ff76aee6290>"
            ]
          },
          "metadata": {
            "tags": []
          },
          "execution_count": 75
        },
        {
          "output_type": "display_data",
          "data": {
            "image/png": "[encoded data removed]",
            "text/plain": [
              "<Figure size 720x360 with 2 Axes>"
            ]
          },
          "metadata": {
            "tags": [],
            "needs_background": "light"
          }
        }
      ]
    },
    {
      "cell_type": "markdown",
      "metadata": {
        "id": "VJ9JKOCLlHEc"
      },
      "source": [
        "Распределения количества уникальных сайтов для Алисы концентрируется около 7 и ярко выражено.  \n",
        "Для остальных пользователей это распределение более равномерно."
      ]
    },
    {
      "cell_type": "markdown",
      "metadata": {
        "id": "sUI-pb_7amgY"
      },
      "source": [
        "## Временные периоды"
      ]
    },
    {
      "cell_type": "code",
      "metadata": {
        "id": "9evdmDpnaolA"
      },
      "source": [
        "def time_features(df_train):\n",
        "  \n",
        "  df_train['hour']= df_train['time1'].dt.hour\n",
        "  hour = df_train['time1'].dt.hour\n",
        "\n",
        "  df_train['morning'] = ((hour >= 7) & (hour <= 11)).astype('int')\n",
        "  df_train['day'] = ((hour >= 12) & (hour <= 18)).astype('int')\n",
        "  df_train['evening'] = ((hour >= 19) & (hour <= 23)).astype('int')\n",
        "  df_train['night'] = ((hour >= 0) & (hour <= 6)).astype('int')\n",
        "\n",
        "  df_train['weekday'] = df_train['time1'].dt.weekday\n",
        "  df_train['working_day'] = (df_train['weekday']  <= 4).astype('int')\n",
        "\n",
        "  df_train['month'] = df_train['time1'].dt.month\n",
        "  df_train['year'] = df_train['time1'].dt.year\n",
        "  df_train['year_month'] = (100 * df_train['year'] + df_train['month']) / 1e2\n",
        "  X = df_train\n",
        "  # session time features\n",
        "  times = ['time%s' % i for i in range(1, 11)]\n",
        "  # session duration: take to the power of 1/5 to normalize the distribution\n",
        "  df_train['session_duration'] = (X[times].max(axis=1) - X[times].min(axis=1)).astype('timedelta64[ms]').astype(int) ** 0.2\n",
        "  # number of sites visited in a session\n",
        "  df_train['number_of_sites'] = X[times].isnull().sum(axis=1).apply(lambda x: 10 - x)\n",
        "  # average time spent on one site during a session\n",
        "  df_train['time_per_site'] = (df_train['session_duration'] / df_train['number_of_sites']) ** 0.2\n",
        "\n",
        "  return df_train"
      ],
      "execution_count": null,
      "outputs": []
    },
    {
      "cell_type": "code",
      "metadata": {
        "id": "0bYEBJ4LdQRk",
        "colab": {
          "base_uri": "https://localhost:8080/",
          "height": 422
        },
        "outputId": "83850a6a-6f5d-48b4-8228-62234b4617fa"
      },
      "source": [
        "time = time_features(df_train)\n",
        "time.head()"
      ],
      "execution_count": null,
      "outputs": [
        {
          "output_type": "execute_result",
          "data": {
            "text/html": [
              "<div>\n",
              "<style scoped>\n",
              "    .dataframe tbody tr th:only-of-type {\n",
              "        vertical-align: middle;\n",
              "    }\n",
              "\n",
              "    .dataframe tbody tr th {\n",
              "        vertical-align: top;\n",
              "    }\n",
              "\n",
              "    .dataframe thead th {\n",
              "        text-align: right;\n",
              "    }\n",
              "</style>\n",
              "<table border=\"1\" class=\"dataframe\">\n",
              "  <thead>\n",
              "    <tr style=\"text-align: right;\">\n",
              "      <th></th>\n",
              "      <th>site1</th>\n",
              "      <th>time1</th>\n",
              "      <th>site2</th>\n",
              "      <th>time2</th>\n",
              "      <th>site3</th>\n",
              "      <th>time3</th>\n",
              "      <th>site4</th>\n",
              "      <th>time4</th>\n",
              "      <th>site5</th>\n",
              "      <th>time5</th>\n",
              "      <th>site6</th>\n",
              "      <th>time6</th>\n",
              "      <th>site7</th>\n",
              "      <th>time7</th>\n",
              "      <th>site8</th>\n",
              "      <th>time8</th>\n",
              "      <th>site9</th>\n",
              "      <th>time9</th>\n",
              "      <th>site10</th>\n",
              "      <th>time10</th>\n",
              "      <th>target</th>\n",
              "      <th>hour</th>\n",
              "      <th>morning</th>\n",
              "      <th>day</th>\n",
              "      <th>evening</th>\n",
              "      <th>night</th>\n",
              "      <th>weekday</th>\n",
              "      <th>working_day</th>\n",
              "      <th>month</th>\n",
              "      <th>year</th>\n",
              "      <th>year_month</th>\n",
              "      <th>session_duration</th>\n",
              "      <th>number_of_sites</th>\n",
              "      <th>time_per_site</th>\n",
              "    </tr>\n",
              "    <tr>\n",
              "      <th>session_id</th>\n",
              "      <th></th>\n",
              "      <th></th>\n",
              "      <th></th>\n",
              "      <th></th>\n",
              "      <th></th>\n",
              "      <th></th>\n",
              "      <th></th>\n",
              "      <th></th>\n",
              "      <th></th>\n",
              "      <th></th>\n",
              "      <th></th>\n",
              "      <th></th>\n",
              "      <th></th>\n",
              "      <th></th>\n",
              "      <th></th>\n",
              "      <th></th>\n",
              "      <th></th>\n",
              "      <th></th>\n",
              "      <th></th>\n",
              "      <th></th>\n",
              "      <th></th>\n",
              "      <th></th>\n",
              "      <th></th>\n",
              "      <th></th>\n",
              "      <th></th>\n",
              "      <th></th>\n",
              "      <th></th>\n",
              "      <th></th>\n",
              "      <th></th>\n",
              "      <th></th>\n",
              "      <th></th>\n",
              "      <th></th>\n",
              "      <th></th>\n",
              "      <th></th>\n",
              "    </tr>\n",
              "  </thead>\n",
              "  <tbody>\n",
              "    <tr>\n",
              "      <th>21669</th>\n",
              "      <td>56</td>\n",
              "      <td>2013-01-12 08:05:57</td>\n",
              "      <td>55.0</td>\n",
              "      <td>2013-01-12 08:05:57</td>\n",
              "      <td>NaN</td>\n",
              "      <td>NaT</td>\n",
              "      <td>NaN</td>\n",
              "      <td>NaT</td>\n",
              "      <td>NaN</td>\n",
              "      <td>NaT</td>\n",
              "      <td>NaN</td>\n",
              "      <td>NaT</td>\n",
              "      <td>NaN</td>\n",
              "      <td>NaT</td>\n",
              "      <td>NaN</td>\n",
              "      <td>NaT</td>\n",
              "      <td>NaN</td>\n",
              "      <td>NaT</td>\n",
              "      <td>NaN</td>\n",
              "      <td>NaT</td>\n",
              "      <td>0</td>\n",
              "      <td>8</td>\n",
              "      <td>1</td>\n",
              "      <td>0</td>\n",
              "      <td>0</td>\n",
              "      <td>0</td>\n",
              "      <td>5</td>\n",
              "      <td>0</td>\n",
              "      <td>1</td>\n",
              "      <td>2013</td>\n",
              "      <td>2013.01</td>\n",
              "      <td>0.000000</td>\n",
              "      <td>2</td>\n",
              "      <td>0.000000</td>\n",
              "    </tr>\n",
              "    <tr>\n",
              "      <th>54843</th>\n",
              "      <td>56</td>\n",
              "      <td>2013-01-12 08:37:23</td>\n",
              "      <td>55.0</td>\n",
              "      <td>2013-01-12 08:37:23</td>\n",
              "      <td>56.0</td>\n",
              "      <td>2013-01-12 09:07:07</td>\n",
              "      <td>55.0</td>\n",
              "      <td>2013-01-12 09:07:09</td>\n",
              "      <td>NaN</td>\n",
              "      <td>NaT</td>\n",
              "      <td>NaN</td>\n",
              "      <td>NaT</td>\n",
              "      <td>NaN</td>\n",
              "      <td>NaT</td>\n",
              "      <td>NaN</td>\n",
              "      <td>NaT</td>\n",
              "      <td>NaN</td>\n",
              "      <td>NaT</td>\n",
              "      <td>NaN</td>\n",
              "      <td>NaT</td>\n",
              "      <td>0</td>\n",
              "      <td>8</td>\n",
              "      <td>1</td>\n",
              "      <td>0</td>\n",
              "      <td>0</td>\n",
              "      <td>0</td>\n",
              "      <td>5</td>\n",
              "      <td>0</td>\n",
              "      <td>1</td>\n",
              "      <td>2013</td>\n",
              "      <td>2013.01</td>\n",
              "      <td>17.798209</td>\n",
              "      <td>4</td>\n",
              "      <td>1.347917</td>\n",
              "    </tr>\n",
              "    <tr>\n",
              "      <th>77292</th>\n",
              "      <td>946</td>\n",
              "      <td>2013-01-12 08:50:13</td>\n",
              "      <td>946.0</td>\n",
              "      <td>2013-01-12 08:50:14</td>\n",
              "      <td>951.0</td>\n",
              "      <td>2013-01-12 08:50:15</td>\n",
              "      <td>946.0</td>\n",
              "      <td>2013-01-12 08:50:15</td>\n",
              "      <td>946.0</td>\n",
              "      <td>2013-01-12 08:50:16</td>\n",
              "      <td>945.0</td>\n",
              "      <td>2013-01-12 08:50:16</td>\n",
              "      <td>948.0</td>\n",
              "      <td>2013-01-12 08:50:16</td>\n",
              "      <td>784.0</td>\n",
              "      <td>2013-01-12 08:50:16</td>\n",
              "      <td>949.0</td>\n",
              "      <td>2013-01-12 08:50:17</td>\n",
              "      <td>946.0</td>\n",
              "      <td>2013-01-12 08:50:17</td>\n",
              "      <td>0</td>\n",
              "      <td>8</td>\n",
              "      <td>1</td>\n",
              "      <td>0</td>\n",
              "      <td>0</td>\n",
              "      <td>0</td>\n",
              "      <td>5</td>\n",
              "      <td>0</td>\n",
              "      <td>1</td>\n",
              "      <td>2013</td>\n",
              "      <td>2013.01</td>\n",
              "      <td>5.253056</td>\n",
              "      <td>10</td>\n",
              "      <td>0.879189</td>\n",
              "    </tr>\n",
              "    <tr>\n",
              "      <th>114021</th>\n",
              "      <td>945</td>\n",
              "      <td>2013-01-12 08:50:17</td>\n",
              "      <td>948.0</td>\n",
              "      <td>2013-01-12 08:50:17</td>\n",
              "      <td>949.0</td>\n",
              "      <td>2013-01-12 08:50:18</td>\n",
              "      <td>948.0</td>\n",
              "      <td>2013-01-12 08:50:18</td>\n",
              "      <td>945.0</td>\n",
              "      <td>2013-01-12 08:50:18</td>\n",
              "      <td>946.0</td>\n",
              "      <td>2013-01-12 08:50:18</td>\n",
              "      <td>947.0</td>\n",
              "      <td>2013-01-12 08:50:19</td>\n",
              "      <td>945.0</td>\n",
              "      <td>2013-01-12 08:50:19</td>\n",
              "      <td>946.0</td>\n",
              "      <td>2013-01-12 08:50:19</td>\n",
              "      <td>946.0</td>\n",
              "      <td>2013-01-12 08:50:20</td>\n",
              "      <td>0</td>\n",
              "      <td>8</td>\n",
              "      <td>1</td>\n",
              "      <td>0</td>\n",
              "      <td>0</td>\n",
              "      <td>0</td>\n",
              "      <td>5</td>\n",
              "      <td>0</td>\n",
              "      <td>1</td>\n",
              "      <td>2013</td>\n",
              "      <td>2013.01</td>\n",
              "      <td>4.959344</td>\n",
              "      <td>10</td>\n",
              "      <td>0.869130</td>\n",
              "    </tr>\n",
              "    <tr>\n",
              "      <th>146670</th>\n",
              "      <td>947</td>\n",
              "      <td>2013-01-12 08:50:20</td>\n",
              "      <td>950.0</td>\n",
              "      <td>2013-01-12 08:50:20</td>\n",
              "      <td>948.0</td>\n",
              "      <td>2013-01-12 08:50:20</td>\n",
              "      <td>947.0</td>\n",
              "      <td>2013-01-12 08:50:21</td>\n",
              "      <td>950.0</td>\n",
              "      <td>2013-01-12 08:50:21</td>\n",
              "      <td>952.0</td>\n",
              "      <td>2013-01-12 08:50:21</td>\n",
              "      <td>946.0</td>\n",
              "      <td>2013-01-12 08:50:21</td>\n",
              "      <td>951.0</td>\n",
              "      <td>2013-01-12 08:50:22</td>\n",
              "      <td>946.0</td>\n",
              "      <td>2013-01-12 08:50:22</td>\n",
              "      <td>947.0</td>\n",
              "      <td>2013-01-12 08:50:22</td>\n",
              "      <td>0</td>\n",
              "      <td>8</td>\n",
              "      <td>1</td>\n",
              "      <td>0</td>\n",
              "      <td>0</td>\n",
              "      <td>0</td>\n",
              "      <td>5</td>\n",
              "      <td>0</td>\n",
              "      <td>1</td>\n",
              "      <td>2013</td>\n",
              "      <td>2013.01</td>\n",
              "      <td>4.573051</td>\n",
              "      <td>10</td>\n",
              "      <td>0.855148</td>\n",
              "    </tr>\n",
              "  </tbody>\n",
              "</table>\n",
              "</div>"
            ],
            "text/plain": [
              "            site1               time1  ...  number_of_sites time_per_site\n",
              "session_id                             ...                               \n",
              "21669          56 2013-01-12 08:05:57  ...                2      0.000000\n",
              "54843          56 2013-01-12 08:37:23  ...                4      1.347917\n",
              "77292         946 2013-01-12 08:50:13  ...               10      0.879189\n",
              "114021        945 2013-01-12 08:50:17  ...               10      0.869130\n",
              "146670        947 2013-01-12 08:50:20  ...               10      0.855148\n",
              "\n",
              "[5 rows x 34 columns]"
            ]
          },
          "metadata": {
            "tags": []
          },
          "execution_count": 27
        }
      ]
    },
    {
      "cell_type": "markdown",
      "metadata": {
        "id": "sa9fYuV6lWu2"
      },
      "source": [
        "Распределение часов, в которые заходила Алиса"
      ]
    },
    {
      "cell_type": "code",
      "metadata": {
        "colab": {
          "base_uri": "https://localhost:8080/",
          "height": 400
        },
        "id": "4e_87tgQlH5C",
        "outputId": "d5b0f734-48c3-4755-c046-f79d045e4aec"
      },
      "source": [
        "sns.catplot(x='hour', col='target', data=df_train, kind='count', sharey=False)"
      ],
      "execution_count": null,
      "outputs": [
        {
          "output_type": "execute_result",
          "data": {
            "text/plain": [
              "<seaborn.axisgrid.FacetGrid at 0x7f13a361bc10>"
            ]
          },
          "metadata": {
            "tags": []
          },
          "execution_count": 19
        },
        {
          "output_type": "display_data",
          "data": {
            "image/png": "[encoded data removed]",
            "text/plain": [
              "<Figure size 720x360 with 2 Axes>"
            ]
          },
          "metadata": {
            "tags": [],
            "needs_background": "light"
          }
        }
      ]
    },
    {
      "cell_type": "markdown",
      "metadata": {
        "id": "yvI33ywtpePb"
      },
      "source": [
        "У Алисы очень чёткий паттерн использования интернета: подавляющее большинство сессий происходит в следующих промежутках 12-13 часов и 15-18 часов "
      ]
    },
    {
      "cell_type": "markdown",
      "metadata": {
        "id": "8RKinXmLo6Bc"
      },
      "source": [
        "Распределение месяцев"
      ]
    },
    {
      "cell_type": "code",
      "metadata": {
        "colab": {
          "base_uri": "https://localhost:8080/",
          "height": 400
        },
        "id": "Z___DSxRmOMs",
        "outputId": "c0288e65-7425-41a6-e342-e4e46b405fbc"
      },
      "source": [
        "sns.catplot(x='month', col='target', data=df_train, kind='count', palette='Set2', sharey=False)"
      ],
      "execution_count": null,
      "outputs": [
        {
          "output_type": "execute_result",
          "data": {
            "text/plain": [
              "<seaborn.axisgrid.FacetGrid at 0x7f13a4d0f750>"
            ]
          },
          "metadata": {
            "tags": []
          },
          "execution_count": 20
        },
        {
          "output_type": "display_data",
          "data": {
            "image/png": "[encoded data removed]",
            "text/plain": [
              "<Figure size 720x360 with 2 Axes>"
            ]
          },
          "metadata": {
            "tags": [],
            "needs_background": "light"
          }
        }
      ]
    },
    {
      "cell_type": "markdown",
      "metadata": {
        "id": "LTAB7u_zpus0"
      },
      "source": [
        "Алиса ни разу не заходила с мая по сентябрь, а также в октябре"
      ]
    },
    {
      "cell_type": "markdown",
      "metadata": {
        "id": "ZWHuUXLwo_Dc"
      },
      "source": [
        "Распределение дней недели"
      ]
    },
    {
      "cell_type": "code",
      "metadata": {
        "colab": {
          "base_uri": "https://localhost:8080/",
          "height": 400
        },
        "id": "-ALNda_vmhiU",
        "outputId": "d8133d16-d898-4a9b-ddc2-7e63962129d2"
      },
      "source": [
        "sns.catplot(x='weekday', col='target', data=df_train, kind='count', palette='cubehelix', sharey=False)"
      ],
      "execution_count": null,
      "outputs": [
        {
          "output_type": "execute_result",
          "data": {
            "text/plain": [
              "<seaborn.axisgrid.FacetGrid at 0x7f13a3780850>"
            ]
          },
          "metadata": {
            "tags": []
          },
          "execution_count": 21
        },
        {
          "output_type": "display_data",
          "data": {
            "image/png": "[encoded data removed]",
            "text/plain": [
              "<Figure size 720x360 with 2 Axes>"
            ]
          },
          "metadata": {
            "tags": [],
            "needs_background": "light"
          }
        }
      ]
    },
    {
      "cell_type": "markdown",
      "metadata": {
        "id": "whXBjlJBp4-s"
      },
      "source": [
        "Алиса редко заходит по средам и субботам, а также (почти) никогда - по воскресеньям."
      ]
    },
    {
      "cell_type": "markdown",
      "metadata": {
        "id": "ITuL75e9pHdx"
      },
      "source": [
        "Распределение дат"
      ]
    },
    {
      "cell_type": "code",
      "metadata": {
        "colab": {
          "base_uri": "https://localhost:8080/",
          "height": 415
        },
        "id": "Gdy3NCIamk-I",
        "outputId": "8842b4d3-b178-43ae-e37e-634d701d8725"
      },
      "source": [
        "ax = sns.catplot(x='year_month', col='target', data=df_train, kind='count', sharey=False, palette='pastel')\n",
        "plt.xticks(rotation=90)\n",
        "plt.show()"
      ],
      "execution_count": null,
      "outputs": [
        {
          "output_type": "display_data",
          "data": {
            "image/png": "[encoded data removed]",
            "text/plain": [
              "<Figure size 720x360 with 2 Axes>"
            ]
          },
          "metadata": {
            "tags": [],
            "needs_background": "light"
          }
        }
      ]
    },
    {
      "cell_type": "markdown",
      "metadata": {
        "id": "nuwxi49_OcO5"
      },
      "source": [
        "# Preprocessing"
      ]
    },
    {
      "cell_type": "code",
      "metadata": {
        "id": "B47g9mtd3zH_"
      },
      "source": [
        "class SitesFeatures(BaseEstimator, TransformerMixin):\n",
        "\n",
        "  top_alice = np.zeros(10)\n",
        "  exc_alice = set()\n",
        "\n",
        "  def fit(self, X, y=None):\n",
        "    #top_sites\n",
        "    data = X\n",
        "    sites = np.array(data[['site%s' % i for i in range(1, 11)]])\n",
        "    # sites = np.array(data[list(filter(lambda x: 'site' in x, data.columns))])\n",
        "    sites_alice = np.array(data[list(filter(lambda x: 'site' in x, data.columns))])[data.target == 1].ravel()\n",
        "    sites_alice = sites_alice[~np.isnan(sites_alice)].astype(int)\n",
        "\n",
        "    unique = np.unique(sites_alice, return_counts=True)[0]\n",
        "    freq = np.unique(sites_alice, return_counts=True)[1]\n",
        "    mask_a = np.argpartition(-freq, 5)[:5]\n",
        "    self.top_alice = unique[mask_a]\n",
        "\n",
        "    #exc_sites\n",
        "    sites_rest = np.array(data[list(filter(lambda x: 'site' in x, data.columns))])[data.target == 0].ravel()\n",
        "    sites_rest = sites_rest[~np.isnan(sites_rest)].astype(int)\n",
        "    self.exc_alice = np.array(list(set(sites_alice) - set(sites_rest)))\n",
        "    return self\n",
        "\n",
        "\n",
        "  def transform(self, X, y=None):\n",
        "    data = X\n",
        "    sites = np.array(data[list(filter(lambda x: 'site' in x, data.columns))])\n",
        "    \n",
        "    is_top_alice = np.zeros(sites.shape[0])\n",
        "\n",
        "    for row in range(sites.shape[0]):\n",
        "      is_top_alice[row] = np.any(np.isin(sites[row], self.top_alice))\n",
        "\n",
        "    is_exc_alice = np.zeros(sites.shape[0])\n",
        "\n",
        "    for row in range(sites.shape[0]):\n",
        "      is_exc_alice[row] = np.any(np.isin(sites[row], self.exc_alice))\n",
        "\n",
        "    return np.c_[is_top_alice, \n",
        "                 is_exc_alice\n",
        "                 ]\n",
        "\n",
        "sites_pipeline = Pipeline([\n",
        "          ('sites', SitesFeatures())\n",
        "])"
      ],
      "execution_count": null,
      "outputs": []
    },
    {
      "cell_type": "code",
      "metadata": {
        "id": "4o2zCN9r489B"
      },
      "source": [
        "class DataPreparator(BaseEstimator, TransformerMixin):\n",
        "    \"\"\"\n",
        "    Fill NaN with zero values.\n",
        "    \"\"\"\n",
        "    def fit(self, X, y=None):\n",
        "        return self\n",
        "    def transform(self, X, y=None):\n",
        "        sites = ['site%s' % i for i in range(1, 11)]\n",
        "        return X[sites].fillna(0).astype('int')\n",
        "\n",
        "class ListPreparator(BaseEstimator, TransformerMixin):\n",
        "    \"\"\"\n",
        "    Prepare a CountVectorizer friendly 2D-list from data.\n",
        "    \"\"\"\n",
        "    def fit(self, X, y=None):\n",
        "        return self\n",
        "    def transform(self, X, y=None):\n",
        "        X = X.values.tolist()\n",
        "        # Convert dataframe rows to strings\n",
        "        return [\" \".join([str(site) for site in row]) for row in X]\n",
        "\n",
        "class AttributesAdder(BaseEstimator, TransformerMixin):\n",
        "    \"\"\"\n",
        "    Add new attributes to training and test set.\n",
        "    \"\"\"\n",
        "\n",
        "    def fit(self, X, y=None):\n",
        "        return self \n",
        "      \n",
        "    def transform(self, X, y=None):\n",
        "        # intraday features\n",
        "        hour = X['time1'].apply(lambda ts: ts.hour)\n",
        "        morning = ((hour >= 7) & (hour <= 11)).astype('int')\n",
        "        day = ((hour >= 12) & (hour <= 18)).astype('int')\n",
        "        evening = ((hour >= 19) & (hour <= 23)).astype('int')\n",
        "        \n",
        "        # season features\n",
        "        month = X['time1'].apply(lambda ts: ts.month)\n",
        "        summer = ((month >= 6) & (month <= 8)).astype('int')\n",
        "        \n",
        "        # day of the week features\n",
        "        weekday = X['time1'].apply(lambda ts: ts.weekday()).astype('int')\n",
        "        \n",
        "        # year features\n",
        "        year = X['time1'].apply(lambda ts: ts.year).astype('int')\n",
        "        \n",
        "        #Даты, в которые Алиса активно пользуется интернетом\n",
        "        active_days = weekday.isin([0,1,3,4])\n",
        "        active_hours = hour.isin([12,13,15,16,17,18])\n",
        "        active_months = month.isin([5,9,10,11,12])\n",
        "        \n",
        "        #number_of_unique_sites in session\n",
        "        \n",
        "        def nunique(a, axis):\n",
        "          return (np.diff(np.sort(a,axis=axis),axis=axis)!=0).sum(axis=axis)+1\n",
        "\n",
        "\n",
        "        # unique_sites = pd.get_dummies(nunique(np.array(X[['site%s' % i for i in range(1,11)]].fillna(0)), axis=1) - 1)\n",
        "        X = np.c_[\n",
        "                  # morning.values, day.values, evening.values, \n",
        "                  # summer.values, \n",
        "                  # weekday.values, \n",
        "                  # hour.values,\n",
        "                  active_days.values, active_hours.values,\n",
        "                  active_months.values,\n",
        "                  # unique_sites.values\n",
        "                  ]\n",
        "        return X\n",
        "\n",
        "class ScaledAttributesAdder(BaseEstimator, TransformerMixin):\n",
        "    \"\"\"\n",
        "    Add new features, that should be scaled.\n",
        "    \"\"\"\n",
        "    def fit(self, X, y=None):\n",
        "        return self\n",
        "    def transform(self, X, y=None):\n",
        "        # session time features\n",
        "        times = ['time%s' % i for i in range(1, 11)]\n",
        "        # session duration: take to the power of 1/5 to normalize the distribution\n",
        "        session_duration = (X[times].max(axis=1) - X[times].min(axis=1)).astype('timedelta64[ms]').astype(int) ** 0.2\n",
        "        # number of sites visited in a session\n",
        "        number_of_sites = X[times].isnull().sum(axis=1).apply(lambda x: 10 - x)\n",
        "        # average time spent on one site during a session\n",
        "        time_per_site = (session_duration / number_of_sites) ** 0.2\n",
        "        \n",
        "        X = np.c_[session_duration.values]\n",
        "        return X\n",
        "\n",
        "vectorizer_pipeline = Pipeline([\n",
        "    (\"preparator\", DataPreparator()),\n",
        "    (\"list_preparator\", ListPreparator()),\n",
        "    (\"vectorizer\", \n",
        "    #  CountVectorizer(ngram_range=(1, 10), max_features=50000)\n",
        "     TfidfVectorizer(ngram_range=(1, 10), max_features=100000, sublinear_tf=True)\n",
        "     )\n",
        "])\n",
        "\n",
        "attributes_pipeline = Pipeline([\n",
        "    (\"adder\", AttributesAdder())\n",
        "])\n",
        "\n",
        "scaled_attributes_pipeline = Pipeline([\n",
        "    (\"adder\", ScaledAttributesAdder()),\n",
        "    (\"scaler\", StandardScaler())\n",
        "])\n",
        "\n",
        "full_pipeline = FeatureUnion(transformer_list=[\n",
        "  ('vectorizer_pipeline', vectorizer_pipeline),\n",
        "  ('attributes_pipeline', attributes_pipeline),\n",
        "  # ('sites_pipeline', sites_pipeline),\n",
        "  ('scaled_attributes_pipeline', scaled_attributes_pipeline)\n",
        "], n_jobs=-1)"
      ],
      "execution_count": 8,
      "outputs": []
    },
    {
      "cell_type": "code",
      "metadata": {
        "id": "oN7lbQ32rYQ6",
        "colab": {
          "base_uri": "https://localhost:8080/"
        },
        "outputId": "078c3cc9-d8ed-42bf-907c-cac79a11c0c6"
      },
      "source": [
        "%time\n",
        "X_train = full_pipeline.fit_transform(df_train)\n",
        "X_test = full_pipeline.transform(df_test)\n",
        "\n",
        "y_train = df_train[\"target\"].astype('int').values"
      ],
      "execution_count": 9,
      "outputs": [
        {
          "output_type": "stream",
          "text": [
            "CPU times: user 4 µs, sys: 0 ns, total: 4 µs\n",
            "Wall time: 8.82 µs\n"
          ],
          "name": "stdout"
        }
      ]
    },
    {
      "cell_type": "markdown",
      "metadata": {
        "id": "nxvur_ZhOZcv"
      },
      "source": [
        "# Обучение модели"
      ]
    },
    {
      "cell_type": "markdown",
      "metadata": {
        "id": "d9fuEk1OIM2p"
      },
      "source": [
        "## Логистическая регрессия"
      ]
    },
    {
      "cell_type": "code",
      "metadata": {
        "colab": {
          "base_uri": "https://localhost:8080/"
        },
        "id": "JK00eONLD4jM",
        "outputId": "f3896313-06e0-4d15-edaf-2f789661be5e"
      },
      "source": [
        "time_split = TimeSeriesSplit(n_splits=10)\n",
        "\n",
        "logit = LogisticRegression(C=1, random_state=42, solver='liblinear', n_jobs=-1)\n",
        "cv_scores = cross_val_score(logit, \n",
        "                            X_train,\n",
        "                            y_train, \n",
        "                            cv=time_split, \n",
        "                        scoring='roc_auc', n_jobs=-1,\n",
        "                        verbose=100)\n",
        "\n",
        "print(cv_scores.mean())\n",
        "print(cv_scores.std())"
      ],
      "execution_count": null,
      "outputs": [
        {
          "output_type": "stream",
          "text": [
            "[Parallel(n_jobs=-1)]: Using backend LokyBackend with 2 concurrent workers.\n",
            "[Parallel(n_jobs=-1)]: Done   1 tasks      | elapsed:    1.3s\n",
            "[Parallel(n_jobs=-1)]: Done   2 tasks      | elapsed:    1.7s\n",
            "[Parallel(n_jobs=-1)]: Done   3 tasks      | elapsed:    2.7s\n",
            "[Parallel(n_jobs=-1)]: Done   4 tasks      | elapsed:    3.9s\n",
            "[Parallel(n_jobs=-1)]: Done   5 tasks      | elapsed:    5.4s\n",
            "[Parallel(n_jobs=-1)]: Done   6 tasks      | elapsed:    7.2s\n",
            "[Parallel(n_jobs=-1)]: Done   7 tasks      | elapsed:    9.6s\n",
            "[Parallel(n_jobs=-1)]: Done   8 out of  10 | elapsed:   11.8s remaining:    3.0s\n",
            "[Parallel(n_jobs=-1)]: Done  10 out of  10 | elapsed:   16.4s remaining:    0.0s\n",
            "[Parallel(n_jobs=-1)]: Done  10 out of  10 | elapsed:   16.4s finished\n",
            "0.9312245010482035\n",
            "0.04089270124004518\n"
          ],
          "name": "stdout"
        }
      ]
    },
    {
      "cell_type": "code",
      "metadata": {
        "id": "pnidcsyptUO6"
      },
      "source": [
        "from sklearn.linear_model import LogisticRegressionCV"
      ],
      "execution_count": null,
      "outputs": []
    },
    {
      "cell_type": "code",
      "metadata": {
        "colab": {
          "base_uri": "https://localhost:8080/"
        },
        "id": "B5QIVUwjqTSv",
        "outputId": "06e72128-146d-47a4-9a65-caacf2c83911"
      },
      "source": [
        "logitcv = LogisticRegressionCV(cv=time_split, scoring='roc_auc', solver='liblinear',  \n",
        "                               n_jobs=-1, max_iter=100,  verbose=100)\n",
        "logitcv.fit(X_train, y_train)"
      ],
      "execution_count": null,
      "outputs": [
        {
          "output_type": "stream",
          "text": [
            "[Parallel(n_jobs=-1)]: Using backend LokyBackend with 2 concurrent workers.\n",
            "[Parallel(n_jobs=-1)]: Done   1 tasks      | elapsed:    4.0s\n",
            "[Parallel(n_jobs=-1)]: Done   2 tasks      | elapsed:   11.8s\n",
            "[Parallel(n_jobs=-1)]: Done   3 tasks      | elapsed:   25.6s\n",
            "[Parallel(n_jobs=-1)]: Done   4 tasks      | elapsed:   50.8s\n",
            "[Parallel(n_jobs=-1)]: Done   5 tasks      | elapsed:  1.2min\n",
            "[Parallel(n_jobs=-1)]: Done   6 tasks      | elapsed:  2.3min\n",
            "[Parallel(n_jobs=-1)]: Done   7 tasks      | elapsed:  2.3min\n",
            "[Parallel(n_jobs=-1)]: Done   8 out of  10 | elapsed:  3.8min remaining:   56.6s\n",
            "[Parallel(n_jobs=-1)]: Done  10 out of  10 | elapsed:  5.6min remaining:    0.0s\n",
            "[Parallel(n_jobs=-1)]: Done  10 out of  10 | elapsed:  5.6min finished\n",
            "[LibLinear]"
          ],
          "name": "stdout"
        },
        {
          "output_type": "execute_result",
          "data": {
            "text/plain": [
              "LogisticRegressionCV(Cs=10, class_weight=None,\n",
              "                     cv=TimeSeriesSplit(max_train_size=None, n_splits=10),\n",
              "                     dual=False, fit_intercept=True, intercept_scaling=1.0,\n",
              "                     l1_ratios=None, max_iter=100, multi_class='auto',\n",
              "                     n_jobs=-1, penalty='l2', random_state=None, refit=True,\n",
              "                     scoring='roc_auc', solver='liblinear', tol=0.0001,\n",
              "                     verbose=100)"
            ]
          },
          "metadata": {
            "tags": []
          },
          "execution_count": 12
        }
      ]
    },
    {
      "cell_type": "code",
      "metadata": {
        "colab": {
          "base_uri": "https://localhost:8080/"
        },
        "id": "JVnob_ymxESr",
        "outputId": "0aad013c-4fe0-4b3d-90ec-a3d82d251019"
      },
      "source": [
        "logitcv.C_"
      ],
      "execution_count": null,
      "outputs": [
        {
          "output_type": "execute_result",
          "data": {
            "text/plain": [
              "array([3.70437592])"
            ]
          },
          "metadata": {
            "tags": []
          },
          "execution_count": 169
        }
      ]
    },
    {
      "cell_type": "code",
      "metadata": {
        "id": "24QwVbnEYhqn"
      },
      "source": [
        "def write_to_submission(pred, number):\n",
        "    prediction = pd.DataFrame(pred[:,-1], \n",
        "                columns=['target'])\n",
        "    prediction.index = pd.RangeIndex(1, prediction.shape[0]+1)\n",
        "    prediction.index.name = 'session_id'\n",
        "    # return prediction\n",
        "    prediction.to_csv(f'submission{number}.csv')"
      ],
      "execution_count": 19,
      "outputs": []
    },
    {
      "cell_type": "code",
      "metadata": {
        "colab": {
          "base_uri": "https://localhost:8080/"
        },
        "id": "nL75elhFM0_j",
        "outputId": "caa3b295-0b50-4dad-9a1c-d6d6305e7d8b"
      },
      "source": [
        "pred = logitcv.predict_proba(X_test)\n",
        "write_to_submission(pred, 17)\n",
        "!kaggle competitions submit -c catch-me-if-you-can-intruder-detection-through-webpage-session-tracking2 -f submission17.csv -m \"sublinear\""
      ],
      "execution_count": null,
      "outputs": [
        {
          "output_type": "stream",
          "text": [
            "Warning: Looks like you're using an outdated API Version, please consider updating (server 1.5.12 / client 1.5.4)\n",
            "100% 2.19M/2.19M [00:00<00:00, 8.65MB/s]\n",
            "Successfully submitted to Catch Me If You Can (\"Alice\")"
          ],
          "name": "stdout"
        }
      ]
    },
    {
      "cell_type": "markdown",
      "metadata": {
        "id": "fXyVJiX-J3JA"
      },
      "source": [
        "Результат: 0.96025"
      ]
    },
    {
      "cell_type": "markdown",
      "metadata": {
        "id": "8I6P4z6wIInb"
      },
      "source": [
        "## Другие алгоритмы"
      ]
    },
    {
      "cell_type": "code",
      "metadata": {
        "id": "VdvULwlVBYRD"
      },
      "source": [
        "from sklearn.linear_model import SGDClassifier"
      ],
      "execution_count": null,
      "outputs": []
    },
    {
      "cell_type": "code",
      "metadata": {
        "colab": {
          "base_uri": "https://localhost:8080/"
        },
        "id": "5_UNeP9JBW1J",
        "outputId": "56d6916b-2f94-43f4-c1d3-b97452e9a2f5"
      },
      "source": [
        "time_split = TimeSeriesSplit(n_splits=10)\n",
        "\n",
        "sgd = SGDClassifier(loss='log', random_state=42,  n_jobs=-1)\n",
        "cv_scores = cross_val_score(sgd, \n",
        "                            X_train,\n",
        "                            y_train, \n",
        "                            cv=time_split, \n",
        "                        scoring='roc_auc', n_jobs=-1,\n",
        "                        verbose=100)\n",
        "\n",
        "print(cv_scores.mean())\n",
        "print(cv_scores.std())"
      ],
      "execution_count": null,
      "outputs": [
        {
          "output_type": "stream",
          "text": [
            "[Parallel(n_jobs=-1)]: Using backend LokyBackend with 2 concurrent workers.\n",
            "[Parallel(n_jobs=-1)]: Done   1 tasks      | elapsed:    0.2s\n",
            "[Parallel(n_jobs=-1)]: Done   2 tasks      | elapsed:    0.3s\n",
            "[Parallel(n_jobs=-1)]: Done   3 tasks      | elapsed:    0.6s\n",
            "[Parallel(n_jobs=-1)]: Done   4 tasks      | elapsed:    0.8s\n",
            "[Parallel(n_jobs=-1)]: Done   5 tasks      | elapsed:    1.2s\n",
            "[Parallel(n_jobs=-1)]: Done   6 tasks      | elapsed:    1.4s\n",
            "[Parallel(n_jobs=-1)]: Done   7 tasks      | elapsed:    1.9s\n",
            "[Parallel(n_jobs=-1)]: Done   8 out of  10 | elapsed:    2.3s remaining:    0.6s\n",
            "[Parallel(n_jobs=-1)]: Done  10 out of  10 | elapsed:    3.3s remaining:    0.0s\n",
            "[Parallel(n_jobs=-1)]: Done  10 out of  10 | elapsed:    3.3s finished\n",
            "0.9206150164654641\n",
            "0.03734589494589693\n"
          ],
          "name": "stdout"
        }
      ]
    },
    {
      "cell_type": "code",
      "metadata": {
        "colab": {
          "base_uri": "https://localhost:8080/"
        },
        "id": "DGPNiTriCFjd",
        "outputId": "83386b4c-d3df-49c3-b8e3-d1a5b66ac64e"
      },
      "source": [
        "sgd = SGDClassifier(loss='log', random_state=42, n_jobs=-1)\n",
        "sgd.fit(X_train, y_train,)\n",
        "pred = sgd.predict_proba(X_test)\n",
        "write_to_submission(pred, 18)\n",
        "!kaggle competitions submit -c catch-me-if-you-can-intruder-detection-through-webpage-session-tracking2 -f submission18.csv -m \"sgd\""
      ],
      "execution_count": null,
      "outputs": [
        {
          "output_type": "stream",
          "text": [
            "Warning: Looks like you're using an outdated API Version, please consider updating (server 1.5.12 / client 1.5.4)\n",
            "100% 2.12M/2.12M [00:02<00:00, 981kB/s]\n",
            "Successfully submitted to Catch Me If You Can (\"Alice\")"
          ],
          "name": "stdout"
        }
      ]
    },
    {
      "cell_type": "markdown",
      "metadata": {
        "id": "EOiD6q1hFVqk"
      },
      "source": [
        "Результат - 0.95273"
      ]
    },
    {
      "cell_type": "code",
      "metadata": {
        "id": "g25Xl9Z8F8b9"
      },
      "source": [
        "from sklearn.model_selection import GridSearchCV"
      ],
      "execution_count": null,
      "outputs": []
    },
    {
      "cell_type": "code",
      "metadata": {
        "colab": {
          "base_uri": "https://localhost:8080/"
        },
        "id": "3Gx0E_pjFpIR",
        "outputId": "b0ff409b-d346-4ef5-b28d-a6ed5f672642"
      },
      "source": [
        "sgd = SGDClassifier(random_state=42, n_jobs=-1,  )\n",
        "params = {\n",
        "    \"loss\" : [\"log\", \"modified_huber\"],\n",
        "    \"alpha\" : [0.0001, 0.001, 0.01, 0.1, 1],\n",
        "    \"penalty\" : [\"l2\", \"l1\", \"none\"],\n",
        "}\n",
        "grid_sgd = GridSearchCV(sgd, params, scoring='roc_auc', n_jobs=-1, cv=time_split, return_train_score=False)\n",
        "grid_sgd.fit(X_train, y_train)\n",
        "print(grid_sgd.best_score_, grid_sgd.best_params_)"
      ],
      "execution_count": null,
      "outputs": [
        {
          "output_type": "stream",
          "text": [
            "0.9206150164654641 {'alpha': 0.0001, 'loss': 'log', 'penalty': 'l2'}\n"
          ],
          "name": "stdout"
        }
      ]
    },
    {
      "cell_type": "code",
      "metadata": {
        "id": "f7S18LqaEUdF"
      },
      "source": [
        "from sklearn.calibration import CalibratedClassifierCV\n",
        "from sklearn.svm import LinearSVC"
      ],
      "execution_count": null,
      "outputs": []
    },
    {
      "cell_type": "code",
      "metadata": {
        "colab": {
          "base_uri": "https://localhost:8080/"
        },
        "id": "r_v5OwCyEXji",
        "outputId": "66eb68a8-1e58-4219-9b74-8eb36e0ddb7f"
      },
      "source": [
        "svc = LinearSVC(random_state=42)\n",
        "calib = CalibratedClassifierCV(svc, cv=time_split)\n",
        "calib.fit(X_train, y_train)"
      ],
      "execution_count": null,
      "outputs": [
        {
          "output_type": "execute_result",
          "data": {
            "text/plain": [
              "CalibratedClassifierCV(base_estimator=LinearSVC(C=1.0, class_weight=None,\n",
              "                                                dual=True, fit_intercept=True,\n",
              "                                                intercept_scaling=1,\n",
              "                                                loss='squared_hinge',\n",
              "                                                max_iter=1000,\n",
              "                                                multi_class='ovr', penalty='l2',\n",
              "                                                random_state=42, tol=0.0001,\n",
              "                                                verbose=0),\n",
              "                       cv=TimeSeriesSplit(max_train_size=None, n_splits=10),\n",
              "                       method='sigmoid')"
            ]
          },
          "metadata": {
            "tags": []
          },
          "execution_count": 23
        }
      ]
    },
    {
      "cell_type": "code",
      "metadata": {
        "colab": {
          "base_uri": "https://localhost:8080/"
        },
        "id": "Bx7xE0vpE35D",
        "outputId": "81a727eb-5b16-44bd-c126-58d411239d52"
      },
      "source": [
        "pred = calib.predict_proba(X_test)\n",
        "write_to_submission(pred, 19)\n",
        "!kaggle competitions submit -c catch-me-if-you-can-intruder-detection-through-webpage-session-tracking2 -f submission19.csv -m \"calib\""
      ],
      "execution_count": null,
      "outputs": [
        {
          "output_type": "stream",
          "text": [
            "Warning: Looks like you're using an outdated API Version, please consider updating (server 1.5.12 / client 1.5.4)\n",
            "100% 2.16M/2.16M [00:03<00:00, 704kB/s]\n",
            "Successfully submitted to Catch Me If You Can (\"Alice\")"
          ],
          "name": "stdout"
        }
      ]
    },
    {
      "cell_type": "markdown",
      "metadata": {
        "id": "UQEKw1CaHywi"
      },
      "source": [
        "Результат - 0.95403"
      ]
    },
    {
      "cell_type": "markdown",
      "metadata": {
        "id": "V_5SUydLqjxN"
      },
      "source": [
        "# Итог"
      ]
    },
    {
      "cell_type": "markdown",
      "metadata": {
        "id": "YrnrZr-4z4g2"
      },
      "source": [
        "При построении модели были переброваны:  \n",
        "\n",
        "\n",
        "*   CountVectorizer и TfidfVectorizer с ngram_range от (1, 2) до (1,10) с различным количеством уникальных признаков\n",
        "*   Переменные наиболее посещаемых Алисой сайтов и сайтов, посещаемых только ей\n",
        "*   Различные комбинации переменных часа посещения, дня недели и месяца\n",
        "*   Переменные длительности сессии, количества уникальных сайтов и среднего времени, проведённого на сайте\n",
        "*   Такие алгоритмы, как Logistic Regression, LinearSVC, SGDClassifier\n",
        "*   Такие методы кросс-валидации, как TimeSeriesSplit и StratifiedKFold\n",
        "\n"
      ]
    }
  ]
}