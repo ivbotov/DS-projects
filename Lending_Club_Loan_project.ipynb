{
  "nbformat": 4,
  "nbformat_minor": 0,
  "metadata": {
    "colab": {
      "name": "Loan_project.ipynb",
      "provenance": [],
      "collapsed_sections": []
    },
    "kernelspec": {
      "display_name": "Python 3",
      "name": "python3"
    },
    "language_info": {
      "name": "python"
    }
  },
  "cells": [
    {
      "cell_type": "markdown",
      "metadata": {
        "id": "YEuWFpbv6cQm"
      },
      "source": [
        "# 1. Introoduction"
      ]
    },
    {
      "cell_type": "markdown",
      "metadata": {
        "id": "hS1eSVGR7E3c"
      },
      "source": [
        "[LendingClub](https://en.wikipedia.org/wiki/LendingClub) is a US peer-to-peer lending company and the world's largest peer-to-peer lending platform. \n",
        "\n",
        "LendingClub enables borrowers to create unsecured personal loans between 1,000  and  40,000 USD. The standard loan period is three years. Investors are able to search and browse the loan listings on LendingClub website and select loans that they want to invest in based on the information supplied about the borrower, amount of loan, loan grade, and loan purpose. Investors make money from the interest on these loans. LendingClub makes money by charging borrowers an origination fee and investors a service fee.\n",
        "\n",
        "The goal of this project is to build a machine learning model to predict the probability of a loan to be charged off. \n",
        "I will attempt to delete all features that are filled after the provision of a loan and keep all information known about a borrower prior to receiving of a loan."
      ]
    },
    {
      "cell_type": "markdown",
      "metadata": {
        "id": "Cc-aDEnlUWRS"
      },
      "source": [
        "# 2. Import"
      ]
    },
    {
      "cell_type": "code",
      "metadata": {
        "id": "5sR-xkQfEpBw"
      },
      "source": [
        "!pip install catboost\n",
        "!pip install category_encoders\n",
        "!pip install scikit-plot"
      ],
      "execution_count": null,
      "outputs": []
    },
    {
      "cell_type": "code",
      "metadata": {
        "id": "gAPM66DyEiYp"
      },
      "source": [
        "# Importing needed lib's\n",
        "import pandas as pd \n",
        "import numpy as np\n",
        "import matplotlib.pyplot as plt\n",
        "import seaborn as sns\n",
        "import warnings\n",
        "warnings.filterwarnings('ignore')\n",
        "%matplotlib inline\n",
        "\n",
        "from scipy.stats import zscore\n",
        "\n",
        "\n",
        "from sklearn.model_selection import train_test_split, StratifiedKFold, GridSearchCV, cross_val_score\n",
        "from sklearn.metrics import roc_auc_score\n",
        "from sklearn.preprocessing import StandardScaler\n",
        "from sklearn.impute import SimpleImputer\n",
        "from sklearn.pipeline import Pipeline\n",
        "from sklearn.compose import ColumnTransformer\n",
        "from sklearn.utils import class_weight\n",
        "\n",
        "from scikitplot.plotters import plot_roc_curve, plot_precision_recall_curve\n",
        "\n",
        "import category_encoders as ce"
      ],
      "execution_count": 89,
      "outputs": []
    },
    {
      "cell_type": "code",
      "metadata": {
        "id": "Ys9KQV4qEsTu"
      },
      "source": [
        "PATH = r'/content/drive/MyDrive/DS/Lending Club/'"
      ],
      "execution_count": 3,
      "outputs": []
    },
    {
      "cell_type": "code",
      "metadata": {
        "id": "fOVj46uZEQab"
      },
      "source": [
        "accepted = pd.read_csv(PATH+'accepted_2007_to_2018Q4.csv')"
      ],
      "execution_count": 4,
      "outputs": []
    },
    {
      "cell_type": "code",
      "metadata": {
        "colab": {
          "base_uri": "https://localhost:8080/"
        },
        "id": "rrpsy6NA-Xlo",
        "outputId": "28712d47-7b90-4f52-bb69-d5a4df542a19"
      },
      "source": [
        "accepted.shape"
      ],
      "execution_count": 5,
      "outputs": [
        {
          "output_type": "execute_result",
          "data": {
            "text/plain": [
              "(2260701, 151)"
            ]
          },
          "metadata": {
            "tags": []
          },
          "execution_count": 5
        }
      ]
    },
    {
      "cell_type": "code",
      "metadata": {
        "colab": {
          "base_uri": "https://localhost:8080/"
        },
        "id": "Qkj6RHMc-p3m",
        "outputId": "fde1b247-b451-4ba4-80a3-dbb234044dc5"
      },
      "source": [
        "accepted.info()"
      ],
      "execution_count": 6,
      "outputs": [
        {
          "output_type": "stream",
          "text": [
            "<class 'pandas.core.frame.DataFrame'>\n",
            "RangeIndex: 2260701 entries, 0 to 2260700\n",
            "Columns: 151 entries, id to settlement_term\n",
            "dtypes: float64(113), object(38)\n",
            "memory usage: 2.5+ GB\n"
          ],
          "name": "stdout"
        }
      ]
    },
    {
      "cell_type": "code",
      "metadata": {
        "colab": {
          "base_uri": "https://localhost:8080/",
          "height": 336
        },
        "id": "P1O2LGt4A1Pg",
        "outputId": "ee8ba93c-464f-4782-c61b-20a070048848"
      },
      "source": [
        "accepted.sample(5)"
      ],
      "execution_count": 7,
      "outputs": [
        {
          "output_type": "execute_result",
          "data": {
            "text/html": [
              "<div>\n",
              "<style scoped>\n",
              "    .dataframe tbody tr th:only-of-type {\n",
              "        vertical-align: middle;\n",
              "    }\n",
              "\n",
              "    .dataframe tbody tr th {\n",
              "        vertical-align: top;\n",
              "    }\n",
              "\n",
              "    .dataframe thead th {\n",
              "        text-align: right;\n",
              "    }\n",
              "</style>\n",
              "<table border=\"1\" class=\"dataframe\">\n",
              "  <thead>\n",
              "    <tr style=\"text-align: right;\">\n",
              "      <th></th>\n",
              "      <th>id</th>\n",
              "      <th>member_id</th>\n",
              "      <th>loan_amnt</th>\n",
              "      <th>funded_amnt</th>\n",
              "      <th>funded_amnt_inv</th>\n",
              "      <th>term</th>\n",
              "      <th>int_rate</th>\n",
              "      <th>installment</th>\n",
              "      <th>grade</th>\n",
              "      <th>sub_grade</th>\n",
              "      <th>emp_title</th>\n",
              "      <th>emp_length</th>\n",
              "      <th>home_ownership</th>\n",
              "      <th>annual_inc</th>\n",
              "      <th>verification_status</th>\n",
              "      <th>issue_d</th>\n",
              "      <th>loan_status</th>\n",
              "      <th>pymnt_plan</th>\n",
              "      <th>url</th>\n",
              "      <th>desc</th>\n",
              "      <th>purpose</th>\n",
              "      <th>title</th>\n",
              "      <th>zip_code</th>\n",
              "      <th>addr_state</th>\n",
              "      <th>dti</th>\n",
              "      <th>delinq_2yrs</th>\n",
              "      <th>earliest_cr_line</th>\n",
              "      <th>fico_range_low</th>\n",
              "      <th>fico_range_high</th>\n",
              "      <th>inq_last_6mths</th>\n",
              "      <th>mths_since_last_delinq</th>\n",
              "      <th>mths_since_last_record</th>\n",
              "      <th>open_acc</th>\n",
              "      <th>pub_rec</th>\n",
              "      <th>revol_bal</th>\n",
              "      <th>revol_util</th>\n",
              "      <th>total_acc</th>\n",
              "      <th>initial_list_status</th>\n",
              "      <th>out_prncp</th>\n",
              "      <th>out_prncp_inv</th>\n",
              "      <th>...</th>\n",
              "      <th>tot_hi_cred_lim</th>\n",
              "      <th>total_bal_ex_mort</th>\n",
              "      <th>total_bc_limit</th>\n",
              "      <th>total_il_high_credit_limit</th>\n",
              "      <th>revol_bal_joint</th>\n",
              "      <th>sec_app_fico_range_low</th>\n",
              "      <th>sec_app_fico_range_high</th>\n",
              "      <th>sec_app_earliest_cr_line</th>\n",
              "      <th>sec_app_inq_last_6mths</th>\n",
              "      <th>sec_app_mort_acc</th>\n",
              "      <th>sec_app_open_acc</th>\n",
              "      <th>sec_app_revol_util</th>\n",
              "      <th>sec_app_open_act_il</th>\n",
              "      <th>sec_app_num_rev_accts</th>\n",
              "      <th>sec_app_chargeoff_within_12_mths</th>\n",
              "      <th>sec_app_collections_12_mths_ex_med</th>\n",
              "      <th>sec_app_mths_since_last_major_derog</th>\n",
              "      <th>hardship_flag</th>\n",
              "      <th>hardship_type</th>\n",
              "      <th>hardship_reason</th>\n",
              "      <th>hardship_status</th>\n",
              "      <th>deferral_term</th>\n",
              "      <th>hardship_amount</th>\n",
              "      <th>hardship_start_date</th>\n",
              "      <th>hardship_end_date</th>\n",
              "      <th>payment_plan_start_date</th>\n",
              "      <th>hardship_length</th>\n",
              "      <th>hardship_dpd</th>\n",
              "      <th>hardship_loan_status</th>\n",
              "      <th>orig_projected_additional_accrued_interest</th>\n",
              "      <th>hardship_payoff_balance_amount</th>\n",
              "      <th>hardship_last_payment_amount</th>\n",
              "      <th>disbursement_method</th>\n",
              "      <th>debt_settlement_flag</th>\n",
              "      <th>debt_settlement_flag_date</th>\n",
              "      <th>settlement_status</th>\n",
              "      <th>settlement_date</th>\n",
              "      <th>settlement_amount</th>\n",
              "      <th>settlement_percentage</th>\n",
              "      <th>settlement_term</th>\n",
              "    </tr>\n",
              "  </thead>\n",
              "  <tbody>\n",
              "    <tr>\n",
              "      <th>123950</th>\n",
              "      <td>60794725</td>\n",
              "      <td>NaN</td>\n",
              "      <td>18000.0</td>\n",
              "      <td>18000.0</td>\n",
              "      <td>18000.0</td>\n",
              "      <td>36 months</td>\n",
              "      <td>10.99</td>\n",
              "      <td>589.22</td>\n",
              "      <td>B</td>\n",
              "      <td>B4</td>\n",
              "      <td>Elevator Mechanic</td>\n",
              "      <td>10+ years</td>\n",
              "      <td>MORTGAGE</td>\n",
              "      <td>100000.0</td>\n",
              "      <td>Source Verified</td>\n",
              "      <td>Oct-2015</td>\n",
              "      <td>Fully Paid</td>\n",
              "      <td>n</td>\n",
              "      <td>https://lendingclub.com/browse/loanDetail.acti...</td>\n",
              "      <td>NaN</td>\n",
              "      <td>debt_consolidation</td>\n",
              "      <td>Debt consolidation</td>\n",
              "      <td>114xx</td>\n",
              "      <td>NY</td>\n",
              "      <td>8.35</td>\n",
              "      <td>0.0</td>\n",
              "      <td>Sep-2000</td>\n",
              "      <td>735.0</td>\n",
              "      <td>739.0</td>\n",
              "      <td>1.0</td>\n",
              "      <td>NaN</td>\n",
              "      <td>NaN</td>\n",
              "      <td>9.0</td>\n",
              "      <td>0.0</td>\n",
              "      <td>6412.0</td>\n",
              "      <td>51.7</td>\n",
              "      <td>14.0</td>\n",
              "      <td>w</td>\n",
              "      <td>0.00</td>\n",
              "      <td>0.00</td>\n",
              "      <td>...</td>\n",
              "      <td>613854.0</td>\n",
              "      <td>44457.0</td>\n",
              "      <td>11100.0</td>\n",
              "      <td>41779.0</td>\n",
              "      <td>NaN</td>\n",
              "      <td>NaN</td>\n",
              "      <td>NaN</td>\n",
              "      <td>NaN</td>\n",
              "      <td>NaN</td>\n",
              "      <td>NaN</td>\n",
              "      <td>NaN</td>\n",
              "      <td>NaN</td>\n",
              "      <td>NaN</td>\n",
              "      <td>NaN</td>\n",
              "      <td>NaN</td>\n",
              "      <td>NaN</td>\n",
              "      <td>NaN</td>\n",
              "      <td>N</td>\n",
              "      <td>NaN</td>\n",
              "      <td>NaN</td>\n",
              "      <td>NaN</td>\n",
              "      <td>NaN</td>\n",
              "      <td>NaN</td>\n",
              "      <td>NaN</td>\n",
              "      <td>NaN</td>\n",
              "      <td>NaN</td>\n",
              "      <td>NaN</td>\n",
              "      <td>NaN</td>\n",
              "      <td>NaN</td>\n",
              "      <td>NaN</td>\n",
              "      <td>NaN</td>\n",
              "      <td>NaN</td>\n",
              "      <td>Cash</td>\n",
              "      <td>N</td>\n",
              "      <td>NaN</td>\n",
              "      <td>NaN</td>\n",
              "      <td>NaN</td>\n",
              "      <td>NaN</td>\n",
              "      <td>NaN</td>\n",
              "      <td>NaN</td>\n",
              "    </tr>\n",
              "    <tr>\n",
              "      <th>1360132</th>\n",
              "      <td>144549384</td>\n",
              "      <td>NaN</td>\n",
              "      <td>15000.0</td>\n",
              "      <td>15000.0</td>\n",
              "      <td>15000.0</td>\n",
              "      <td>36 months</td>\n",
              "      <td>17.97</td>\n",
              "      <td>542.07</td>\n",
              "      <td>D</td>\n",
              "      <td>D1</td>\n",
              "      <td>Mortgage Loan Officer</td>\n",
              "      <td>10+ years</td>\n",
              "      <td>MORTGAGE</td>\n",
              "      <td>63000.0</td>\n",
              "      <td>Verified</td>\n",
              "      <td>Dec-2018</td>\n",
              "      <td>Fully Paid</td>\n",
              "      <td>n</td>\n",
              "      <td>https://lendingclub.com/browse/loanDetail.acti...</td>\n",
              "      <td>NaN</td>\n",
              "      <td>credit_card</td>\n",
              "      <td>Credit card refinancing</td>\n",
              "      <td>894xx</td>\n",
              "      <td>NV</td>\n",
              "      <td>18.84</td>\n",
              "      <td>1.0</td>\n",
              "      <td>Mar-1998</td>\n",
              "      <td>660.0</td>\n",
              "      <td>664.0</td>\n",
              "      <td>2.0</td>\n",
              "      <td>22.0</td>\n",
              "      <td>NaN</td>\n",
              "      <td>7.0</td>\n",
              "      <td>0.0</td>\n",
              "      <td>17292.0</td>\n",
              "      <td>75.8</td>\n",
              "      <td>16.0</td>\n",
              "      <td>w</td>\n",
              "      <td>0.00</td>\n",
              "      <td>0.00</td>\n",
              "      <td>...</td>\n",
              "      <td>302527.0</td>\n",
              "      <td>43770.0</td>\n",
              "      <td>12500.0</td>\n",
              "      <td>38477.0</td>\n",
              "      <td>20855.0</td>\n",
              "      <td>660.0</td>\n",
              "      <td>664.0</td>\n",
              "      <td>Mar-1998</td>\n",
              "      <td>1.0</td>\n",
              "      <td>4.0</td>\n",
              "      <td>9.0</td>\n",
              "      <td>78.5</td>\n",
              "      <td>2.0</td>\n",
              "      <td>10.0</td>\n",
              "      <td>0.0</td>\n",
              "      <td>0.0</td>\n",
              "      <td>NaN</td>\n",
              "      <td>N</td>\n",
              "      <td>NaN</td>\n",
              "      <td>NaN</td>\n",
              "      <td>NaN</td>\n",
              "      <td>NaN</td>\n",
              "      <td>NaN</td>\n",
              "      <td>NaN</td>\n",
              "      <td>NaN</td>\n",
              "      <td>NaN</td>\n",
              "      <td>NaN</td>\n",
              "      <td>NaN</td>\n",
              "      <td>NaN</td>\n",
              "      <td>NaN</td>\n",
              "      <td>NaN</td>\n",
              "      <td>NaN</td>\n",
              "      <td>DirectPay</td>\n",
              "      <td>N</td>\n",
              "      <td>NaN</td>\n",
              "      <td>NaN</td>\n",
              "      <td>NaN</td>\n",
              "      <td>NaN</td>\n",
              "      <td>NaN</td>\n",
              "      <td>NaN</td>\n",
              "    </tr>\n",
              "    <tr>\n",
              "      <th>1382318</th>\n",
              "      <td>143294893</td>\n",
              "      <td>NaN</td>\n",
              "      <td>12000.0</td>\n",
              "      <td>12000.0</td>\n",
              "      <td>12000.0</td>\n",
              "      <td>60 months</td>\n",
              "      <td>12.98</td>\n",
              "      <td>272.92</td>\n",
              "      <td>B</td>\n",
              "      <td>B5</td>\n",
              "      <td>Route Supervisor</td>\n",
              "      <td>&lt; 1 year</td>\n",
              "      <td>MORTGAGE</td>\n",
              "      <td>72000.0</td>\n",
              "      <td>Source Verified</td>\n",
              "      <td>Dec-2018</td>\n",
              "      <td>Current</td>\n",
              "      <td>n</td>\n",
              "      <td>https://lendingclub.com/browse/loanDetail.acti...</td>\n",
              "      <td>NaN</td>\n",
              "      <td>home_improvement</td>\n",
              "      <td>Home improvement</td>\n",
              "      <td>970xx</td>\n",
              "      <td>OR</td>\n",
              "      <td>16.35</td>\n",
              "      <td>0.0</td>\n",
              "      <td>Apr-1998</td>\n",
              "      <td>715.0</td>\n",
              "      <td>719.0</td>\n",
              "      <td>1.0</td>\n",
              "      <td>NaN</td>\n",
              "      <td>86.0</td>\n",
              "      <td>12.0</td>\n",
              "      <td>1.0</td>\n",
              "      <td>8849.0</td>\n",
              "      <td>21.9</td>\n",
              "      <td>24.0</td>\n",
              "      <td>w</td>\n",
              "      <td>11565.98</td>\n",
              "      <td>11565.98</td>\n",
              "      <td>...</td>\n",
              "      <td>401070.0</td>\n",
              "      <td>39302.0</td>\n",
              "      <td>12500.0</td>\n",
              "      <td>44956.0</td>\n",
              "      <td>NaN</td>\n",
              "      <td>NaN</td>\n",
              "      <td>NaN</td>\n",
              "      <td>NaN</td>\n",
              "      <td>NaN</td>\n",
              "      <td>NaN</td>\n",
              "      <td>NaN</td>\n",
              "      <td>NaN</td>\n",
              "      <td>NaN</td>\n",
              "      <td>NaN</td>\n",
              "      <td>NaN</td>\n",
              "      <td>NaN</td>\n",
              "      <td>NaN</td>\n",
              "      <td>N</td>\n",
              "      <td>NaN</td>\n",
              "      <td>NaN</td>\n",
              "      <td>NaN</td>\n",
              "      <td>NaN</td>\n",
              "      <td>NaN</td>\n",
              "      <td>NaN</td>\n",
              "      <td>NaN</td>\n",
              "      <td>NaN</td>\n",
              "      <td>NaN</td>\n",
              "      <td>NaN</td>\n",
              "      <td>NaN</td>\n",
              "      <td>NaN</td>\n",
              "      <td>NaN</td>\n",
              "      <td>NaN</td>\n",
              "      <td>Cash</td>\n",
              "      <td>N</td>\n",
              "      <td>NaN</td>\n",
              "      <td>NaN</td>\n",
              "      <td>NaN</td>\n",
              "      <td>NaN</td>\n",
              "      <td>NaN</td>\n",
              "      <td>NaN</td>\n",
              "    </tr>\n",
              "    <tr>\n",
              "      <th>1442453</th>\n",
              "      <td>142543150</td>\n",
              "      <td>NaN</td>\n",
              "      <td>20000.0</td>\n",
              "      <td>20000.0</td>\n",
              "      <td>20000.0</td>\n",
              "      <td>60 months</td>\n",
              "      <td>19.92</td>\n",
              "      <td>528.99</td>\n",
              "      <td>D</td>\n",
              "      <td>D3</td>\n",
              "      <td>Regional Manager</td>\n",
              "      <td>&lt; 1 year</td>\n",
              "      <td>MORTGAGE</td>\n",
              "      <td>200000.0</td>\n",
              "      <td>Source Verified</td>\n",
              "      <td>Oct-2018</td>\n",
              "      <td>Current</td>\n",
              "      <td>n</td>\n",
              "      <td>https://lendingclub.com/browse/loanDetail.acti...</td>\n",
              "      <td>NaN</td>\n",
              "      <td>credit_card</td>\n",
              "      <td>Credit card refinancing</td>\n",
              "      <td>541xx</td>\n",
              "      <td>WI</td>\n",
              "      <td>26.64</td>\n",
              "      <td>0.0</td>\n",
              "      <td>Sep-2004</td>\n",
              "      <td>660.0</td>\n",
              "      <td>664.0</td>\n",
              "      <td>3.0</td>\n",
              "      <td>NaN</td>\n",
              "      <td>77.0</td>\n",
              "      <td>16.0</td>\n",
              "      <td>1.0</td>\n",
              "      <td>33691.0</td>\n",
              "      <td>65.0</td>\n",
              "      <td>32.0</td>\n",
              "      <td>w</td>\n",
              "      <td>18981.80</td>\n",
              "      <td>18981.80</td>\n",
              "      <td>...</td>\n",
              "      <td>225389.0</td>\n",
              "      <td>106174.0</td>\n",
              "      <td>34000.0</td>\n",
              "      <td>149589.0</td>\n",
              "      <td>NaN</td>\n",
              "      <td>NaN</td>\n",
              "      <td>NaN</td>\n",
              "      <td>NaN</td>\n",
              "      <td>NaN</td>\n",
              "      <td>NaN</td>\n",
              "      <td>NaN</td>\n",
              "      <td>NaN</td>\n",
              "      <td>NaN</td>\n",
              "      <td>NaN</td>\n",
              "      <td>NaN</td>\n",
              "      <td>NaN</td>\n",
              "      <td>NaN</td>\n",
              "      <td>N</td>\n",
              "      <td>NaN</td>\n",
              "      <td>NaN</td>\n",
              "      <td>NaN</td>\n",
              "      <td>NaN</td>\n",
              "      <td>NaN</td>\n",
              "      <td>NaN</td>\n",
              "      <td>NaN</td>\n",
              "      <td>NaN</td>\n",
              "      <td>NaN</td>\n",
              "      <td>NaN</td>\n",
              "      <td>NaN</td>\n",
              "      <td>NaN</td>\n",
              "      <td>NaN</td>\n",
              "      <td>NaN</td>\n",
              "      <td>Cash</td>\n",
              "      <td>N</td>\n",
              "      <td>NaN</td>\n",
              "      <td>NaN</td>\n",
              "      <td>NaN</td>\n",
              "      <td>NaN</td>\n",
              "      <td>NaN</td>\n",
              "      <td>NaN</td>\n",
              "    </tr>\n",
              "    <tr>\n",
              "      <th>805517</th>\n",
              "      <td>138777960</td>\n",
              "      <td>NaN</td>\n",
              "      <td>3600.0</td>\n",
              "      <td>3600.0</td>\n",
              "      <td>3600.0</td>\n",
              "      <td>36 months</td>\n",
              "      <td>12.73</td>\n",
              "      <td>120.84</td>\n",
              "      <td>B</td>\n",
              "      <td>B5</td>\n",
              "      <td>cna</td>\n",
              "      <td>1 year</td>\n",
              "      <td>MORTGAGE</td>\n",
              "      <td>35000.0</td>\n",
              "      <td>Not Verified</td>\n",
              "      <td>Aug-2018</td>\n",
              "      <td>Current</td>\n",
              "      <td>n</td>\n",
              "      <td>https://lendingclub.com/browse/loanDetail.acti...</td>\n",
              "      <td>NaN</td>\n",
              "      <td>home_improvement</td>\n",
              "      <td>Home improvement</td>\n",
              "      <td>148xx</td>\n",
              "      <td>NY</td>\n",
              "      <td>6.55</td>\n",
              "      <td>0.0</td>\n",
              "      <td>Dec-2000</td>\n",
              "      <td>695.0</td>\n",
              "      <td>699.0</td>\n",
              "      <td>0.0</td>\n",
              "      <td>33.0</td>\n",
              "      <td>NaN</td>\n",
              "      <td>8.0</td>\n",
              "      <td>0.0</td>\n",
              "      <td>285.0</td>\n",
              "      <td>6.8</td>\n",
              "      <td>20.0</td>\n",
              "      <td>w</td>\n",
              "      <td>3002.71</td>\n",
              "      <td>3002.71</td>\n",
              "      <td>...</td>\n",
              "      <td>67700.0</td>\n",
              "      <td>3681.0</td>\n",
              "      <td>2400.0</td>\n",
              "      <td>5000.0</td>\n",
              "      <td>NaN</td>\n",
              "      <td>NaN</td>\n",
              "      <td>NaN</td>\n",
              "      <td>NaN</td>\n",
              "      <td>NaN</td>\n",
              "      <td>NaN</td>\n",
              "      <td>NaN</td>\n",
              "      <td>NaN</td>\n",
              "      <td>NaN</td>\n",
              "      <td>NaN</td>\n",
              "      <td>NaN</td>\n",
              "      <td>NaN</td>\n",
              "      <td>NaN</td>\n",
              "      <td>N</td>\n",
              "      <td>NaN</td>\n",
              "      <td>NaN</td>\n",
              "      <td>NaN</td>\n",
              "      <td>NaN</td>\n",
              "      <td>NaN</td>\n",
              "      <td>NaN</td>\n",
              "      <td>NaN</td>\n",
              "      <td>NaN</td>\n",
              "      <td>NaN</td>\n",
              "      <td>NaN</td>\n",
              "      <td>NaN</td>\n",
              "      <td>NaN</td>\n",
              "      <td>NaN</td>\n",
              "      <td>NaN</td>\n",
              "      <td>Cash</td>\n",
              "      <td>N</td>\n",
              "      <td>NaN</td>\n",
              "      <td>NaN</td>\n",
              "      <td>NaN</td>\n",
              "      <td>NaN</td>\n",
              "      <td>NaN</td>\n",
              "      <td>NaN</td>\n",
              "    </tr>\n",
              "  </tbody>\n",
              "</table>\n",
              "<p>5 rows × 151 columns</p>\n",
              "</div>"
            ],
            "text/plain": [
              "                id  member_id  ...  settlement_percentage  settlement_term\n",
              "123950    60794725        NaN  ...                    NaN              NaN\n",
              "1360132  144549384        NaN  ...                    NaN              NaN\n",
              "1382318  143294893        NaN  ...                    NaN              NaN\n",
              "1442453  142543150        NaN  ...                    NaN              NaN\n",
              "805517   138777960        NaN  ...                    NaN              NaN\n",
              "\n",
              "[5 rows x 151 columns]"
            ]
          },
          "metadata": {
            "tags": []
          },
          "execution_count": 7
        }
      ]
    },
    {
      "cell_type": "markdown",
      "metadata": {
        "id": "w-FXlwJx-s_E"
      },
      "source": [
        "There are 2.2 million rows and 151 variables. The size of the dataset is above 2.5 GB."
      ]
    },
    {
      "cell_type": "markdown",
      "metadata": {
        "id": "k6LkFvabUpAZ"
      },
      "source": [
        "# 3. Data Cleaning"
      ]
    },
    {
      "cell_type": "markdown",
      "metadata": {
        "id": "8xdIuxlRUy3g"
      },
      "source": [
        "## 3.1 Size Reduction"
      ]
    },
    {
      "cell_type": "markdown",
      "metadata": {
        "id": "l_eC7YTi-3lh"
      },
      "source": [
        "Due to the large size of the dataset and lack of computing power at my disposal I am going to reduce the size of dataset by categories of target variable and time boundaries. "
      ]
    },
    {
      "cell_type": "markdown",
      "metadata": {
        "id": "oRZAcot7_gVY"
      },
      "source": [
        "At first, let's check the value counts of target variable."
      ]
    },
    {
      "cell_type": "code",
      "metadata": {
        "colab": {
          "base_uri": "https://localhost:8080/"
        },
        "id": "mvyXyKxuNFCO",
        "outputId": "5307f9fc-1a48-4f9d-bfad-9db6e82db3e2"
      },
      "source": [
        "accepted.loan_status.value_counts()"
      ],
      "execution_count": 8,
      "outputs": [
        {
          "output_type": "execute_result",
          "data": {
            "text/plain": [
              "Fully Paid                                             1076751\n",
              "Current                                                 878317\n",
              "Charged Off                                             268559\n",
              "Late (31-120 days)                                       21467\n",
              "In Grace Period                                           8436\n",
              "Late (16-30 days)                                         4349\n",
              "Does not meet the credit policy. Status:Fully Paid        1988\n",
              "Does not meet the credit policy. Status:Charged Off        761\n",
              "Default                                                     40\n",
              "Name: loan_status, dtype: int64"
            ]
          },
          "metadata": {
            "tags": []
          },
          "execution_count": 8
        }
      ]
    },
    {
      "cell_type": "markdown",
      "metadata": {
        "id": "_i-mVBQ7_opm"
      },
      "source": [
        "I am going to inspect differences  between fully paid loans and charged off ones.   \n",
        "So, I will exclued current loans, ones that don't meet the credit policy, defaulted, or have a missing status.  \n",
        "Loans to keep have status \"Fully Paid\" and \"Charged Off.\""
      ]
    },
    {
      "cell_type": "code",
      "metadata": {
        "colab": {
          "base_uri": "https://localhost:8080/"
        },
        "id": "ZVx8WfJ8NHx2",
        "outputId": "e5626613-ed7d-4678-ac20-0572af8587b1"
      },
      "source": [
        "accepted = accepted[accepted.loan_status.isin(['Fully Paid', 'Charged Off'])]\n",
        "accepted.shape"
      ],
      "execution_count": 9,
      "outputs": [
        {
          "output_type": "execute_result",
          "data": {
            "text/plain": [
              "(1345310, 151)"
            ]
          },
          "metadata": {
            "tags": []
          },
          "execution_count": 9
        }
      ]
    },
    {
      "cell_type": "markdown",
      "metadata": {
        "id": "MQy4NBbFA8KT"
      },
      "source": [
        "Now let's look at the distribution of years, when loans were issued"
      ]
    },
    {
      "cell_type": "code",
      "metadata": {
        "colab": {
          "base_uri": "https://localhost:8080/"
        },
        "id": "97_vlhJyQLmd",
        "outputId": "2c3ee68e-91c2-4a64-9e2e-e4c08a94579a"
      },
      "source": [
        "issue_date = pd.to_datetime(accepted['issue_d']).dt.year\n",
        "issues_by_year = issue_date.groupby(issue_date).count()\n",
        "issues_by_year"
      ],
      "execution_count": 10,
      "outputs": [
        {
          "output_type": "execute_result",
          "data": {
            "text/plain": [
              "issue_d\n",
              "2007       251\n",
              "2008      1562\n",
              "2009      4716\n",
              "2010     11536\n",
              "2011     21721\n",
              "2012     53367\n",
              "2013    134804\n",
              "2014    223102\n",
              "2015    375545\n",
              "2016    293095\n",
              "2017    169300\n",
              "2018     56311\n",
              "Name: issue_d, dtype: int64"
            ]
          },
          "metadata": {
            "tags": []
          },
          "execution_count": 10
        }
      ]
    },
    {
      "cell_type": "markdown",
      "metadata": {
        "id": "Q-Tv5wadBQbl"
      },
      "source": [
        "As previously stated, I am going to reduce the size of data by choosing time period. Due to the average quantity of loans in 2013 and final status of loans (maximum term of loan provision by Lending Club is 3 years) I will keep only loans from 2013. "
      ]
    },
    {
      "cell_type": "code",
      "metadata": {
        "colab": {
          "base_uri": "https://localhost:8080/"
        },
        "id": "P1xiuJwDTN8l",
        "outputId": "5ce76d40-2b28-4d0d-baf1-d727ff78cdda"
      },
      "source": [
        "df = accepted[issue_date.isin([2013])]\n",
        "df.shape"
      ],
      "execution_count": 11,
      "outputs": [
        {
          "output_type": "execute_result",
          "data": {
            "text/plain": [
              "(134804, 151)"
            ]
          },
          "metadata": {
            "tags": []
          },
          "execution_count": 11
        }
      ]
    },
    {
      "cell_type": "markdown",
      "metadata": {
        "id": "fQYkSsYzDM8m"
      },
      "source": [
        "Let's check the distribution of target variable in reduced dataset."
      ]
    },
    {
      "cell_type": "code",
      "metadata": {
        "colab": {
          "base_uri": "https://localhost:8080/",
          "height": 357
        },
        "id": "Jf1Q1Z7RVTNR",
        "outputId": "2ba907f0-a032-4c65-aa35-91d36998fb64"
      },
      "source": [
        "plt.figure(figsize=(8,6))\n",
        "plt.pie(df.loan_status.value_counts(), labels=df.loan_status.unique(),\n",
        "        explode=(0, 0.2), autopct='%1.2f%%', shadow=True, textprops={'fontsize': 14});"
      ],
      "execution_count": 12,
      "outputs": [
        {
          "output_type": "display_data",
          "data": {
            "image/png": "[encoded data removed]",
            "text/plain": [
              "<Figure size 576x432 with 1 Axes>"
            ]
          },
          "metadata": {
            "tags": []
          }
        }
      ]
    },
    {
      "cell_type": "markdown",
      "metadata": {
        "id": "c3rPeeY8kVYv"
      },
      "source": [
        "Let's convert target variable from categorical to numerical for the more comfortable analysis."
      ]
    },
    {
      "cell_type": "code",
      "metadata": {
        "id": "gbWVxOzrjihZ"
      },
      "source": [
        "df['Target'] = df.loan_status.map({'Fully Paid' : 0, 'Charged Off': 1})\n",
        "df.drop(['loan_status'], axis=1, inplace=True, errors='ignore')"
      ],
      "execution_count": 13,
      "outputs": []
    },
    {
      "cell_type": "code",
      "metadata": {
        "id": "RZn-Lgg5U9Vp"
      },
      "source": [
        "del accepted"
      ],
      "execution_count": 14,
      "outputs": []
    },
    {
      "cell_type": "markdown",
      "metadata": {
        "id": "CTh4rMIRU4WD"
      },
      "source": [
        "## 3.2 Dropping missing values"
      ]
    },
    {
      "cell_type": "code",
      "metadata": {
        "id": "kyBSTZZwZZng"
      },
      "source": [
        "df_full = df.copy()"
      ],
      "execution_count": 15,
      "outputs": []
    },
    {
      "cell_type": "markdown",
      "metadata": {
        "id": "y22dKEcNDb4a"
      },
      "source": [
        "Let's visualize the distribution of missing values ratio by columns:"
      ]
    },
    {
      "cell_type": "code",
      "metadata": {
        "colab": {
          "base_uri": "https://localhost:8080/",
          "height": 350
        },
        "id": "OjjObf5TW6OR",
        "outputId": "7593961c-4210-4954-ef2c-054ecba721ee"
      },
      "source": [
        "plt.figure(figsize=(8,5))\n",
        "(df.isna().sum() / df.shape[0]).hist(bins=20)\n",
        "plt.title('Histogram of Feature Incompleteness')\n",
        "plt.xlabel('Fraction of data missing')\n",
        "plt.ylabel('Feature count');"
      ],
      "execution_count": 16,
      "outputs": [
        {
          "output_type": "display_data",
          "data": {
            "image/png": "[encoded data removed]",
            "text/plain": [
              "<Figure size 576x360 with 1 Axes>"
            ]
          },
          "metadata": {
            "tags": [],
            "needs_background": "light"
          }
        }
      ]
    },
    {
      "cell_type": "markdown",
      "metadata": {
        "id": "nEBZKjmTEIo1"
      },
      "source": [
        "In the plot we can observe large gap between features missing small percentage of data (<20%) and those missing significant proportion of data (>40%).  \n",
        "Let's drop all columns with more than 20% missing values."
      ]
    },
    {
      "cell_type": "code",
      "metadata": {
        "id": "pCFB_9ynZUQt"
      },
      "source": [
        "df.dropna(axis=1, thresh = 0.8*df.shape[0], inplace=True)"
      ],
      "execution_count": 17,
      "outputs": []
    },
    {
      "cell_type": "markdown",
      "metadata": {
        "id": "d_Pz0Ci0GW-Q"
      },
      "source": [
        "## 3.3 Useless features"
      ]
    },
    {
      "cell_type": "markdown",
      "metadata": {
        "id": "PpoyRq1TFFl_"
      },
      "source": [
        "Let's find constant features (null variance for numerical features and only one value for categorical features)."
      ]
    },
    {
      "cell_type": "code",
      "metadata": {
        "colab": {
          "base_uri": "https://localhost:8080/",
          "height": 133
        },
        "id": "UFG4mEzecVMv",
        "outputId": "8f0441ab-98b7-4f38-9623-2738073dc678"
      },
      "source": [
        "null_var_col =  list((df.std() == 0).index[(df.std() == 0)]) + list(df.describe(include=['object']).T.query('unique == 1').index)\n",
        "df[null_var_col].head(3)"
      ],
      "execution_count": 18,
      "outputs": [
        {
          "output_type": "execute_result",
          "data": {
            "text/html": [
              "<div>\n",
              "<style scoped>\n",
              "    .dataframe tbody tr th:only-of-type {\n",
              "        vertical-align: middle;\n",
              "    }\n",
              "\n",
              "    .dataframe tbody tr th {\n",
              "        vertical-align: top;\n",
              "    }\n",
              "\n",
              "    .dataframe thead th {\n",
              "        text-align: right;\n",
              "    }\n",
              "</style>\n",
              "<table border=\"1\" class=\"dataframe\">\n",
              "  <thead>\n",
              "    <tr style=\"text-align: right;\">\n",
              "      <th></th>\n",
              "      <th>out_prncp</th>\n",
              "      <th>out_prncp_inv</th>\n",
              "      <th>policy_code</th>\n",
              "      <th>pymnt_plan</th>\n",
              "      <th>application_type</th>\n",
              "      <th>hardship_flag</th>\n",
              "      <th>disbursement_method</th>\n",
              "    </tr>\n",
              "  </thead>\n",
              "  <tbody>\n",
              "    <tr>\n",
              "      <th>1751198</th>\n",
              "      <td>0.0</td>\n",
              "      <td>0.0</td>\n",
              "      <td>1.0</td>\n",
              "      <td>n</td>\n",
              "      <td>Individual</td>\n",
              "      <td>N</td>\n",
              "      <td>Cash</td>\n",
              "    </tr>\n",
              "    <tr>\n",
              "      <th>1751199</th>\n",
              "      <td>0.0</td>\n",
              "      <td>0.0</td>\n",
              "      <td>1.0</td>\n",
              "      <td>n</td>\n",
              "      <td>Individual</td>\n",
              "      <td>N</td>\n",
              "      <td>Cash</td>\n",
              "    </tr>\n",
              "    <tr>\n",
              "      <th>1751200</th>\n",
              "      <td>0.0</td>\n",
              "      <td>0.0</td>\n",
              "      <td>1.0</td>\n",
              "      <td>n</td>\n",
              "      <td>Individual</td>\n",
              "      <td>N</td>\n",
              "      <td>Cash</td>\n",
              "    </tr>\n",
              "  </tbody>\n",
              "</table>\n",
              "</div>"
            ],
            "text/plain": [
              "         out_prncp  out_prncp_inv  ...  hardship_flag disbursement_method\n",
              "1751198        0.0            0.0  ...              N                Cash\n",
              "1751199        0.0            0.0  ...              N                Cash\n",
              "1751200        0.0            0.0  ...              N                Cash\n",
              "\n",
              "[3 rows x 7 columns]"
            ]
          },
          "metadata": {
            "tags": []
          },
          "execution_count": 18
        }
      ]
    },
    {
      "cell_type": "markdown",
      "metadata": {
        "id": "Gq8dkL68FYt0"
      },
      "source": [
        "Let's delete these features"
      ]
    },
    {
      "cell_type": "code",
      "metadata": {
        "id": "WipV3hsncvTr"
      },
      "source": [
        "df.drop(columns=null_var_col, inplace=True, errors='ignore')"
      ],
      "execution_count": 19,
      "outputs": []
    },
    {
      "cell_type": "markdown",
      "metadata": {
        "id": "dzaWdHVrh2uY"
      },
      "source": [
        "Now let's delete personal or irrelevant columns.\n",
        "* ID\n",
        "* URL\n",
        "* The month which the loan was funded \n",
        "* Zip code\n",
        "* Employment title\n",
        "* The loan title provided by the borrower\n",
        "* State of residence\n",
        "\n",
        "Also information that contains information **up until the present time** because this data can not be used for prediction. Such as:  \n",
        "* total_pymnt - Payments received to date for total amount funded  \n",
        "* total_pymnt_inv - Payments received to date for portion of total amount funded by investors  \n",
        "* total_rec_prncp - Principal received to date  \n",
        "* total_rec_int - Interest received to date \n",
        "* total_rec_late_fee - Late fees received to date\n",
        "* debt_settlement_flag - The indication of settlement negotiatied with an insecured debtor  \n",
        "* funded_amnt - The total amount committed to that loan at that point in time\n",
        "* funded_amnt_inv - The total amount committed by investors for that loan at that point in time.  \n",
        "\n",
        "Description of features is taken from [Data Dictionary](http://rstudio-pubs-static.s3.amazonaws.com/290261_676d9bb194ae4c9882f599e7c0a808f2.html)."
      ]
    },
    {
      "cell_type": "code",
      "metadata": {
        "colab": {
          "base_uri": "https://localhost:8080/",
          "height": 173
        },
        "id": "cTAFh0Gge5Y9",
        "outputId": "3bda898d-c0d8-40bd-c3e7-cc1f74d47fe6"
      },
      "source": [
        "useless_cols = ['id', 'url', 'issue_d', 'title', 'zip_code', 'debt_settlement_flag', 'emp_title',\n",
        "                'total_pymnt', 'total_pymnt_inv', 'total_rec_prncp', 'total_rec_int', 'total_rec_late_fee',\n",
        "                'last_fico_range_high', 'last_fico_range_low', 'addr_state', 'funded_amnt', 'funded_amnt_inv']\n",
        "df[useless_cols].sample(2)"
      ],
      "execution_count": 20,
      "outputs": [
        {
          "output_type": "execute_result",
          "data": {
            "text/html": [
              "<div>\n",
              "<style scoped>\n",
              "    .dataframe tbody tr th:only-of-type {\n",
              "        vertical-align: middle;\n",
              "    }\n",
              "\n",
              "    .dataframe tbody tr th {\n",
              "        vertical-align: top;\n",
              "    }\n",
              "\n",
              "    .dataframe thead th {\n",
              "        text-align: right;\n",
              "    }\n",
              "</style>\n",
              "<table border=\"1\" class=\"dataframe\">\n",
              "  <thead>\n",
              "    <tr style=\"text-align: right;\">\n",
              "      <th></th>\n",
              "      <th>id</th>\n",
              "      <th>url</th>\n",
              "      <th>issue_d</th>\n",
              "      <th>title</th>\n",
              "      <th>zip_code</th>\n",
              "      <th>debt_settlement_flag</th>\n",
              "      <th>emp_title</th>\n",
              "      <th>total_pymnt</th>\n",
              "      <th>total_pymnt_inv</th>\n",
              "      <th>total_rec_prncp</th>\n",
              "      <th>total_rec_int</th>\n",
              "      <th>total_rec_late_fee</th>\n",
              "      <th>last_fico_range_high</th>\n",
              "      <th>last_fico_range_low</th>\n",
              "      <th>addr_state</th>\n",
              "      <th>funded_amnt</th>\n",
              "      <th>funded_amnt_inv</th>\n",
              "    </tr>\n",
              "  </thead>\n",
              "  <tbody>\n",
              "    <tr>\n",
              "      <th>1783953</th>\n",
              "      <td>7079415</td>\n",
              "      <td>https://lendingclub.com/browse/loanDetail.acti...</td>\n",
              "      <td>Oct-2013</td>\n",
              "      <td>Debt Consolidation</td>\n",
              "      <td>336xx</td>\n",
              "      <td>N</td>\n",
              "      <td>VP Human Resources</td>\n",
              "      <td>25106.338362</td>\n",
              "      <td>25046.56</td>\n",
              "      <td>21000.00</td>\n",
              "      <td>4106.34</td>\n",
              "      <td>0.0</td>\n",
              "      <td>714.0</td>\n",
              "      <td>710.0</td>\n",
              "      <td>FL</td>\n",
              "      <td>21000.0</td>\n",
              "      <td>20950.0</td>\n",
              "    </tr>\n",
              "    <tr>\n",
              "      <th>1774358</th>\n",
              "      <td>8628754</td>\n",
              "      <td>https://lendingclub.com/browse/loanDetail.acti...</td>\n",
              "      <td>Nov-2013</td>\n",
              "      <td>My Debt pay off</td>\n",
              "      <td>923xx</td>\n",
              "      <td>N</td>\n",
              "      <td>VP Special Assets C &amp; I Loans</td>\n",
              "      <td>15922.140000</td>\n",
              "      <td>15922.14</td>\n",
              "      <td>5010.69</td>\n",
              "      <td>7427.45</td>\n",
              "      <td>0.0</td>\n",
              "      <td>629.0</td>\n",
              "      <td>625.0</td>\n",
              "      <td>CA</td>\n",
              "      <td>23850.0</td>\n",
              "      <td>23850.0</td>\n",
              "    </tr>\n",
              "  </tbody>\n",
              "</table>\n",
              "</div>"
            ],
            "text/plain": [
              "              id  ... funded_amnt_inv\n",
              "1783953  7079415  ...         20950.0\n",
              "1774358  8628754  ...         23850.0\n",
              "\n",
              "[2 rows x 17 columns]"
            ]
          },
          "metadata": {
            "tags": []
          },
          "execution_count": 20
        }
      ]
    },
    {
      "cell_type": "code",
      "metadata": {
        "id": "kfhwpuJbiBUt"
      },
      "source": [
        "df.drop(columns=useless_cols, inplace=True, errors='ignore')"
      ],
      "execution_count": 21,
      "outputs": []
    },
    {
      "cell_type": "markdown",
      "metadata": {
        "id": "o_JFW8ETGK69"
      },
      "source": [
        "Let's set variables with categorical and numerical columns"
      ]
    },
    {
      "cell_type": "code",
      "metadata": {
        "id": "QhwJftWvpG8H"
      },
      "source": [
        "cat_cols = df.dtypes[df.dtypes == 'object'].index\n",
        "num_cols = df.dtypes[~(df.dtypes == 'object')].index"
      ],
      "execution_count": 22,
      "outputs": []
    },
    {
      "cell_type": "markdown",
      "metadata": {
        "id": "Bye2iYV2ABvQ"
      },
      "source": [
        "## 3.4 Numerical Features"
      ]
    },
    {
      "cell_type": "markdown",
      "metadata": {
        "id": "-SSvVV_mGcPr"
      },
      "source": [
        "### 3.4.1 Multicollinearity"
      ]
    },
    {
      "cell_type": "markdown",
      "metadata": {
        "id": "QkzjYmY4Gnhv"
      },
      "source": [
        "In order to detect and drop correlating features I am going firstly to calculate VIF of numerical features."
      ]
    },
    {
      "cell_type": "code",
      "metadata": {
        "id": "Vi2XDqHGoEUU"
      },
      "source": [
        "# Import library for VIF\n",
        "from statsmodels.stats.outliers_influence import variance_inflation_factor\n",
        "\n",
        "def calc_vif(X):\n",
        "\n",
        "    # Calculating VIF\n",
        "    vif = pd.DataFrame()\n",
        "    vif[\"variables\"] = X.columns\n",
        "    vif[\"VIF\"] = [variance_inflation_factor(X.values, i) for i in range(X.shape[1])]\n",
        "\n",
        "    return(vif.sort_values(by=['VIF'], ascending=False))\n",
        "\n",
        "vif = calc_vif(df[num_cols].fillna(df[num_cols].mean()).iloc[:,:-1])"
      ],
      "execution_count": 23,
      "outputs": []
    },
    {
      "cell_type": "markdown",
      "metadata": {
        "id": "zd8RdXyLIDuV"
      },
      "source": [
        "Now I'b going to investigate correlation matrix of features with the largest VIF and pick clusters of correation features for further deletion."
      ]
    },
    {
      "cell_type": "code",
      "metadata": {
        "id": "szMQX-Bti1Dt",
        "colab": {
          "base_uri": "https://localhost:8080/",
          "height": 811
        },
        "outputId": "f70c4d50-f4b0-4893-c4a3-67de2dfdbfe7"
      },
      "source": [
        "multicol = vif.head(23)['variables']\n",
        "plt.figure(figsize=(15,12))\n",
        "cmap = sns.diverging_palette(0, 230, 90, 60, as_cmap=True)# plot heatmap\n",
        "mask = np.zeros_like(df[multicol].corr())\n",
        "mask[np.triu_indices_from(mask)] = True\n",
        "sns.heatmap(df[multicol].corr(), cmap=cmap, mask=mask, annot=True, fmt=\".2f\", square=True);"
      ],
      "execution_count": 24,
      "outputs": [
        {
          "output_type": "display_data",
          "data": {
            "image/png": "[encoded data removed]",
            "text/plain": [
              "<Figure size 1080x864 with 2 Axes>"
            ]
          },
          "metadata": {
            "tags": [],
            "needs_background": "light"
          }
        }
      ]
    },
    {
      "cell_type": "markdown",
      "metadata": {
        "id": "m5gjxEUiJmaj"
      },
      "source": [
        "Let's look at description.  \n",
        "*fico_range_low*: \"The lower boundary range the borrower’s FICO at loan origination belongs to.\"  \n",
        "*fico_range_high*: \"The upper boundary range the borrower’s FICO at loan origination belongs to.\"\n",
        "\n",
        "I will create new feature as a mean between these two variables"
      ]
    },
    {
      "cell_type": "code",
      "metadata": {
        "id": "diNCvxY4d3MC"
      },
      "source": [
        "df['fico_range'] = 0.5*df['fico_range_high'] + 0.5*df['fico_range_low']"
      ],
      "execution_count": 25,
      "outputs": []
    },
    {
      "cell_type": "markdown",
      "metadata": {
        "id": "rzO-qm7mMwh3"
      },
      "source": [
        "Further, I am going make scatterplots of cluster of dependent variables and delete some of them."
      ]
    },
    {
      "cell_type": "code",
      "metadata": {
        "id": "1TWlEqr3TauS",
        "colab": {
          "base_uri": "https://localhost:8080/",
          "height": 512
        },
        "outputId": "ed0b5740-1f5f-46cc-e9e1-3c5da93d6e61"
      },
      "source": [
        "fig, axes = plt.subplots(2,3, figsize=(13,7), sharey=True);\n",
        "features = ['total_acc', 'num_actv_rev_tl', 'num_rev_tl_bal_gt_0', 'num_rev_accts', 'num_op_rev_tl', 'num_bc_sats']\n",
        "for i, axis in enumerate(axes.flat):\n",
        "    feature = df[features[i]]\n",
        "    axis.scatter(feature, df['num_sats'], s=0.3)\n",
        "    axis.set_xlabel(features[i])\n",
        "    axis.set_ylabel('num_sats')\n",
        "plt.tight_layout()"
      ],
      "execution_count": 26,
      "outputs": [
        {
          "output_type": "display_data",
          "data": {
            "image/png": "[encoded data removed]",
            "text/plain": [
              "<Figure size 936x504 with 6 Axes>"
            ]
          },
          "metadata": {
            "tags": [],
            "needs_background": "light"
          }
        }
      ]
    },
    {
      "cell_type": "markdown",
      "metadata": {
        "id": "MJCCBxTlN9DP"
      },
      "source": [
        "Since all these features are correlated with *open_acc* (The number of open credit lines in the borrower's credit file) with coefficients from 0.61 to 1 and some of them are intercorrelated, I am going to drop them all.\n"
      ]
    },
    {
      "cell_type": "code",
      "metadata": {
        "id": "ZOM-Dbl0RAB_"
      },
      "source": [
        "df.drop(['total_acc', 'num_actv_rev_tl', 'num_rev_tl_bal_gt_0', 'num_rev_accts', 'num_op_rev_tl', 'num_bc_sats'], axis=1, inplace=True, errors='ignore')"
      ],
      "execution_count": 27,
      "outputs": []
    },
    {
      "cell_type": "markdown",
      "metadata": {
        "id": "Ifc_I39hPZN8"
      },
      "source": [
        "Let's look at other pairs of correlated features."
      ]
    },
    {
      "cell_type": "code",
      "metadata": {
        "id": "R3gyeD2uYIL3",
        "colab": {
          "base_uri": "https://localhost:8080/",
          "height": 291
        },
        "outputId": "cbe5437e-93de-439c-9826-1e764d7a1a2d"
      },
      "source": [
        "fig = plt.figure(figsize=(20,4))\n",
        "ax = fig.add_subplot(1,4,1)\n",
        "ax.scatter(df.tot_hi_cred_lim, df.tot_cur_bal, s=0.3)\n",
        "ax.set_xlabel('tot_hi_cred_lim')\n",
        "ax.set_ylabel('tot_cur_bal')\n",
        "ax = fig.add_subplot(1,4,2)\n",
        "ax.scatter(df.fico_range_low, df.fico_range_high,  s=0.3)\n",
        "ax.set_xlabel('loan_amnt')\n",
        "ax.set_ylabel('installment')\n",
        "ax = fig.add_subplot(1,4,3)\n",
        "ax.scatter(df.installment, df.loan_amnt,  s=0.3)\n",
        "ax.set_xlabel('bc_util')\n",
        "ax.set_ylabel('recol_util')\n",
        "ax = fig.add_subplot(1,4,4)\n",
        "ax.scatter(df.installment, df.loan_amnt,  s=0.3)\n",
        "ax.set_xlabel('total_il_high_credit_lim')\n",
        "ax.set_ylabel('total_bal_ex_mort')\n",
        "plt.show()"
      ],
      "execution_count": 28,
      "outputs": [
        {
          "output_type": "display_data",
          "data": {
            "image/png": "[encoded data removed]",
            "text/plain": [
              "<Figure size 1440x288 with 4 Axes>"
            ]
          },
          "metadata": {
            "tags": [],
            "needs_background": "light"
          }
        }
      ]
    },
    {
      "cell_type": "markdown",
      "metadata": {
        "id": "yWMbSeWLQGw-"
      },
      "source": [
        "And let's drop one from each pair."
      ]
    },
    {
      "cell_type": "code",
      "metadata": {
        "id": "aG82FOiSaBv2"
      },
      "source": [
        "df.drop(['tot_hi_cred_lim',  'installment', 'revol_util', 'total_bal_ex_mort'], axis=1, inplace=True)"
      ],
      "execution_count": 29,
      "outputs": []
    },
    {
      "cell_type": "code",
      "metadata": {
        "id": "tl9Rd06Xa-jX",
        "colab": {
          "base_uri": "https://localhost:8080/"
        },
        "outputId": "46e16d4f-e0ae-4acd-82fd-7751971f6b84"
      },
      "source": [
        "df.shape"
      ],
      "execution_count": 30,
      "outputs": [
        {
          "output_type": "execute_result",
          "data": {
            "text/plain": [
              "(134804, 60)"
            ]
          },
          "metadata": {
            "tags": []
          },
          "execution_count": 30
        }
      ]
    },
    {
      "cell_type": "markdown",
      "metadata": {
        "id": "Vi-MM8IdIZfj"
      },
      "source": [
        "### 3.4.2 Correlation of predictors with target feature"
      ]
    },
    {
      "cell_type": "markdown",
      "metadata": {
        "id": "45E7IvWJ9nJ5"
      },
      "source": [
        "Now let's examine whether any feature is heavily correlated with target variable in order to find features that contain information emerged after the issue of loan and thus unfit for prediction."
      ]
    },
    {
      "cell_type": "code",
      "metadata": {
        "id": "fHrr2SGD-a-b",
        "colab": {
          "base_uri": "https://localhost:8080/",
          "height": 373
        },
        "outputId": "fb302cee-e808-421c-c7e0-59f1fc139c9e"
      },
      "source": [
        "cor_tar = df.iloc[:, :-1].corrwith(df['Target']).abs().sort_values(ascending=False).head(10)[1:]\n",
        "plt.figure(figsize=(10,6))\n",
        "bar = sns.barplot(cor_tar, cor_tar.index, )\n",
        "for p in bar.patches:\n",
        "    width = p.get_width()    # get bar length\n",
        "    bar.text(width,  # set the text at bar\n",
        "            p.get_y() + p.get_height() / 2, # get Y coordinate + X coordinate / 2\n",
        "            '{:1.2f}'.format(width), # set variable to display, 2 decimals\n",
        "            ha = 'left',   # horizontal alignment\n",
        "            va = 'center')  # vertical alignment"
      ],
      "execution_count": 31,
      "outputs": [
        {
          "output_type": "display_data",
          "data": {
            "image/png": "[encoded data removed]",
            "text/plain": [
              "<Figure size 720x432 with 1 Axes>"
            ]
          },
          "metadata": {
            "tags": [],
            "needs_background": "light"
          }
        }
      ]
    },
    {
      "cell_type": "markdown",
      "metadata": {
        "id": "PAbfyI6uAgqS"
      },
      "source": [
        "Let's check statistical metrics and description of 4 most correlated features."
      ]
    },
    {
      "cell_type": "markdown",
      "metadata": {
        "id": "IhlgEJPoHJGF"
      },
      "source": [
        "*Recoveries* - post charge off gross recovery"
      ]
    },
    {
      "cell_type": "code",
      "metadata": {
        "id": "_QTuqwfBdDgt",
        "colab": {
          "base_uri": "https://localhost:8080/",
          "height": 133
        },
        "outputId": "26fd4ad5-b7f0-4e0e-c43c-26594ddedbe6"
      },
      "source": [
        "df.groupby(['Target'])['recoveries'].describe()"
      ],
      "execution_count": 32,
      "outputs": [
        {
          "output_type": "execute_result",
          "data": {
            "text/html": [
              "<div>\n",
              "<style scoped>\n",
              "    .dataframe tbody tr th:only-of-type {\n",
              "        vertical-align: middle;\n",
              "    }\n",
              "\n",
              "    .dataframe tbody tr th {\n",
              "        vertical-align: top;\n",
              "    }\n",
              "\n",
              "    .dataframe thead th {\n",
              "        text-align: right;\n",
              "    }\n",
              "</style>\n",
              "<table border=\"1\" class=\"dataframe\">\n",
              "  <thead>\n",
              "    <tr style=\"text-align: right;\">\n",
              "      <th></th>\n",
              "      <th>count</th>\n",
              "      <th>mean</th>\n",
              "      <th>std</th>\n",
              "      <th>min</th>\n",
              "      <th>25%</th>\n",
              "      <th>50%</th>\n",
              "      <th>75%</th>\n",
              "      <th>max</th>\n",
              "    </tr>\n",
              "    <tr>\n",
              "      <th>Target</th>\n",
              "      <th></th>\n",
              "      <th></th>\n",
              "      <th></th>\n",
              "      <th></th>\n",
              "      <th></th>\n",
              "      <th></th>\n",
              "      <th></th>\n",
              "      <th></th>\n",
              "    </tr>\n",
              "  </thead>\n",
              "  <tbody>\n",
              "    <tr>\n",
              "      <th>0</th>\n",
              "      <td>113780.0</td>\n",
              "      <td>0.000000</td>\n",
              "      <td>0.000000</td>\n",
              "      <td>0.0</td>\n",
              "      <td>0.0000</td>\n",
              "      <td>0.00</td>\n",
              "      <td>0.00</td>\n",
              "      <td>0.00</td>\n",
              "    </tr>\n",
              "    <tr>\n",
              "      <th>1</th>\n",
              "      <td>21024.0</td>\n",
              "      <td>1322.517665</td>\n",
              "      <td>1858.587445</td>\n",
              "      <td>0.0</td>\n",
              "      <td>7.4075</td>\n",
              "      <td>771.82</td>\n",
              "      <td>1889.73</td>\n",
              "      <td>39444.37</td>\n",
              "    </tr>\n",
              "  </tbody>\n",
              "</table>\n",
              "</div>"
            ],
            "text/plain": [
              "           count         mean          std  ...     50%      75%       max\n",
              "Target                                      ...                           \n",
              "0       113780.0     0.000000     0.000000  ...    0.00     0.00      0.00\n",
              "1        21024.0  1322.517665  1858.587445  ...  771.82  1889.73  39444.37\n",
              "\n",
              "[2 rows x 8 columns]"
            ]
          },
          "metadata": {
            "tags": []
          },
          "execution_count": 32
        }
      ]
    },
    {
      "cell_type": "markdown",
      "metadata": {
        "id": "Jz_U262iHV9S"
      },
      "source": [
        "*collection_recovery_fee* - post charge off collection fee"
      ]
    },
    {
      "cell_type": "code",
      "metadata": {
        "id": "wmOKlVqNbGBH",
        "colab": {
          "base_uri": "https://localhost:8080/",
          "height": 133
        },
        "outputId": "851cdafa-a610-4d7c-f333-62478f9c2b98"
      },
      "source": [
        "df.groupby(['Target'])['collection_recovery_fee'].describe()"
      ],
      "execution_count": 33,
      "outputs": [
        {
          "output_type": "execute_result",
          "data": {
            "text/html": [
              "<div>\n",
              "<style scoped>\n",
              "    .dataframe tbody tr th:only-of-type {\n",
              "        vertical-align: middle;\n",
              "    }\n",
              "\n",
              "    .dataframe tbody tr th {\n",
              "        vertical-align: top;\n",
              "    }\n",
              "\n",
              "    .dataframe thead th {\n",
              "        text-align: right;\n",
              "    }\n",
              "</style>\n",
              "<table border=\"1\" class=\"dataframe\">\n",
              "  <thead>\n",
              "    <tr style=\"text-align: right;\">\n",
              "      <th></th>\n",
              "      <th>count</th>\n",
              "      <th>mean</th>\n",
              "      <th>std</th>\n",
              "      <th>min</th>\n",
              "      <th>25%</th>\n",
              "      <th>50%</th>\n",
              "      <th>75%</th>\n",
              "      <th>max</th>\n",
              "    </tr>\n",
              "    <tr>\n",
              "      <th>Target</th>\n",
              "      <th></th>\n",
              "      <th></th>\n",
              "      <th></th>\n",
              "      <th></th>\n",
              "      <th></th>\n",
              "      <th></th>\n",
              "      <th></th>\n",
              "      <th></th>\n",
              "    </tr>\n",
              "  </thead>\n",
              "  <tbody>\n",
              "    <tr>\n",
              "      <th>0</th>\n",
              "      <td>113780.0</td>\n",
              "      <td>0.000000</td>\n",
              "      <td>0.000000</td>\n",
              "      <td>0.0</td>\n",
              "      <td>0.0</td>\n",
              "      <td>0.00000</td>\n",
              "      <td>0.000</td>\n",
              "      <td>0.000</td>\n",
              "    </tr>\n",
              "    <tr>\n",
              "      <th>1</th>\n",
              "      <td>21024.0</td>\n",
              "      <td>165.769811</td>\n",
              "      <td>312.906316</td>\n",
              "      <td>0.0</td>\n",
              "      <td>0.0</td>\n",
              "      <td>29.47555</td>\n",
              "      <td>198.549</td>\n",
              "      <td>6124.938</td>\n",
              "    </tr>\n",
              "  </tbody>\n",
              "</table>\n",
              "</div>"
            ],
            "text/plain": [
              "           count        mean         std  min  25%       50%      75%       max\n",
              "Target                                                                         \n",
              "0       113780.0    0.000000    0.000000  0.0  0.0   0.00000    0.000     0.000\n",
              "1        21024.0  165.769811  312.906316  0.0  0.0  29.47555  198.549  6124.938"
            ]
          },
          "metadata": {
            "tags": []
          },
          "execution_count": 33
        }
      ]
    },
    {
      "cell_type": "markdown",
      "metadata": {
        "id": "8F6vhwlXHkqk"
      },
      "source": [
        "*last_pymnt_amnt* - last total payment amount received"
      ]
    },
    {
      "cell_type": "code",
      "metadata": {
        "id": "SiKYIY_yf9Ep",
        "colab": {
          "base_uri": "https://localhost:8080/",
          "height": 133
        },
        "outputId": "8ee20eaf-3093-4392-acae-989ee3d8e8ee"
      },
      "source": [
        "df.groupby(['Target'])['last_pymnt_amnt'].describe()"
      ],
      "execution_count": 34,
      "outputs": [
        {
          "output_type": "execute_result",
          "data": {
            "text/html": [
              "<div>\n",
              "<style scoped>\n",
              "    .dataframe tbody tr th:only-of-type {\n",
              "        vertical-align: middle;\n",
              "    }\n",
              "\n",
              "    .dataframe tbody tr th {\n",
              "        vertical-align: top;\n",
              "    }\n",
              "\n",
              "    .dataframe thead th {\n",
              "        text-align: right;\n",
              "    }\n",
              "</style>\n",
              "<table border=\"1\" class=\"dataframe\">\n",
              "  <thead>\n",
              "    <tr style=\"text-align: right;\">\n",
              "      <th></th>\n",
              "      <th>count</th>\n",
              "      <th>mean</th>\n",
              "      <th>std</th>\n",
              "      <th>min</th>\n",
              "      <th>25%</th>\n",
              "      <th>50%</th>\n",
              "      <th>75%</th>\n",
              "      <th>max</th>\n",
              "    </tr>\n",
              "    <tr>\n",
              "      <th>Target</th>\n",
              "      <th></th>\n",
              "      <th></th>\n",
              "      <th></th>\n",
              "      <th></th>\n",
              "      <th></th>\n",
              "      <th></th>\n",
              "      <th></th>\n",
              "      <th></th>\n",
              "    </tr>\n",
              "  </thead>\n",
              "  <tbody>\n",
              "    <tr>\n",
              "      <th>0</th>\n",
              "      <td>113780.0</td>\n",
              "      <td>5125.116450</td>\n",
              "      <td>6235.246529</td>\n",
              "      <td>0.01</td>\n",
              "      <td>467.0400</td>\n",
              "      <td>2546.030</td>\n",
              "      <td>7811.86</td>\n",
              "      <td>35760.20</td>\n",
              "    </tr>\n",
              "    <tr>\n",
              "      <th>1</th>\n",
              "      <td>21024.0</td>\n",
              "      <td>492.075894</td>\n",
              "      <td>613.142315</td>\n",
              "      <td>0.00</td>\n",
              "      <td>287.0625</td>\n",
              "      <td>421.735</td>\n",
              "      <td>601.97</td>\n",
              "      <td>34833.35</td>\n",
              "    </tr>\n",
              "  </tbody>\n",
              "</table>\n",
              "</div>"
            ],
            "text/plain": [
              "           count         mean          std  ...       50%      75%       max\n",
              "Target                                      ...                             \n",
              "0       113780.0  5125.116450  6235.246529  ...  2546.030  7811.86  35760.20\n",
              "1        21024.0   492.075894   613.142315  ...   421.735   601.97  34833.35\n",
              "\n",
              "[2 rows x 8 columns]"
            ]
          },
          "metadata": {
            "tags": []
          },
          "execution_count": 34
        }
      ]
    },
    {
      "cell_type": "markdown",
      "metadata": {
        "id": "L5f24rPDH1Ay"
      },
      "source": [
        "*int_rate* - interest Rate on the loan"
      ]
    },
    {
      "cell_type": "code",
      "metadata": {
        "id": "_J-jBBTRAr_O",
        "colab": {
          "base_uri": "https://localhost:8080/",
          "height": 133
        },
        "outputId": "e2b719bb-dc1e-4602-de3e-c4ce1146c0f7"
      },
      "source": [
        "df.groupby(['Target'])['int_rate'].describe()"
      ],
      "execution_count": 35,
      "outputs": [
        {
          "output_type": "execute_result",
          "data": {
            "text/html": [
              "<div>\n",
              "<style scoped>\n",
              "    .dataframe tbody tr th:only-of-type {\n",
              "        vertical-align: middle;\n",
              "    }\n",
              "\n",
              "    .dataframe tbody tr th {\n",
              "        vertical-align: top;\n",
              "    }\n",
              "\n",
              "    .dataframe thead th {\n",
              "        text-align: right;\n",
              "    }\n",
              "</style>\n",
              "<table border=\"1\" class=\"dataframe\">\n",
              "  <thead>\n",
              "    <tr style=\"text-align: right;\">\n",
              "      <th></th>\n",
              "      <th>count</th>\n",
              "      <th>mean</th>\n",
              "      <th>std</th>\n",
              "      <th>min</th>\n",
              "      <th>25%</th>\n",
              "      <th>50%</th>\n",
              "      <th>75%</th>\n",
              "      <th>max</th>\n",
              "    </tr>\n",
              "    <tr>\n",
              "      <th>Target</th>\n",
              "      <th></th>\n",
              "      <th></th>\n",
              "      <th></th>\n",
              "      <th></th>\n",
              "      <th></th>\n",
              "      <th></th>\n",
              "      <th></th>\n",
              "      <th></th>\n",
              "    </tr>\n",
              "  </thead>\n",
              "  <tbody>\n",
              "    <tr>\n",
              "      <th>0</th>\n",
              "      <td>113780.0</td>\n",
              "      <td>14.118374</td>\n",
              "      <td>4.349962</td>\n",
              "      <td>6.0</td>\n",
              "      <td>10.99</td>\n",
              "      <td>13.98</td>\n",
              "      <td>17.10</td>\n",
              "      <td>26.06</td>\n",
              "    </tr>\n",
              "    <tr>\n",
              "      <th>1</th>\n",
              "      <td>21024.0</td>\n",
              "      <td>16.768118</td>\n",
              "      <td>4.233957</td>\n",
              "      <td>6.0</td>\n",
              "      <td>13.68</td>\n",
              "      <td>16.29</td>\n",
              "      <td>19.52</td>\n",
              "      <td>26.06</td>\n",
              "    </tr>\n",
              "  </tbody>\n",
              "</table>\n",
              "</div>"
            ],
            "text/plain": [
              "           count       mean       std  min    25%    50%    75%    max\n",
              "Target                                                                \n",
              "0       113780.0  14.118374  4.349962  6.0  10.99  13.98  17.10  26.06\n",
              "1        21024.0  16.768118  4.233957  6.0  13.68  16.29  19.52  26.06"
            ]
          },
          "metadata": {
            "tags": []
          },
          "execution_count": 35
        }
      ]
    },
    {
      "cell_type": "markdown",
      "metadata": {
        "id": "CYRaNOq7H-3a"
      },
      "source": [
        "Such features as *recoveries*,  *collection_recovery_fee*, *last_pymnt_amnt* describe data after the issue of loand and thus unfit for prediction."
      ]
    },
    {
      "cell_type": "code",
      "metadata": {
        "id": "rHZTkTC1f87u"
      },
      "source": [
        "df.drop(['recoveries',  'collection_recovery_fee', 'last_pymnt_amnt'], axis=1, inplace=True)"
      ],
      "execution_count": 36,
      "outputs": []
    },
    {
      "cell_type": "markdown",
      "metadata": {
        "id": "yeru29HAE9Au"
      },
      "source": [
        "## 3.5 Categorical columns"
      ]
    },
    {
      "cell_type": "markdown",
      "metadata": {
        "id": "OPEQRNu2IyXV"
      },
      "source": [
        "Let's take a quick glance at categorical_features."
      ]
    },
    {
      "cell_type": "code",
      "metadata": {
        "id": "5ZcU-fT_f80X",
        "colab": {
          "base_uri": "https://localhost:8080/",
          "height": 191
        },
        "outputId": "c94b7279-54d9-4244-e4ca-971b6bee964a"
      },
      "source": [
        "df[cat_cols].sample(5)"
      ],
      "execution_count": 37,
      "outputs": [
        {
          "output_type": "execute_result",
          "data": {
            "text/html": [
              "<div>\n",
              "<style scoped>\n",
              "    .dataframe tbody tr th:only-of-type {\n",
              "        vertical-align: middle;\n",
              "    }\n",
              "\n",
              "    .dataframe tbody tr th {\n",
              "        vertical-align: top;\n",
              "    }\n",
              "\n",
              "    .dataframe thead th {\n",
              "        text-align: right;\n",
              "    }\n",
              "</style>\n",
              "<table border=\"1\" class=\"dataframe\">\n",
              "  <thead>\n",
              "    <tr style=\"text-align: right;\">\n",
              "      <th></th>\n",
              "      <th>term</th>\n",
              "      <th>grade</th>\n",
              "      <th>sub_grade</th>\n",
              "      <th>emp_length</th>\n",
              "      <th>home_ownership</th>\n",
              "      <th>verification_status</th>\n",
              "      <th>purpose</th>\n",
              "      <th>earliest_cr_line</th>\n",
              "      <th>initial_list_status</th>\n",
              "      <th>last_pymnt_d</th>\n",
              "      <th>last_credit_pull_d</th>\n",
              "    </tr>\n",
              "  </thead>\n",
              "  <tbody>\n",
              "    <tr>\n",
              "      <th>1760947</th>\n",
              "      <td>60 months</td>\n",
              "      <td>D</td>\n",
              "      <td>D5</td>\n",
              "      <td>10+ years</td>\n",
              "      <td>RENT</td>\n",
              "      <td>Source Verified</td>\n",
              "      <td>debt_consolidation</td>\n",
              "      <td>Nov-2002</td>\n",
              "      <td>f</td>\n",
              "      <td>Feb-2014</td>\n",
              "      <td>Apr-2018</td>\n",
              "    </tr>\n",
              "    <tr>\n",
              "      <th>1809089</th>\n",
              "      <td>36 months</td>\n",
              "      <td>A</td>\n",
              "      <td>A1</td>\n",
              "      <td>10+ years</td>\n",
              "      <td>MORTGAGE</td>\n",
              "      <td>Verified</td>\n",
              "      <td>debt_consolidation</td>\n",
              "      <td>Feb-1986</td>\n",
              "      <td>w</td>\n",
              "      <td>Apr-2016</td>\n",
              "      <td>May-2016</td>\n",
              "    </tr>\n",
              "    <tr>\n",
              "      <th>1860094</th>\n",
              "      <td>36 months</td>\n",
              "      <td>D</td>\n",
              "      <td>D1</td>\n",
              "      <td>9 years</td>\n",
              "      <td>MORTGAGE</td>\n",
              "      <td>Not Verified</td>\n",
              "      <td>other</td>\n",
              "      <td>Jul-1995</td>\n",
              "      <td>w</td>\n",
              "      <td>Jun-2015</td>\n",
              "      <td>Mar-2019</td>\n",
              "    </tr>\n",
              "    <tr>\n",
              "      <th>1874488</th>\n",
              "      <td>36 months</td>\n",
              "      <td>B</td>\n",
              "      <td>B5</td>\n",
              "      <td>10+ years</td>\n",
              "      <td>MORTGAGE</td>\n",
              "      <td>Verified</td>\n",
              "      <td>credit_card</td>\n",
              "      <td>Mar-2003</td>\n",
              "      <td>f</td>\n",
              "      <td>Jan-2016</td>\n",
              "      <td>Feb-2017</td>\n",
              "    </tr>\n",
              "    <tr>\n",
              "      <th>1874084</th>\n",
              "      <td>36 months</td>\n",
              "      <td>C</td>\n",
              "      <td>C5</td>\n",
              "      <td>10+ years</td>\n",
              "      <td>MORTGAGE</td>\n",
              "      <td>Source Verified</td>\n",
              "      <td>small_business</td>\n",
              "      <td>Sep-1982</td>\n",
              "      <td>f</td>\n",
              "      <td>May-2015</td>\n",
              "      <td>Mar-2019</td>\n",
              "    </tr>\n",
              "  </tbody>\n",
              "</table>\n",
              "</div>"
            ],
            "text/plain": [
              "               term grade  ... last_pymnt_d last_credit_pull_d\n",
              "1760947   60 months     D  ...     Feb-2014           Apr-2018\n",
              "1809089   36 months     A  ...     Apr-2016           May-2016\n",
              "1860094   36 months     D  ...     Jun-2015           Mar-2019\n",
              "1874488   36 months     B  ...     Jan-2016           Feb-2017\n",
              "1874084   36 months     C  ...     May-2015           Mar-2019\n",
              "\n",
              "[5 rows x 11 columns]"
            ]
          },
          "metadata": {
            "tags": []
          },
          "execution_count": 37
        }
      ]
    },
    {
      "cell_type": "markdown",
      "metadata": {
        "id": "j4mzmZhcI-ts"
      },
      "source": [
        "Such features as last_pymnt_d, last_credit_pull_d, earliest_cr_line contain dates that I am not going to use in my models. Let's drop them."
      ]
    },
    {
      "cell_type": "code",
      "metadata": {
        "id": "mqJlqfhwf8og"
      },
      "source": [
        "df.drop(['last_pymnt_d', 'last_credit_pull_d', 'earliest_cr_line'], axis=1, inplace=True, errors='ignore')"
      ],
      "execution_count": 38,
      "outputs": []
    },
    {
      "cell_type": "markdown",
      "metadata": {
        "id": "7tPsMvNMO8gW"
      },
      "source": [
        "# 4. Exploratory Data Analysis"
      ]
    },
    {
      "cell_type": "markdown",
      "metadata": {
        "id": "Xffc5uNbJr8L"
      },
      "source": [
        "I will examine important features to determine differences in distribution by target variable and propose hypotheses."
      ]
    },
    {
      "cell_type": "code",
      "metadata": {
        "id": "44pXt_vfJkxR"
      },
      "source": [
        "df_before_eda = df.copy()"
      ],
      "execution_count": 39,
      "outputs": []
    },
    {
      "cell_type": "code",
      "metadata": {
        "id": "aHZV374qGP-C",
        "colab": {
          "base_uri": "https://localhost:8080/",
          "height": 292
        },
        "outputId": "42eb44c8-62ff-4c64-f50b-f960caa1f677"
      },
      "source": [
        "df.sample(5)"
      ],
      "execution_count": 40,
      "outputs": [
        {
          "output_type": "execute_result",
          "data": {
            "text/html": [
              "<div>\n",
              "<style scoped>\n",
              "    .dataframe tbody tr th:only-of-type {\n",
              "        vertical-align: middle;\n",
              "    }\n",
              "\n",
              "    .dataframe tbody tr th {\n",
              "        vertical-align: top;\n",
              "    }\n",
              "\n",
              "    .dataframe thead th {\n",
              "        text-align: right;\n",
              "    }\n",
              "</style>\n",
              "<table border=\"1\" class=\"dataframe\">\n",
              "  <thead>\n",
              "    <tr style=\"text-align: right;\">\n",
              "      <th></th>\n",
              "      <th>loan_amnt</th>\n",
              "      <th>term</th>\n",
              "      <th>int_rate</th>\n",
              "      <th>grade</th>\n",
              "      <th>sub_grade</th>\n",
              "      <th>emp_length</th>\n",
              "      <th>home_ownership</th>\n",
              "      <th>annual_inc</th>\n",
              "      <th>verification_status</th>\n",
              "      <th>purpose</th>\n",
              "      <th>dti</th>\n",
              "      <th>delinq_2yrs</th>\n",
              "      <th>fico_range_low</th>\n",
              "      <th>fico_range_high</th>\n",
              "      <th>inq_last_6mths</th>\n",
              "      <th>open_acc</th>\n",
              "      <th>pub_rec</th>\n",
              "      <th>revol_bal</th>\n",
              "      <th>initial_list_status</th>\n",
              "      <th>collections_12_mths_ex_med</th>\n",
              "      <th>acc_now_delinq</th>\n",
              "      <th>tot_coll_amt</th>\n",
              "      <th>tot_cur_bal</th>\n",
              "      <th>total_rev_hi_lim</th>\n",
              "      <th>acc_open_past_24mths</th>\n",
              "      <th>avg_cur_bal</th>\n",
              "      <th>bc_open_to_buy</th>\n",
              "      <th>bc_util</th>\n",
              "      <th>chargeoff_within_12_mths</th>\n",
              "      <th>delinq_amnt</th>\n",
              "      <th>mo_sin_old_il_acct</th>\n",
              "      <th>mo_sin_old_rev_tl_op</th>\n",
              "      <th>mo_sin_rcnt_rev_tl_op</th>\n",
              "      <th>mo_sin_rcnt_tl</th>\n",
              "      <th>mort_acc</th>\n",
              "      <th>mths_since_recent_bc</th>\n",
              "      <th>mths_since_recent_inq</th>\n",
              "      <th>num_accts_ever_120_pd</th>\n",
              "      <th>num_actv_bc_tl</th>\n",
              "      <th>num_bc_tl</th>\n",
              "      <th>num_il_tl</th>\n",
              "      <th>num_sats</th>\n",
              "      <th>num_tl_120dpd_2m</th>\n",
              "      <th>num_tl_30dpd</th>\n",
              "      <th>num_tl_90g_dpd_24m</th>\n",
              "      <th>num_tl_op_past_12m</th>\n",
              "      <th>pct_tl_nvr_dlq</th>\n",
              "      <th>percent_bc_gt_75</th>\n",
              "      <th>pub_rec_bankruptcies</th>\n",
              "      <th>tax_liens</th>\n",
              "      <th>total_bc_limit</th>\n",
              "      <th>total_il_high_credit_limit</th>\n",
              "      <th>Target</th>\n",
              "      <th>fico_range</th>\n",
              "    </tr>\n",
              "  </thead>\n",
              "  <tbody>\n",
              "    <tr>\n",
              "      <th>1780503</th>\n",
              "      <td>26000.0</td>\n",
              "      <td>60 months</td>\n",
              "      <td>19.52</td>\n",
              "      <td>D</td>\n",
              "      <td>D4</td>\n",
              "      <td>10+ years</td>\n",
              "      <td>MORTGAGE</td>\n",
              "      <td>70000.0</td>\n",
              "      <td>Source Verified</td>\n",
              "      <td>debt_consolidation</td>\n",
              "      <td>17.47</td>\n",
              "      <td>0.0</td>\n",
              "      <td>710.0</td>\n",
              "      <td>714.0</td>\n",
              "      <td>0.0</td>\n",
              "      <td>13.0</td>\n",
              "      <td>0.0</td>\n",
              "      <td>24341.0</td>\n",
              "      <td>f</td>\n",
              "      <td>0.0</td>\n",
              "      <td>0.0</td>\n",
              "      <td>0.0</td>\n",
              "      <td>127255.0</td>\n",
              "      <td>32200.0</td>\n",
              "      <td>0.0</td>\n",
              "      <td>9789.0</td>\n",
              "      <td>1056.0</td>\n",
              "      <td>92.3</td>\n",
              "      <td>0.0</td>\n",
              "      <td>0.0</td>\n",
              "      <td>129.0</td>\n",
              "      <td>258.0</td>\n",
              "      <td>31.0</td>\n",
              "      <td>31.0</td>\n",
              "      <td>1.0</td>\n",
              "      <td>52.0</td>\n",
              "      <td>9.0</td>\n",
              "      <td>0.0</td>\n",
              "      <td>5.0</td>\n",
              "      <td>12.0</td>\n",
              "      <td>9.0</td>\n",
              "      <td>13.0</td>\n",
              "      <td>0.0</td>\n",
              "      <td>0.0</td>\n",
              "      <td>0.0</td>\n",
              "      <td>0.0</td>\n",
              "      <td>100.0</td>\n",
              "      <td>100.0</td>\n",
              "      <td>0.0</td>\n",
              "      <td>0.0</td>\n",
              "      <td>13700.0</td>\n",
              "      <td>24956.0</td>\n",
              "      <td>0</td>\n",
              "      <td>712.0</td>\n",
              "    </tr>\n",
              "    <tr>\n",
              "      <th>1766833</th>\n",
              "      <td>35000.0</td>\n",
              "      <td>60 months</td>\n",
              "      <td>21.00</td>\n",
              "      <td>E</td>\n",
              "      <td>E1</td>\n",
              "      <td>10+ years</td>\n",
              "      <td>MORTGAGE</td>\n",
              "      <td>110000.0</td>\n",
              "      <td>Verified</td>\n",
              "      <td>debt_consolidation</td>\n",
              "      <td>24.45</td>\n",
              "      <td>1.0</td>\n",
              "      <td>695.0</td>\n",
              "      <td>699.0</td>\n",
              "      <td>4.0</td>\n",
              "      <td>19.0</td>\n",
              "      <td>0.0</td>\n",
              "      <td>34790.0</td>\n",
              "      <td>f</td>\n",
              "      <td>0.0</td>\n",
              "      <td>0.0</td>\n",
              "      <td>0.0</td>\n",
              "      <td>74806.0</td>\n",
              "      <td>53200.0</td>\n",
              "      <td>0.0</td>\n",
              "      <td>4675.0</td>\n",
              "      <td>4600.0</td>\n",
              "      <td>0.0</td>\n",
              "      <td>0.0</td>\n",
              "      <td>0.0</td>\n",
              "      <td>235.0</td>\n",
              "      <td>289.0</td>\n",
              "      <td>32.0</td>\n",
              "      <td>27.0</td>\n",
              "      <td>3.0</td>\n",
              "      <td>46.0</td>\n",
              "      <td>3.0</td>\n",
              "      <td>0.0</td>\n",
              "      <td>0.0</td>\n",
              "      <td>7.0</td>\n",
              "      <td>18.0</td>\n",
              "      <td>19.0</td>\n",
              "      <td>0.0</td>\n",
              "      <td>0.0</td>\n",
              "      <td>0.0</td>\n",
              "      <td>0.0</td>\n",
              "      <td>95.0</td>\n",
              "      <td>0.0</td>\n",
              "      <td>0.0</td>\n",
              "      <td>0.0</td>\n",
              "      <td>4600.0</td>\n",
              "      <td>38463.0</td>\n",
              "      <td>1</td>\n",
              "      <td>697.0</td>\n",
              "    </tr>\n",
              "    <tr>\n",
              "      <th>1848228</th>\n",
              "      <td>14300.0</td>\n",
              "      <td>36 months</td>\n",
              "      <td>16.29</td>\n",
              "      <td>C</td>\n",
              "      <td>C4</td>\n",
              "      <td>6 years</td>\n",
              "      <td>RENT</td>\n",
              "      <td>55000.0</td>\n",
              "      <td>Source Verified</td>\n",
              "      <td>credit_card</td>\n",
              "      <td>30.73</td>\n",
              "      <td>0.0</td>\n",
              "      <td>665.0</td>\n",
              "      <td>669.0</td>\n",
              "      <td>1.0</td>\n",
              "      <td>10.0</td>\n",
              "      <td>0.0</td>\n",
              "      <td>7512.0</td>\n",
              "      <td>w</td>\n",
              "      <td>0.0</td>\n",
              "      <td>0.0</td>\n",
              "      <td>0.0</td>\n",
              "      <td>51254.0</td>\n",
              "      <td>8300.0</td>\n",
              "      <td>7.0</td>\n",
              "      <td>5125.0</td>\n",
              "      <td>467.0</td>\n",
              "      <td>93.1</td>\n",
              "      <td>0.0</td>\n",
              "      <td>0.0</td>\n",
              "      <td>106.0</td>\n",
              "      <td>139.0</td>\n",
              "      <td>6.0</td>\n",
              "      <td>6.0</td>\n",
              "      <td>0.0</td>\n",
              "      <td>21.0</td>\n",
              "      <td>6.0</td>\n",
              "      <td>0.0</td>\n",
              "      <td>5.0</td>\n",
              "      <td>13.0</td>\n",
              "      <td>7.0</td>\n",
              "      <td>10.0</td>\n",
              "      <td>0.0</td>\n",
              "      <td>0.0</td>\n",
              "      <td>0.0</td>\n",
              "      <td>2.0</td>\n",
              "      <td>100.0</td>\n",
              "      <td>80.0</td>\n",
              "      <td>0.0</td>\n",
              "      <td>0.0</td>\n",
              "      <td>6800.0</td>\n",
              "      <td>51052.0</td>\n",
              "      <td>0</td>\n",
              "      <td>667.0</td>\n",
              "    </tr>\n",
              "    <tr>\n",
              "      <th>1844218</th>\n",
              "      <td>18000.0</td>\n",
              "      <td>36 months</td>\n",
              "      <td>18.75</td>\n",
              "      <td>D</td>\n",
              "      <td>D3</td>\n",
              "      <td>10+ years</td>\n",
              "      <td>RENT</td>\n",
              "      <td>78000.0</td>\n",
              "      <td>Source Verified</td>\n",
              "      <td>debt_consolidation</td>\n",
              "      <td>22.66</td>\n",
              "      <td>0.0</td>\n",
              "      <td>680.0</td>\n",
              "      <td>684.0</td>\n",
              "      <td>1.0</td>\n",
              "      <td>16.0</td>\n",
              "      <td>1.0</td>\n",
              "      <td>20744.0</td>\n",
              "      <td>f</td>\n",
              "      <td>0.0</td>\n",
              "      <td>0.0</td>\n",
              "      <td>0.0</td>\n",
              "      <td>50661.0</td>\n",
              "      <td>29500.0</td>\n",
              "      <td>3.0</td>\n",
              "      <td>3166.0</td>\n",
              "      <td>2914.0</td>\n",
              "      <td>77.8</td>\n",
              "      <td>0.0</td>\n",
              "      <td>0.0</td>\n",
              "      <td>88.0</td>\n",
              "      <td>463.0</td>\n",
              "      <td>3.0</td>\n",
              "      <td>3.0</td>\n",
              "      <td>2.0</td>\n",
              "      <td>3.0</td>\n",
              "      <td>3.0</td>\n",
              "      <td>1.0</td>\n",
              "      <td>4.0</td>\n",
              "      <td>8.0</td>\n",
              "      <td>4.0</td>\n",
              "      <td>16.0</td>\n",
              "      <td>0.0</td>\n",
              "      <td>0.0</td>\n",
              "      <td>0.0</td>\n",
              "      <td>2.0</td>\n",
              "      <td>96.0</td>\n",
              "      <td>66.7</td>\n",
              "      <td>1.0</td>\n",
              "      <td>0.0</td>\n",
              "      <td>13100.0</td>\n",
              "      <td>41712.0</td>\n",
              "      <td>0</td>\n",
              "      <td>682.0</td>\n",
              "    </tr>\n",
              "    <tr>\n",
              "      <th>1842096</th>\n",
              "      <td>10000.0</td>\n",
              "      <td>60 months</td>\n",
              "      <td>8.90</td>\n",
              "      <td>A</td>\n",
              "      <td>A5</td>\n",
              "      <td>7 years</td>\n",
              "      <td>MORTGAGE</td>\n",
              "      <td>90000.0</td>\n",
              "      <td>Verified</td>\n",
              "      <td>debt_consolidation</td>\n",
              "      <td>15.85</td>\n",
              "      <td>0.0</td>\n",
              "      <td>730.0</td>\n",
              "      <td>734.0</td>\n",
              "      <td>0.0</td>\n",
              "      <td>13.0</td>\n",
              "      <td>0.0</td>\n",
              "      <td>15970.0</td>\n",
              "      <td>w</td>\n",
              "      <td>0.0</td>\n",
              "      <td>0.0</td>\n",
              "      <td>0.0</td>\n",
              "      <td>208529.0</td>\n",
              "      <td>42500.0</td>\n",
              "      <td>2.0</td>\n",
              "      <td>16041.0</td>\n",
              "      <td>16812.0</td>\n",
              "      <td>40.6</td>\n",
              "      <td>0.0</td>\n",
              "      <td>0.0</td>\n",
              "      <td>175.0</td>\n",
              "      <td>162.0</td>\n",
              "      <td>20.0</td>\n",
              "      <td>20.0</td>\n",
              "      <td>4.0</td>\n",
              "      <td>23.0</td>\n",
              "      <td>13.0</td>\n",
              "      <td>0.0</td>\n",
              "      <td>4.0</td>\n",
              "      <td>7.0</td>\n",
              "      <td>14.0</td>\n",
              "      <td>13.0</td>\n",
              "      <td>0.0</td>\n",
              "      <td>0.0</td>\n",
              "      <td>0.0</td>\n",
              "      <td>0.0</td>\n",
              "      <td>100.0</td>\n",
              "      <td>20.0</td>\n",
              "      <td>0.0</td>\n",
              "      <td>0.0</td>\n",
              "      <td>28300.0</td>\n",
              "      <td>13819.0</td>\n",
              "      <td>0</td>\n",
              "      <td>732.0</td>\n",
              "    </tr>\n",
              "  </tbody>\n",
              "</table>\n",
              "</div>"
            ],
            "text/plain": [
              "         loan_amnt        term  ...  Target fico_range\n",
              "1780503    26000.0   60 months  ...       0      712.0\n",
              "1766833    35000.0   60 months  ...       1      697.0\n",
              "1848228    14300.0   36 months  ...       0      667.0\n",
              "1844218    18000.0   36 months  ...       0      682.0\n",
              "1842096    10000.0   60 months  ...       0      732.0\n",
              "\n",
              "[5 rows x 54 columns]"
            ]
          },
          "metadata": {
            "tags": []
          },
          "execution_count": 40
        }
      ]
    },
    {
      "cell_type": "code",
      "metadata": {
        "id": "7cC1pHyJKvLr",
        "colab": {
          "base_uri": "https://localhost:8080/",
          "height": 396
        },
        "outputId": "8f11c83c-039e-48f9-b327-37e3e48b5dd2"
      },
      "source": [
        "sns.boxplot(x=df.loan_amnt, y=df.Target.astype(str))\n",
        "df.groupby(['Target'])['loan_amnt'].describe()"
      ],
      "execution_count": 41,
      "outputs": [
        {
          "output_type": "execute_result",
          "data": {
            "text/html": [
              "<div>\n",
              "<style scoped>\n",
              "    .dataframe tbody tr th:only-of-type {\n",
              "        vertical-align: middle;\n",
              "    }\n",
              "\n",
              "    .dataframe tbody tr th {\n",
              "        vertical-align: top;\n",
              "    }\n",
              "\n",
              "    .dataframe thead th {\n",
              "        text-align: right;\n",
              "    }\n",
              "</style>\n",
              "<table border=\"1\" class=\"dataframe\">\n",
              "  <thead>\n",
              "    <tr style=\"text-align: right;\">\n",
              "      <th></th>\n",
              "      <th>count</th>\n",
              "      <th>mean</th>\n",
              "      <th>std</th>\n",
              "      <th>min</th>\n",
              "      <th>25%</th>\n",
              "      <th>50%</th>\n",
              "      <th>75%</th>\n",
              "      <th>max</th>\n",
              "    </tr>\n",
              "    <tr>\n",
              "      <th>Target</th>\n",
              "      <th></th>\n",
              "      <th></th>\n",
              "      <th></th>\n",
              "      <th></th>\n",
              "      <th></th>\n",
              "      <th></th>\n",
              "      <th></th>\n",
              "      <th></th>\n",
              "    </tr>\n",
              "  </thead>\n",
              "  <tbody>\n",
              "    <tr>\n",
              "      <th>0</th>\n",
              "      <td>113780.0</td>\n",
              "      <td>14525.781113</td>\n",
              "      <td>8035.161158</td>\n",
              "      <td>1000.0</td>\n",
              "      <td>8400.0</td>\n",
              "      <td>12800.0</td>\n",
              "      <td>20000.0</td>\n",
              "      <td>35000.0</td>\n",
              "    </tr>\n",
              "    <tr>\n",
              "      <th>1</th>\n",
              "      <td>21024.0</td>\n",
              "      <td>15690.145786</td>\n",
              "      <td>8366.581832</td>\n",
              "      <td>1000.0</td>\n",
              "      <td>9600.0</td>\n",
              "      <td>15000.0</td>\n",
              "      <td>20950.0</td>\n",
              "      <td>35000.0</td>\n",
              "    </tr>\n",
              "  </tbody>\n",
              "</table>\n",
              "</div>"
            ],
            "text/plain": [
              "           count          mean          std  ...      50%      75%      max\n",
              "Target                                       ...                           \n",
              "0       113780.0  14525.781113  8035.161158  ...  12800.0  20000.0  35000.0\n",
              "1        21024.0  15690.145786  8366.581832  ...  15000.0  20950.0  35000.0\n",
              "\n",
              "[2 rows x 8 columns]"
            ]
          },
          "metadata": {
            "tags": []
          },
          "execution_count": 41
        },
        {
          "output_type": "display_data",
          "data": {
            "image/png": "[encoded data removed]",
            "text/plain": [
              "<Figure size 432x288 with 1 Axes>"
            ]
          },
          "metadata": {
            "tags": [],
            "needs_background": "light"
          }
        }
      ]
    },
    {
      "cell_type": "code",
      "metadata": {
        "id": "A8t-v7k3SOvs",
        "colab": {
          "base_uri": "https://localhost:8080/",
          "height": 335
        },
        "outputId": "31824839-b906-42e3-835b-374978e08d8c"
      },
      "source": [
        "fig, ax = plt.subplots(1,2, figsize=(13,5))\n",
        "sns.histplot(df.query('Target == 0')['loan_amnt'], bins=30, ax=ax[0])\n",
        "sns.histplot(df.query('Target == 1')['loan_amnt'], bins=30, color='orange', ax=ax[1]);"
      ],
      "execution_count": 42,
      "outputs": [
        {
          "output_type": "display_data",
          "data": {
            "image/png": "[encoded data removed]",
            "text/plain": [
              "<Figure size 936x360 with 2 Axes>"
            ]
          },
          "metadata": {
            "tags": [],
            "needs_background": "light"
          }
        }
      ]
    },
    {
      "cell_type": "markdown",
      "metadata": {
        "id": "OpCP6hcFKJ9f"
      },
      "source": [
        "As we can see, amount of the loan is higher for those that failed to pay it afterwards, but distribution of its feature is basically the same for both categories.  \n",
        "It looks like important feature for model building."
      ]
    },
    {
      "cell_type": "code",
      "metadata": {
        "id": "FB2nZyHcAkgm",
        "colab": {
          "base_uri": "https://localhost:8080/",
          "height": 451
        },
        "outputId": "cffd2a02-e628-4d96-80d3-c7001ff56975"
      },
      "source": [
        "plt.figure(figsize=(12,5))\n",
        "sns.boxplot(x=df.annual_inc, y=df.Target.astype(str))\n",
        "df.groupby(['Target'])['annual_inc'].describe()"
      ],
      "execution_count": 43,
      "outputs": [
        {
          "output_type": "execute_result",
          "data": {
            "text/html": [
              "<div>\n",
              "<style scoped>\n",
              "    .dataframe tbody tr th:only-of-type {\n",
              "        vertical-align: middle;\n",
              "    }\n",
              "\n",
              "    .dataframe tbody tr th {\n",
              "        vertical-align: top;\n",
              "    }\n",
              "\n",
              "    .dataframe thead th {\n",
              "        text-align: right;\n",
              "    }\n",
              "</style>\n",
              "<table border=\"1\" class=\"dataframe\">\n",
              "  <thead>\n",
              "    <tr style=\"text-align: right;\">\n",
              "      <th></th>\n",
              "      <th>count</th>\n",
              "      <th>mean</th>\n",
              "      <th>std</th>\n",
              "      <th>min</th>\n",
              "      <th>25%</th>\n",
              "      <th>50%</th>\n",
              "      <th>75%</th>\n",
              "      <th>max</th>\n",
              "    </tr>\n",
              "    <tr>\n",
              "      <th>Target</th>\n",
              "      <th></th>\n",
              "      <th></th>\n",
              "      <th></th>\n",
              "      <th></th>\n",
              "      <th></th>\n",
              "      <th></th>\n",
              "      <th></th>\n",
              "      <th></th>\n",
              "    </tr>\n",
              "  </thead>\n",
              "  <tbody>\n",
              "    <tr>\n",
              "      <th>0</th>\n",
              "      <td>113780.0</td>\n",
              "      <td>74369.371546</td>\n",
              "      <td>49994.861058</td>\n",
              "      <td>6000.0</td>\n",
              "      <td>46800.0</td>\n",
              "      <td>65000.0</td>\n",
              "      <td>90000.0</td>\n",
              "      <td>6100000.0</td>\n",
              "    </tr>\n",
              "    <tr>\n",
              "      <th>1</th>\n",
              "      <td>21024.0</td>\n",
              "      <td>67044.086603</td>\n",
              "      <td>41370.708617</td>\n",
              "      <td>7200.0</td>\n",
              "      <td>43000.0</td>\n",
              "      <td>59000.0</td>\n",
              "      <td>80000.0</td>\n",
              "      <td>950000.0</td>\n",
              "    </tr>\n",
              "  </tbody>\n",
              "</table>\n",
              "</div>"
            ],
            "text/plain": [
              "           count          mean           std  ...      50%      75%        max\n",
              "Target                                        ...                             \n",
              "0       113780.0  74369.371546  49994.861058  ...  65000.0  90000.0  6100000.0\n",
              "1        21024.0  67044.086603  41370.708617  ...  59000.0  80000.0   950000.0\n",
              "\n",
              "[2 rows x 8 columns]"
            ]
          },
          "metadata": {
            "tags": []
          },
          "execution_count": 43
        },
        {
          "output_type": "display_data",
          "data": {
            "image/png": "[encoded data removed]",
            "text/plain": [
              "<Figure size 864x360 with 1 Axes>"
            ]
          },
          "metadata": {
            "tags": [],
            "needs_background": "light"
          }
        }
      ]
    },
    {
      "cell_type": "markdown",
      "metadata": {
        "id": "H71t1n5xLJi9"
      },
      "source": [
        "This feature has too many outliers. In order to fix this problem, let's use apply logarithm."
      ]
    },
    {
      "cell_type": "code",
      "metadata": {
        "id": "hATSn8srCYIo",
        "colab": {
          "base_uri": "https://localhost:8080/",
          "height": 451
        },
        "outputId": "39f80cb3-0d2c-4923-e603-4c4c48443fba"
      },
      "source": [
        "df['log_income'] = np.log(df.annual_inc)\n",
        "plt.figure(figsize=(12,5))\n",
        "sns.boxplot(x=df.log_income, y=df.Target.astype(str))\n",
        "df.groupby(['Target'])['log_income'].describe()"
      ],
      "execution_count": 44,
      "outputs": [
        {
          "output_type": "execute_result",
          "data": {
            "text/html": [
              "<div>\n",
              "<style scoped>\n",
              "    .dataframe tbody tr th:only-of-type {\n",
              "        vertical-align: middle;\n",
              "    }\n",
              "\n",
              "    .dataframe tbody tr th {\n",
              "        vertical-align: top;\n",
              "    }\n",
              "\n",
              "    .dataframe thead th {\n",
              "        text-align: right;\n",
              "    }\n",
              "</style>\n",
              "<table border=\"1\" class=\"dataframe\">\n",
              "  <thead>\n",
              "    <tr style=\"text-align: right;\">\n",
              "      <th></th>\n",
              "      <th>count</th>\n",
              "      <th>mean</th>\n",
              "      <th>std</th>\n",
              "      <th>min</th>\n",
              "      <th>25%</th>\n",
              "      <th>50%</th>\n",
              "      <th>75%</th>\n",
              "      <th>max</th>\n",
              "    </tr>\n",
              "    <tr>\n",
              "      <th>Target</th>\n",
              "      <th></th>\n",
              "      <th></th>\n",
              "      <th></th>\n",
              "      <th></th>\n",
              "      <th></th>\n",
              "      <th></th>\n",
              "      <th></th>\n",
              "      <th></th>\n",
              "    </tr>\n",
              "  </thead>\n",
              "  <tbody>\n",
              "    <tr>\n",
              "      <th>0</th>\n",
              "      <td>113780.0</td>\n",
              "      <td>11.083481</td>\n",
              "      <td>0.502077</td>\n",
              "      <td>8.699515</td>\n",
              "      <td>10.753638</td>\n",
              "      <td>11.082143</td>\n",
              "      <td>11.407565</td>\n",
              "      <td>15.623799</td>\n",
              "    </tr>\n",
              "    <tr>\n",
              "      <th>1</th>\n",
              "      <td>21024.0</td>\n",
              "      <td>10.985379</td>\n",
              "      <td>0.490239</td>\n",
              "      <td>8.881836</td>\n",
              "      <td>10.668955</td>\n",
              "      <td>10.985293</td>\n",
              "      <td>11.289782</td>\n",
              "      <td>13.764217</td>\n",
              "    </tr>\n",
              "  </tbody>\n",
              "</table>\n",
              "</div>"
            ],
            "text/plain": [
              "           count       mean       std  ...        50%        75%        max\n",
              "Target                                 ...                                 \n",
              "0       113780.0  11.083481  0.502077  ...  11.082143  11.407565  15.623799\n",
              "1        21024.0  10.985379  0.490239  ...  10.985293  11.289782  13.764217\n",
              "\n",
              "[2 rows x 8 columns]"
            ]
          },
          "metadata": {
            "tags": []
          },
          "execution_count": 44
        },
        {
          "output_type": "display_data",
          "data": {
            "image/png": "[encoded data removed]",
            "text/plain": [
              "<Figure size 864x360 with 1 Axes>"
            ]
          },
          "metadata": {
            "tags": [],
            "needs_background": "light"
          }
        }
      ]
    },
    {
      "cell_type": "code",
      "metadata": {
        "id": "Q2wi2R2ZVvGF",
        "colab": {
          "base_uri": "https://localhost:8080/",
          "height": 351
        },
        "outputId": "e353fe4c-279a-4cf1-d958-2fc9ad493d93"
      },
      "source": [
        "fig, ax = plt.subplots(1,2, figsize=(13,5))\n",
        "sns.histplot(np.log(df.query('Target == 0').log_income), bins=100, ax=ax[0])\n",
        "sns.histplot(np.log(df.query('Target == 1').log_income), bins=100, color='orange', ax=ax[1])"
      ],
      "execution_count": 45,
      "outputs": [
        {
          "output_type": "execute_result",
          "data": {
            "text/plain": [
              "<matplotlib.axes._subplots.AxesSubplot at 0x7f3bd5862d10>"
            ]
          },
          "metadata": {
            "tags": []
          },
          "execution_count": 45
        },
        {
          "output_type": "display_data",
          "data": {
            "image/png": "[encoded data removed]",
            "text/plain": [
              "<Figure size 936x360 with 2 Axes>"
            ]
          },
          "metadata": {
            "tags": [],
            "needs_background": "light"
          }
        }
      ]
    },
    {
      "cell_type": "markdown",
      "metadata": {
        "id": "yqrBqLt5L3V7"
      },
      "source": [
        "Those who paid loan have higher annual income, so it must be very important feature. Also, distribution of variable now is normal and contains not so extreme outliers.  \n",
        "Let's drop original variable."
      ]
    },
    {
      "cell_type": "code",
      "metadata": {
        "id": "TaPaaZ_uLnV6"
      },
      "source": [
        "df.drop(columns=['annual_inc'], inplace=True)"
      ],
      "execution_count": 46,
      "outputs": []
    },
    {
      "cell_type": "code",
      "metadata": {
        "id": "6piNNsdbTJG2",
        "colab": {
          "base_uri": "https://localhost:8080/",
          "height": 382
        },
        "outputId": "cb214ae3-ca2c-49eb-ac9b-ea6ae0ac69a5"
      },
      "source": [
        "sns.catplot(data=df, x='Target', kind='count', col='term', height=5, sharey=False);"
      ],
      "execution_count": 47,
      "outputs": [
        {
          "output_type": "display_data",
          "data": {
            "image/png": "[encoded data removed]",
            "text/plain": [
              "<Figure size 720x360 with 2 Axes>"
            ]
          },
          "metadata": {
            "tags": [],
            "needs_background": "light"
          }
        }
      ]
    },
    {
      "cell_type": "markdown",
      "metadata": {
        "id": "xHcGNJhEMkoQ"
      },
      "source": [
        "Loans with higher term are significantly more likely to be charged off and thus should constitute important feature."
      ]
    },
    {
      "cell_type": "code",
      "metadata": {
        "id": "OuxpVy4UM8Vq",
        "colab": {
          "base_uri": "https://localhost:8080/",
          "height": 396
        },
        "outputId": "92aff2b4-f9e0-4a0f-929d-3d7ac7858264"
      },
      "source": [
        "sns.boxplot(x=df.int_rate, y=df.Target.astype(str))\n",
        "df.groupby(['Target'])['int_rate'].describe()"
      ],
      "execution_count": 48,
      "outputs": [
        {
          "output_type": "execute_result",
          "data": {
            "text/html": [
              "<div>\n",
              "<style scoped>\n",
              "    .dataframe tbody tr th:only-of-type {\n",
              "        vertical-align: middle;\n",
              "    }\n",
              "\n",
              "    .dataframe tbody tr th {\n",
              "        vertical-align: top;\n",
              "    }\n",
              "\n",
              "    .dataframe thead th {\n",
              "        text-align: right;\n",
              "    }\n",
              "</style>\n",
              "<table border=\"1\" class=\"dataframe\">\n",
              "  <thead>\n",
              "    <tr style=\"text-align: right;\">\n",
              "      <th></th>\n",
              "      <th>count</th>\n",
              "      <th>mean</th>\n",
              "      <th>std</th>\n",
              "      <th>min</th>\n",
              "      <th>25%</th>\n",
              "      <th>50%</th>\n",
              "      <th>75%</th>\n",
              "      <th>max</th>\n",
              "    </tr>\n",
              "    <tr>\n",
              "      <th>Target</th>\n",
              "      <th></th>\n",
              "      <th></th>\n",
              "      <th></th>\n",
              "      <th></th>\n",
              "      <th></th>\n",
              "      <th></th>\n",
              "      <th></th>\n",
              "      <th></th>\n",
              "    </tr>\n",
              "  </thead>\n",
              "  <tbody>\n",
              "    <tr>\n",
              "      <th>0</th>\n",
              "      <td>113780.0</td>\n",
              "      <td>14.118374</td>\n",
              "      <td>4.349962</td>\n",
              "      <td>6.0</td>\n",
              "      <td>10.99</td>\n",
              "      <td>13.98</td>\n",
              "      <td>17.10</td>\n",
              "      <td>26.06</td>\n",
              "    </tr>\n",
              "    <tr>\n",
              "      <th>1</th>\n",
              "      <td>21024.0</td>\n",
              "      <td>16.768118</td>\n",
              "      <td>4.233957</td>\n",
              "      <td>6.0</td>\n",
              "      <td>13.68</td>\n",
              "      <td>16.29</td>\n",
              "      <td>19.52</td>\n",
              "      <td>26.06</td>\n",
              "    </tr>\n",
              "  </tbody>\n",
              "</table>\n",
              "</div>"
            ],
            "text/plain": [
              "           count       mean       std  min    25%    50%    75%    max\n",
              "Target                                                                \n",
              "0       113780.0  14.118374  4.349962  6.0  10.99  13.98  17.10  26.06\n",
              "1        21024.0  16.768118  4.233957  6.0  13.68  16.29  19.52  26.06"
            ]
          },
          "metadata": {
            "tags": []
          },
          "execution_count": 48
        },
        {
          "output_type": "display_data",
          "data": {
            "image/png": "[encoded data removed]",
            "text/plain": [
              "<Figure size 432x288 with 1 Axes>"
            ]
          },
          "metadata": {
            "tags": [],
            "needs_background": "light"
          }
        }
      ]
    },
    {
      "cell_type": "code",
      "metadata": {
        "id": "asThtrfHDKhI",
        "colab": {
          "base_uri": "https://localhost:8080/",
          "height": 351
        },
        "outputId": "1247bf8b-0eb9-4e7a-9dfe-1467727f2bac"
      },
      "source": [
        "fig, ax = plt.subplots(1,2, figsize=(13,5))\n",
        "\n",
        "sns.histplot(df.query('Target == 0').int_rate, bins=100, ax=ax[0])\n",
        "sns.histplot(df.query('Target == 1').int_rate, bins=100, color='orange', ax=ax[1])\n"
      ],
      "execution_count": 49,
      "outputs": [
        {
          "output_type": "execute_result",
          "data": {
            "text/plain": [
              "<matplotlib.axes._subplots.AxesSubplot at 0x7f3be6f0fd90>"
            ]
          },
          "metadata": {
            "tags": []
          },
          "execution_count": 49
        },
        {
          "output_type": "display_data",
          "data": {
            "image/png": "[encoded data removed]",
            "text/plain": [
              "<Figure size 936x360 with 2 Axes>"
            ]
          },
          "metadata": {
            "tags": [],
            "needs_background": "light"
          }
        }
      ]
    },
    {
      "cell_type": "markdown",
      "metadata": {
        "id": "t6tM4ZSINCsc"
      },
      "source": [
        "Mean and median interest rate for charged off loans are also in general higher, but minimum and maximum values don't differ. Variance is also does not differ sinificantly. It is matter of dispute whether it will be good predictor."
      ]
    },
    {
      "cell_type": "markdown",
      "metadata": {
        "id": "OFJTdiDLSJHh"
      },
      "source": [
        "Now let's check distribution of *grade* and *sub_grade* features."
      ]
    },
    {
      "cell_type": "code",
      "metadata": {
        "id": "zd6wUD8yPJJM",
        "colab": {
          "base_uri": "https://localhost:8080/",
          "height": 295
        },
        "outputId": "7e956fc7-5fc4-4be3-ad3c-e6484342641b"
      },
      "source": [
        "plt.figure(figsize=(7,4))\n",
        "sns.barplot(x='grade', y='Target', data=df, \n",
        "                  order=sorted(list(df.grade.unique())), palette='gist_rainbow')"
      ],
      "execution_count": 50,
      "outputs": [
        {
          "output_type": "execute_result",
          "data": {
            "text/plain": [
              "<matplotlib.axes._subplots.AxesSubplot at 0x7f3bca5d8f90>"
            ]
          },
          "metadata": {
            "tags": []
          },
          "execution_count": 50
        },
        {
          "output_type": "display_data",
          "data": {
            "image/png": "[encoded data removed]",
            "text/plain": [
              "<Figure size 504x288 with 1 Axes>"
            ]
          },
          "metadata": {
            "tags": [],
            "needs_background": "light"
          }
        }
      ]
    },
    {
      "cell_type": "code",
      "metadata": {
        "id": "ajltLEWHRWMJ",
        "colab": {
          "base_uri": "https://localhost:8080/",
          "height": 296
        },
        "outputId": "122e6e21-8891-4954-fb56-58f328e192a7"
      },
      "source": [
        "plt.figure(figsize=(14,4))\n",
        "sns.barplot(x='sub_grade', y='Target', data=df, \n",
        "                  order=sorted(list(df.sub_grade.unique())), palette='rainbow_r')"
      ],
      "execution_count": 51,
      "outputs": [
        {
          "output_type": "execute_result",
          "data": {
            "text/plain": [
              "<matplotlib.axes._subplots.AxesSubplot at 0x7f3bca0b24d0>"
            ]
          },
          "metadata": {
            "tags": []
          },
          "execution_count": 51
        },
        {
          "output_type": "display_data",
          "data": {
            "image/png": "[encoded data removed]",
            "text/plain": [
              "<Figure size 1008x288 with 1 Axes>"
            ]
          },
          "metadata": {
            "tags": [],
            "needs_background": "light"
          }
        }
      ]
    },
    {
      "cell_type": "markdown",
      "metadata": {
        "id": "HgsAf9ZeR9xm"
      },
      "source": [
        "Looks like sub_grade provide us with more gradual (but not linear in all places) prediction of target variable.  \n",
        "So, i will transform sub_grade into new numerical feature and drop grade and sub_grade."
      ]
    },
    {
      "cell_type": "code",
      "metadata": {
        "id": "uW_n9WMPT4LA"
      },
      "source": [
        "subgrade_to_int = dict(zip(\n",
        "    sorted(list(df.sub_grade.unique())),\n",
        "    range(1,len(df.sub_grade.unique()))\n",
        "))\n",
        "df['Subgrade_num'] = df['sub_grade'].map(subgrade_to_int)\n",
        "df.drop(columns=['grade', 'sub_grade'], inplace=True, errors='ignore')"
      ],
      "execution_count": 52,
      "outputs": []
    },
    {
      "cell_type": "code",
      "metadata": {
        "id": "gK9AmValT5pA",
        "colab": {
          "base_uri": "https://localhost:8080/",
          "height": 396
        },
        "outputId": "2755ae99-d552-459f-ed17-853ebad722d1"
      },
      "source": [
        "sns.boxplot(x=df.Subgrade_num, y=df.Target.astype(str))\n",
        "df.groupby(['Target'])['Subgrade_num'].describe()"
      ],
      "execution_count": 53,
      "outputs": [
        {
          "output_type": "execute_result",
          "data": {
            "text/html": [
              "<div>\n",
              "<style scoped>\n",
              "    .dataframe tbody tr th:only-of-type {\n",
              "        vertical-align: middle;\n",
              "    }\n",
              "\n",
              "    .dataframe tbody tr th {\n",
              "        vertical-align: top;\n",
              "    }\n",
              "\n",
              "    .dataframe thead th {\n",
              "        text-align: right;\n",
              "    }\n",
              "</style>\n",
              "<table border=\"1\" class=\"dataframe\">\n",
              "  <thead>\n",
              "    <tr style=\"text-align: right;\">\n",
              "      <th></th>\n",
              "      <th>count</th>\n",
              "      <th>mean</th>\n",
              "      <th>std</th>\n",
              "      <th>min</th>\n",
              "      <th>25%</th>\n",
              "      <th>50%</th>\n",
              "      <th>75%</th>\n",
              "      <th>max</th>\n",
              "    </tr>\n",
              "    <tr>\n",
              "      <th>Target</th>\n",
              "      <th></th>\n",
              "      <th></th>\n",
              "      <th></th>\n",
              "      <th></th>\n",
              "      <th></th>\n",
              "      <th></th>\n",
              "      <th></th>\n",
              "      <th></th>\n",
              "    </tr>\n",
              "  </thead>\n",
              "  <tbody>\n",
              "    <tr>\n",
              "      <th>0</th>\n",
              "      <td>113733.0</td>\n",
              "      <td>11.455365</td>\n",
              "      <td>6.151678</td>\n",
              "      <td>1.0</td>\n",
              "      <td>7.0</td>\n",
              "      <td>11.0</td>\n",
              "      <td>15.0</td>\n",
              "      <td>34.0</td>\n",
              "    </tr>\n",
              "    <tr>\n",
              "      <th>1</th>\n",
              "      <td>21001.0</td>\n",
              "      <td>15.273749</td>\n",
              "      <td>6.553767</td>\n",
              "      <td>1.0</td>\n",
              "      <td>10.0</td>\n",
              "      <td>14.0</td>\n",
              "      <td>19.0</td>\n",
              "      <td>34.0</td>\n",
              "    </tr>\n",
              "  </tbody>\n",
              "</table>\n",
              "</div>"
            ],
            "text/plain": [
              "           count       mean       std  min   25%   50%   75%   max\n",
              "Target                                                            \n",
              "0       113733.0  11.455365  6.151678  1.0   7.0  11.0  15.0  34.0\n",
              "1        21001.0  15.273749  6.553767  1.0  10.0  14.0  19.0  34.0"
            ]
          },
          "metadata": {
            "tags": []
          },
          "execution_count": 53
        },
        {
          "output_type": "display_data",
          "data": {
            "image/png": "[encoded data removed]",
            "text/plain": [
              "<Figure size 432x288 with 1 Axes>"
            ]
          },
          "metadata": {
            "tags": [],
            "needs_background": "light"
          }
        }
      ]
    },
    {
      "cell_type": "code",
      "metadata": {
        "id": "bb0dowNJUIjZ",
        "colab": {
          "base_uri": "https://localhost:8080/",
          "height": 355
        },
        "outputId": "e406bb4e-8961-4412-8b58-8b4435358287"
      },
      "source": [
        "fig, ax = plt.subplots(1,2, figsize=(13,5))\n",
        "\n",
        "sns.histplot(df.query('Target == 0').Subgrade_num, bins=35, ax=ax[0])\n",
        "sns.histplot(df.query('Target == 1').Subgrade_num, bins=35, color='orange', ax=ax[1])"
      ],
      "execution_count": 54,
      "outputs": [
        {
          "output_type": "execute_result",
          "data": {
            "text/plain": [
              "<matplotlib.axes._subplots.AxesSubplot at 0x7f3bd750c850>"
            ]
          },
          "metadata": {
            "tags": []
          },
          "execution_count": 54
        },
        {
          "output_type": "display_data",
          "data": {
            "image/png": "[encoded data removed]",
            "text/plain": [
              "<Figure size 936x360 with 2 Axes>"
            ]
          },
          "metadata": {
            "tags": [],
            "needs_background": "light"
          }
        }
      ]
    },
    {
      "cell_type": "markdown",
      "metadata": {
        "id": "b5U-yLVRUX65"
      },
      "source": [
        "Borrowers that failed to pay loan in general were extimated worse. It will probably be one of most important features for prediciton."
      ]
    },
    {
      "cell_type": "code",
      "metadata": {
        "id": "ZoijWXwZUnmA",
        "colab": {
          "base_uri": "https://localhost:8080/",
          "height": 393
        },
        "outputId": "3de5110c-e069-436b-8827-5d9a353a82f9"
      },
      "source": [
        "plt.figure(figsize=(7,5))\n",
        "sns.barplot(x='home_ownership', y='Target', data=df)\n",
        "df['home_ownership'].value_counts().to_frame().T"
      ],
      "execution_count": 55,
      "outputs": [
        {
          "output_type": "execute_result",
          "data": {
            "text/html": [
              "<div>\n",
              "<style scoped>\n",
              "    .dataframe tbody tr th:only-of-type {\n",
              "        vertical-align: middle;\n",
              "    }\n",
              "\n",
              "    .dataframe tbody tr th {\n",
              "        vertical-align: top;\n",
              "    }\n",
              "\n",
              "    .dataframe thead th {\n",
              "        text-align: right;\n",
              "    }\n",
              "</style>\n",
              "<table border=\"1\" class=\"dataframe\">\n",
              "  <thead>\n",
              "    <tr style=\"text-align: right;\">\n",
              "      <th></th>\n",
              "      <th>MORTGAGE</th>\n",
              "      <th>RENT</th>\n",
              "      <th>OWN</th>\n",
              "    </tr>\n",
              "  </thead>\n",
              "  <tbody>\n",
              "    <tr>\n",
              "      <th>home_ownership</th>\n",
              "      <td>72061</td>\n",
              "      <td>51495</td>\n",
              "      <td>11248</td>\n",
              "    </tr>\n",
              "  </tbody>\n",
              "</table>\n",
              "</div>"
            ],
            "text/plain": [
              "                MORTGAGE   RENT    OWN\n",
              "home_ownership     72061  51495  11248"
            ]
          },
          "metadata": {
            "tags": []
          },
          "execution_count": 55
        },
        {
          "output_type": "display_data",
          "data": {
            "image/png": "[encoded data removed]",
            "text/plain": [
              "<Figure size 504x360 with 1 Axes>"
            ]
          },
          "metadata": {
            "tags": [],
            "needs_background": "light"
          }
        }
      ]
    },
    {
      "cell_type": "markdown",
      "metadata": {
        "id": "0hwO2GHAVj3n"
      },
      "source": [
        "Loans of clients with rented houses tend to be charged off more often, but difference is quite small, so this feature is probably not very significant."
      ]
    },
    {
      "cell_type": "code",
      "metadata": {
        "id": "ndgnzoosXqbo",
        "colab": {
          "base_uri": "https://localhost:8080/",
          "height": 76
        },
        "outputId": "ab45f7f2-7eea-4aa9-c8ab-3c1238e13b6a"
      },
      "source": [
        "df['purpose'].value_counts().to_frame().T"
      ],
      "execution_count": 56,
      "outputs": [
        {
          "output_type": "execute_result",
          "data": {
            "text/html": [
              "<div>\n",
              "<style scoped>\n",
              "    .dataframe tbody tr th:only-of-type {\n",
              "        vertical-align: middle;\n",
              "    }\n",
              "\n",
              "    .dataframe tbody tr th {\n",
              "        vertical-align: top;\n",
              "    }\n",
              "\n",
              "    .dataframe thead th {\n",
              "        text-align: right;\n",
              "    }\n",
              "</style>\n",
              "<table border=\"1\" class=\"dataframe\">\n",
              "  <thead>\n",
              "    <tr style=\"text-align: right;\">\n",
              "      <th></th>\n",
              "      <th>debt_consolidation</th>\n",
              "      <th>credit_card</th>\n",
              "      <th>home_improvement</th>\n",
              "      <th>other</th>\n",
              "      <th>major_purchase</th>\n",
              "      <th>small_business</th>\n",
              "      <th>car</th>\n",
              "      <th>medical</th>\n",
              "      <th>house</th>\n",
              "      <th>moving</th>\n",
              "      <th>wedding</th>\n",
              "      <th>vacation</th>\n",
              "      <th>renewable_energy</th>\n",
              "    </tr>\n",
              "  </thead>\n",
              "  <tbody>\n",
              "    <tr>\n",
              "      <th>purpose</th>\n",
              "      <td>80634</td>\n",
              "      <td>32804</td>\n",
              "      <td>7403</td>\n",
              "      <td>5842</td>\n",
              "      <td>2298</td>\n",
              "      <td>1359</td>\n",
              "      <td>1050</td>\n",
              "      <td>889</td>\n",
              "      <td>675</td>\n",
              "      <td>639</td>\n",
              "      <td>595</td>\n",
              "      <td>565</td>\n",
              "      <td>51</td>\n",
              "    </tr>\n",
              "  </tbody>\n",
              "</table>\n",
              "</div>"
            ],
            "text/plain": [
              "         debt_consolidation  credit_card  ...  vacation  renewable_energy\n",
              "purpose               80634        32804  ...       565                51\n",
              "\n",
              "[1 rows x 13 columns]"
            ]
          },
          "metadata": {
            "tags": []
          },
          "execution_count": 56
        }
      ]
    },
    {
      "cell_type": "code",
      "metadata": {
        "id": "z0r_NvccWT6H",
        "colab": {
          "base_uri": "https://localhost:8080/",
          "height": 515
        },
        "outputId": "94e1e989-b316-4eae-d0bb-a113088dab88"
      },
      "source": [
        "plt.figure(figsize=(16,6))\n",
        "sns.barplot(x='purpose', y='Target', data=df, palette='Set3')\n",
        "plt.xticks(rotation=45)\n",
        "df['purpose'].value_counts().to_frame().T"
      ],
      "execution_count": 57,
      "outputs": [
        {
          "output_type": "execute_result",
          "data": {
            "text/html": [
              "<div>\n",
              "<style scoped>\n",
              "    .dataframe tbody tr th:only-of-type {\n",
              "        vertical-align: middle;\n",
              "    }\n",
              "\n",
              "    .dataframe tbody tr th {\n",
              "        vertical-align: top;\n",
              "    }\n",
              "\n",
              "    .dataframe thead th {\n",
              "        text-align: right;\n",
              "    }\n",
              "</style>\n",
              "<table border=\"1\" class=\"dataframe\">\n",
              "  <thead>\n",
              "    <tr style=\"text-align: right;\">\n",
              "      <th></th>\n",
              "      <th>debt_consolidation</th>\n",
              "      <th>credit_card</th>\n",
              "      <th>home_improvement</th>\n",
              "      <th>other</th>\n",
              "      <th>major_purchase</th>\n",
              "      <th>small_business</th>\n",
              "      <th>car</th>\n",
              "      <th>medical</th>\n",
              "      <th>house</th>\n",
              "      <th>moving</th>\n",
              "      <th>wedding</th>\n",
              "      <th>vacation</th>\n",
              "      <th>renewable_energy</th>\n",
              "    </tr>\n",
              "  </thead>\n",
              "  <tbody>\n",
              "    <tr>\n",
              "      <th>purpose</th>\n",
              "      <td>80634</td>\n",
              "      <td>32804</td>\n",
              "      <td>7403</td>\n",
              "      <td>5842</td>\n",
              "      <td>2298</td>\n",
              "      <td>1359</td>\n",
              "      <td>1050</td>\n",
              "      <td>889</td>\n",
              "      <td>675</td>\n",
              "      <td>639</td>\n",
              "      <td>595</td>\n",
              "      <td>565</td>\n",
              "      <td>51</td>\n",
              "    </tr>\n",
              "  </tbody>\n",
              "</table>\n",
              "</div>"
            ],
            "text/plain": [
              "         debt_consolidation  credit_card  ...  vacation  renewable_energy\n",
              "purpose               80634        32804  ...       565                51\n",
              "\n",
              "[1 rows x 13 columns]"
            ]
          },
          "metadata": {
            "tags": []
          },
          "execution_count": 57
        },
        {
          "output_type": "display_data",
          "data": {
            "image/png": "[encoded data removed]",
            "text/plain": [
              "<Figure size 1152x432 with 1 Axes>"
            ]
          },
          "metadata": {
            "tags": [],
            "needs_background": "light"
          }
        }
      ]
    },
    {
      "cell_type": "markdown",
      "metadata": {
        "id": "BPACnj2FXLbT"
      },
      "source": [
        "Loans with the purpose of small business tend to be charged off more often and loans for renewable energy tend to be charged off less often. though this category has smallest amount of objects.  \n",
        "But in general categories do not have significant differences."
      ]
    },
    {
      "cell_type": "code",
      "metadata": {
        "id": "edMp-r2eJKQk",
        "colab": {
          "base_uri": "https://localhost:8080/",
          "height": 447
        },
        "outputId": "fc3362fc-4d6c-42c6-db47-f3f2c4fa2e79"
      },
      "source": [
        "\n",
        "plt.figure(figsize=(11,6))\n",
        "sns.barplot(x='pub_rec_bankruptcies', y='Target', ci=None, data=df, palette='tab10')\n",
        "df['pub_rec_bankruptcies'].value_counts().to_frame().T"
      ],
      "execution_count": 58,
      "outputs": [
        {
          "output_type": "execute_result",
          "data": {
            "text/html": [
              "<div>\n",
              "<style scoped>\n",
              "    .dataframe tbody tr th:only-of-type {\n",
              "        vertical-align: middle;\n",
              "    }\n",
              "\n",
              "    .dataframe tbody tr th {\n",
              "        vertical-align: top;\n",
              "    }\n",
              "\n",
              "    .dataframe thead th {\n",
              "        text-align: right;\n",
              "    }\n",
              "</style>\n",
              "<table border=\"1\" class=\"dataframe\">\n",
              "  <thead>\n",
              "    <tr style=\"text-align: right;\">\n",
              "      <th></th>\n",
              "      <th>0.0</th>\n",
              "      <th>1.0</th>\n",
              "      <th>2.0</th>\n",
              "      <th>3.0</th>\n",
              "      <th>4.0</th>\n",
              "      <th>6.0</th>\n",
              "      <th>5.0</th>\n",
              "      <th>7.0</th>\n",
              "      <th>8.0</th>\n",
              "    </tr>\n",
              "  </thead>\n",
              "  <tbody>\n",
              "    <tr>\n",
              "      <th>pub_rec_bankruptcies</th>\n",
              "      <td>120491</td>\n",
              "      <td>14010</td>\n",
              "      <td>239</td>\n",
              "      <td>37</td>\n",
              "      <td>18</td>\n",
              "      <td>4</td>\n",
              "      <td>3</td>\n",
              "      <td>1</td>\n",
              "      <td>1</td>\n",
              "    </tr>\n",
              "  </tbody>\n",
              "</table>\n",
              "</div>"
            ],
            "text/plain": [
              "                         0.0    1.0  2.0  3.0  4.0  6.0  5.0  7.0  8.0\n",
              "pub_rec_bankruptcies  120491  14010  239   37   18    4    3    1    1"
            ]
          },
          "metadata": {
            "tags": []
          },
          "execution_count": 58
        },
        {
          "output_type": "display_data",
          "data": {
            "image/png": "[encoded data removed]",
            "text/plain": [
              "<Figure size 792x432 with 1 Axes>"
            ]
          },
          "metadata": {
            "tags": [],
            "needs_background": "light"
          }
        }
      ]
    },
    {
      "cell_type": "code",
      "metadata": {
        "id": "8o9N0UaNZ5c3",
        "colab": {
          "base_uri": "https://localhost:8080/",
          "height": 393
        },
        "outputId": "004ff120-e509-4557-9a2b-a600d8a892cc"
      },
      "source": [
        "plt.figure(figsize=(8,5))\n",
        "sns.barplot(x='verification_status', y='Target', ci=None, data=df, palette='tab10')\n",
        "df['verification_status'].value_counts().to_frame().T"
      ],
      "execution_count": 59,
      "outputs": [
        {
          "output_type": "execute_result",
          "data": {
            "text/html": [
              "<div>\n",
              "<style scoped>\n",
              "    .dataframe tbody tr th:only-of-type {\n",
              "        vertical-align: middle;\n",
              "    }\n",
              "\n",
              "    .dataframe tbody tr th {\n",
              "        vertical-align: top;\n",
              "    }\n",
              "\n",
              "    .dataframe thead th {\n",
              "        text-align: right;\n",
              "    }\n",
              "</style>\n",
              "<table border=\"1\" class=\"dataframe\">\n",
              "  <thead>\n",
              "    <tr style=\"text-align: right;\">\n",
              "      <th></th>\n",
              "      <th>Verified</th>\n",
              "      <th>Not Verified</th>\n",
              "      <th>Source Verified</th>\n",
              "    </tr>\n",
              "  </thead>\n",
              "  <tbody>\n",
              "    <tr>\n",
              "      <th>verification_status</th>\n",
              "      <td>66138</td>\n",
              "      <td>38959</td>\n",
              "      <td>29707</td>\n",
              "    </tr>\n",
              "  </tbody>\n",
              "</table>\n",
              "</div>"
            ],
            "text/plain": [
              "                     Verified  Not Verified  Source Verified\n",
              "verification_status     66138         38959            29707"
            ]
          },
          "metadata": {
            "tags": []
          },
          "execution_count": 59
        },
        {
          "output_type": "display_data",
          "data": {
            "image/png": "[encoded data removed]",
            "text/plain": [
              "<Figure size 576x360 with 1 Axes>"
            ]
          },
          "metadata": {
            "tags": [],
            "needs_background": "light"
          }
        }
      ]
    },
    {
      "cell_type": "markdown",
      "metadata": {
        "id": "RNJTGkGPknv_"
      },
      "source": [
        "This variable indicates if income was verified by LC [Lending Club], not verified, or if the income source was verified.  \n",
        "We can see notable difference between groups."
      ]
    },
    {
      "cell_type": "markdown",
      "metadata": {
        "id": "Onsfz5mRIiPR"
      },
      "source": [
        "# 5. Preprocessing"
      ]
    },
    {
      "cell_type": "markdown",
      "metadata": {
        "id": "OmB9mccTlezj"
      },
      "source": [
        "Now let's prepare data for model building Catboosе (without One-Hot-Encoding) and for other models (with One-Hot-Enсoding)."
      ]
    },
    {
      "cell_type": "code",
      "metadata": {
        "id": "3bQvJdk-Ioyo"
      },
      "source": [
        "def preprocessing_boost(data):\n",
        "\n",
        "  cat_features = list(data.dtypes[data.dtypes == 'object'].index)\n",
        "  num_features = list(data.dtypes[~(data.dtypes == 'object')].index)\n",
        "\n",
        "  numeric_transformer = Pipeline(steps=[\n",
        "      ('imputer', SimpleImputer(strategy='mean'))]) \n",
        "\n",
        "  categor_transformer = Pipeline(steps=[\n",
        "      ('imputer', SimpleImputer(strategy='constant'))])\n",
        "\n",
        "  preprocessor = ColumnTransformer(transformers=[\n",
        "      ('numeric_transformer', numeric_transformer, num_features),\n",
        "      ('categor_transformer', categor_transformer, cat_features)])\n",
        "  \n",
        "  data_bst = pd.DataFrame(preprocessor.fit_transform(data), columns=num_features+cat_features)\n",
        "  \n",
        "  return data_bst, cat_features"
      ],
      "execution_count": 60,
      "outputs": []
    },
    {
      "cell_type": "code",
      "metadata": {
        "id": "IBsKXxQgIoqF"
      },
      "source": [
        "def preprocessing_ohe(data):\n",
        "\n",
        "  cat_features = list(data.dtypes[data.dtypes == 'object'].index)\n",
        "  num_features = list(data.dtypes[~(data.dtypes == 'object')].index)\n",
        "\n",
        "  \n",
        "  numeric_transformer = Pipeline(steps=[\n",
        "      ('imputer', SimpleImputer(strategy='mean')),\n",
        "      ('scaler', StandardScaler())]) \n",
        "\n",
        "  \n",
        "  data[cat_features].fillna('missing_value', inplace=True)\n",
        "  ohe = ce.OneHotEncoder(return_df=True, use_cat_names=True)\n",
        "\n",
        "  num_data = pd.DataFrame(numeric_transformer.fit_transform(data[num_features]), columns=num_features, index=data.index)\n",
        "  cat_data = ohe.fit_transform(data[cat_features])\n",
        "  \n",
        "  data_ohe = pd.concat([num_data, cat_data], axis=1, ignore_index=True)\n",
        "  data_ohe.columns = list(num_data.columns) + list(cat_data.columns)\n",
        "  \n",
        "  return data_ohe"
      ],
      "execution_count": 61,
      "outputs": []
    },
    {
      "cell_type": "code",
      "metadata": {
        "id": "FAMLDmC5Iof8"
      },
      "source": [
        "X_ohe = preprocessing_ohe(df.drop(columns='Target'))\n",
        "X_cbt, cat_features = preprocessing_boost(df.drop(columns='Target'))\n",
        "y = np.array(df['Target'])"
      ],
      "execution_count": 62,
      "outputs": []
    },
    {
      "cell_type": "markdown",
      "metadata": {
        "id": "G6pYO-7tvOd3"
      },
      "source": [
        "# 6. Model training"
      ]
    },
    {
      "cell_type": "markdown",
      "metadata": {
        "id": "2fZpIYfp8HS2"
      },
      "source": [
        "## 6.1. Comparison of models"
      ]
    },
    {
      "cell_type": "markdown",
      "metadata": {
        "id": "Fd0eGj830J1a"
      },
      "source": [
        "Now we are going to train different models with default parameters in order to determine the most effective one and conduct parameter tuning for it further."
      ]
    },
    {
      "cell_type": "code",
      "metadata": {
        "id": "cGoeOPAPsgz1"
      },
      "source": [
        "from sklearn.linear_model import LogisticRegression, LogisticRegressionCV,  SGDClassifier\n",
        "from sklearn.svm import LinearSVC\n",
        "from sklearn.calibration import CalibratedClassifierCV\n",
        "from sklearn.ensemble import RandomForestClassifier, AdaBoostClassifier\n",
        "\n",
        "from lightgbm import LGBMClassifier\n",
        "from catboost import CatBoostClassifier"
      ],
      "execution_count": 63,
      "outputs": []
    },
    {
      "cell_type": "markdown",
      "metadata": {
        "id": "TYnjFdIi0aQy"
      },
      "source": [
        "I am going to carry out cross validation with the set ratio of classes and will use StratifiedKFold method with 5 splits and shuffle."
      ]
    },
    {
      "cell_type": "code",
      "metadata": {
        "id": "d3mUXjBtrZEi"
      },
      "source": [
        "SKFold = StratifiedKFold(n_splits=5, shuffle=True, random_state=13)"
      ],
      "execution_count": 64,
      "outputs": []
    },
    {
      "cell_type": "markdown",
      "metadata": {
        "id": "DkEAHsZS1N_e"
      },
      "source": [
        "Let's determine models and set balanced class weights where it is possible. "
      ]
    },
    {
      "cell_type": "code",
      "metadata": {
        "id": "aKqm17i9uz2B"
      },
      "source": [
        "classifiers = [\n",
        "               ('Logistic Regression', LogisticRegression(class_weight='balanced')),\n",
        "               ('SGDClassifier', SGDClassifier(class_weight='balanced')),\n",
        "               ('LinearSVC', CalibratedClassifierCV(base_estimator = LinearSVC(class_weight='balanced'))),\n",
        "               ('Random Forest', RandomForestClassifier(class_weight='balanced')),\n",
        "               ('Ada Boost', AdaBoostClassifier( )),\n",
        "               ('LightGBM', LGBMClassifier(class_weight='balanced'))\n",
        "]"
      ],
      "execution_count": 65,
      "outputs": []
    },
    {
      "cell_type": "code",
      "metadata": {
        "id": "Sm_OPg6UycaS",
        "colab": {
          "base_uri": "https://localhost:8080/"
        },
        "outputId": "21042aae-2022-442f-d8d8-5bad8ab6fd74"
      },
      "source": [
        "%%time\n",
        "results = []\n",
        "for clf in classifiers:\n",
        "  model = clf[1]\n",
        "  cvs = cross_val_score(model, X_ohe, y, scoring='roc_auc', cv=SKFold, n_jobs=-1, verbose=1)\n",
        "  results.append([clf[0], cvs.mean(), cvs.std()])\n",
        "  print(f'ROC_AUC-score of model {clf[0]} is mean {cvs.mean()} with {cvs.std()} standard deviation.')"
      ],
      "execution_count": 66,
      "outputs": [
        {
          "output_type": "stream",
          "text": [
            "[Parallel(n_jobs=-1)]: Using backend LokyBackend with 2 concurrent workers.\n",
            "[Parallel(n_jobs=-1)]: Done   5 out of   5 | elapsed:   15.3s finished\n",
            "[Parallel(n_jobs=-1)]: Using backend LokyBackend with 2 concurrent workers.\n"
          ],
          "name": "stderr"
        },
        {
          "output_type": "stream",
          "text": [
            "ROC_AUC-score of model Logistic Regression is mean 0.6978659424129314 with 0.002761163053024759 standard deviation.\n"
          ],
          "name": "stdout"
        },
        {
          "output_type": "stream",
          "text": [
            "[Parallel(n_jobs=-1)]: Done   5 out of   5 | elapsed:   11.5s finished\n",
            "[Parallel(n_jobs=-1)]: Using backend LokyBackend with 2 concurrent workers.\n"
          ],
          "name": "stderr"
        },
        {
          "output_type": "stream",
          "text": [
            "ROC_AUC-score of model SGDClassifier is mean 0.6841031305512897 with 0.004740594403923274 standard deviation.\n"
          ],
          "name": "stdout"
        },
        {
          "output_type": "stream",
          "text": [
            "[Parallel(n_jobs=-1)]: Done   5 out of   5 | elapsed: 17.3min finished\n",
            "[Parallel(n_jobs=-1)]: Using backend LokyBackend with 2 concurrent workers.\n"
          ],
          "name": "stderr"
        },
        {
          "output_type": "stream",
          "text": [
            "ROC_AUC-score of model LinearSVC is mean 0.6970189818308875 with 0.0027041026464911357 standard deviation.\n"
          ],
          "name": "stdout"
        },
        {
          "output_type": "stream",
          "text": [
            "[Parallel(n_jobs=-1)]: Done   5 out of   5 | elapsed:  3.2min finished\n",
            "[Parallel(n_jobs=-1)]: Using backend LokyBackend with 2 concurrent workers.\n"
          ],
          "name": "stderr"
        },
        {
          "output_type": "stream",
          "text": [
            "ROC_AUC-score of model Random Forest is mean 0.6795480045702594 with 0.004270085894846004 standard deviation.\n"
          ],
          "name": "stdout"
        },
        {
          "output_type": "stream",
          "text": [
            "[Parallel(n_jobs=-1)]: Done   5 out of   5 | elapsed:  1.2min finished\n",
            "[Parallel(n_jobs=-1)]: Using backend LokyBackend with 2 concurrent workers.\n"
          ],
          "name": "stderr"
        },
        {
          "output_type": "stream",
          "text": [
            "ROC_AUC-score of model Ada Boost is mean 0.6930507396098573 with 0.0033219423366280774 standard deviation.\n",
            "ROC_AUC-score of model LightGBM is mean 0.6968589310228134 with 0.0030098670417056696 standard deviation.\n",
            "CPU times: user 7.53 s, sys: 1.56 s, total: 9.08 s\n",
            "Wall time: 22min 32s\n"
          ],
          "name": "stdout"
        },
        {
          "output_type": "stream",
          "text": [
            "[Parallel(n_jobs=-1)]: Done   5 out of   5 | elapsed:   22.8s finished\n"
          ],
          "name": "stderr"
        }
      ]
    },
    {
      "cell_type": "markdown",
      "metadata": {
        "id": "PwaiuPr54bt5"
      },
      "source": [
        "Since Catboost requires the exact ratio of classes for *class_weight* parameter, I am going to use special method for computing balanced weights based on ratio of values in variable."
      ]
    },
    {
      "cell_type": "code",
      "metadata": {
        "id": "EeCIREkX4a5N",
        "colab": {
          "base_uri": "https://localhost:8080/"
        },
        "outputId": "749adfe7-a2df-4502-8aeb-1cd7bd7962e0"
      },
      "source": [
        "classes = class_weight.compute_sample_weight('balanced', np.unique(y), y)\n",
        "classes"
      ],
      "execution_count": 67,
      "outputs": [
        {
          "output_type": "execute_result",
          "data": {
            "text/plain": [
              "array([0.59238882, 3.2059551 ])"
            ]
          },
          "metadata": {
            "tags": []
          },
          "execution_count": 67
        }
      ]
    },
    {
      "cell_type": "code",
      "metadata": {
        "id": "eFGFEnBp3qOu",
        "colab": {
          "base_uri": "https://localhost:8080/"
        },
        "outputId": "cdf613cd-0b40-4e4b-8e39-47c35c6fa5aa"
      },
      "source": [
        "cb = CatBoostClassifier(eval_metric = 'AUC', cat_features = cat_features,  verbose=False, class_weights=classes)\n",
        "cvs = cross_val_score(cb, X_cbt, y, scoring='roc_auc', cv=SKFold)\n",
        "results.append(['Catboost', cvs.mean(), cvs.std()])\n",
        "print(f'ROC_AUC-score of Catboost is mean {cvs.mean()} with {cvs.std()} standard deviation.')"
      ],
      "execution_count": 71,
      "outputs": [
        {
          "output_type": "stream",
          "text": [
            "ROC_AUC-score of Catboost is mean 0.6939660410945369 with 0.0031008633247636293 standard deviation.\n"
          ],
          "name": "stdout"
        }
      ]
    },
    {
      "cell_type": "markdown",
      "metadata": {
        "id": "lGEJXj396_iy"
      },
      "source": [
        "Let's look at perfromance of all models."
      ]
    },
    {
      "cell_type": "code",
      "metadata": {
        "id": "WNt40nk6f0MB",
        "colab": {
          "base_uri": "https://localhost:8080/",
          "height": 277
        },
        "outputId": "a1e6bffc-7b4b-4276-8f69-9821ad1b1c77"
      },
      "source": [
        "pd.DataFrame(results, columns=['model', 'mean', 'std']).sort_values(by='mean', ascending=False)"
      ],
      "execution_count": 72,
      "outputs": [
        {
          "output_type": "execute_result",
          "data": {
            "text/html": [
              "<div>\n",
              "<style scoped>\n",
              "    .dataframe tbody tr th:only-of-type {\n",
              "        vertical-align: middle;\n",
              "    }\n",
              "\n",
              "    .dataframe tbody tr th {\n",
              "        vertical-align: top;\n",
              "    }\n",
              "\n",
              "    .dataframe thead th {\n",
              "        text-align: right;\n",
              "    }\n",
              "</style>\n",
              "<table border=\"1\" class=\"dataframe\">\n",
              "  <thead>\n",
              "    <tr style=\"text-align: right;\">\n",
              "      <th></th>\n",
              "      <th>model</th>\n",
              "      <th>mean</th>\n",
              "      <th>std</th>\n",
              "    </tr>\n",
              "  </thead>\n",
              "  <tbody>\n",
              "    <tr>\n",
              "      <th>0</th>\n",
              "      <td>Logistic Regression</td>\n",
              "      <td>0.697866</td>\n",
              "      <td>0.002761</td>\n",
              "    </tr>\n",
              "    <tr>\n",
              "      <th>2</th>\n",
              "      <td>LinearSVC</td>\n",
              "      <td>0.697019</td>\n",
              "      <td>0.002704</td>\n",
              "    </tr>\n",
              "    <tr>\n",
              "      <th>5</th>\n",
              "      <td>LightGBM</td>\n",
              "      <td>0.696859</td>\n",
              "      <td>0.003010</td>\n",
              "    </tr>\n",
              "    <tr>\n",
              "      <th>7</th>\n",
              "      <td>Catboost</td>\n",
              "      <td>0.693966</td>\n",
              "      <td>0.003101</td>\n",
              "    </tr>\n",
              "    <tr>\n",
              "      <th>4</th>\n",
              "      <td>Ada Boost</td>\n",
              "      <td>0.693051</td>\n",
              "      <td>0.003322</td>\n",
              "    </tr>\n",
              "    <tr>\n",
              "      <th>6</th>\n",
              "      <td>Catboost</td>\n",
              "      <td>0.690416</td>\n",
              "      <td>0.002838</td>\n",
              "    </tr>\n",
              "    <tr>\n",
              "      <th>1</th>\n",
              "      <td>SGDClassifier</td>\n",
              "      <td>0.684103</td>\n",
              "      <td>0.004741</td>\n",
              "    </tr>\n",
              "    <tr>\n",
              "      <th>3</th>\n",
              "      <td>Random Forest</td>\n",
              "      <td>0.679548</td>\n",
              "      <td>0.004270</td>\n",
              "    </tr>\n",
              "  </tbody>\n",
              "</table>\n",
              "</div>"
            ],
            "text/plain": [
              "                 model      mean       std\n",
              "0  Logistic Regression  0.697866  0.002761\n",
              "2            LinearSVC  0.697019  0.002704\n",
              "5             LightGBM  0.696859  0.003010\n",
              "7             Catboost  0.693966  0.003101\n",
              "4            Ada Boost  0.693051  0.003322\n",
              "6             Catboost  0.690416  0.002838\n",
              "1        SGDClassifier  0.684103  0.004741\n",
              "3        Random Forest  0.679548  0.004270"
            ]
          },
          "metadata": {
            "tags": []
          },
          "execution_count": 72
        }
      ]
    },
    {
      "cell_type": "markdown",
      "metadata": {
        "id": "JvHVq9Wy7DsB"
      },
      "source": [
        "Turns out, they don't differ that much. The best model with dummy variables is Logistic Regression.  \n",
        "Catboost is at 4th place.  \n",
        "Further I am going to tune parameters for these two models in order to determine whether dummy categorical features as dummy variables have significant importance or they are better predictors as unified variables. "
      ]
    },
    {
      "cell_type": "markdown",
      "metadata": {
        "id": "ORdmCrs58PyT"
      },
      "source": [
        "## 6.2. Model Tuning"
      ]
    },
    {
      "cell_type": "markdown",
      "metadata": {
        "id": "7Nb1vhBu_Iep"
      },
      "source": [
        "Let's find the most effective parameter of C (regularization strength) by applying LogisticRegressionCV.\n",
        "\n"
      ]
    },
    {
      "cell_type": "code",
      "metadata": {
        "id": "yGn1lU8UkpED",
        "colab": {
          "base_uri": "https://localhost:8080/"
        },
        "outputId": "403b07e6-bf7f-416d-c7cd-fa912037383f"
      },
      "source": [
        "logreg = LogisticRegressionCV(Cs=[0.001, 0.01, 0.1, 1], cv=SKFold, scoring='roc_auc', n_jobs=-1, verbose=1,)\n",
        "logreg.fit(X_ohe, y)"
      ],
      "execution_count": 73,
      "outputs": [
        {
          "output_type": "stream",
          "text": [
            "[Parallel(n_jobs=-1)]: Using backend LokyBackend with 2 concurrent workers.\n",
            "[Parallel(n_jobs=-1)]: Done   5 out of   5 | elapsed:   38.9s finished\n"
          ],
          "name": "stderr"
        },
        {
          "output_type": "execute_result",
          "data": {
            "text/plain": [
              "LogisticRegressionCV(Cs=[0.001, 0.01, 0.1, 1], class_weight=None,\n",
              "                     cv=StratifiedKFold(n_splits=5, random_state=13, shuffle=True),\n",
              "                     dual=False, fit_intercept=True, intercept_scaling=1.0,\n",
              "                     l1_ratios=None, max_iter=100, multi_class='auto',\n",
              "                     n_jobs=-1, penalty='l2', random_state=None, refit=True,\n",
              "                     scoring='roc_auc', solver='lbfgs', tol=0.0001, verbose=1)"
            ]
          },
          "metadata": {
            "tags": []
          },
          "execution_count": 73
        }
      ]
    },
    {
      "cell_type": "code",
      "metadata": {
        "id": "BXxc-4xUFqN2",
        "colab": {
          "base_uri": "https://localhost:8080/"
        },
        "outputId": "4d57cf5c-27b8-4429-9ded-34794227ccf9"
      },
      "source": [
        "print(f'The best value of regularization strength is {logreg.Cs[np.argmax(logreg.scores_[1].mean(axis=0))]} ' \n",
        "f'with the mean roc_auc-score of {max(logreg.scores_[1].mean(axis=0)).round(5)}')"
      ],
      "execution_count": 74,
      "outputs": [
        {
          "output_type": "stream",
          "text": [
            "The best value of regularization strength is 0.1 with the mean roc_auc-score of 0.69794\n"
          ],
          "name": "stdout"
        }
      ]
    },
    {
      "cell_type": "markdown",
      "metadata": {
        "id": "xULlEybv9Dqo"
      },
      "source": [
        "Now let's tune parameters for Catboost."
      ]
    },
    {
      "cell_type": "code",
      "metadata": {
        "id": "TCZMYllaZ2YB"
      },
      "source": [
        "params = {'learning_rate' : [0.05, 0.1],\n",
        "         'l2_leaf_reg': [5,7],\n",
        "         'depth': [3,8],\n",
        "         'loss_function': ['Logloss'],\n",
        "         'iterations': [500]}\n",
        "cb = CatBoostClassifier(eval_metric = 'AUC', cat_features = cat_features, class_weights=classes)\n",
        "cb_model = GridSearchCV(cb, params, scoring=\"roc_auc\", cv = SKFold,  \n",
        "                        n_jobs=-1, verbose=0)\n",
        "cb_model.fit(X_cbt, y)"
      ],
      "execution_count": null,
      "outputs": []
    },
    {
      "cell_type": "code",
      "metadata": {
        "id": "L9-y0bOP_xUc",
        "colab": {
          "base_uri": "https://localhost:8080/"
        },
        "outputId": "df4c30ba-887c-4db6-e70b-b8a094f79260"
      },
      "source": [
        "print('The best parameters of Catboost Classifier after Model Tuning are \\n', cb_model.best_params_, sep='')\n",
        "print()\n",
        "print('Best score for Catboost Classifier is',cb_model.best_score_)\n",
        "cb_best = cb_model.best_estimator_"
      ],
      "execution_count": 80,
      "outputs": [
        {
          "output_type": "stream",
          "text": [
            "The best parameters of Catboost Classifier after Model Tuning are \n",
            "{'depth': 3, 'iterations': 500, 'l2_leaf_reg': 5, 'learning_rate': 0.1, 'loss_function': 'Logloss'}\n",
            "\n",
            "Best score for Catboost Classifier is 0.7017200644797781\n"
          ],
          "name": "stdout"
        }
      ]
    },
    {
      "cell_type": "markdown",
      "metadata": {
        "id": "61DgDB3-HU7t"
      },
      "source": [
        "As we can see, ROC_AUC-score for Catboost is higher. "
      ]
    },
    {
      "cell_type": "code",
      "metadata": {
        "id": "DlvRO__M2Uye"
      },
      "source": [
        "X_train_cbt, X_test_cbt, y_train_cbt, y_test_cbt = train_test_split(X_cbt, y, test_size=0.25, stratify=y, random_state=28)"
      ],
      "execution_count": 81,
      "outputs": []
    },
    {
      "cell_type": "code",
      "metadata": {
        "id": "Dswjt26Y_971",
        "colab": {
          "base_uri": "https://localhost:8080/"
        },
        "outputId": "c20b906a-f152-41ec-aef4-ac5881575745"
      },
      "source": [
        "cb_best.fit(X_train_cbt, y_train_cbt, eval_set=(X_test_cbt, y_test_cbt), early_stopping_rounds=20, verbose=0)\n",
        "pred = cb_best.predict_proba(X_test_cbt)\n",
        "print('roc_auc_score on testing set is', roc_auc_score(y_test_cbt, pred[:,1]))"
      ],
      "execution_count": 85,
      "outputs": [
        {
          "output_type": "stream",
          "text": [
            "roc_auc_score on testing set is 0.701999379025399\n"
          ],
          "name": "stdout"
        }
      ]
    },
    {
      "cell_type": "markdown",
      "metadata": {
        "id": "Cxt3rqhPJ7_5"
      },
      "source": [
        "## 6.3 Evaluation of model"
      ]
    },
    {
      "cell_type": "markdown",
      "metadata": {
        "id": "TD-hKeTY9ldJ"
      },
      "source": [
        "Let's visualize ROC-curve and PR-curve."
      ]
    },
    {
      "cell_type": "code",
      "metadata": {
        "colab": {
          "base_uri": "https://localhost:8080/",
          "height": 457
        },
        "id": "_RXLpBNJ8lVT",
        "outputId": "8033cd70-f3eb-4bef-eed4-fc42e57c08c2"
      },
      "source": [
        "fig, ax = plt.subplots(1,2, figsize=(18,7))\n",
        "plot_roc_curve(y_test_cbt, pred, title_fontsize='large', curves=('each_class', 'macro'),  text_fontsize='medium', cmap='Set1', ax=ax[0])\n",
        "plot_precision_recall_curve(y_test_cbt, pred, title_fontsize='large',  text_fontsize='medium', cmap='Set2', ax=ax[1]);"
      ],
      "execution_count": 91,
      "outputs": [
        {
          "output_type": "display_data",
          "data": {
            "image/png": "[encoded data removed]",
            "text/plain": [
              "<Figure size 1296x504 with 2 Axes>"
            ]
          },
          "metadata": {
            "tags": [],
            "needs_background": "light"
          }
        }
      ]
    },
    {
      "cell_type": "markdown",
      "metadata": {
        "id": "DRIPDF3R9vzh"
      },
      "source": [
        "While the overall predictive power of model is quite satisfactory, ability to predict Charged off loans is quite weak.  \n",
        "In conclusion, by changing threshold we will have to find proper balance between high recall and large amount of False Positive or high precision and large amount of false negatives."
      ]
    },
    {
      "cell_type": "markdown",
      "metadata": {
        "id": "spF841_zKXQz"
      },
      "source": [
        "## 6.4 Feature Importance"
      ]
    },
    {
      "cell_type": "markdown",
      "metadata": {
        "id": "SRZhti8bKanL"
      },
      "source": [
        "Let's assess contribution of features in each model."
      ]
    },
    {
      "cell_type": "code",
      "metadata": {
        "colab": {
          "base_uri": "https://localhost:8080/",
          "height": 801
        },
        "id": "8hpIYA9AFTNX",
        "outputId": "d10885a7-41bb-4e25-c6de-e0258ded18e5"
      },
      "source": [
        "fig, axes = plt.subplots(1,2, figsize=(15,11))\n",
        "feat_imp_lr = pd.Series(logreg.coef_[0], index=list(X_ohe)).sort_values(ascending=False).head(20)\n",
        "feat_imp_cb = pd.Series(cb_best.feature_importances_, index=list(X_cbt)).sort_values(ascending=False).head(20)\n",
        "imp = [(feat_imp_lr, 'Coefficients for Logistic Regression', 'hsv'), \n",
        "       (feat_imp_cb, 'Feature Importance for Catboost Classifier', None)]\n",
        "for i, axis in enumerate(axes.flat):\n",
        "  imp_series, title, cmap = imp[i]\n",
        "  bar = sns.barplot(imp_series, imp_series.index, palette=cmap, ax=axis)\n",
        "  axis.tick_params(axis='y', labelsize=12) \n",
        "  axis.set_title(title)\n",
        "  for p in bar.patches:\n",
        "      width = p.get_width()    # get bar length\n",
        "      bar.text(width,  # set the text at bar\n",
        "              p.get_y() + p.get_height() / 2, # get Y coordinate + X coordinate / 2\n",
        "              '{:1.2f}'.format(width), # set variable to display, 2 decimals\n",
        "              ha = 'left',   # horizontal alignment\n",
        "              va = 'center', # vertical alignment\n",
        "              fontsize=13)  \n",
        "plt.tight_layout()"
      ],
      "execution_count": 162,
      "outputs": [
        {
          "output_type": "display_data",
          "data": {
            "image/png": "[encoded data removed]",
            "text/plain": [
              "<Figure size 1080x792 with 2 Axes>"
            ]
          },
          "metadata": {
            "tags": [],
            "needs_background": "light"
          }
        }
      ]
    },
    {
      "cell_type": "markdown",
      "metadata": {
        "id": "oqwWl4XKLHE7"
      },
      "source": [
        "Such features as *int_rate*, *loan_amnt*, *dti* turned out to bear high importance for both models. However, we can detect considerable differences.  \n",
        "**Catboost** attaches importance to only numerical features - we do not see categorical ones in top 20.  \n",
        "Meanwhile **Logistic Regression** outlines specific values of categorical features. For instance, *purpose_small_business*, *term_60_month* and *emp_lenth_nan* are in top features for** Logistic Regression**. These categories were detected to be more associated with loan default in EDA.  \n",
        "\n",
        "It is important to note that some numerical features have high importance in one model and do not even have a place in the top for the another model.  \n",
        "For **Logistic Regression** these are *num_sats*, and for Catboost - *Subgrade_num* and *log_income*."
      ]
    },
    {
      "cell_type": "markdown",
      "metadata": {
        "id": "u2dLctKOOtHi"
      },
      "source": [
        "# 7. Conclusion"
      ]
    },
    {
      "cell_type": "markdown",
      "metadata": {
        "id": "QqKt4ACtOxxp"
      },
      "source": [
        "Various machine learning methods were applied to predict the probability of loan default on the base of prior information known about a borrower. After training and evaluating different models, I chose CatBoost for its unique approach to deal with categorical features and Logistic Regression that showed the highest performance among models that used data after One-Hot-Encoder transformation.\n",
        "We tuned both models and got ROC-AUC-scores of 0.697 for Logistic Regression and 0.701 for Catboost.\n",
        "After that, we assessed the model performance of Catboost by ROC-curve and PR-curve and outlined relatively weak capability to predict charged off loans due to the fact of high imbalance in target variable.\n",
        "We also found that two models prefer different features as most important for prediction.\n"
      ]
    }
  ]
}